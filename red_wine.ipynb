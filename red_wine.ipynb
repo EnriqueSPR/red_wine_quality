{
 "cells": [
  {
   "cell_type": "markdown",
   "metadata": {},
   "source": [
    "**Multi-classification** Problem using supervised ML.\n",
    "\n",
    "*Note: This problem could be also tackled with Regression*"
   ]
  },
  {
   "cell_type": "code",
   "execution_count": 132,
   "metadata": {},
   "outputs": [],
   "source": [
    "# Data handling\n",
    "import pandas as pd\n",
    "import numpy as np\n",
    "import random\n",
    "# Plotting\n",
    "import matplotlib.pyplot as plt\n",
    "from matplotlib import cm \n",
    "from pandas.plotting import scatter_matrix\n",
    "import seaborn as sns\n",
    "# Data Split\n",
    "from sklearn.model_selection import StratifiedShuffleSplit\n",
    "from sklearn.model_selection import train_test_split\n",
    "# Data Pre-Processing\n",
    "from sklearn.preprocessing import StandardScaler\n",
    "from sklearn.preprocessing import Normalizer\n",
    "# Modeling\n",
    "from sklearn.model_selection import cross_val_score\n",
    "from sklearn.linear_model import LogisticRegression\n",
    "from sklearn.tree import DecisionTreeClassifier\n",
    "from sklearn.ensemble import RandomForestClassifier\n",
    "from sklearn.neighbors import KNeighborsClassifier\n",
    "from sklearn.linear_model import SGDClassifier\n",
    "from sklearn.discriminant_analysis import LinearDiscriminantAnalysis\n",
    "from sklearn.naive_bayes import GaussianNB\n",
    "from sklearn.svm import SVC\n",
    "# Tunning\n",
    "from sklearn.model_selection import StratifiedKFold\n",
    "from sklearn.model_selection import GridSearchCV\n",
    "# Assesing model performance\n",
    "from sklearn.metrics import SCORERS\n",
    "from sklearn import metrics as m\n",
    "from sklearn.metrics import plot_roc_curve\n",
    "from sklearn.metrics import roc_curve, auc\n",
    "from sklearn.preprocessing import label_binarize\n",
    "from sklearn.metrics import classification_report\n",
    "from sklearn.metrics import confusion_matrix\n",
    "from sklearn.metrics import accuracy_score\n",
    "# Ensemble\n",
    "from sklearn.ensemble import VotingClassifier\n",
    "from sklearn.ensemble import BaggingClassifier\n",
    "from sklearn.ensemble import ExtraTreesClassifier\n",
    "from sklearn.ensemble import AdaBoostClassifier\n",
    "from sklearn.ensemble import GradientBoostingClassifier\n",
    "import xgboost as xgb\n",
    "\n",
    "# Neural Network\n",
    "import tensorflow as tf\n",
    "from tensorflow import keras\n",
    "import os\n",
    "\n",
    "# Ignoring warnings\n",
    "import warnings\n",
    "warnings.filterwarnings(\"ignore\")"
   ]
  },
  {
   "cell_type": "code",
   "execution_count": 133,
   "metadata": {},
   "outputs": [],
   "source": [
    "df = pd.read_csv(\"winequality-red.csv\")"
   ]
  },
  {
   "cell_type": "markdown",
   "metadata": {},
   "source": [
    "## 1. Visualize and analyze the data"
   ]
  },
  {
   "cell_type": "code",
   "execution_count": 134,
   "metadata": {},
   "outputs": [
    {
     "data": {
      "text/plain": [
       "fixed acidity           0\n",
       "volatile acidity        0\n",
       "citric acid             0\n",
       "residual sugar          0\n",
       "chlorides               0\n",
       "free sulfur dioxide     0\n",
       "total sulfur dioxide    0\n",
       "density                 0\n",
       "pH                      0\n",
       "sulphates               0\n",
       "alcohol                 0\n",
       "quality                 0\n",
       "dtype: int64"
      ]
     },
     "execution_count": 134,
     "metadata": {},
     "output_type": "execute_result"
    }
   ],
   "source": [
    "df.isna().sum() # no nan values ✔"
   ]
  },
  {
   "cell_type": "code",
   "execution_count": 135,
   "metadata": {},
   "outputs": [
    {
     "data": {
      "text/html": [
       "<div>\n",
       "<style scoped>\n",
       "    .dataframe tbody tr th:only-of-type {\n",
       "        vertical-align: middle;\n",
       "    }\n",
       "\n",
       "    .dataframe tbody tr th {\n",
       "        vertical-align: top;\n",
       "    }\n",
       "\n",
       "    .dataframe thead th {\n",
       "        text-align: right;\n",
       "    }\n",
       "</style>\n",
       "<table border=\"1\" class=\"dataframe\">\n",
       "  <thead>\n",
       "    <tr style=\"text-align: right;\">\n",
       "      <th></th>\n",
       "      <th>fixed acidity</th>\n",
       "      <th>volatile acidity</th>\n",
       "      <th>citric acid</th>\n",
       "      <th>residual sugar</th>\n",
       "      <th>chlorides</th>\n",
       "      <th>free sulfur dioxide</th>\n",
       "      <th>total sulfur dioxide</th>\n",
       "      <th>density</th>\n",
       "      <th>pH</th>\n",
       "      <th>sulphates</th>\n",
       "      <th>alcohol</th>\n",
       "      <th>quality</th>\n",
       "    </tr>\n",
       "  </thead>\n",
       "  <tbody>\n",
       "    <tr>\n",
       "      <th>count</th>\n",
       "      <td>1596.000000</td>\n",
       "      <td>1596.000000</td>\n",
       "      <td>1596.000000</td>\n",
       "      <td>1596.000000</td>\n",
       "      <td>1596.000000</td>\n",
       "      <td>1596.000000</td>\n",
       "      <td>1596.000000</td>\n",
       "      <td>1596.000000</td>\n",
       "      <td>1596.000000</td>\n",
       "      <td>1596.000000</td>\n",
       "      <td>1596.000000</td>\n",
       "      <td>1596.000000</td>\n",
       "    </tr>\n",
       "    <tr>\n",
       "      <th>mean</th>\n",
       "      <td>8.314160</td>\n",
       "      <td>0.527954</td>\n",
       "      <td>0.270276</td>\n",
       "      <td>2.535558</td>\n",
       "      <td>0.087120</td>\n",
       "      <td>15.858396</td>\n",
       "      <td>46.382206</td>\n",
       "      <td>0.996744</td>\n",
       "      <td>3.311917</td>\n",
       "      <td>0.656385</td>\n",
       "      <td>10.421147</td>\n",
       "      <td>5.637218</td>\n",
       "    </tr>\n",
       "    <tr>\n",
       "      <th>std</th>\n",
       "      <td>1.732203</td>\n",
       "      <td>0.179176</td>\n",
       "      <td>0.193894</td>\n",
       "      <td>1.405515</td>\n",
       "      <td>0.045251</td>\n",
       "      <td>10.460554</td>\n",
       "      <td>32.839138</td>\n",
       "      <td>0.001888</td>\n",
       "      <td>0.153346</td>\n",
       "      <td>0.163057</td>\n",
       "      <td>1.060371</td>\n",
       "      <td>0.807080</td>\n",
       "    </tr>\n",
       "    <tr>\n",
       "      <th>min</th>\n",
       "      <td>4.600000</td>\n",
       "      <td>0.120000</td>\n",
       "      <td>0.000000</td>\n",
       "      <td>0.900000</td>\n",
       "      <td>0.012000</td>\n",
       "      <td>1.000000</td>\n",
       "      <td>6.000000</td>\n",
       "      <td>0.990070</td>\n",
       "      <td>2.860000</td>\n",
       "      <td>0.330000</td>\n",
       "      <td>8.400000</td>\n",
       "      <td>3.000000</td>\n",
       "    </tr>\n",
       "    <tr>\n",
       "      <th>25%</th>\n",
       "      <td>7.100000</td>\n",
       "      <td>0.390000</td>\n",
       "      <td>0.090000</td>\n",
       "      <td>1.900000</td>\n",
       "      <td>0.070000</td>\n",
       "      <td>7.000000</td>\n",
       "      <td>22.000000</td>\n",
       "      <td>0.995600</td>\n",
       "      <td>3.210000</td>\n",
       "      <td>0.550000</td>\n",
       "      <td>9.500000</td>\n",
       "      <td>5.000000</td>\n",
       "    </tr>\n",
       "    <tr>\n",
       "      <th>50%</th>\n",
       "      <td>7.900000</td>\n",
       "      <td>0.520000</td>\n",
       "      <td>0.260000</td>\n",
       "      <td>2.200000</td>\n",
       "      <td>0.079000</td>\n",
       "      <td>14.000000</td>\n",
       "      <td>38.000000</td>\n",
       "      <td>0.996745</td>\n",
       "      <td>3.310000</td>\n",
       "      <td>0.620000</td>\n",
       "      <td>10.200000</td>\n",
       "      <td>6.000000</td>\n",
       "    </tr>\n",
       "    <tr>\n",
       "      <th>75%</th>\n",
       "      <td>9.200000</td>\n",
       "      <td>0.640000</td>\n",
       "      <td>0.420000</td>\n",
       "      <td>2.600000</td>\n",
       "      <td>0.090000</td>\n",
       "      <td>21.000000</td>\n",
       "      <td>62.000000</td>\n",
       "      <td>0.997832</td>\n",
       "      <td>3.400000</td>\n",
       "      <td>0.730000</td>\n",
       "      <td>11.100000</td>\n",
       "      <td>6.000000</td>\n",
       "    </tr>\n",
       "    <tr>\n",
       "      <th>max</th>\n",
       "      <td>15.600000</td>\n",
       "      <td>1.580000</td>\n",
       "      <td>0.790000</td>\n",
       "      <td>15.500000</td>\n",
       "      <td>0.611000</td>\n",
       "      <td>72.000000</td>\n",
       "      <td>289.000000</td>\n",
       "      <td>1.003690</td>\n",
       "      <td>4.010000</td>\n",
       "      <td>1.980000</td>\n",
       "      <td>14.000000</td>\n",
       "      <td>8.000000</td>\n",
       "    </tr>\n",
       "  </tbody>\n",
       "</table>\n",
       "</div>"
      ],
      "text/plain": [
       "       fixed acidity  volatile acidity  citric acid  residual sugar  \\\n",
       "count    1596.000000       1596.000000  1596.000000     1596.000000   \n",
       "mean        8.314160          0.527954     0.270276        2.535558   \n",
       "std         1.732203          0.179176     0.193894        1.405515   \n",
       "min         4.600000          0.120000     0.000000        0.900000   \n",
       "25%         7.100000          0.390000     0.090000        1.900000   \n",
       "50%         7.900000          0.520000     0.260000        2.200000   \n",
       "75%         9.200000          0.640000     0.420000        2.600000   \n",
       "max        15.600000          1.580000     0.790000       15.500000   \n",
       "\n",
       "         chlorides  free sulfur dioxide  total sulfur dioxide      density  \\\n",
       "count  1596.000000          1596.000000           1596.000000  1596.000000   \n",
       "mean      0.087120            15.858396             46.382206     0.996744   \n",
       "std       0.045251            10.460554             32.839138     0.001888   \n",
       "min       0.012000             1.000000              6.000000     0.990070   \n",
       "25%       0.070000             7.000000             22.000000     0.995600   \n",
       "50%       0.079000            14.000000             38.000000     0.996745   \n",
       "75%       0.090000            21.000000             62.000000     0.997832   \n",
       "max       0.611000            72.000000            289.000000     1.003690   \n",
       "\n",
       "                pH    sulphates      alcohol      quality  \n",
       "count  1596.000000  1596.000000  1596.000000  1596.000000  \n",
       "mean      3.311917     0.656385    10.421147     5.637218  \n",
       "std       0.153346     0.163057     1.060371     0.807080  \n",
       "min       2.860000     0.330000     8.400000     3.000000  \n",
       "25%       3.210000     0.550000     9.500000     5.000000  \n",
       "50%       3.310000     0.620000    10.200000     6.000000  \n",
       "75%       3.400000     0.730000    11.100000     6.000000  \n",
       "max       4.010000     1.980000    14.000000     8.000000  "
      ]
     },
     "execution_count": 135,
     "metadata": {},
     "output_type": "execute_result"
    }
   ],
   "source": [
    "df.describe()"
   ]
  },
  {
   "cell_type": "code",
   "execution_count": 136,
   "metadata": {},
   "outputs": [
    {
     "data": {
      "text/plain": [
       "(1596, 12)"
      ]
     },
     "execution_count": 136,
     "metadata": {},
     "output_type": "execute_result"
    }
   ],
   "source": [
    "df.shape # m=1596, n= 11(potentially)"
   ]
  },
  {
   "cell_type": "code",
   "execution_count": 137,
   "metadata": {},
   "outputs": [],
   "source": [
    "# a mapping dictionary that maps the quality values from 0 to 5\n",
    "quality_mapping = {\n",
    "3: 0, 4: 1, 5: 2, 6: 3, 7: 4, 8: 5}\n",
    "# you can use the map function of pandas with any dictionary \n",
    "# to convert the values in a given column to values in the dictionary\n",
    "\n",
    "df[\"quality\"] = df[\"quality\"].map(quality_mapping)"
   ]
  },
  {
   "cell_type": "markdown",
   "metadata": {},
   "source": [
    "##### Feature Engineering:\n",
    "Lets generate some extra-variables based on the available ones"
   ]
  },
  {
   "cell_type": "code",
   "execution_count": 138,
   "metadata": {},
   "outputs": [],
   "source": [
    "# df[\"acidity_by_Ph\"] = df[\"fixed acidity\"]/df[\"pH\"]\n",
    "df[\"density_sugar\"] = df[\"density\"]/df[\"residual sugar\"]\n",
    "df[\"sulphate_by_chloride\"] = df[\"sulphates\"]/df[\"chlorides\"]"
   ]
  },
  {
   "cell_type": "code",
   "execution_count": 139,
   "metadata": {},
   "outputs": [],
   "source": [
    "df.drop(\"sulphates\", axis=1, inplace=True) # we will incorporate sulphate_by_chloride which correlates better"
   ]
  },
  {
   "cell_type": "code",
   "execution_count": 140,
   "metadata": {},
   "outputs": [
    {
     "data": {
      "image/png": "[encoded data removed]",
      "text/plain": [
       "<Figure size 864x864 with 2 Axes>"
      ]
     },
     "metadata": {},
     "output_type": "display_data"
    }
   ],
   "source": [
    "plt.rcParams[\"figure.figsize\"] = (12,12)\n",
    "colormap=plt.cm.seismic\n",
    "plt.title(\"Pearson corr\", y=1.05, size=15)\n",
    "sns.heatmap(df.corr(), linewidths=0.1, vmax=1.0, square=True, cmap=colormap, linecolor=\"white\", annot=True)\n",
    "plt.tight_layout()\n",
    "# plt.savefig(\"corr.png\", dpi=400)\n",
    "plt.show()"
   ]
  },
  {
   "cell_type": "code",
   "execution_count": 141,
   "metadata": {},
   "outputs": [],
   "source": [
    "corr_matrix = df.corr()\n",
    "corr_vals = abs(corr_matrix[\"quality\"]).sort_values(ascending=False)\n",
    "top8_corr =  corr_vals[1:9]"
   ]
  },
  {
   "cell_type": "code",
   "execution_count": 142,
   "metadata": {},
   "outputs": [
    {
     "data": {
      "text/plain": [
       "alcohol                 0.480738\n",
       "volatile acidity        0.391735\n",
       "sulphate_by_chloride    0.363317\n",
       "citric acid             0.233733\n",
       "total sulfur dioxide    0.185404\n",
       "density                 0.173251\n",
       "fixed acidity           0.127766\n",
       "chlorides               0.119770\n",
       "Name: quality, dtype: float64"
      ]
     },
     "execution_count": 142,
     "metadata": {},
     "output_type": "execute_result"
    }
   ],
   "source": [
    "top8_corr # we will carry with these attributes for the modeling"
   ]
  },
  {
   "cell_type": "code",
   "execution_count": 143,
   "metadata": {},
   "outputs": [],
   "source": [
    "top8_corr = pd.DataFrame(top8_corr)"
   ]
  },
  {
   "cell_type": "markdown",
   "metadata": {},
   "source": [
    "We observe that the atributes that correlate best with the wine quality are alcohol, volatile acicity, sulphates, citric acid, total sufur dioxide, density, fixed acidity and chlorides. We will be using these in the modeling"
   ]
  },
  {
   "cell_type": "markdown",
   "metadata": {},
   "source": [
    "Note: To prevent the model from overfitting I decided to remove two attributes which seemed to not have a major importance and correlation with the target (citric acid and fixed acidity)"
   ]
  },
  {
   "cell_type": "code",
   "execution_count": 144,
   "metadata": {},
   "outputs": [],
   "source": [
    "# top8_corr.drop([\"citric acid\", \"fixed acidity\"], axis=0, inplace=True)"
   ]
  },
  {
   "cell_type": "code",
   "execution_count": 145,
   "metadata": {},
   "outputs": [],
   "source": [
    "list_top8 = list(top8_corr.index)"
   ]
  },
  {
   "cell_type": "code",
   "execution_count": 146,
   "metadata": {},
   "outputs": [],
   "source": [
    "list_top8.append(\"quality\")"
   ]
  },
  {
   "cell_type": "code",
   "execution_count": 147,
   "metadata": {},
   "outputs": [],
   "source": [
    "df_model = df[list_top8]"
   ]
  },
  {
   "cell_type": "code",
   "execution_count": 148,
   "metadata": {},
   "outputs": [
    {
     "data": {
      "image/png": "[encoded data removed]",
      "text/plain": [
       "<Figure size 576x576 with 9 Axes>"
      ]
     },
     "metadata": {},
     "output_type": "display_data"
    }
   ],
   "source": [
    "plt.rcParams[\"figure.figsize\"] = (8,8)\n",
    "df_model.hist(bins=12, color=\"darkblue\")\n",
    "plt.tight_layout()\n",
    "# plt.savefig(\"hist_features.png\", dpi=400)\n",
    "plt.show()\n"
   ]
  },
  {
   "cell_type": "markdown",
   "metadata": {},
   "source": [
    "We can see that most of the selected attributes shown an skewed distribution and possess different scales. We will therefore standarized the data before modeling. But first, lets split the data into the test and train sets."
   ]
  },
  {
   "cell_type": "markdown",
   "metadata": {},
   "source": [
    "## 2. Splitting data: \n",
    "First we check the distribution of the target values to see if an stratified split is needed"
   ]
  },
  {
   "cell_type": "code",
   "execution_count": 149,
   "metadata": {},
   "outputs": [
    {
     "data": {
      "image/png": "[encoded data removed]",
      "text/plain": [
       "<Figure size 360x288 with 1 Axes>"
      ]
     },
     "metadata": {},
     "output_type": "display_data"
    }
   ],
   "source": [
    "plt.rcParams[\"figure.figsize\"] = (5,4)\n",
    "ax = sns.countplot(x='quality', data=df)\n",
    "ax.set_title(\"Target values distribution\", fontsize=20)\n",
    "ax.set_xlabel(\"quality\", fontsize=16)\n",
    "ax.set_ylabel(\"count\", fontsize=16)\n",
    "# plt.savefig(\"target_values_distribution.png\", dpi=400)\n",
    "plt.show()"
   ]
  },
  {
   "cell_type": "markdown",
   "metadata": {},
   "source": [
    "We can see that we have a skewed dataset for classification \n",
    "so we may want to stratify the data before split. Furthermore, we will want to use **stratified k-fold cross-validation** (For classification problems).\n",
    "\n",
    "-> There are several choices for selecting the appropriate number of bins. If\n",
    "you have a lot of samples( > 10k, > 100k), then you don’t need to care about the\n",
    "number of bins. Just divide the data into 10 or 20 bins. If you do not have a lot of\n",
    "samples, you can use a simple rule like Sturge’s Rule to calculate the appropriate\n",
    "number of bins.\n",
    "\n",
    "\n",
    "Number of Bins = 1 + log2(N) Where N is the number of samples you have in your dataset. # 12 in our case"
   ]
  },
  {
   "cell_type": "markdown",
   "metadata": {},
   "source": [
    "For the stratification we will use the most correlated attribute (alchohol)"
   ]
  },
  {
   "cell_type": "code",
   "execution_count": 150,
   "metadata": {},
   "outputs": [],
   "source": [
    "def strater (col_item):\n",
    "    if col_item <= 9.3:\n",
    "        return 1\n",
    "    elif col_item > 9.3 and col_item <= 10:\n",
    "        return 2\n",
    "    elif col_item > 10 and col_item <= 11:\n",
    "        return 3\n",
    "    elif col_item > 11 and col_item <= 12:\n",
    "        return 4\n",
    "    else:\n",
    "        return 5"
   ]
  },
  {
   "cell_type": "code",
   "execution_count": 151,
   "metadata": {},
   "outputs": [],
   "source": [
    "df_model[\"strat\"] = df_model[\"alcohol\"].apply(strater)"
   ]
  },
  {
   "cell_type": "code",
   "execution_count": 152,
   "metadata": {},
   "outputs": [],
   "source": [
    "gist_heat = cm.get_cmap('gist_heat', 200)"
   ]
  },
  {
   "cell_type": "code",
   "execution_count": 153,
   "metadata": {},
   "outputs": [
    {
     "data": {
      "image/png": "[encoded data removed]",
      "text/plain": [
       "<Figure size 360x288 with 1 Axes>"
      ]
     },
     "metadata": {},
     "output_type": "display_data"
    }
   ],
   "source": [
    "df_model[\"strat\"].hist(color=gist_heat(random.uniform(0, 1)))\n",
    "plt.show()"
   ]
  },
  {
   "cell_type": "code",
   "execution_count": 154,
   "metadata": {},
   "outputs": [],
   "source": [
    "split = StratifiedShuffleSplit(n_splits = 1, test_size=0.20, random_state=10)"
   ]
  },
  {
   "cell_type": "code",
   "execution_count": 155,
   "metadata": {},
   "outputs": [],
   "source": [
    "for train_index, test_index in split.split(df_model, df_model[\"strat\"]):\n",
    "    strat_train_set = df_model.loc[train_index]\n",
    "    strat_test_set = df_model.loc[test_index]"
   ]
  },
  {
   "cell_type": "code",
   "execution_count": 156,
   "metadata": {},
   "outputs": [],
   "source": [
    "# we will also do a random split to compare the results of the distribution\n",
    "X = df_model.drop(\"quality\", axis=1)\n",
    "y = df_model[\"quality\"].values\n",
    "X_train, X_test, y_train, y_test = train_test_split(X, y, test_size=0.20, random_state=10) # 0.2 means 80 % is in our train set and 20"
   ]
  },
  {
   "cell_type": "code",
   "execution_count": 157,
   "metadata": {},
   "outputs": [],
   "source": [
    "def proportions(data):\n",
    "    return data[\"strat\"].value_counts()/len(data)"
   ]
  },
  {
   "cell_type": "code",
   "execution_count": 158,
   "metadata": {},
   "outputs": [],
   "source": [
    "comparing = pd.DataFrame({\"Overall\": proportions(df_model),\n",
    "                         \"Stratified\": proportions(strat_test_set),\n",
    "                         \"Random\": proportions(X_test)}).sort_index()"
   ]
  },
  {
   "cell_type": "code",
   "execution_count": 159,
   "metadata": {},
   "outputs": [],
   "source": [
    "comparing = comparing *100 "
   ]
  },
  {
   "cell_type": "code",
   "execution_count": 160,
   "metadata": {},
   "outputs": [
    {
     "data": {
      "text/html": [
       "<div>\n",
       "<style scoped>\n",
       "    .dataframe tbody tr th:only-of-type {\n",
       "        vertical-align: middle;\n",
       "    }\n",
       "\n",
       "    .dataframe tbody tr th {\n",
       "        vertical-align: top;\n",
       "    }\n",
       "\n",
       "    .dataframe thead th {\n",
       "        text-align: right;\n",
       "    }\n",
       "</style>\n",
       "<table border=\"1\" class=\"dataframe\">\n",
       "  <thead>\n",
       "    <tr style=\"text-align: right;\">\n",
       "      <th></th>\n",
       "      <th>Overall</th>\n",
       "      <th>Stratified</th>\n",
       "      <th>Random</th>\n",
       "    </tr>\n",
       "  </thead>\n",
       "  <tbody>\n",
       "    <tr>\n",
       "      <th>1</th>\n",
       "      <td>12.155388</td>\n",
       "      <td>12.1875</td>\n",
       "      <td>11.8750</td>\n",
       "    </tr>\n",
       "    <tr>\n",
       "      <th>2</th>\n",
       "      <td>34.523810</td>\n",
       "      <td>34.3750</td>\n",
       "      <td>33.4375</td>\n",
       "    </tr>\n",
       "    <tr>\n",
       "      <th>3</th>\n",
       "      <td>27.819549</td>\n",
       "      <td>27.8125</td>\n",
       "      <td>27.1875</td>\n",
       "    </tr>\n",
       "    <tr>\n",
       "      <th>4</th>\n",
       "      <td>16.729323</td>\n",
       "      <td>16.8750</td>\n",
       "      <td>17.5000</td>\n",
       "    </tr>\n",
       "    <tr>\n",
       "      <th>5</th>\n",
       "      <td>8.771930</td>\n",
       "      <td>8.7500</td>\n",
       "      <td>10.0000</td>\n",
       "    </tr>\n",
       "  </tbody>\n",
       "</table>\n",
       "</div>"
      ],
      "text/plain": [
       "     Overall  Stratified   Random\n",
       "1  12.155388     12.1875  11.8750\n",
       "2  34.523810     34.3750  33.4375\n",
       "3  27.819549     27.8125  27.1875\n",
       "4  16.729323     16.8750  17.5000\n",
       "5   8.771930      8.7500  10.0000"
      ]
     },
     "execution_count": 160,
     "metadata": {},
     "output_type": "execute_result"
    }
   ],
   "source": [
    "comparing \n",
    "# We can observe how the proportions in the stratified set are closer \n",
    "# to those in the whole set compared to the ramdomly generated set"
   ]
  },
  {
   "cell_type": "code",
   "execution_count": 161,
   "metadata": {},
   "outputs": [],
   "source": [
    "df_model.drop(\"strat\", axis=1, inplace=True)"
   ]
  },
  {
   "cell_type": "code",
   "execution_count": 162,
   "metadata": {},
   "outputs": [],
   "source": [
    "X = df_model.drop(\"quality\", axis=1)"
   ]
  },
  {
   "cell_type": "markdown",
   "metadata": {},
   "source": [
    "we go with stratified split then:"
   ]
  },
  {
   "cell_type": "code",
   "execution_count": 163,
   "metadata": {},
   "outputs": [],
   "source": [
    "strat_train_set.drop(\"strat\", axis=1, inplace=True)\n",
    "strat_test_set.drop(\"strat\", axis=1, inplace=True)"
   ]
  },
  {
   "cell_type": "code",
   "execution_count": 164,
   "metadata": {},
   "outputs": [],
   "source": [
    "X_train = strat_train_set.drop(\"quality\", axis=1)\n",
    "y_train = strat_train_set[\"quality\"].values"
   ]
  },
  {
   "cell_type": "code",
   "execution_count": 165,
   "metadata": {},
   "outputs": [],
   "source": [
    "X_test = strat_test_set.drop(\"quality\", axis=1)\n",
    "y_test = strat_test_set[\"quality\"].values"
   ]
  },
  {
   "cell_type": "markdown",
   "metadata": {},
   "source": [
    "## 3. Standarization of the data\n",
    "Standardizing the features around the center and 0 with a standard deviation of 1 is important when we compare measurements that have different units."
   ]
  },
  {
   "cell_type": "markdown",
   "metadata": {},
   "source": [
    "* Standarize Train set"
   ]
  },
  {
   "cell_type": "markdown",
   "metadata": {},
   "source": [
    "<!-- Standarization implies that the features will be rescaled to ensure the mean and the standard deviation to be 0 and 1, respectively. -->"
   ]
  },
  {
   "cell_type": "code",
   "execution_count": 166,
   "metadata": {},
   "outputs": [],
   "source": [
    "train_scaler = StandardScaler().fit(X_train) # Best results\n",
    "X_train_rescaled = train_scaler.transform(X_train)"
   ]
  },
  {
   "cell_type": "code",
   "execution_count": 167,
   "metadata": {},
   "outputs": [],
   "source": [
    "# from sklearn.preprocessing import MinMaxScaler # did not improve the model\n",
    "# scaler = MinMaxScaler(feature_range=(0, 1))\n",
    "# X_train_rescaled = scaler.fit_transform(X_train) # use MinMaxScaler to revert the re-scaled data"
   ]
  },
  {
   "cell_type": "code",
   "execution_count": 168,
   "metadata": {},
   "outputs": [],
   "source": [
    "# from sklearn.preprocessing import Normalizer # did not improve the model\n",
    "# scaler = Normalizer().fit(X_train)\n",
    "# X_train_rescaled = scaler.transform(X_train)"
   ]
  },
  {
   "cell_type": "code",
   "execution_count": 169,
   "metadata": {},
   "outputs": [],
   "source": [
    "df_rescaled = pd.DataFrame(X_train_rescaled, columns=df_model.columns[:-1])"
   ]
  },
  {
   "cell_type": "code",
   "execution_count": 170,
   "metadata": {},
   "outputs": [
    {
     "data": {
      "image/png": "[encoded data removed]",
      "text/plain": [
       "<Figure size 288x144 with 1 Axes>"
      ]
     },
     "metadata": {},
     "output_type": "display_data"
    },
    {
     "data": {
      "image/png": "[encoded data removed]",
      "text/plain": [
       "<Figure size 288x144 with 1 Axes>"
      ]
     },
     "metadata": {},
     "output_type": "display_data"
    },
    {
     "data": {
      "image/png": "[encoded data removed]",
      "text/plain": [
       "<Figure size 288x144 with 1 Axes>"
      ]
     },
     "metadata": {},
     "output_type": "display_data"
    },
    {
     "data": {
      "image/png": "[encoded data removed]",
      "text/plain": [
       "<Figure size 288x144 with 1 Axes>"
      ]
     },
     "metadata": {},
     "output_type": "display_data"
    },
    {
     "data": {
      "image/png": "[encoded data removed]",
      "text/plain": [
       "<Figure size 288x144 with 1 Axes>"
      ]
     },
     "metadata": {},
     "output_type": "display_data"
    },
    {
     "data": {
      "image/png": "[encoded data removed]",
      "text/plain": [
       "<Figure size 288x144 with 1 Axes>"
      ]
     },
     "metadata": {},
     "output_type": "display_data"
    },
    {
     "data": {
      "image/png": "[encoded data removed]",
      "text/plain": [
       "<Figure size 288x144 with 1 Axes>"
      ]
     },
     "metadata": {},
     "output_type": "display_data"
    },
    {
     "data": {
      "image/png": "[encoded data removed]",
      "text/plain": [
       "<Figure size 288x144 with 1 Axes>"
      ]
     },
     "metadata": {},
     "output_type": "display_data"
    }
   ],
   "source": [
    "\n",
    "for i in top8_corr.index:\n",
    "    df_rescaled[i].plot(kind=\"hist\", bins=12,\n",
    "               figsize=(4,2), \n",
    "               title=str.capitalize(i),\n",
    "               color=gist_heat(random.uniform(0, 1)))\n",
    "    plt.show()"
   ]
  },
  {
   "cell_type": "markdown",
   "metadata": {},
   "source": [
    "* Standarize Test set"
   ]
  },
  {
   "cell_type": "code",
   "execution_count": 171,
   "metadata": {},
   "outputs": [],
   "source": [
    "X_test_rescaled = train_scaler.transform(X_test)"
   ]
  },
  {
   "cell_type": "markdown",
   "metadata": {},
   "source": [
    "## 4. Exploring model performance"
   ]
  },
  {
   "cell_type": "markdown",
   "metadata": {},
   "source": [
    "**What performance metric should we use?**  It depends on the purpose of our model but for this case scenario we may want a balanced model with acceptable precision as well as recall. Hence, f1_score may be prefered. Furthermore, since the distribution of our targets is imbalanced, we may want to use micro-averages which aggregates the contributions of all classes to compute the average metric. Macro-average on the other side would treat all classes equally and would be preferred in a balanced class distribution scenario."
   ]
  },
  {
   "cell_type": "code",
   "execution_count": 172,
   "metadata": {},
   "outputs": [
    {
     "data": {
      "text/plain": [
       "dict_keys(['explained_variance', 'r2', 'max_error', 'neg_median_absolute_error', 'neg_mean_absolute_error', 'neg_mean_squared_error', 'neg_mean_squared_log_error', 'neg_root_mean_squared_error', 'neg_mean_poisson_deviance', 'neg_mean_gamma_deviance', 'accuracy', 'roc_auc', 'roc_auc_ovr', 'roc_auc_ovo', 'roc_auc_ovr_weighted', 'roc_auc_ovo_weighted', 'balanced_accuracy', 'average_precision', 'neg_log_loss', 'neg_brier_score', 'adjusted_rand_score', 'homogeneity_score', 'completeness_score', 'v_measure_score', 'mutual_info_score', 'adjusted_mutual_info_score', 'normalized_mutual_info_score', 'fowlkes_mallows_score', 'precision', 'precision_macro', 'precision_micro', 'precision_samples', 'precision_weighted', 'recall', 'recall_macro', 'recall_micro', 'recall_samples', 'recall_weighted', 'f1', 'f1_macro', 'f1_micro', 'f1_samples', 'f1_weighted', 'jaccard', 'jaccard_macro', 'jaccard_micro', 'jaccard_samples', 'jaccard_weighted'])"
      ]
     },
     "execution_count": 172,
     "metadata": {},
     "output_type": "execute_result"
    }
   ],
   "source": [
    "SCORERS.keys()"
   ]
  },
  {
   "cell_type": "code",
   "execution_count": 173,
   "metadata": {},
   "outputs": [
    {
     "name": "stdout",
     "output_type": "stream",
     "text": [
      "LR: Score = 0.592466, STD = 0.044876\n",
      "BC_LR: Score = 0.597962, STD = 0.046366\n",
      "SGD: Score = 0.545406, STD = 0.049029\n",
      "GNB: Score = 0.542276, STD = 0.037442\n",
      "KNC: Score = 0.580725, STD = 0.045412\n",
      "CART: Score = 0.586970, STD = 0.034025\n",
      "AB_CART: Score = 0.590850, STD = 0.033841\n",
      "GBC: Score = 0.613656, STD = 0.048875\n",
      "RFC: Score = 0.669312, STD = 0.036899\n",
      "ETC: Score = 0.668570, STD = 0.039645\n",
      "SVC: Score = 0.607366, STD = 0.036009\n",
      "BC_SVC: Score = 0.605816, STD = 0.039955\n",
      "XGB: Score = 0.626212, STD = 0.044509\n"
     ]
    }
   ],
   "source": [
    "models = []\n",
    "models.append(('LR', LogisticRegression()))\n",
    "models.append(('BC_LR', BaggingClassifier(LogisticRegression())))\n",
    "models.append(('SGD', SGDClassifier())) \n",
    "models.append(('GNB', GaussianNB()))\n",
    "models.append(('KNC', KNeighborsClassifier()))\n",
    "models.append(('CART', DecisionTreeClassifier())) # Note: When using tree based algos with no regularization, most likely they will overfit\n",
    "models.append(('AB_CART', AdaBoostClassifier(DecisionTreeClassifier())))\n",
    "models.append(('GBC', GradientBoostingClassifier()))\n",
    "models.append(('RFC', RandomForestClassifier())) # n_estimators=100, max_features=6\n",
    "models.append(('ETC', ExtraTreesClassifier()))\n",
    "models.append(('SVC', SVC()))\n",
    "models.append(('BC_SVC', BaggingClassifier(SVC())))\n",
    "models.append(('XGB', xgb.XGBClassifier()))\n",
    "\n",
    "\n",
    "results_model = []\n",
    "names_model = []\n",
    "for name, model in models:\n",
    "    SKF = StratifiedKFold(n_splits=12, random_state=10)\n",
    "    cv_results = cross_val_score(model, X_train_rescaled, y_train, cv=SKF, scoring='f1_micro')\n",
    "    results_model.append(cv_results)\n",
    "    names_model.append(name)\n",
    "    msg = \"%s: Score = %f, STD = %f\" % (name, cv_results.mean(), cv_results.std())\n",
    "    print(msg)"
   ]
  },
  {
   "cell_type": "code",
   "execution_count": 174,
   "metadata": {},
   "outputs": [],
   "source": [
    "values= []\n",
    "for i in results_model:\n",
    "    values.append(round(np.mean(i),3))"
   ]
  },
  {
   "cell_type": "code",
   "execution_count": 175,
   "metadata": {},
   "outputs": [],
   "source": [
    "zipped = list(zip(names_model, values))"
   ]
  },
  {
   "cell_type": "code",
   "execution_count": 176,
   "metadata": {},
   "outputs": [],
   "source": [
    "labels = []\n",
    "for name,value in zipped:\n",
    "    labels.append(\"\".join((name,(\"(\"+str(value)+\")\"))))\n",
    "    "
   ]
  },
  {
   "cell_type": "code",
   "execution_count": 177,
   "metadata": {},
   "outputs": [
    {
     "data": {
      "image/png": "[encoded data removed]",
      "text/plain": [
       "<Figure size 864x360 with 1 Axes>"
      ]
     },
     "metadata": {},
     "output_type": "display_data"
    }
   ],
   "source": [
    "# Compare Algorithms\n",
    "sns.set_style(\"ticks\")\n",
    "fig = plt.figure(figsize=(12,5))\n",
    "ax = fig.add_subplot(111)\n",
    "plt.boxplot(results_model)\n",
    "ax.set_title('Algorithm Comparison', fontsize=20)\n",
    "plt.ylabel(\"Score\", fontsize=16)\n",
    "ax.set_xticklabels(labels, rotation=30, fontsize=12)\n",
    "ax.set_yticklabels([0.35,0.40, 0.45, 0.50, 0.55, 0.60, 0.65, 0.70, 0.75], fontsize=10)\n",
    "plt.gcf().subplots_adjust(bottom=0.30)\n",
    "plt.tight_layout()\n",
    "# plt.savefig(\"Algo_comparison.png\", dpi=400)\n",
    "plt.show()\n"
   ]
  },
  {
   "cell_type": "markdown",
   "metadata": {},
   "source": [
    "Lets select three best performing models, tune them and ensemble them to achieve a better performing model."
   ]
  },
  {
   "cell_type": "markdown",
   "metadata": {},
   "source": [
    "### 5.1 Fine tune SVC"
   ]
  },
  {
   "cell_type": "code",
   "execution_count": 178,
   "metadata": {},
   "outputs": [
    {
     "name": "stdout",
     "output_type": "stream",
     "text": [
      "Best: 0.609718 using {'C': 1.5, 'gamma': 0.2, 'kernel': 'rbf', 'tol': 0.0001}\n",
      "nan (nan) with: {'C': 1.5, 'gamma': 0.2, 'kernel': 'rbf', 'tol': 0}\n",
      "0.609718 (0.039916) with: {'C': 1.5, 'gamma': 0.2, 'kernel': 'rbf', 'tol': 0.0001}\n",
      "0.609718 (0.039916) with: {'C': 1.5, 'gamma': 0.2, 'kernel': 'rbf', 'tol': 0.001}\n",
      "0.609718 (0.038240) with: {'C': 1.5, 'gamma': 0.2, 'kernel': 'rbf', 'tol': 0.1}\n",
      "0.605037 (0.044341) with: {'C': 1.5, 'gamma': 0.2, 'kernel': 'rbf', 'tol': 0.5}\n",
      "0.608953 (0.040853) with: {'C': 1.5, 'gamma': 0.2, 'kernel': 'rbf', 'tol': 1}\n"
     ]
    }
   ],
   "source": [
    "# Tried different combinations and chose the algo based on the score but also on the values of the hyperparameters to obtain some regularization of the model\n",
    "# kernel = [\"linear\", \"poly\", \"rbf\", \"sigmoid\"] \n",
    "C = [1.5] # The lower the higher regularization # [0.1, 0.5, 1.5, 2.5, 8.5] \n",
    "gamma = [0.2] # The lower the higher regularization\n",
    "tol = [0, 0.0001, 0.001, 0.1, 0.5, 1]\n",
    "# degree = [1,3]\n",
    "kernel = [\"rbf\"]\n",
    "\n",
    "\n",
    "param_grid = dict(kernel=kernel, C=C, gamma=gamma, tol=tol)\n",
    "\n",
    "\n",
    "model = SVC()\n",
    "SKF = StratifiedKFold(n_splits=12, random_state=10)\n",
    "grid = GridSearchCV(estimator=model, param_grid=param_grid, scoring=\"f1_micro\", cv=SKF)\n",
    "grid_result = grid.fit(X_train_rescaled, y_train)\n",
    "print(\"Best: %f using %s\" % (grid_result.best_score_, grid_result.best_params_))\n",
    "means = grid_result.cv_results_['mean_test_score']\n",
    "stds = grid_result.cv_results_['std_test_score']\n",
    "params = grid_result.cv_results_['params']\n",
    "for mean, stdev, param in zip(means, stds, params):\n",
    "    print(\"%f (%f) with: %r\" % (mean, stdev, param))\n",
    "    # 0.605801 (0.038748) with: {'C': 1.5, 'gamma': 0.1, 'kernel': 'rbf'}"
   ]
  },
  {
   "cell_type": "code",
   "execution_count": 179,
   "metadata": {},
   "outputs": [
    {
     "data": {
      "text/plain": [
       "SVC(C=1.5, break_ties=False, cache_size=200, class_weight=None, coef0=0.0,\n",
       "    decision_function_shape='ovr', degree=3, gamma=0.1, kernel='rbf',\n",
       "    max_iter=-1, probability=True, random_state=None, shrinking=True, tol=0.001,\n",
       "    verbose=False)"
      ]
     },
     "execution_count": 179,
     "metadata": {},
     "output_type": "execute_result"
    }
   ],
   "source": [
    "SVC_rbf = SVC(kernel=\"rbf\", C=1.5, gamma=0.1, tol=0.001, probability=True)\n",
    "SVC_rbf.fit(X_train_rescaled, y_train)"
   ]
  },
  {
   "cell_type": "markdown",
   "metadata": {},
   "source": [
    "Note: Under the hood Sklearn uses the OvO (One Vs One) strategy for this multi-classification problem, resulting in N × (N – 1) / 2 classifiers -> 15 classifiers in our case. Hence our model trained **15 binary classifiers**, got their decision scores for each case, and selected the class that won the most duels."
   ]
  },
  {
   "cell_type": "markdown",
   "metadata": {},
   "source": [
    "### 5.2 Evaluating SVC"
   ]
  },
  {
   "cell_type": "code",
   "execution_count": 180,
   "metadata": {},
   "outputs": [
    {
     "data": {
      "text/plain": [
       "0.658307210031348"
      ]
     },
     "execution_count": 180,
     "metadata": {},
     "output_type": "execute_result"
    }
   ],
   "source": [
    "SVC_rbf.score(X_train_rescaled,y_train)"
   ]
  },
  {
   "cell_type": "code",
   "execution_count": 181,
   "metadata": {},
   "outputs": [
    {
     "data": {
      "text/plain": [
       "0.628125"
      ]
     },
     "execution_count": 181,
     "metadata": {},
     "output_type": "execute_result"
    }
   ],
   "source": [
    "SVC_rbf.score(X_test_rescaled,y_test)"
   ]
  },
  {
   "cell_type": "code",
   "execution_count": 182,
   "metadata": {},
   "outputs": [
    {
     "data": {
      "text/plain": [
       "array([[0.00491768, 0.03087918, 0.57429008, 0.34139969, 0.0449344 ,\n",
       "        0.00357896]])"
      ]
     },
     "execution_count": 182,
     "metadata": {},
     "output_type": "execute_result"
    }
   ],
   "source": [
    "# Lets predict one single instance from the test set\n",
    "SVC_rbf.predict_proba(list(X_test_rescaled[0].reshape(1,-1))) # is appears to be class 2, although the probability to be class 3 is fairly high "
   ]
  },
  {
   "cell_type": "code",
   "execution_count": 183,
   "metadata": {},
   "outputs": [
    {
     "data": {
      "text/plain": [
       "array([2], dtype=int64)"
      ]
     },
     "execution_count": 183,
     "metadata": {},
     "output_type": "execute_result"
    }
   ],
   "source": [
    "SVC_rbf.predict(list(X_test_rescaled[0].reshape(1,-1)))"
   ]
  },
  {
   "cell_type": "code",
   "execution_count": 184,
   "metadata": {},
   "outputs": [
    {
     "name": "stdout",
     "output_type": "stream",
     "text": [
      "=====================\n",
      "F1_score:\n",
      "\n",
      "0.628125\n",
      "=====================\n",
      "Confusion Matrix:\n",
      "\n",
      "[[  0   0   2   0   0   0]\n",
      " [  0   0   4   2   0   0]\n",
      " [  0   0 107  40   1   0]\n",
      " [  0   0  34  83   8   0]\n",
      " [  0   0   0  24  11   0]\n",
      " [  0   0   0   3   1   0]]\n",
      "\n",
      "=================\n",
      "Classification Report:\n",
      "\n",
      "              precision    recall  f1-score   support\n",
      "\n",
      "           0       0.00      0.00      0.00         2\n",
      "           1       0.00      0.00      0.00         6\n",
      "           2       0.73      0.72      0.73       148\n",
      "           3       0.55      0.66      0.60       125\n",
      "           4       0.52      0.31      0.39        35\n",
      "           5       0.00      0.00      0.00         4\n",
      "\n",
      "    accuracy                           0.63       320\n",
      "   macro avg       0.30      0.28      0.29       320\n",
      "weighted avg       0.61      0.63      0.61       320\n",
      "\n"
     ]
    }
   ],
   "source": [
    "y_preds = SVC_rbf.predict(X_test_rescaled)\n",
    "print(\"=====================\\nF1_score:\\n\")\n",
    "print(m.f1_score(y_test, y_preds, average='micro'))\n",
    "print(\"=====================\\nConfusion Matrix:\\n\")\n",
    "print(m.confusion_matrix(y_test, y_preds))\n",
    "print(\"\\n=================\\nClassification Report:\\n\")\n",
    "print(m.classification_report(y_test, y_preds))"
   ]
  },
  {
   "cell_type": "markdown",
   "metadata": {},
   "source": [
    "Another important aspect of the model functioning is **feature\n",
    "importance**. We can use an attibute called coef_ to stimate feature importance in SVC models, but the kernel needs to be linear. Lets train a SVC with kernel linear to get idea about the feature importance in this type of model:"
   ]
  },
  {
   "cell_type": "code",
   "execution_count": 185,
   "metadata": {},
   "outputs": [
    {
     "data": {
      "text/plain": [
       "SVC(C=1.5, break_ties=False, cache_size=200, class_weight=None, coef0=0.0,\n",
       "    decision_function_shape='ovr', degree=3, gamma='scale', kernel='linear',\n",
       "    max_iter=-1, probability=False, random_state=None, shrinking=True,\n",
       "    tol=0.001, verbose=False)"
      ]
     },
     "execution_count": 185,
     "metadata": {},
     "output_type": "execute_result"
    }
   ],
   "source": [
    "SVC_linear = SVC(kernel=\"linear\", C=1.5)\n",
    "SVC_linear.fit(X_train_rescaled, y_train)"
   ]
  },
  {
   "cell_type": "code",
   "execution_count": 186,
   "metadata": {},
   "outputs": [],
   "source": [
    "features_dict_SVC = dict(zip(top8_corr.index, list(SVC_linear.coef_[0])))\n",
    "features_imp_df_SVC = pd.DataFrame(features_dict_SVC, index=[\"feature_importance\"]).T"
   ]
  },
  {
   "cell_type": "code",
   "execution_count": 187,
   "metadata": {},
   "outputs": [],
   "source": [
    "top8_corr.columns = [\"feature_corr\"]"
   ]
  },
  {
   "cell_type": "code",
   "execution_count": 188,
   "metadata": {},
   "outputs": [],
   "source": [
    "features_df_SVC = pd.concat([top8_corr, features_imp_df_SVC], axis=1)"
   ]
  },
  {
   "cell_type": "code",
   "execution_count": 189,
   "metadata": {},
   "outputs": [
    {
     "data": {
      "text/html": [
       "<div>\n",
       "<style scoped>\n",
       "    .dataframe tbody tr th:only-of-type {\n",
       "        vertical-align: middle;\n",
       "    }\n",
       "\n",
       "    .dataframe tbody tr th {\n",
       "        vertical-align: top;\n",
       "    }\n",
       "\n",
       "    .dataframe thead th {\n",
       "        text-align: right;\n",
       "    }\n",
       "</style>\n",
       "<table border=\"1\" class=\"dataframe\">\n",
       "  <thead>\n",
       "    <tr style=\"text-align: right;\">\n",
       "      <th></th>\n",
       "      <th>feature_corr</th>\n",
       "      <th>feature_importance</th>\n",
       "    </tr>\n",
       "  </thead>\n",
       "  <tbody>\n",
       "    <tr>\n",
       "      <th>alcohol</th>\n",
       "      <td>0.480738</td>\n",
       "      <td>-0.241646</td>\n",
       "    </tr>\n",
       "    <tr>\n",
       "      <th>volatile acidity</th>\n",
       "      <td>0.391735</td>\n",
       "      <td>0.468525</td>\n",
       "    </tr>\n",
       "    <tr>\n",
       "      <th>sulphate_by_chloride</th>\n",
       "      <td>0.363317</td>\n",
       "      <td>0.217496</td>\n",
       "    </tr>\n",
       "    <tr>\n",
       "      <th>citric acid</th>\n",
       "      <td>0.233733</td>\n",
       "      <td>0.079163</td>\n",
       "    </tr>\n",
       "    <tr>\n",
       "      <th>total sulfur dioxide</th>\n",
       "      <td>0.185404</td>\n",
       "      <td>-0.574641</td>\n",
       "    </tr>\n",
       "    <tr>\n",
       "      <th>density</th>\n",
       "      <td>0.173251</td>\n",
       "      <td>0.378974</td>\n",
       "    </tr>\n",
       "    <tr>\n",
       "      <th>fixed acidity</th>\n",
       "      <td>0.127766</td>\n",
       "      <td>0.042825</td>\n",
       "    </tr>\n",
       "    <tr>\n",
       "      <th>chlorides</th>\n",
       "      <td>0.119770</td>\n",
       "      <td>0.701036</td>\n",
       "    </tr>\n",
       "  </tbody>\n",
       "</table>\n",
       "</div>"
      ],
      "text/plain": [
       "                      feature_corr  feature_importance\n",
       "alcohol                   0.480738           -0.241646\n",
       "volatile acidity          0.391735            0.468525\n",
       "sulphate_by_chloride      0.363317            0.217496\n",
       "citric acid               0.233733            0.079163\n",
       "total sulfur dioxide      0.185404           -0.574641\n",
       "density                   0.173251            0.378974\n",
       "fixed acidity             0.127766            0.042825\n",
       "chlorides                 0.119770            0.701036"
      ]
     },
     "execution_count": 189,
     "metadata": {},
     "output_type": "execute_result"
    }
   ],
   "source": [
    "features_df_SVC"
   ]
  },
  {
   "cell_type": "code",
   "execution_count": 190,
   "metadata": {},
   "outputs": [],
   "source": [
    "# using a colormap\n",
    "seismic = cm.get_cmap('seismic', 20)"
   ]
  },
  {
   "cell_type": "code",
   "execution_count": 191,
   "metadata": {},
   "outputs": [
    {
     "data": {
      "image/png": "[encoded data removed]",
      "text/plain": [
       "<Figure size 864x432 with 1 Axes>"
      ]
     },
     "metadata": {},
     "output_type": "display_data"
    }
   ],
   "source": [
    "# Visualize feature correlations and importance\n",
    "\n",
    "features_df_SVC.plot(kind=\"barh\", legend=True, label=True, figsize=(12,6), colormap=seismic)\n",
    "plt.legend(bbox_to_anchor=(1, 1), fontsize=12)\n",
    "plt.title(\"Feature Importance vs Corr (SVC model)\", fontsize=16)\n",
    "plt.yticks(fontsize=12)\n",
    "plt.tight_layout()\n",
    "# plt.savefig(\"importance_vs_corr_SVC.png\", dpi=400)"
   ]
  },
  {
   "cell_type": "markdown",
   "metadata": {},
   "source": [
    "As we can see atributes with highest feature importance are chlorides and total sulfur dioxide. These results show that the features with high correlation with the target actually do not have the highest feature importance."
   ]
  },
  {
   "cell_type": "markdown",
   "metadata": {},
   "source": [
    "### 6.1 Fine tune RFC"
   ]
  },
  {
   "cell_type": "code",
   "execution_count": 192,
   "metadata": {},
   "outputs": [
    {
     "name": "stdout",
     "output_type": "stream",
     "text": [
      "Best: 0.631664 using {'max_depth': 8, 'max_features': 6, 'min_samples_leaf': 8}\n",
      "0.626168 (0.044713) with: {'max_depth': 8, 'max_features': 2, 'min_samples_leaf': 8}\n",
      "0.629320 (0.044640) with: {'max_depth': 8, 'max_features': 4, 'min_samples_leaf': 8}\n",
      "0.631664 (0.032988) with: {'max_depth': 8, 'max_features': 6, 'min_samples_leaf': 8}\n"
     ]
    }
   ],
   "source": [
    "\n",
    "max_depth = [8] # The lower the higher regularization \n",
    "# n_estimators = [50,100,150]\n",
    "max_features = [2,4,6] # The lower the higher regularization \n",
    "min_samples_leaf = [8] # [2, 6, 12, 20] The higher the higher the regularization\n",
    "\n",
    "param_grid = dict(max_depth=max_depth, min_samples_leaf=min_samples_leaf, max_features=max_features)\n",
    "\n",
    "\n",
    "model = RandomForestClassifier()\n",
    "SKF = StratifiedKFold(n_splits=12, random_state=10)\n",
    "grid = GridSearchCV(estimator=model, param_grid=param_grid, scoring=\"f1_micro\", cv=SKF)\n",
    "grid_result = grid.fit(X_train_rescaled, y_train)\n",
    "print(\"Best: %f using %s\" % (grid_result.best_score_, grid_result.best_params_))\n",
    "means = grid_result.cv_results_['mean_test_score']\n",
    "stds = grid_result.cv_results_['std_test_score']\n",
    "params = grid_result.cv_results_['params']\n",
    "for mean, stdev, param in zip(means, stds, params):\n",
    "    print(\"%f (%f) with: %r\" % (mean, stdev, param))\n"
   ]
  },
  {
   "cell_type": "code",
   "execution_count": 193,
   "metadata": {},
   "outputs": [
    {
     "data": {
      "text/plain": [
       "RandomForestClassifier(bootstrap=True, ccp_alpha=0.0, class_weight=None,\n",
       "                       criterion='gini', max_depth=3, max_features=4,\n",
       "                       max_leaf_nodes=None, max_samples=None,\n",
       "                       min_impurity_decrease=0.0, min_impurity_split=None,\n",
       "                       min_samples_leaf=3, min_samples_split=2,\n",
       "                       min_weight_fraction_leaf=0.0, n_estimators=100,\n",
       "                       n_jobs=None, oob_score=False, random_state=None,\n",
       "                       verbose=0, warm_start=False)"
      ]
     },
     "execution_count": 193,
     "metadata": {},
     "output_type": "execute_result"
    }
   ],
   "source": [
    "RFC =  RandomForestClassifier(max_depth=3, max_features=4, min_samples_leaf=3)\n",
    "RFC.fit(X_train_rescaled, y_train)"
   ]
  },
  {
   "cell_type": "markdown",
   "metadata": {},
   "source": [
    "### 6.2 Evaluating RFC"
   ]
  },
  {
   "cell_type": "code",
   "execution_count": 194,
   "metadata": {},
   "outputs": [
    {
     "data": {
      "text/plain": [
       "0.6183385579937304"
      ]
     },
     "execution_count": 194,
     "metadata": {},
     "output_type": "execute_result"
    }
   ],
   "source": [
    "RFC.score(X_train_rescaled,y_train)"
   ]
  },
  {
   "cell_type": "code",
   "execution_count": 195,
   "metadata": {},
   "outputs": [
    {
     "data": {
      "text/plain": [
       "0.615625"
      ]
     },
     "execution_count": 195,
     "metadata": {},
     "output_type": "execute_result"
    }
   ],
   "source": [
    "RFC.score(X_test_rescaled,y_test)"
   ]
  },
  {
   "cell_type": "code",
   "execution_count": 196,
   "metadata": {},
   "outputs": [
    {
     "name": "stdout",
     "output_type": "stream",
     "text": [
      "=====================\n",
      "F1_score:\n",
      "\n",
      "0.615625\n",
      "=====================\n",
      "Confusion Matrix:\n",
      "\n",
      "[[  0   0   1   1   0   0]\n",
      " [  0   0   4   2   0   0]\n",
      " [  0   0 105  42   1   0]\n",
      " [  0   0  37  83   5   0]\n",
      " [  0   0   0  26   9   0]\n",
      " [  0   0   0   4   0   0]]\n",
      "\n",
      "=================\n",
      "Classification Report:\n",
      "\n",
      "              precision    recall  f1-score   support\n",
      "\n",
      "           0       0.00      0.00      0.00         2\n",
      "           1       0.00      0.00      0.00         6\n",
      "           2       0.71      0.71      0.71       148\n",
      "           3       0.53      0.66      0.59       125\n",
      "           4       0.60      0.26      0.36        35\n",
      "           5       0.00      0.00      0.00         4\n",
      "\n",
      "    accuracy                           0.62       320\n",
      "   macro avg       0.31      0.27      0.28       320\n",
      "weighted avg       0.60      0.62      0.60       320\n",
      "\n"
     ]
    }
   ],
   "source": [
    "y_preds = RFC.predict(X_test_rescaled)\n",
    "print(\"=====================\\nF1_score:\\n\")\n",
    "print(m.f1_score(y_test, y_preds, average='micro'))\n",
    "print(\"=====================\\nConfusion Matrix:\\n\")\n",
    "print(m.confusion_matrix(y_test, y_preds))\n",
    "print(\"\\n=================\\nClassification Report:\\n\")\n",
    "print(m.classification_report(y_test, y_preds))"
   ]
  },
  {
   "cell_type": "code",
   "execution_count": 197,
   "metadata": {},
   "outputs": [],
   "source": [
    "# Feature Importance. Random Forests make easy to measure the relative importance of each feature ✔\n",
    "feature_imp = RFC.feature_importances_"
   ]
  },
  {
   "cell_type": "code",
   "execution_count": 198,
   "metadata": {},
   "outputs": [],
   "source": [
    "features_dict_RFC = dict(zip(top8_corr.index, list(feature_imp)))\n",
    "features_imp_df_RFC = pd.DataFrame(features_dict_RFC, index=[\"feature_importance\"]).T"
   ]
  },
  {
   "cell_type": "code",
   "execution_count": 199,
   "metadata": {},
   "outputs": [],
   "source": [
    "top8_corr.columns = [\"feature_corr\"]"
   ]
  },
  {
   "cell_type": "code",
   "execution_count": 200,
   "metadata": {},
   "outputs": [],
   "source": [
    "features_df_RFC = pd.concat([top8_corr, features_imp_df_RFC], axis=1)"
   ]
  },
  {
   "cell_type": "code",
   "execution_count": 201,
   "metadata": {},
   "outputs": [
    {
     "data": {
      "text/html": [
       "<div>\n",
       "<style scoped>\n",
       "    .dataframe tbody tr th:only-of-type {\n",
       "        vertical-align: middle;\n",
       "    }\n",
       "\n",
       "    .dataframe tbody tr th {\n",
       "        vertical-align: top;\n",
       "    }\n",
       "\n",
       "    .dataframe thead th {\n",
       "        text-align: right;\n",
       "    }\n",
       "</style>\n",
       "<table border=\"1\" class=\"dataframe\">\n",
       "  <thead>\n",
       "    <tr style=\"text-align: right;\">\n",
       "      <th></th>\n",
       "      <th>feature_corr</th>\n",
       "      <th>feature_importance</th>\n",
       "    </tr>\n",
       "  </thead>\n",
       "  <tbody>\n",
       "    <tr>\n",
       "      <th>alcohol</th>\n",
       "      <td>0.480738</td>\n",
       "      <td>0.473950</td>\n",
       "    </tr>\n",
       "    <tr>\n",
       "      <th>volatile acidity</th>\n",
       "      <td>0.391735</td>\n",
       "      <td>0.167370</td>\n",
       "    </tr>\n",
       "    <tr>\n",
       "      <th>sulphate_by_chloride</th>\n",
       "      <td>0.363317</td>\n",
       "      <td>0.176698</td>\n",
       "    </tr>\n",
       "    <tr>\n",
       "      <th>citric acid</th>\n",
       "      <td>0.233733</td>\n",
       "      <td>0.021761</td>\n",
       "    </tr>\n",
       "    <tr>\n",
       "      <th>total sulfur dioxide</th>\n",
       "      <td>0.185404</td>\n",
       "      <td>0.101828</td>\n",
       "    </tr>\n",
       "    <tr>\n",
       "      <th>density</th>\n",
       "      <td>0.173251</td>\n",
       "      <td>0.032185</td>\n",
       "    </tr>\n",
       "    <tr>\n",
       "      <th>fixed acidity</th>\n",
       "      <td>0.127766</td>\n",
       "      <td>0.019641</td>\n",
       "    </tr>\n",
       "    <tr>\n",
       "      <th>chlorides</th>\n",
       "      <td>0.119770</td>\n",
       "      <td>0.006567</td>\n",
       "    </tr>\n",
       "  </tbody>\n",
       "</table>\n",
       "</div>"
      ],
      "text/plain": [
       "                      feature_corr  feature_importance\n",
       "alcohol                   0.480738            0.473950\n",
       "volatile acidity          0.391735            0.167370\n",
       "sulphate_by_chloride      0.363317            0.176698\n",
       "citric acid               0.233733            0.021761\n",
       "total sulfur dioxide      0.185404            0.101828\n",
       "density                   0.173251            0.032185\n",
       "fixed acidity             0.127766            0.019641\n",
       "chlorides                 0.119770            0.006567"
      ]
     },
     "execution_count": 201,
     "metadata": {},
     "output_type": "execute_result"
    }
   ],
   "source": [
    "features_df_RFC"
   ]
  },
  {
   "cell_type": "code",
   "execution_count": 202,
   "metadata": {},
   "outputs": [
    {
     "data": {
      "image/png": "[encoded data removed]",
      "text/plain": [
       "<Figure size 864x432 with 1 Axes>"
      ]
     },
     "metadata": {},
     "output_type": "display_data"
    }
   ],
   "source": [
    "# Visualize feature correlations and importance\n",
    "\n",
    "features_df_RFC.plot(kind=\"barh\", legend=True, label=True, figsize=(12,6), colormap=seismic)\n",
    "plt.legend(bbox_to_anchor=(1, 1), fontsize=12)\n",
    "plt.title(\"Feature Importance vs Corr (RFC model)\", fontsize=16)\n",
    "plt.yticks(fontsize=12)\n",
    "plt.tight_layout()\n",
    "# plt.savefig(\"importance_vs_corr_RFC.png\", dpi=400)"
   ]
  },
  {
   "cell_type": "markdown",
   "metadata": {},
   "source": [
    "It appears that unlike the SVC algo, feature importance of the RFC has a strong association with the feature correlations with the target"
   ]
  },
  {
   "cell_type": "markdown",
   "metadata": {},
   "source": [
    "### 7.1 Fine tune ExtraTreesClassifier (ETC)"
   ]
  },
  {
   "cell_type": "code",
   "execution_count": 203,
   "metadata": {},
   "outputs": [
    {
     "name": "stdout",
     "output_type": "stream",
     "text": [
      "Best: 0.616793 using {'max_depth': 8, 'max_features': 6, 'min_samples_leaf': 8}\n",
      "0.590056 (0.039913) with: {'max_depth': 8, 'max_features': 2, 'min_samples_leaf': 8}\n",
      "0.612039 (0.042880) with: {'max_depth': 8, 'max_features': 4, 'min_samples_leaf': 8}\n",
      "0.616793 (0.041843) with: {'max_depth': 8, 'max_features': 6, 'min_samples_leaf': 8}\n"
     ]
    }
   ],
   "source": [
    " \n",
    "max_depth = [8] # The lower the higher regularization \n",
    "# n_estimators = [50,100,150]\n",
    "max_features = [2,4,6] # The lower the higher regularization \n",
    "min_samples_leaf = [8] # [2, 6, 12, 20] The higher the higher the regularization\n",
    "\n",
    "param_grid = dict(max_depth=max_depth, min_samples_leaf=min_samples_leaf, max_features=max_features)\n",
    "\n",
    "model = ExtraTreesClassifier()\n",
    "SKF = StratifiedKFold(n_splits=12, random_state=10)\n",
    "grid = GridSearchCV(estimator=model, param_grid=param_grid, scoring=\"f1_micro\", cv=SKF)\n",
    "grid_result = grid.fit(X_train_rescaled, y_train)\n",
    "print(\"Best: %f using %s\" % (grid_result.best_score_, grid_result.best_params_))\n",
    "means = grid_result.cv_results_['mean_test_score']\n",
    "stds = grid_result.cv_results_['std_test_score']\n",
    "params = grid_result.cv_results_['params']\n",
    "for mean, stdev, param in zip(means, stds, params):\n",
    "    print(\"%f (%f) with: %r\" % (mean, stdev, param))\n"
   ]
  },
  {
   "cell_type": "code",
   "execution_count": 204,
   "metadata": {},
   "outputs": [
    {
     "data": {
      "text/plain": [
       "ExtraTreesClassifier(bootstrap=False, ccp_alpha=0.0, class_weight=None,\n",
       "                     criterion='gini', max_depth=10, max_features=8,\n",
       "                     max_leaf_nodes=None, max_samples=None,\n",
       "                     min_impurity_decrease=0.0, min_impurity_split=None,\n",
       "                     min_samples_leaf=3, min_samples_split=2,\n",
       "                     min_weight_fraction_leaf=0.0, n_estimators=100,\n",
       "                     n_jobs=None, oob_score=False, random_state=None, verbose=0,\n",
       "                     warm_start=False)"
      ]
     },
     "execution_count": 204,
     "metadata": {},
     "output_type": "execute_result"
    }
   ],
   "source": [
    "ETC =  ExtraTreesClassifier(max_depth=10, max_features=8, min_samples_leaf=3)\n",
    "ETC.fit(X_train_rescaled, y_train)"
   ]
  },
  {
   "cell_type": "markdown",
   "metadata": {},
   "source": [
    "### 7.2 Evaluating ETC"
   ]
  },
  {
   "cell_type": "code",
   "execution_count": 205,
   "metadata": {},
   "outputs": [
    {
     "data": {
      "text/plain": [
       "0.8495297805642633"
      ]
     },
     "execution_count": 205,
     "metadata": {},
     "output_type": "execute_result"
    }
   ],
   "source": [
    "ETC.score(X_train_rescaled,y_train)"
   ]
  },
  {
   "cell_type": "code",
   "execution_count": 206,
   "metadata": {},
   "outputs": [
    {
     "data": {
      "text/plain": [
       "0.68125"
      ]
     },
     "execution_count": 206,
     "metadata": {},
     "output_type": "execute_result"
    }
   ],
   "source": [
    "ETC.score(X_test_rescaled,y_test)"
   ]
  },
  {
   "cell_type": "code",
   "execution_count": 207,
   "metadata": {},
   "outputs": [
    {
     "name": "stdout",
     "output_type": "stream",
     "text": [
      "=====================\n",
      "F1_score:\n",
      "\n",
      "0.68125\n",
      "=====================\n",
      "Confusion Matrix:\n",
      "\n",
      "[[  0   0   1   1   0   0]\n",
      " [  0   0   3   3   0   0]\n",
      " [  0   0 110  36   2   0]\n",
      " [  0   0  31  86   8   0]\n",
      " [  0   0   0  13  22   0]\n",
      " [  0   0   0   3   1   0]]\n",
      "\n",
      "=================\n",
      "Classification Report:\n",
      "\n",
      "              precision    recall  f1-score   support\n",
      "\n",
      "           0       0.00      0.00      0.00         2\n",
      "           1       0.00      0.00      0.00         6\n",
      "           2       0.76      0.74      0.75       148\n",
      "           3       0.61      0.69      0.64       125\n",
      "           4       0.67      0.63      0.65        35\n",
      "           5       0.00      0.00      0.00         4\n",
      "\n",
      "    accuracy                           0.68       320\n",
      "   macro avg       0.34      0.34      0.34       320\n",
      "weighted avg       0.66      0.68      0.67       320\n",
      "\n"
     ]
    }
   ],
   "source": [
    "y_preds = ETC.predict(X_test_rescaled)\n",
    "print(\"=====================\\nF1_score:\\n\")\n",
    "print(m.f1_score(y_test, y_preds, average='micro'))\n",
    "print(\"=====================\\nConfusion Matrix:\\n\")\n",
    "print(m.confusion_matrix(y_test, y_preds))\n",
    "print(\"\\n=================\\nClassification Report:\\n\")\n",
    "print(m.classification_report(y_test, y_preds))"
   ]
  },
  {
   "cell_type": "markdown",
   "metadata": {},
   "source": [
    "### 8.1 Fine tune XGB Classifier"
   ]
  },
  {
   "cell_type": "code",
   "execution_count": 208,
   "metadata": {},
   "outputs": [
    {
     "name": "stdout",
     "output_type": "stream",
     "text": [
      "Best: 0.654492 using {'learning_rate': 0.05, 'max_depth': 8, 'min_child_weight': 1}\n",
      "0.654492 (0.048773) with: {'learning_rate': 0.05, 'max_depth': 8, 'min_child_weight': 1}\n",
      "0.638012 (0.039646) with: {'learning_rate': 0.05, 'max_depth': 8, 'min_child_weight': 2}\n",
      "0.641884 (0.039912) with: {'learning_rate': 0.05, 'max_depth': 8, 'min_child_weight': 11}\n"
     ]
    }
   ],
   "source": [
    "max_depth = [8] # ,4,8,16]\n",
    "learning_rate = [0.05] # 0.03, 0.05\n",
    "min_child_weight = [1, 2, 11]\n",
    "\n",
    "param_grid = dict(max_depth=max_depth, learning_rate=learning_rate, min_child_weight=min_child_weight)\n",
    "\n",
    "model = xgb.XGBClassifier()\n",
    "SKF = StratifiedKFold(n_splits=12, random_state=10)\n",
    "grid = GridSearchCV(estimator=model, param_grid=param_grid, scoring=\"f1_micro\", cv=SKF)\n",
    "grid_result = grid.fit(X_train_rescaled, y_train)\n",
    "print(\"Best: %f using %s\" % (grid_result.best_score_, grid_result.best_params_))\n",
    "means = grid_result.cv_results_['mean_test_score']\n",
    "stds = grid_result.cv_results_['std_test_score']\n",
    "params = grid_result.cv_results_['params']\n",
    "for mean, stdev, param in zip(means, stds, params):\n",
    "    print(\"%f (%f) with: %r\" % (mean, stdev, param))"
   ]
  },
  {
   "cell_type": "code",
   "execution_count": 209,
   "metadata": {},
   "outputs": [
    {
     "data": {
      "text/plain": [
       "XGBClassifier(base_score=0.5, booster='gbtree', colsample_bylevel=1,\n",
       "              colsample_bynode=1, colsample_bytree=1, gamma=0,\n",
       "              learning_rate=0.045, max_delta_step=0, max_depth=4,\n",
       "              min_child_weight=11, missing=None, n_estimators=100, n_jobs=1,\n",
       "              nthread=None, objective='multi:softprob', random_state=0,\n",
       "              reg_alpha=0, reg_lambda=1, scale_pos_weight=1, seed=None,\n",
       "              silent=None, subsample=1, verbosity=1)"
      ]
     },
     "execution_count": 209,
     "metadata": {},
     "output_type": "execute_result"
    }
   ],
   "source": [
    "xgboost = xgb.XGBClassifier(max_depth=4, learning_rate=0.045, min_child_weight=11)\n",
    "xgboost.fit(X_train_rescaled,y_train)"
   ]
  },
  {
   "cell_type": "markdown",
   "metadata": {},
   "source": [
    "### 8.2 Evaluating XGB Classifier"
   ]
  },
  {
   "cell_type": "code",
   "execution_count": 210,
   "metadata": {},
   "outputs": [
    {
     "data": {
      "text/plain": [
       "0.7170846394984326"
      ]
     },
     "execution_count": 210,
     "metadata": {},
     "output_type": "execute_result"
    }
   ],
   "source": [
    "xgboost.score(X_train_rescaled,y_train)"
   ]
  },
  {
   "cell_type": "code",
   "execution_count": 211,
   "metadata": {},
   "outputs": [
    {
     "data": {
      "text/plain": [
       "0.625"
      ]
     },
     "execution_count": 211,
     "metadata": {},
     "output_type": "execute_result"
    }
   ],
   "source": [
    "xgboost.score(X_test_rescaled,y_test)"
   ]
  },
  {
   "cell_type": "code",
   "execution_count": 212,
   "metadata": {},
   "outputs": [
    {
     "name": "stdout",
     "output_type": "stream",
     "text": [
      "=====================\n",
      "F1_score:\n",
      "\n",
      "0.625\n",
      "=====================\n",
      "Confusion Matrix:\n",
      "\n",
      "[[  0   0   1   1   0   0]\n",
      " [  0   0   3   3   0   0]\n",
      " [  0   0 106  41   1   0]\n",
      " [  0   0  36  79  10   0]\n",
      " [  0   0   0  20  15   0]\n",
      " [  0   0   0   3   1   0]]\n",
      "\n",
      "=================\n",
      "Classification Report:\n",
      "\n",
      "              precision    recall  f1-score   support\n",
      "\n",
      "           0       0.00      0.00      0.00         2\n",
      "           1       0.00      0.00      0.00         6\n",
      "           2       0.73      0.72      0.72       148\n",
      "           3       0.54      0.63      0.58       125\n",
      "           4       0.56      0.43      0.48        35\n",
      "           5       0.00      0.00      0.00         4\n",
      "\n",
      "    accuracy                           0.62       320\n",
      "   macro avg       0.30      0.30      0.30       320\n",
      "weighted avg       0.61      0.62      0.61       320\n",
      "\n"
     ]
    }
   ],
   "source": [
    "y_preds = xgboost.predict(X_test_rescaled)\n",
    "print(\"=====================\\nF1_score:\\n\")\n",
    "print(m.f1_score(y_test, y_preds, average='micro'))\n",
    "print(\"=====================\\nConfusion Matrix:\\n\")\n",
    "print(m.confusion_matrix(y_test, y_preds))\n",
    "print(\"\\n=================\\nClassification Report:\\n\")\n",
    "print(m.classification_report(y_test, y_preds))"
   ]
  },
  {
   "cell_type": "markdown",
   "metadata": {},
   "source": [
    "## 9 Ensemble model based on SVC, RFC and ETC using voting classifier"
   ]
  },
  {
   "cell_type": "code",
   "execution_count": 213,
   "metadata": {},
   "outputs": [
    {
     "data": {
      "text/plain": [
       "VotingClassifier(estimators=[('rfc',\n",
       "                              RandomForestClassifier(bootstrap=True,\n",
       "                                                     ccp_alpha=0.0,\n",
       "                                                     class_weight=None,\n",
       "                                                     criterion='gini',\n",
       "                                                     max_depth=3,\n",
       "                                                     max_features=4,\n",
       "                                                     max_leaf_nodes=None,\n",
       "                                                     max_samples=None,\n",
       "                                                     min_impurity_decrease=0.0,\n",
       "                                                     min_impurity_split=None,\n",
       "                                                     min_samples_leaf=3,\n",
       "                                                     min_samples_split=2,\n",
       "                                                     min_weight_fraction_leaf=0.0,\n",
       "                                                     n_estimators=100,\n",
       "                                                     n_jobs=None,\n",
       "                                                     oob_score=False,...\n",
       "                                            colsample_bynode=1,\n",
       "                                            colsample_bytree=1, gamma=0,\n",
       "                                            learning_rate=0.045,\n",
       "                                            max_delta_step=0, max_depth=4,\n",
       "                                            min_child_weight=11, missing=None,\n",
       "                                            n_estimators=100, n_jobs=1,\n",
       "                                            nthread=None,\n",
       "                                            objective='multi:softprob',\n",
       "                                            random_state=0, reg_alpha=0,\n",
       "                                            reg_lambda=1, scale_pos_weight=1,\n",
       "                                            seed=None, silent=None, subsample=1,\n",
       "                                            verbosity=1))],\n",
       "                 flatten_transform=True, n_jobs=None, voting='soft',\n",
       "                 weights=None)"
      ]
     },
     "execution_count": 213,
     "metadata": {},
     "output_type": "execute_result"
    }
   ],
   "source": [
    "voting_clf = VotingClassifier(\n",
    "estimators=[('rfc', RFC), ('svc', SVC_rbf),(\"etc\", ETC), (\"xgbc\", xgboost)],\n",
    "voting='soft')\n",
    "voting_clf.fit(X_train_rescaled, y_train)"
   ]
  },
  {
   "cell_type": "markdown",
   "metadata": {},
   "source": [
    "#### Evaluation performance"
   ]
  },
  {
   "cell_type": "code",
   "execution_count": 214,
   "metadata": {},
   "outputs": [
    {
     "data": {
      "text/plain": [
       "0.7163009404388715"
      ]
     },
     "execution_count": 214,
     "metadata": {},
     "output_type": "execute_result"
    }
   ],
   "source": [
    "voting_clf.score(X_train_rescaled,y_train)"
   ]
  },
  {
   "cell_type": "code",
   "execution_count": 215,
   "metadata": {},
   "outputs": [
    {
     "data": {
      "text/plain": [
       "0.640625"
      ]
     },
     "execution_count": 215,
     "metadata": {},
     "output_type": "execute_result"
    }
   ],
   "source": [
    "voting_clf.score(X_test_rescaled,y_test)"
   ]
  },
  {
   "cell_type": "code",
   "execution_count": 216,
   "metadata": {},
   "outputs": [
    {
     "data": {
      "text/plain": [
       "[0.628125, 0.628125, 0.69375, 0.625]"
      ]
     },
     "execution_count": 216,
     "metadata": {},
     "output_type": "execute_result"
    }
   ],
   "source": [
    "[estimator.score(X_test_rescaled, y_test) for estimator in voting_clf.estimators_]"
   ]
  },
  {
   "cell_type": "code",
   "execution_count": 217,
   "metadata": {},
   "outputs": [
    {
     "data": {
      "text/plain": [
       "[0.6230407523510971, 0.658307210031348, 0.8518808777429467, 0.7170846394984326]"
      ]
     },
     "execution_count": 217,
     "metadata": {},
     "output_type": "execute_result"
    }
   ],
   "source": [
    "[estimator.score(X_train_rescaled, y_train) for estimator in voting_clf.estimators_]"
   ]
  },
  {
   "cell_type": "code",
   "execution_count": 218,
   "metadata": {},
   "outputs": [
    {
     "name": "stdout",
     "output_type": "stream",
     "text": [
      "=====================\n",
      "F1_score:\n",
      "\n",
      "0.640625\n",
      "=====================\n",
      "Accuracy Score:\n",
      "\n",
      "0.640625\n",
      "=====================\n",
      "Confusion Matrix:\n",
      "\n",
      "[[  0   0   2   0   0   0]\n",
      " [  0   0   4   2   0   0]\n",
      " [  0   0 110  37   1   0]\n",
      " [  0   0  34  83   8   0]\n",
      " [  0   0   0  23  12   0]\n",
      " [  0   0   0   3   1   0]]\n",
      "\n",
      "=================\n",
      "Classification Report:\n",
      "\n",
      "              precision    recall  f1-score   support\n",
      "\n",
      "           0       0.00      0.00      0.00         2\n",
      "           1       0.00      0.00      0.00         6\n",
      "           2       0.73      0.74      0.74       148\n",
      "           3       0.56      0.66      0.61       125\n",
      "           4       0.55      0.34      0.42        35\n",
      "           5       0.00      0.00      0.00         4\n",
      "\n",
      "    accuracy                           0.64       320\n",
      "   macro avg       0.31      0.29      0.29       320\n",
      "weighted avg       0.62      0.64      0.63       320\n",
      "\n"
     ]
    }
   ],
   "source": [
    "y_preds = voting_clf.predict(X_test_rescaled)\n",
    "print(\"=====================\\nF1_score:\\n\")\n",
    "print(m.f1_score(y_test, y_preds, average='micro'))\n",
    "print(\"=====================\\nAccuracy Score:\\n\")\n",
    "print(m.accuracy_score(y_test, y_preds))\n",
    "print(\"=====================\\nConfusion Matrix:\\n\")\n",
    "print(m.confusion_matrix(y_test, y_preds))\n",
    "print(\"\\n=================\\nClassification Report:\\n\")\n",
    "print(m.classification_report(y_test, y_preds))"
   ]
  },
  {
   "cell_type": "code",
   "execution_count": 254,
   "metadata": {},
   "outputs": [
    {
     "data": {
      "image/png": "[encoded data removed]",
      "text/plain": [
       "<Figure size 720x504 with 2 Axes>"
      ]
     },
     "metadata": {},
     "output_type": "display_data"
    }
   ],
   "source": [
    "# sns.set(font_scale=1.3) # Increase font size\n",
    "\n",
    "# def plot_conf_mat(y_test, y_preds):\n",
    "#     \"\"\"\n",
    "#     Plots a confusion matrix using Seaborn's heatmap().\n",
    "#     \"\"\"\n",
    "#     fig, ax = plt.subplots(figsize=(8, 8))\n",
    "#     ax = sns.heatmap(confusion_matrix(y_test, y_preds),\n",
    "#                      annot=True, # Annotate the boxes\n",
    "#                      cbar=False)\n",
    "#     plt.xlabel(\"true label\")\n",
    "#     plt.ylabel(\"predicted label\")\n",
    "# #     plt.savefig(\"corr_mat.png\", dpi=300)\n",
    "#     plt.show()\n",
    "    \n",
    "# plot_conf_mat(y_test, y_preds)\n",
    "\n",
    "\n",
    "conf_mx = m.confusion_matrix(y_test, y_preds)\n",
    "\n",
    "plt.figure(figsize = (10,7))\n",
    "sns.heatmap(conf_mx, annot=True, fmt='d', annot_kws={\"fontsize\":16})\n",
    "plt.title(\"Confussion Matrix Ensemble Model\", fontsize=20)\n",
    "plt.xlabel('Predicted', fontsize=16)\n",
    "plt.ylabel('Truth', fontsize=16)\n",
    "plt.xticks(fontsize=14)\n",
    "plt.yticks(fontsize=14)\n",
    "plt.savefig(\"corr_mat.png\", dpi=300)"
   ]
  },
  {
   "cell_type": "markdown",
   "metadata": {},
   "source": [
    "We can also use matshow plot to represent the results from the correlation matrix"
   ]
  },
  {
   "cell_type": "code",
   "execution_count": 220,
   "metadata": {},
   "outputs": [
    {
     "data": {
      "image/png": "[encoded data removed]",
      "text/plain": [
       "<Figure size 576x576 with 1 Axes>"
      ]
     },
     "metadata": {},
     "output_type": "display_data"
    }
   ],
   "source": [
    "plt.rcParams[\"figure.figsize\"] = (8,8)\n",
    "plt.matshow(conf_mx, cmap=plt.cm.gray)\n",
    "plt.annotate(\"107\",(1.8,2.1), color=\"b\", weight='bold', fontsize=22)\n",
    "plt.annotate(\"39\",(2.9,2.1), color=\"w\", weight='bold',fontsize=18)\n",
    "plt.annotate(\"34\",(1.8,3.1), color=\"w\", weight='bold',fontsize=18)\n",
    "plt.annotate(\"84\",(2.9,3.1), color=\"b\", weight='bold',fontsize=20)\n",
    "plt.annotate(\"7\",(3.9,3.1), color=\"w\", weight='bold')\n",
    "plt.annotate(\"13\",(3.9,4.1), color=\"w\", weight='bold')\n",
    "plt.annotate(\"22\",(2.9,4.1), color=\"w\", weight='bold')\n",
    "# plt.savefig(\"matshow.png\", dpi=300)\n",
    "plt.show()\n"
   ]
  },
  {
   "cell_type": "markdown",
   "metadata": {},
   "source": [
    "**Highlighting the errors** produced by the model: We need to divide each value in the confusion matrix by the number of wines in the corresponding class, so you can compare error rates instead of absolute number of errors (which would make abundant classes look unfairly bad). We perform the normalization and plot the results again."
   ]
  },
  {
   "cell_type": "code",
   "execution_count": 221,
   "metadata": {},
   "outputs": [
    {
     "data": {
      "image/png": "[encoded data removed]",
      "text/plain": [
       "<Figure size 720x504 with 2 Axes>"
      ]
     },
     "metadata": {},
     "output_type": "display_data"
    }
   ],
   "source": [
    "row_sums = conf_mx.sum(axis=1, keepdims=True)\n",
    "norm_conf_mx = conf_mx / row_sums\n",
    "plt.figure(figsize = (10,7))\n",
    "sns.heatmap(norm_conf_mx, annot=True, annot_kws={\"fontsize\":16})\n",
    "plt.xlabel('Predicted', fontsize=16)\n",
    "plt.ylabel('Truth', fontsize=16)\n",
    "plt.xticks(fontsize=14)\n",
    "plt.yticks(fontsize=14)\n"
   ]
  },
  {
   "cell_type": "markdown",
   "metadata": {},
   "source": [
    "This diagram shows us that the classess 2 and 3 are the ones that are being missclassified the most."
   ]
  },
  {
   "cell_type": "markdown",
   "metadata": {},
   "source": [
    "We see that we hit a 64% of predictions correcly, and as we can appreciate in the confusion matrix, most of errors fall by one point of quality(+-1), meaning that we can make good use of our model to estimate the quality of red wine.\n",
    "We also observe more false negatives (below the diagonal) than false positives (above the diagonal) meaning that our **precision** is better than our **recall**. Or in other words, our model is more **specific** than **sensitive**."
   ]
  },
  {
   "cell_type": "markdown",
   "metadata": {},
   "source": [
    "ROC Curve (plot of true positive rate versus false positive rate) and AUC (Area Under Curve) Scores¶\n",
    "[see](https://stackoverflow.com/questions/45332410/sklearn-roc-for-multiclass-classification)"
   ]
  },
  {
   "cell_type": "markdown",
   "metadata": {},
   "source": [
    "We have to convert your problem into binary by using OneVsAll approach, so we will end-up with n_class number of ROC curves"
   ]
  },
  {
   "cell_type": "code",
   "execution_count": 222,
   "metadata": {},
   "outputs": [],
   "source": [
    "y_test = label_binarize(y_test, classes=[0,1,2,3,4,5])\n",
    "n_classes = 6"
   ]
  },
  {
   "cell_type": "code",
   "execution_count": 223,
   "metadata": {},
   "outputs": [],
   "source": [
    "y_score = voting_clf.fit(X_train_rescaled, y_train).predict_proba(X_test_rescaled) # for SVC we would have to use decision_function instead of predict_proba"
   ]
  },
  {
   "cell_type": "code",
   "execution_count": 224,
   "metadata": {},
   "outputs": [],
   "source": [
    "# Compute ROC curve and ROC area for each class\n",
    "fpr = dict()\n",
    "tpr = dict()\n",
    "roc_auc = dict()\n",
    "for i in range(n_classes):\n",
    "    fpr[i], tpr[i], _ = roc_curve(y_test[:, i], y_score[:, i])\n",
    "    roc_auc[i] = auc(fpr[i], tpr[i])"
   ]
  },
  {
   "cell_type": "code",
   "execution_count": 225,
   "metadata": {},
   "outputs": [
    {
     "data": {
      "image/png": "[encoded data removed]",
      "text/plain": [
       "<Figure size 432x360 with 1 Axes>"
      ]
     },
     "metadata": {},
     "output_type": "display_data"
    },
    {
     "data": {
      "image/png": "[encoded data removed]",
      "text/plain": [
       "<Figure size 432x360 with 1 Axes>"
      ]
     },
     "metadata": {},
     "output_type": "display_data"
    },
    {
     "data": {
      "image/png": "[encoded data removed]",
      "text/plain": [
       "<Figure size 432x360 with 1 Axes>"
      ]
     },
     "metadata": {},
     "output_type": "display_data"
    },
    {
     "data": {
      "image/png": "[encoded data removed]",
      "text/plain": [
       "<Figure size 432x360 with 1 Axes>"
      ]
     },
     "metadata": {},
     "output_type": "display_data"
    },
    {
     "data": {
      "image/png": "[encoded data removed]",
      "text/plain": [
       "<Figure size 432x360 with 1 Axes>"
      ]
     },
     "metadata": {},
     "output_type": "display_data"
    },
    {
     "data": {
      "image/png": "[encoded data removed]",
      "text/plain": [
       "<Figure size 432x360 with 1 Axes>"
      ]
     },
     "metadata": {},
     "output_type": "display_data"
    }
   ],
   "source": [
    "# Plot of a ROC curve for a specific class\n",
    "plt.rcParams[\"figure.figsize\"] = (6,5)\n",
    "for i in range(n_classes):\n",
    "    plt.figure()\n",
    "    plt.plot(fpr[i], tpr[i], label='ROC curve (AUC = %0.2f)' % roc_auc[i])\n",
    "    plt.plot([0, 1], [0, 1], 'k--')\n",
    "    plt.xlim([0.0, 1.0])\n",
    "    plt.ylim([0.0, 1.05])\n",
    "    plt.xlabel('$False Positive Rate$') # We can use $ to make the font italic\n",
    "    plt.ylabel('$True Positive Rate$')\n",
    "    plt.title('Receiver operating characteristic. Class {}'.format(i))\n",
    "    plt.legend(loc=\"lower right\")\n",
    "    plt.show()"
   ]
  },
  {
   "cell_type": "markdown",
   "metadata": {},
   "source": [
    "We can observe that we have good room for improvement predicting the classes 2 and 3. It appears that the model produced struggles more with the middle values, which was to be be expected"
   ]
  },
  {
   "cell_type": "markdown",
   "metadata": {},
   "source": [
    "## 10. Stacking Ensemble"
   ]
  },
  {
   "cell_type": "markdown",
   "metadata": {},
   "source": [
    "I will also explore the stacking ensemble approach. For this the following steps need to be followed:\n",
    "* Split train set into 2 subsets.\n",
    "* Train the estimators using training subset 1.\n",
    "* We predict the subset 2 using the trained models.\n",
    "* Based on the predictions, we generate another training X set (held_out) that we use to train out blender model"
   ]
  },
  {
   "cell_type": "code",
   "execution_count": 226,
   "metadata": {},
   "outputs": [
    {
     "data": {
      "text/plain": [
       "RandomForestClassifier(bootstrap=True, ccp_alpha=0.0, class_weight=None,\n",
       "                       criterion='gini', max_depth=None, max_features='auto',\n",
       "                       max_leaf_nodes=None, max_samples=None,\n",
       "                       min_impurity_decrease=0.0, min_impurity_split=None,\n",
       "                       min_samples_leaf=1, min_samples_split=2,\n",
       "                       min_weight_fraction_leaf=0.0, n_estimators=100,\n",
       "                       n_jobs=None, oob_score=False, random_state=42, verbose=0,\n",
       "                       warm_start=False)"
      ]
     },
     "execution_count": 226,
     "metadata": {},
     "output_type": "execute_result"
    }
   ],
   "source": [
    "#1) \n",
    "\n",
    "X_train, X_test, y_train, y_test = train_test_split(X, y, random_state=42)\n",
    "X_train_1, X_train_2, y_train_1, y_train_2 = train_test_split(X_train, y_train, random_state=42)\n",
    "\n",
    "#2)\n",
    "SVC_rbf = SVC(kernel=\"rbf\", C=1.5, gamma=0.1, tol=0.001, probability=True)\n",
    "RFC =  RandomForestClassifier(max_depth=3, max_features=4, min_samples_leaf=3)\n",
    "ETC =  ExtraTreesClassifier(max_depth=10, max_features=8, min_samples_leaf=3)\n",
    "xgboost = xgb.XGBClassifier(max_depth=2)\n",
    "\n",
    "blender = RandomForestClassifier(random_state=42)\n",
    "\n",
    "for p in [SVC_rbf, RFC, ETC,xgboost]:\n",
    "    p.fit(X_train_1, y_train_1)\n",
    "    \n",
    "#3)    \n",
    "SVC_rbf_p = SVC_rbf.predict(X_train_2)\n",
    "RFC_p = RFC.predict(X_train_2)\n",
    "ETC_p = ETC.predict(X_train_2)\n",
    "xgboost_p = xgboost.predict(X_train_2)\n",
    "\n",
    "#4)\n",
    "held_out = np.column_stack((SVC_rbf_p, RFC_p, ETC_p, xgboost_p)) \n",
    "blender.fit(held_out, y_train_2)"
   ]
  },
  {
   "cell_type": "code",
   "execution_count": 227,
   "metadata": {},
   "outputs": [
    {
     "data": {
      "text/plain": [
       "0.6215538847117794"
      ]
     },
     "execution_count": 227,
     "metadata": {},
     "output_type": "execute_result"
    }
   ],
   "source": [
    "result_1 = []\n",
    "for p in [SVC_rbf, RFC, ETC, xgboost]:\n",
    "    result_1.append(p.predict(X_test)) \n",
    "    \n",
    "    \"\"\"To check the model performance against the test set we need to obtain a prediction \n",
    "    test obtained from stacking the predictions from each estimator\"\"\"\n",
    "\n",
    "y_pred_s = blender.predict(np.column_stack(tuple(result_1)))\n",
    "accuracy_score(y_test, y_pred_s)"
   ]
  },
  {
   "cell_type": "code",
   "execution_count": 228,
   "metadata": {},
   "outputs": [
    {
     "data": {
      "text/plain": [
       "0.7811194653299917"
      ]
     },
     "execution_count": 228,
     "metadata": {},
     "output_type": "execute_result"
    }
   ],
   "source": [
    "result_2 = []\n",
    "for p in [SVC_rbf, RFC, ETC, xgboost]:\n",
    "    result_2.append(p.predict(X_train))\n",
    "\n",
    "y_pred_s = blender.predict(np.column_stack(tuple(result_2)))\n",
    "accuracy_score(y_train, y_pred_s)"
   ]
  },
  {
   "cell_type": "markdown",
   "metadata": {},
   "source": [
    "With the stacking ensemble approach we obtained a blender that performed worse than using Voting Classifier."
   ]
  },
  {
   "cell_type": "markdown",
   "metadata": {},
   "source": [
    "#### Future directions"
   ]
  },
  {
   "cell_type": "markdown",
   "metadata": {},
   "source": [
    "How can we improve the model? \n",
    "* **Gather more training data**. In particular for the classes 2 and 3\n",
    "* Include features that are more specific for these classess\n",
    "* Since classess 2 and 3 are not being satisfactorialy separated by our algo, we could consider grouping them both into one \"middle quality\" category"
   ]
  },
  {
   "cell_type": "markdown",
   "metadata": {},
   "source": [
    "## 11. Designing a Neural Network (NN) to tackle this problem:\n",
    "As a last part for this proyect, I will design a NN able to tackle this problem. This dataset is small, and it is known that NN work best when lost of data is fed to them, but lets explore the performance of a NN in this case."
   ]
  },
  {
   "cell_type": "markdown",
   "metadata": {},
   "source": [
    "### 11.1 Split the data"
   ]
  },
  {
   "cell_type": "code",
   "execution_count": 229,
   "metadata": {},
   "outputs": [],
   "source": [
    "X_train_full = strat_train_set.drop(\"quality\", axis=1)\n",
    "y_train_full = strat_train_set[\"quality\"].values"
   ]
  },
  {
   "cell_type": "code",
   "execution_count": 230,
   "metadata": {},
   "outputs": [],
   "source": [
    "X_test = strat_test_set.drop(\"quality\", axis=1)\n",
    "y_test = strat_test_set[\"quality\"].values"
   ]
  },
  {
   "cell_type": "code",
   "execution_count": 231,
   "metadata": {},
   "outputs": [],
   "source": [
    "X_train = X_train_full[300:]\n",
    "X_valid = X_train_full[:300]\n",
    "y_train = y_train_full[300:]\n",
    "y_valid = y_train_full[:300]"
   ]
  },
  {
   "cell_type": "code",
   "execution_count": 232,
   "metadata": {},
   "outputs": [],
   "source": [
    "scaler = StandardScaler()\n",
    "X_train = scaler.fit_transform(X_train)\n",
    "X_valid = scaler.transform(X_valid)\n",
    "X_test = scaler.transform(X_test)"
   ]
  },
  {
   "cell_type": "code",
   "execution_count": 233,
   "metadata": {},
   "outputs": [
    {
     "data": {
      "text/plain": [
       "(1596, 13)"
      ]
     },
     "execution_count": 233,
     "metadata": {},
     "output_type": "execute_result"
    }
   ],
   "source": [
    "df.shape"
   ]
  },
  {
   "cell_type": "code",
   "execution_count": 234,
   "metadata": {},
   "outputs": [
    {
     "data": {
      "text/plain": [
       "(976, 8)"
      ]
     },
     "execution_count": 234,
     "metadata": {},
     "output_type": "execute_result"
    }
   ],
   "source": [
    "X_train.shape"
   ]
  },
  {
   "cell_type": "code",
   "execution_count": 235,
   "metadata": {},
   "outputs": [
    {
     "data": {
      "text/plain": [
       "(300, 8)"
      ]
     },
     "execution_count": 235,
     "metadata": {},
     "output_type": "execute_result"
    }
   ],
   "source": [
    "X_valid.shape"
   ]
  },
  {
   "cell_type": "code",
   "execution_count": 236,
   "metadata": {},
   "outputs": [
    {
     "data": {
      "text/plain": [
       "(320, 8)"
      ]
     },
     "execution_count": 236,
     "metadata": {},
     "output_type": "execute_result"
    }
   ],
   "source": [
    "X_test.shape"
   ]
  },
  {
   "cell_type": "markdown",
   "metadata": {},
   "source": [
    "### 11.2 Design and train the NN"
   ]
  },
  {
   "cell_type": "code",
   "execution_count": 237,
   "metadata": {},
   "outputs": [],
   "source": [
    "# 1) Model. NN are prone to overfitting some we need some regularization mechanisms in place\n",
    "\n",
    "model = keras.models.Sequential([\n",
    "keras.layers.Input(shape=(8,)),\n",
    "keras.layers.Dense(300, activation=\"selu\",  kernel_regularizer=keras.regularizers.l2(0.01)),\n",
    "keras.layers.Dense(200, activation=\"selu\", kernel_regularizer=keras.regularizers.l2(0.01)),\n",
    "keras.layers.Dense(100, activation=\"selu\",  kernel_regularizer=keras.regularizers.l2(0.01)),\n",
    "keras.layers.Dense(50, activation=\"selu\",  kernel_regularizer=keras.regularizers.l2(0.01)),\n",
    "keras.layers.Dropout(rate=0.2),\n",
    "keras.layers.Dense(6, activation=\"softmax\")\n",
    "])"
   ]
  },
  {
   "cell_type": "code",
   "execution_count": 238,
   "metadata": {},
   "outputs": [],
   "source": [
    "# 2) compile\n",
    "\n",
    "model.compile(loss=\"sparse_categorical_crossentropy\",\n",
    "              optimizer= keras.optimizers.SGD(lr=0.005),\n",
    "              metrics=[\"accuracy\"])"
   ]
  },
  {
   "cell_type": "code",
   "execution_count": 239,
   "metadata": {},
   "outputs": [],
   "source": [
    "# 3) track the fitting process\n",
    "# 1) Let’s start by defining the root log directory we will use for our TensorBoard logs\n",
    "root_logdir = os.path.join(os.curdir, \"my_logs\")\n",
    "# 2) plus a small function that generates a subdirectory path for the current datetime so that it’s different at every run\n",
    "def get_run_logdir():\n",
    "    import time\n",
    "    run_id = time.strftime(\"run_SGD%Y_%m_%d-%H_%M_%S\")\n",
    "    return os.path.join(root_logdir, run_id)\n",
    "\n",
    "run_logdir = get_run_logdir()"
   ]
  },
  {
   "cell_type": "code",
   "execution_count": 257,
   "metadata": {},
   "outputs": [
    {
     "name": "stdout",
     "output_type": "stream",
     "text": [
      "The tensorboard extension is already loaded. To reload it, use:\n",
      "  %reload_ext tensorboard\n"
     ]
    },
    {
     "data": {
      "text/plain": [
       "Reusing TensorBoard on port 6006 (pid 8332), started 0:00:58 ago. (Use '!kill 8332' to kill it.)"
      ]
     },
     "metadata": {},
     "output_type": "display_data"
    },
    {
     "data": {
      "text/html": [
       "\n",
       "      <iframe id=\"tensorboard-frame-b15eaacc36348e7f\" width=\"100%\" height=\"800\" frameborder=\"0\">\n",
       "      </iframe>\n",
       "      <script>\n",
       "        (function() {\n",
       "          const frame = document.getElementById(\"tensorboard-frame-b15eaacc36348e7f\");\n",
       "          const url = new URL(\"/\", window.location);\n",
       "          const port = 6006;\n",
       "          if (port) {\n",
       "            url.port = port;\n",
       "          }\n",
       "          frame.src = url;\n",
       "        })();\n",
       "      </script>\n",
       "    "
      ],
      "text/plain": [
       "<IPython.core.display.HTML object>"
      ]
     },
     "metadata": {},
     "output_type": "display_data"
    }
   ],
   "source": [
    "%load_ext tensorboard\n",
    "# %tensorboard --logdir=./my_logs  --host localhost\n",
    "%tensorboard --logdir=./my_logs --port=6006"
   ]
  },
  {
   "cell_type": "code",
   "execution_count": 241,
   "metadata": {},
   "outputs": [
    {
     "name": "stdout",
     "output_type": "stream",
     "text": [
      "Epoch 1/300\n",
      " 2/31 [>.............................] - ETA: 12s - loss: 6.2195 - accuracy: 0.2656WARNING:tensorflow:Callbacks method `on_train_batch_end` is slow compared to the batch time (batch time: 0.0020s vs `on_train_batch_end` time: 0.8651s). Check your callbacks.\n",
      "31/31 [==============================] - 1s 37ms/step - loss: 5.8823 - accuracy: 0.4877 - val_loss: 5.6271 - val_accuracy: 0.5800\n",
      "Epoch 2/300\n",
      "31/31 [==============================] - 0s 4ms/step - loss: 5.5945 - accuracy: 0.5666 - val_loss: 5.5447 - val_accuracy: 0.5600\n",
      "Epoch 3/300\n",
      "31/31 [==============================] - 0s 4ms/step - loss: 5.5251 - accuracy: 0.5686 - val_loss: 5.4923 - val_accuracy: 0.5867\n",
      "Epoch 4/300\n",
      "31/31 [==============================] - 0s 3ms/step - loss: 5.4667 - accuracy: 0.5902 - val_loss: 5.4711 - val_accuracy: 0.5767\n",
      "Epoch 5/300\n",
      "31/31 [==============================] - 0s 3ms/step - loss: 5.4161 - accuracy: 0.5912 - val_loss: 5.4455 - val_accuracy: 0.5800\n",
      "Epoch 6/300\n",
      "31/31 [==============================] - 0s 3ms/step - loss: 5.3787 - accuracy: 0.5891 - val_loss: 5.4164 - val_accuracy: 0.5433\n",
      "Epoch 7/300\n",
      "31/31 [==============================] - 0s 3ms/step - loss: 5.3402 - accuracy: 0.6014 - val_loss: 5.3890 - val_accuracy: 0.5933\n",
      "Epoch 8/300\n",
      "31/31 [==============================] - 0s 3ms/step - loss: 5.3263 - accuracy: 0.5912 - val_loss: 5.3622 - val_accuracy: 0.5767\n",
      "Epoch 9/300\n",
      "31/31 [==============================] - 0s 3ms/step - loss: 5.2728 - accuracy: 0.5973 - val_loss: 5.3217 - val_accuracy: 0.5867\n",
      "Epoch 10/300\n",
      "31/31 [==============================] - 0s 3ms/step - loss: 5.2417 - accuracy: 0.6004 - val_loss: 5.2904 - val_accuracy: 0.5767\n",
      "Epoch 11/300\n",
      "31/31 [==============================] - 0s 3ms/step - loss: 5.2162 - accuracy: 0.5994 - val_loss: 5.2642 - val_accuracy: 0.5767\n",
      "Epoch 12/300\n",
      "31/31 [==============================] - 0s 4ms/step - loss: 5.1775 - accuracy: 0.6045 - val_loss: 5.2341 - val_accuracy: 0.5700\n",
      "Epoch 13/300\n",
      "31/31 [==============================] - 0s 3ms/step - loss: 5.1371 - accuracy: 0.6209 - val_loss: 5.2068 - val_accuracy: 0.5900\n",
      "Epoch 14/300\n",
      "31/31 [==============================] - 0s 3ms/step - loss: 5.1251 - accuracy: 0.5994 - val_loss: 5.1831 - val_accuracy: 0.5767\n",
      "Epoch 15/300\n",
      "31/31 [==============================] - 0s 3ms/step - loss: 5.0909 - accuracy: 0.6025 - val_loss: 5.1499 - val_accuracy: 0.5733\n",
      "Epoch 16/300\n",
      "31/31 [==============================] - 0s 3ms/step - loss: 5.0512 - accuracy: 0.6209 - val_loss: 5.1329 - val_accuracy: 0.5833\n",
      "Epoch 17/300\n",
      "31/31 [==============================] - 0s 3ms/step - loss: 5.0412 - accuracy: 0.5994 - val_loss: 5.1128 - val_accuracy: 0.5667\n",
      "Epoch 18/300\n",
      "31/31 [==============================] - 0s 3ms/step - loss: 5.0139 - accuracy: 0.6025 - val_loss: 5.0776 - val_accuracy: 0.5767\n",
      "Epoch 19/300\n",
      "31/31 [==============================] - 0s 4ms/step - loss: 4.9858 - accuracy: 0.6178 - val_loss: 5.0680 - val_accuracy: 0.5833\n",
      "Epoch 20/300\n",
      "31/31 [==============================] - 0s 3ms/step - loss: 4.9556 - accuracy: 0.6127 - val_loss: 5.0443 - val_accuracy: 0.5633\n",
      "Epoch 21/300\n",
      "31/31 [==============================] - 0s 3ms/step - loss: 4.9253 - accuracy: 0.6148 - val_loss: 5.0022 - val_accuracy: 0.5867\n",
      "Epoch 22/300\n",
      "31/31 [==============================] - 0s 3ms/step - loss: 4.9032 - accuracy: 0.6168 - val_loss: 4.9832 - val_accuracy: 0.5733\n",
      "Epoch 23/300\n",
      "31/31 [==============================] - 0s 3ms/step - loss: 4.8885 - accuracy: 0.6168 - val_loss: 4.9795 - val_accuracy: 0.5533\n",
      "Epoch 24/300\n",
      "31/31 [==============================] - 0s 3ms/step - loss: 4.8343 - accuracy: 0.6322 - val_loss: 4.9374 - val_accuracy: 0.5733\n",
      "Epoch 25/300\n",
      "31/31 [==============================] - 0s 4ms/step - loss: 4.8295 - accuracy: 0.6127 - val_loss: 4.9181 - val_accuracy: 0.5567\n",
      "Epoch 26/300\n",
      "31/31 [==============================] - 0s 4ms/step - loss: 4.7924 - accuracy: 0.6475 - val_loss: 4.8870 - val_accuracy: 0.5633\n",
      "Epoch 27/300\n",
      "31/31 [==============================] - 0s 4ms/step - loss: 4.7757 - accuracy: 0.6250 - val_loss: 4.8630 - val_accuracy: 0.5733\n",
      "Epoch 28/300\n",
      "31/31 [==============================] - 0s 4ms/step - loss: 4.7345 - accuracy: 0.6270 - val_loss: 4.8320 - val_accuracy: 0.5667\n",
      "Epoch 29/300\n",
      "31/31 [==============================] - 0s 2ms/step - loss: 4.7210 - accuracy: 0.6137 - val_loss: 4.8403 - val_accuracy: 0.5600\n",
      "Epoch 30/300\n",
      "31/31 [==============================] - 0s 3ms/step - loss: 4.6910 - accuracy: 0.6230 - val_loss: 4.7984 - val_accuracy: 0.5667\n",
      "Epoch 31/300\n",
      "31/31 [==============================] - 0s 3ms/step - loss: 4.6799 - accuracy: 0.6178 - val_loss: 4.7692 - val_accuracy: 0.6000\n",
      "Epoch 32/300\n",
      "31/31 [==============================] - 0s 4ms/step - loss: 4.6496 - accuracy: 0.6270 - val_loss: 4.7613 - val_accuracy: 0.5567\n",
      "Epoch 33/300\n",
      "31/31 [==============================] - 0s 3ms/step - loss: 4.6181 - accuracy: 0.6311 - val_loss: 4.7278 - val_accuracy: 0.5600\n",
      "Epoch 34/300\n",
      "31/31 [==============================] - 0s 4ms/step - loss: 4.5908 - accuracy: 0.6352 - val_loss: 4.7038 - val_accuracy: 0.5633\n",
      "Epoch 35/300\n",
      "31/31 [==============================] - 0s 5ms/step - loss: 4.5829 - accuracy: 0.6127 - val_loss: 4.6871 - val_accuracy: 0.5767\n",
      "Epoch 36/300\n",
      "31/31 [==============================] - 0s 4ms/step - loss: 4.5480 - accuracy: 0.6486 - val_loss: 4.6523 - val_accuracy: 0.5667\n",
      "Epoch 37/300\n",
      "31/31 [==============================] - 0s 4ms/step - loss: 4.5371 - accuracy: 0.6332 - val_loss: 4.6373 - val_accuracy: 0.5700\n",
      "Epoch 38/300\n",
      "31/31 [==============================] - 0s 3ms/step - loss: 4.5067 - accuracy: 0.6199 - val_loss: 4.6099 - val_accuracy: 0.5700\n",
      "Epoch 39/300\n",
      "31/31 [==============================] - 0s 3ms/step - loss: 4.4896 - accuracy: 0.6455 - val_loss: 4.5849 - val_accuracy: 0.5833\n",
      "Epoch 40/300\n",
      "31/31 [==============================] - 0s 3ms/step - loss: 4.4539 - accuracy: 0.6270 - val_loss: 4.5643 - val_accuracy: 0.5800\n",
      "Epoch 41/300\n",
      "31/31 [==============================] - 0s 3ms/step - loss: 4.4435 - accuracy: 0.6260 - val_loss: 4.5512 - val_accuracy: 0.5833\n",
      "Epoch 42/300\n",
      "31/31 [==============================] - 0s 5ms/step - loss: 4.4112 - accuracy: 0.6311 - val_loss: 4.5433 - val_accuracy: 0.5533\n",
      "Epoch 43/300\n",
      "31/31 [==============================] - 0s 5ms/step - loss: 4.3936 - accuracy: 0.6434 - val_loss: 4.5110 - val_accuracy: 0.5800\n",
      "Epoch 44/300\n",
      "31/31 [==============================] - 0s 4ms/step - loss: 4.3707 - accuracy: 0.6393 - val_loss: 4.4884 - val_accuracy: 0.5567\n",
      "Epoch 45/300\n",
      "31/31 [==============================] - 0s 5ms/step - loss: 4.3620 - accuracy: 0.6209 - val_loss: 4.4601 - val_accuracy: 0.5867\n",
      "Epoch 46/300\n",
      "31/31 [==============================] - 0s 3ms/step - loss: 4.3326 - accuracy: 0.6342 - val_loss: 4.4371 - val_accuracy: 0.5833\n",
      "Epoch 47/300\n",
      "31/31 [==============================] - 0s 3ms/step - loss: 4.3135 - accuracy: 0.6393 - val_loss: 4.4337 - val_accuracy: 0.5567\n",
      "Epoch 48/300\n",
      "31/31 [==============================] - 0s 4ms/step - loss: 4.2831 - accuracy: 0.6301 - val_loss: 4.4000 - val_accuracy: 0.5733\n",
      "Epoch 49/300\n",
      "31/31 [==============================] - 0s 6ms/step - loss: 4.2652 - accuracy: 0.6414 - val_loss: 4.3936 - val_accuracy: 0.5667\n",
      "Epoch 50/300\n",
      "31/31 [==============================] - 0s 5ms/step - loss: 4.2487 - accuracy: 0.6383 - val_loss: 4.3556 - val_accuracy: 0.5800\n",
      "Epoch 51/300\n",
      "31/31 [==============================] - 0s 5ms/step - loss: 4.2313 - accuracy: 0.6311 - val_loss: 4.3373 - val_accuracy: 0.5900\n",
      "Epoch 52/300\n",
      "31/31 [==============================] - 0s 3ms/step - loss: 4.2117 - accuracy: 0.6311 - val_loss: 4.3150 - val_accuracy: 0.5767\n",
      "Epoch 53/300\n",
      "31/31 [==============================] - 0s 3ms/step - loss: 4.1780 - accuracy: 0.6383 - val_loss: 4.2982 - val_accuracy: 0.5533\n",
      "Epoch 54/300\n",
      "31/31 [==============================] - 0s 3ms/step - loss: 4.1559 - accuracy: 0.6373 - val_loss: 4.2784 - val_accuracy: 0.5667\n",
      "Epoch 55/300\n",
      "31/31 [==============================] - 0s 3ms/step - loss: 4.1460 - accuracy: 0.6363 - val_loss: 4.2734 - val_accuracy: 0.5500\n",
      "Epoch 56/300\n",
      "31/31 [==============================] - 0s 3ms/step - loss: 4.1233 - accuracy: 0.6352 - val_loss: 4.2396 - val_accuracy: 0.5967\n",
      "Epoch 57/300\n",
      "31/31 [==============================] - 0s 3ms/step - loss: 4.0952 - accuracy: 0.6486 - val_loss: 4.2283 - val_accuracy: 0.5600\n",
      "Epoch 58/300\n",
      "31/31 [==============================] - 0s 3ms/step - loss: 4.0800 - accuracy: 0.6445 - val_loss: 4.2005 - val_accuracy: 0.5633\n",
      "Epoch 59/300\n",
      "31/31 [==============================] - 0s 3ms/step - loss: 4.0575 - accuracy: 0.6332 - val_loss: 4.1939 - val_accuracy: 0.5633\n",
      "Epoch 60/300\n",
      "31/31 [==============================] - 0s 3ms/step - loss: 4.0388 - accuracy: 0.6547 - val_loss: 4.1787 - val_accuracy: 0.5667\n",
      "Epoch 61/300\n",
      "31/31 [==============================] - 0s 3ms/step - loss: 4.0325 - accuracy: 0.6363 - val_loss: 4.1470 - val_accuracy: 0.5800\n",
      "Epoch 62/300\n",
      "31/31 [==============================] - 0s 3ms/step - loss: 3.9923 - accuracy: 0.6291 - val_loss: 4.1324 - val_accuracy: 0.5667\n",
      "Epoch 63/300\n",
      "31/31 [==============================] - 0s 3ms/step - loss: 3.9874 - accuracy: 0.6434 - val_loss: 4.1101 - val_accuracy: 0.5600\n",
      "Epoch 64/300\n",
      "31/31 [==============================] - 0s 3ms/step - loss: 3.9675 - accuracy: 0.6496 - val_loss: 4.0901 - val_accuracy: 0.5700\n",
      "Epoch 65/300\n",
      "31/31 [==============================] - 0s 3ms/step - loss: 3.9449 - accuracy: 0.6496 - val_loss: 4.0668 - val_accuracy: 0.5833\n",
      "Epoch 66/300\n",
      "31/31 [==============================] - 0s 3ms/step - loss: 3.9263 - accuracy: 0.6332 - val_loss: 4.0537 - val_accuracy: 0.5733\n",
      "Epoch 67/300\n",
      "31/31 [==============================] - 0s 3ms/step - loss: 3.9110 - accuracy: 0.6270 - val_loss: 4.0307 - val_accuracy: 0.5667\n",
      "Epoch 68/300\n",
      "31/31 [==============================] - 0s 3ms/step - loss: 3.8904 - accuracy: 0.6352 - val_loss: 4.0144 - val_accuracy: 0.5933\n",
      "Epoch 69/300\n",
      "31/31 [==============================] - 0s 3ms/step - loss: 3.8727 - accuracy: 0.6455 - val_loss: 3.9921 - val_accuracy: 0.5733\n",
      "Epoch 70/300\n",
      "31/31 [==============================] - 0s 3ms/step - loss: 3.8510 - accuracy: 0.6455 - val_loss: 3.9875 - val_accuracy: 0.5767\n",
      "Epoch 71/300\n",
      "31/31 [==============================] - 0s 3ms/step - loss: 3.8254 - accuracy: 0.6414 - val_loss: 3.9713 - val_accuracy: 0.5767\n",
      "Epoch 72/300\n",
      "31/31 [==============================] - 0s 4ms/step - loss: 3.8158 - accuracy: 0.6434 - val_loss: 3.9493 - val_accuracy: 0.5633\n",
      "Epoch 73/300\n",
      "31/31 [==============================] - 0s 4ms/step - loss: 3.8055 - accuracy: 0.6445 - val_loss: 3.9271 - val_accuracy: 0.5800\n",
      "Epoch 74/300\n",
      "31/31 [==============================] - 0s 3ms/step - loss: 3.7793 - accuracy: 0.6383 - val_loss: 3.9375 - val_accuracy: 0.5533\n",
      "Epoch 75/300\n",
      "31/31 [==============================] - 0s 4ms/step - loss: 3.7653 - accuracy: 0.6373 - val_loss: 3.8972 - val_accuracy: 0.5633\n",
      "Epoch 76/300\n",
      "31/31 [==============================] - 0s 3ms/step - loss: 3.7447 - accuracy: 0.6424 - val_loss: 3.8706 - val_accuracy: 0.6000\n",
      "Epoch 77/300\n",
      "31/31 [==============================] - 0s 3ms/step - loss: 3.7315 - accuracy: 0.6393 - val_loss: 3.8666 - val_accuracy: 0.5567\n",
      "Epoch 78/300\n",
      "31/31 [==============================] - 0s 3ms/step - loss: 3.7068 - accuracy: 0.6301 - val_loss: 3.8526 - val_accuracy: 0.5667\n",
      "Epoch 79/300\n",
      "31/31 [==============================] - 0s 4ms/step - loss: 3.6977 - accuracy: 0.6393 - val_loss: 3.8241 - val_accuracy: 0.5700\n",
      "Epoch 80/300\n",
      "31/31 [==============================] - 0s 5ms/step - loss: 3.6761 - accuracy: 0.6383 - val_loss: 3.8249 - val_accuracy: 0.5533\n",
      "Epoch 81/300\n",
      "31/31 [==============================] - 0s 6ms/step - loss: 3.6576 - accuracy: 0.6311 - val_loss: 3.8077 - val_accuracy: 0.5767\n",
      "Epoch 82/300\n",
      "31/31 [==============================] - 0s 3ms/step - loss: 3.6430 - accuracy: 0.6332 - val_loss: 3.7828 - val_accuracy: 0.5833\n",
      "Epoch 83/300\n",
      "31/31 [==============================] - 0s 3ms/step - loss: 3.6186 - accuracy: 0.6455 - val_loss: 3.7522 - val_accuracy: 0.5867\n",
      "Epoch 84/300\n",
      "31/31 [==============================] - 0s 3ms/step - loss: 3.6133 - accuracy: 0.6486 - val_loss: 3.7417 - val_accuracy: 0.5767\n",
      "Epoch 85/300\n",
      "31/31 [==============================] - 0s 6ms/step - loss: 3.5858 - accuracy: 0.6568 - val_loss: 3.7275 - val_accuracy: 0.5800\n",
      "Epoch 86/300\n",
      "31/31 [==============================] - 0s 6ms/step - loss: 3.5755 - accuracy: 0.6373 - val_loss: 3.7217 - val_accuracy: 0.6000\n",
      "Epoch 87/300\n",
      "31/31 [==============================] - 0s 6ms/step - loss: 3.5570 - accuracy: 0.6393 - val_loss: 3.6924 - val_accuracy: 0.5767\n",
      "Epoch 88/300\n",
      "31/31 [==============================] - 0s 4ms/step - loss: 3.5413 - accuracy: 0.6383 - val_loss: 3.6759 - val_accuracy: 0.5867\n",
      "Epoch 89/300\n",
      "31/31 [==============================] - 0s 6ms/step - loss: 3.5328 - accuracy: 0.6393 - val_loss: 3.6599 - val_accuracy: 0.5600\n",
      "Epoch 90/300\n",
      "31/31 [==============================] - 0s 6ms/step - loss: 3.5083 - accuracy: 0.6588 - val_loss: 3.6438 - val_accuracy: 0.5767\n",
      "Epoch 91/300\n",
      "31/31 [==============================] - 0s 3ms/step - loss: 3.4937 - accuracy: 0.6383 - val_loss: 3.6474 - val_accuracy: 0.5633\n",
      "Epoch 92/300\n",
      "31/31 [==============================] - 0s 5ms/step - loss: 3.4755 - accuracy: 0.6537 - val_loss: 3.6184 - val_accuracy: 0.5900\n",
      "Epoch 93/300\n",
      "31/31 [==============================] - 0s 3ms/step - loss: 3.4624 - accuracy: 0.6547 - val_loss: 3.5983 - val_accuracy: 0.5833\n",
      "Epoch 94/300\n",
      "31/31 [==============================] - 0s 4ms/step - loss: 3.4464 - accuracy: 0.6404 - val_loss: 3.5881 - val_accuracy: 0.5633\n",
      "Epoch 95/300\n",
      "31/31 [==============================] - 0s 3ms/step - loss: 3.4219 - accuracy: 0.6475 - val_loss: 3.5959 - val_accuracy: 0.5600\n",
      "Epoch 96/300\n",
      "31/31 [==============================] - 0s 5ms/step - loss: 3.4179 - accuracy: 0.6455 - val_loss: 3.5585 - val_accuracy: 0.5833\n",
      "Epoch 97/300\n",
      "31/31 [==============================] - 0s 5ms/step - loss: 3.3952 - accuracy: 0.6465 - val_loss: 3.5421 - val_accuracy: 0.5833\n",
      "Epoch 98/300\n",
      "31/31 [==============================] - 0s 3ms/step - loss: 3.3865 - accuracy: 0.6424 - val_loss: 3.5278 - val_accuracy: 0.5667\n",
      "Epoch 99/300\n",
      "31/31 [==============================] - 0s 7ms/step - loss: 3.3725 - accuracy: 0.6414 - val_loss: 3.5202 - val_accuracy: 0.5500\n",
      "Epoch 100/300\n",
      "31/31 [==============================] - 0s 4ms/step - loss: 3.3533 - accuracy: 0.6475 - val_loss: 3.5048 - val_accuracy: 0.5500\n",
      "Epoch 101/300\n",
      "31/31 [==============================] - 0s 5ms/step - loss: 3.3368 - accuracy: 0.6486 - val_loss: 3.4856 - val_accuracy: 0.5700\n",
      "Epoch 102/300\n",
      "31/31 [==============================] - 0s 3ms/step - loss: 3.3216 - accuracy: 0.6393 - val_loss: 3.4796 - val_accuracy: 0.5633\n",
      "Epoch 103/300\n",
      "31/31 [==============================] - 0s 3ms/step - loss: 3.3013 - accuracy: 0.6486 - val_loss: 3.4518 - val_accuracy: 0.5867\n",
      "Epoch 104/300\n",
      "31/31 [==============================] - 0s 5ms/step - loss: 3.2816 - accuracy: 0.6496 - val_loss: 3.4431 - val_accuracy: 0.5833\n",
      "Epoch 105/300\n",
      "31/31 [==============================] - 0s 7ms/step - loss: 3.2923 - accuracy: 0.6373 - val_loss: 3.4301 - val_accuracy: 0.5800\n",
      "Epoch 106/300\n",
      "31/31 [==============================] - 0s 3ms/step - loss: 3.2711 - accuracy: 0.6311 - val_loss: 3.4231 - val_accuracy: 0.5633\n",
      "Epoch 107/300\n",
      "31/31 [==============================] - 0s 4ms/step - loss: 3.2612 - accuracy: 0.6393 - val_loss: 3.3944 - val_accuracy: 0.5833\n",
      "Epoch 108/300\n",
      "31/31 [==============================] - 0s 3ms/step - loss: 3.2383 - accuracy: 0.6486 - val_loss: 3.3866 - val_accuracy: 0.5867\n",
      "Epoch 109/300\n",
      "31/31 [==============================] - 0s 3ms/step - loss: 3.2258 - accuracy: 0.6475 - val_loss: 3.3769 - val_accuracy: 0.5600\n",
      "Epoch 110/300\n",
      "31/31 [==============================] - 0s 3ms/step - loss: 3.2066 - accuracy: 0.6445 - val_loss: 3.3628 - val_accuracy: 0.5700\n",
      "Epoch 111/300\n",
      "31/31 [==============================] - 0s 5ms/step - loss: 3.1988 - accuracy: 0.6424 - val_loss: 3.3471 - val_accuracy: 0.5867\n",
      "Epoch 112/300\n",
      "31/31 [==============================] - 0s 3ms/step - loss: 3.1863 - accuracy: 0.6445 - val_loss: 3.3325 - val_accuracy: 0.5867\n",
      "Epoch 113/300\n",
      "31/31 [==============================] - 0s 3ms/step - loss: 3.1658 - accuracy: 0.6557 - val_loss: 3.3121 - val_accuracy: 0.5733\n",
      "Epoch 114/300\n",
      "31/31 [==============================] - 0s 4ms/step - loss: 3.1527 - accuracy: 0.6383 - val_loss: 3.2997 - val_accuracy: 0.5733\n",
      "Epoch 115/300\n",
      "31/31 [==============================] - 0s 3ms/step - loss: 3.1381 - accuracy: 0.6568 - val_loss: 3.3195 - val_accuracy: 0.5533\n",
      "Epoch 116/300\n",
      "31/31 [==============================] - 0s 3ms/step - loss: 3.1296 - accuracy: 0.6445 - val_loss: 3.2782 - val_accuracy: 0.5833\n",
      "Epoch 117/300\n",
      "31/31 [==============================] - 0s 3ms/step - loss: 3.1118 - accuracy: 0.6434 - val_loss: 3.2625 - val_accuracy: 0.5933\n",
      "Epoch 118/300\n",
      "31/31 [==============================] - 0s 3ms/step - loss: 3.1041 - accuracy: 0.6496 - val_loss: 3.2533 - val_accuracy: 0.5733\n",
      "Epoch 119/300\n",
      "31/31 [==============================] - 0s 5ms/step - loss: 3.0770 - accuracy: 0.6496 - val_loss: 3.2343 - val_accuracy: 0.5900\n",
      "Epoch 120/300\n",
      "31/31 [==============================] - 0s 4ms/step - loss: 3.0650 - accuracy: 0.6496 - val_loss: 3.2243 - val_accuracy: 0.5900\n",
      "Epoch 121/300\n",
      "31/31 [==============================] - 0s 4ms/step - loss: 3.0555 - accuracy: 0.6516 - val_loss: 3.2221 - val_accuracy: 0.5633\n",
      "Epoch 122/300\n",
      "31/31 [==============================] - 0s 4ms/step - loss: 3.0567 - accuracy: 0.6475 - val_loss: 3.1892 - val_accuracy: 0.5733\n",
      "Epoch 123/300\n",
      "31/31 [==============================] - 0s 3ms/step - loss: 3.0371 - accuracy: 0.6475 - val_loss: 3.1872 - val_accuracy: 0.5700\n",
      "Epoch 124/300\n",
      "31/31 [==============================] - 0s 3ms/step - loss: 3.0243 - accuracy: 0.6373 - val_loss: 3.1813 - val_accuracy: 0.5667\n",
      "Epoch 125/300\n",
      "31/31 [==============================] - 0s 4ms/step - loss: 3.0054 - accuracy: 0.6486 - val_loss: 3.1721 - val_accuracy: 0.5733\n",
      "Epoch 126/300\n",
      "31/31 [==============================] - 0s 4ms/step - loss: 2.9897 - accuracy: 0.6393 - val_loss: 3.1551 - val_accuracy: 0.5667\n",
      "Epoch 127/300\n",
      "31/31 [==============================] - 0s 3ms/step - loss: 2.9824 - accuracy: 0.6475 - val_loss: 3.1422 - val_accuracy: 0.5633\n",
      "Epoch 128/300\n",
      "31/31 [==============================] - 0s 3ms/step - loss: 2.9744 - accuracy: 0.6465 - val_loss: 3.1316 - val_accuracy: 0.5733\n",
      "Epoch 129/300\n",
      "31/31 [==============================] - 0s 6ms/step - loss: 2.9531 - accuracy: 0.6629 - val_loss: 3.1108 - val_accuracy: 0.5667\n",
      "Epoch 130/300\n",
      "31/31 [==============================] - 0s 4ms/step - loss: 2.9496 - accuracy: 0.6506 - val_loss: 3.1148 - val_accuracy: 0.5533\n",
      "Epoch 131/300\n",
      "31/31 [==============================] - 0s 4ms/step - loss: 2.9326 - accuracy: 0.6496 - val_loss: 3.0964 - val_accuracy: 0.5667\n",
      "Epoch 132/300\n",
      "31/31 [==============================] - 0s 3ms/step - loss: 2.9125 - accuracy: 0.6609 - val_loss: 3.0795 - val_accuracy: 0.5700\n",
      "Epoch 133/300\n",
      "31/31 [==============================] - 0s 3ms/step - loss: 2.9048 - accuracy: 0.6434 - val_loss: 3.0605 - val_accuracy: 0.5800\n",
      "Epoch 134/300\n",
      "31/31 [==============================] - 0s 3ms/step - loss: 2.8943 - accuracy: 0.6527 - val_loss: 3.0534 - val_accuracy: 0.5867\n",
      "Epoch 135/300\n",
      "31/31 [==============================] - 0s 6ms/step - loss: 2.8895 - accuracy: 0.6404 - val_loss: 3.0461 - val_accuracy: 0.5700\n",
      "Epoch 136/300\n",
      "31/31 [==============================] - 0s 3ms/step - loss: 2.8737 - accuracy: 0.6475 - val_loss: 3.0313 - val_accuracy: 0.5700\n",
      "Epoch 137/300\n",
      "31/31 [==============================] - 0s 4ms/step - loss: 2.8671 - accuracy: 0.6568 - val_loss: 3.0229 - val_accuracy: 0.5733\n",
      "Epoch 138/300\n",
      "31/31 [==============================] - 0s 5ms/step - loss: 2.8433 - accuracy: 0.6680 - val_loss: 3.0007 - val_accuracy: 0.5967\n",
      "Epoch 139/300\n",
      "31/31 [==============================] - 0s 3ms/step - loss: 2.8405 - accuracy: 0.6445 - val_loss: 2.9892 - val_accuracy: 0.5867\n",
      "Epoch 140/300\n",
      "31/31 [==============================] - 0s 3ms/step - loss: 2.8306 - accuracy: 0.6496 - val_loss: 2.9880 - val_accuracy: 0.5600\n",
      "Epoch 141/300\n",
      "31/31 [==============================] - 0s 4ms/step - loss: 2.8116 - accuracy: 0.6393 - val_loss: 2.9752 - val_accuracy: 0.5800\n",
      "Epoch 142/300\n",
      "31/31 [==============================] - 0s 4ms/step - loss: 2.7995 - accuracy: 0.6475 - val_loss: 2.9663 - val_accuracy: 0.5600\n",
      "Epoch 143/300\n",
      "31/31 [==============================] - 0s 4ms/step - loss: 2.7992 - accuracy: 0.6475 - val_loss: 2.9574 - val_accuracy: 0.5700\n",
      "Epoch 144/300\n",
      "31/31 [==============================] - 0s 3ms/step - loss: 2.7816 - accuracy: 0.6537 - val_loss: 2.9516 - val_accuracy: 0.5733\n",
      "Epoch 145/300\n",
      "31/31 [==============================] - 0s 3ms/step - loss: 2.7657 - accuracy: 0.6516 - val_loss: 2.9280 - val_accuracy: 0.5867\n",
      "Epoch 146/300\n",
      "31/31 [==============================] - 0s 3ms/step - loss: 2.7569 - accuracy: 0.6578 - val_loss: 2.9244 - val_accuracy: 0.5767\n",
      "Epoch 147/300\n",
      "31/31 [==============================] - 0s 3ms/step - loss: 2.7467 - accuracy: 0.6506 - val_loss: 2.8982 - val_accuracy: 0.5800\n",
      "Epoch 148/300\n",
      "31/31 [==============================] - 0s 3ms/step - loss: 2.7282 - accuracy: 0.6465 - val_loss: 2.8994 - val_accuracy: 0.5533\n",
      "Epoch 149/300\n",
      "31/31 [==============================] - 0s 3ms/step - loss: 2.7241 - accuracy: 0.6404 - val_loss: 2.8904 - val_accuracy: 0.5633\n",
      "Epoch 150/300\n",
      "31/31 [==============================] - 0s 3ms/step - loss: 2.7016 - accuracy: 0.6301 - val_loss: 2.8777 - val_accuracy: 0.5933\n",
      "Epoch 151/300\n",
      "31/31 [==============================] - 0s 3ms/step - loss: 2.7033 - accuracy: 0.6557 - val_loss: 2.8672 - val_accuracy: 0.5733\n",
      "Epoch 152/300\n",
      "31/31 [==============================] - 0s 3ms/step - loss: 2.6942 - accuracy: 0.6496 - val_loss: 2.8541 - val_accuracy: 0.5667\n",
      "Epoch 153/300\n",
      "31/31 [==============================] - 0s 4ms/step - loss: 2.6879 - accuracy: 0.6414 - val_loss: 2.8966 - val_accuracy: 0.5533\n",
      "Epoch 154/300\n",
      "31/31 [==============================] - 0s 3ms/step - loss: 2.6645 - accuracy: 0.6475 - val_loss: 2.8246 - val_accuracy: 0.5767\n",
      "Epoch 155/300\n",
      "31/31 [==============================] - 0s 4ms/step - loss: 2.6587 - accuracy: 0.6547 - val_loss: 2.8317 - val_accuracy: 0.5800\n",
      "Epoch 156/300\n",
      "31/31 [==============================] - 0s 3ms/step - loss: 2.6405 - accuracy: 0.6629 - val_loss: 2.8224 - val_accuracy: 0.5833\n",
      "Epoch 157/300\n",
      "31/31 [==============================] - 0s 3ms/step - loss: 2.6369 - accuracy: 0.6537 - val_loss: 2.7930 - val_accuracy: 0.5800\n",
      "Epoch 158/300\n",
      "31/31 [==============================] - 0s 2ms/step - loss: 2.6249 - accuracy: 0.6527 - val_loss: 2.7950 - val_accuracy: 0.5633\n",
      "Epoch 159/300\n",
      "31/31 [==============================] - 0s 3ms/step - loss: 2.6168 - accuracy: 0.6568 - val_loss: 2.7811 - val_accuracy: 0.5933\n",
      "Epoch 160/300\n",
      "31/31 [==============================] - 0s 4ms/step - loss: 2.5981 - accuracy: 0.6578 - val_loss: 2.7776 - val_accuracy: 0.5767\n",
      "Epoch 161/300\n",
      "31/31 [==============================] - 0s 4ms/step - loss: 2.5913 - accuracy: 0.6455 - val_loss: 2.7584 - val_accuracy: 0.5833\n",
      "Epoch 162/300\n",
      "31/31 [==============================] - 0s 3ms/step - loss: 2.5796 - accuracy: 0.6588 - val_loss: 2.7586 - val_accuracy: 0.5767\n",
      "Epoch 163/300\n",
      "31/31 [==============================] - 0s 3ms/step - loss: 2.5752 - accuracy: 0.6557 - val_loss: 2.7358 - val_accuracy: 0.5733\n",
      "Epoch 164/300\n",
      "31/31 [==============================] - 0s 3ms/step - loss: 2.5572 - accuracy: 0.6445 - val_loss: 2.7323 - val_accuracy: 0.5800\n",
      "Epoch 165/300\n",
      "31/31 [==============================] - 0s 3ms/step - loss: 2.5522 - accuracy: 0.6568 - val_loss: 2.7231 - val_accuracy: 0.5700\n",
      "Epoch 166/300\n",
      "31/31 [==============================] - 0s 3ms/step - loss: 2.5519 - accuracy: 0.6486 - val_loss: 2.7240 - val_accuracy: 0.5667\n",
      "Epoch 167/300\n",
      "31/31 [==============================] - 0s 4ms/step - loss: 2.5467 - accuracy: 0.6486 - val_loss: 2.7018 - val_accuracy: 0.5933\n",
      "Epoch 168/300\n",
      "31/31 [==============================] - 0s 4ms/step - loss: 2.5230 - accuracy: 0.6414 - val_loss: 2.6914 - val_accuracy: 0.5700\n",
      "Epoch 169/300\n",
      "31/31 [==============================] - 0s 4ms/step - loss: 2.5140 - accuracy: 0.6578 - val_loss: 2.7063 - val_accuracy: 0.5700\n",
      "Epoch 170/300\n",
      "31/31 [==============================] - 0s 3ms/step - loss: 2.5130 - accuracy: 0.6424 - val_loss: 2.6664 - val_accuracy: 0.5833\n",
      "Epoch 171/300\n",
      "31/31 [==============================] - 0s 3ms/step - loss: 2.5044 - accuracy: 0.6404 - val_loss: 2.6608 - val_accuracy: 0.5667\n",
      "Epoch 172/300\n",
      "31/31 [==============================] - 0s 3ms/step - loss: 2.4938 - accuracy: 0.6496 - val_loss: 2.6601 - val_accuracy: 0.5767\n",
      "Epoch 173/300\n",
      "31/31 [==============================] - 0s 3ms/step - loss: 2.4754 - accuracy: 0.6527 - val_loss: 2.6579 - val_accuracy: 0.5600\n",
      "Epoch 174/300\n",
      "31/31 [==============================] - 0s 3ms/step - loss: 2.4679 - accuracy: 0.6568 - val_loss: 2.6421 - val_accuracy: 0.5600\n",
      "Epoch 175/300\n",
      "31/31 [==============================] - 0s 4ms/step - loss: 2.4550 - accuracy: 0.6496 - val_loss: 2.6243 - val_accuracy: 0.5800\n",
      "Epoch 176/300\n",
      "31/31 [==============================] - 0s 4ms/step - loss: 2.4502 - accuracy: 0.6404 - val_loss: 2.6174 - val_accuracy: 0.5900\n",
      "Epoch 177/300\n",
      "31/31 [==============================] - 0s 4ms/step - loss: 2.4463 - accuracy: 0.6496 - val_loss: 2.6006 - val_accuracy: 0.5900\n",
      "Epoch 178/300\n",
      "31/31 [==============================] - 0s 2ms/step - loss: 2.4305 - accuracy: 0.6537 - val_loss: 2.6200 - val_accuracy: 0.5700\n",
      "Epoch 179/300\n",
      "31/31 [==============================] - 0s 3ms/step - loss: 2.4255 - accuracy: 0.6414 - val_loss: 2.5896 - val_accuracy: 0.5733\n",
      "Epoch 180/300\n",
      "31/31 [==============================] - 0s 2ms/step - loss: 2.4191 - accuracy: 0.6496 - val_loss: 2.5994 - val_accuracy: 0.5867\n",
      "Epoch 181/300\n",
      "31/31 [==============================] - 0s 4ms/step - loss: 2.4069 - accuracy: 0.6557 - val_loss: 2.5751 - val_accuracy: 0.5867\n",
      "Epoch 182/300\n",
      "31/31 [==============================] - 0s 5ms/step - loss: 2.3965 - accuracy: 0.6568 - val_loss: 2.5714 - val_accuracy: 0.5633\n",
      "Epoch 183/300\n",
      "31/31 [==============================] - 0s 3ms/step - loss: 2.3848 - accuracy: 0.6578 - val_loss: 2.5675 - val_accuracy: 0.5600\n",
      "Epoch 184/300\n",
      "31/31 [==============================] - 0s 3ms/step - loss: 2.3824 - accuracy: 0.6404 - val_loss: 2.5477 - val_accuracy: 0.5700\n",
      "Epoch 185/300\n",
      "31/31 [==============================] - 0s 4ms/step - loss: 2.3741 - accuracy: 0.6393 - val_loss: 2.5422 - val_accuracy: 0.5900\n",
      "Epoch 186/300\n",
      "31/31 [==============================] - 0s 3ms/step - loss: 2.3677 - accuracy: 0.6486 - val_loss: 2.5306 - val_accuracy: 0.5667\n",
      "Epoch 187/300\n",
      "31/31 [==============================] - 0s 2ms/step - loss: 2.3546 - accuracy: 0.6588 - val_loss: 2.5317 - val_accuracy: 0.5800\n",
      "Epoch 188/300\n",
      "31/31 [==============================] - 0s 4ms/step - loss: 2.3405 - accuracy: 0.6598 - val_loss: 2.5157 - val_accuracy: 0.5600\n",
      "Epoch 189/300\n",
      "31/31 [==============================] - 0s 3ms/step - loss: 2.3341 - accuracy: 0.6537 - val_loss: 2.5082 - val_accuracy: 0.5733\n",
      "Epoch 190/300\n",
      "31/31 [==============================] - 0s 3ms/step - loss: 2.3240 - accuracy: 0.6547 - val_loss: 2.5016 - val_accuracy: 0.5967\n",
      "Epoch 191/300\n",
      "31/31 [==============================] - 0s 3ms/step - loss: 2.3144 - accuracy: 0.6568 - val_loss: 2.4938 - val_accuracy: 0.5633\n",
      "Epoch 192/300\n",
      "31/31 [==============================] - 0s 2ms/step - loss: 2.3096 - accuracy: 0.6516 - val_loss: 2.5144 - val_accuracy: 0.5800\n",
      "Epoch 193/300\n",
      "31/31 [==============================] - 0s 3ms/step - loss: 2.3052 - accuracy: 0.6465 - val_loss: 2.4698 - val_accuracy: 0.5667\n",
      "Epoch 194/300\n",
      "31/31 [==============================] - 0s 3ms/step - loss: 2.3030 - accuracy: 0.6568 - val_loss: 2.4685 - val_accuracy: 0.5833\n",
      "Epoch 195/300\n",
      "31/31 [==============================] - 0s 3ms/step - loss: 2.2767 - accuracy: 0.6527 - val_loss: 2.4546 - val_accuracy: 0.5733\n",
      "Epoch 196/300\n",
      "31/31 [==============================] - 0s 3ms/step - loss: 2.2704 - accuracy: 0.6598 - val_loss: 2.4704 - val_accuracy: 0.5533\n",
      "Epoch 197/300\n",
      "31/31 [==============================] - 0s 2ms/step - loss: 2.2758 - accuracy: 0.6404 - val_loss: 2.4558 - val_accuracy: 0.5700\n",
      "Epoch 198/300\n",
      "31/31 [==============================] - 0s 3ms/step - loss: 2.2531 - accuracy: 0.6527 - val_loss: 2.4285 - val_accuracy: 0.5700\n",
      "Epoch 199/300\n",
      "31/31 [==============================] - 0s 3ms/step - loss: 2.2566 - accuracy: 0.6537 - val_loss: 2.4219 - val_accuracy: 0.5667\n",
      "Epoch 200/300\n",
      "31/31 [==============================] - 0s 3ms/step - loss: 2.2429 - accuracy: 0.6650 - val_loss: 2.4339 - val_accuracy: 0.5500\n",
      "Epoch 201/300\n",
      "31/31 [==============================] - 0s 5ms/step - loss: 2.2224 - accuracy: 0.6609 - val_loss: 2.4064 - val_accuracy: 0.6067\n",
      "Epoch 202/300\n",
      "31/31 [==============================] - 0s 4ms/step - loss: 2.2373 - accuracy: 0.6660 - val_loss: 2.3990 - val_accuracy: 0.5967\n",
      "Epoch 203/300\n",
      "31/31 [==============================] - 0s 6ms/step - loss: 2.2165 - accuracy: 0.6547 - val_loss: 2.3962 - val_accuracy: 0.5833\n",
      "Epoch 204/300\n",
      "31/31 [==============================] - 0s 2ms/step - loss: 2.1982 - accuracy: 0.6629 - val_loss: 2.4010 - val_accuracy: 0.5767\n",
      "Epoch 205/300\n",
      "31/31 [==============================] - 0s 3ms/step - loss: 2.1992 - accuracy: 0.6547 - val_loss: 2.3847 - val_accuracy: 0.5800\n",
      "Epoch 206/300\n",
      "31/31 [==============================] - 0s 2ms/step - loss: 2.2011 - accuracy: 0.6465 - val_loss: 2.3939 - val_accuracy: 0.5733\n",
      "Epoch 207/300\n",
      "31/31 [==============================] - 0s 3ms/step - loss: 2.1966 - accuracy: 0.6660 - val_loss: 2.3754 - val_accuracy: 0.5833\n",
      "Epoch 208/300\n",
      "31/31 [==============================] - 0s 4ms/step - loss: 2.1845 - accuracy: 0.6537 - val_loss: 2.3554 - val_accuracy: 0.5800\n",
      "Epoch 209/300\n",
      "31/31 [==============================] - 0s 2ms/step - loss: 2.1719 - accuracy: 0.6537 - val_loss: 2.3565 - val_accuracy: 0.5767\n",
      "Epoch 210/300\n",
      "31/31 [==============================] - 0s 2ms/step - loss: 2.1569 - accuracy: 0.6650 - val_loss: 2.3836 - val_accuracy: 0.5667\n",
      "Epoch 211/300\n",
      "31/31 [==============================] - 0s 4ms/step - loss: 2.1624 - accuracy: 0.6557 - val_loss: 2.3639 - val_accuracy: 0.5500\n",
      "Epoch 212/300\n",
      "31/31 [==============================] - 0s 3ms/step - loss: 2.1539 - accuracy: 0.6588 - val_loss: 2.3696 - val_accuracy: 0.5567\n",
      "Epoch 213/300\n",
      "31/31 [==============================] - 0s 4ms/step - loss: 2.1456 - accuracy: 0.6496 - val_loss: 2.3244 - val_accuracy: 0.5700\n",
      "Epoch 214/300\n",
      "31/31 [==============================] - 0s 3ms/step - loss: 2.1250 - accuracy: 0.6557 - val_loss: 2.3143 - val_accuracy: 0.5833\n",
      "Epoch 215/300\n",
      "31/31 [==============================] - 0s 3ms/step - loss: 2.1389 - accuracy: 0.6547 - val_loss: 2.3128 - val_accuracy: 0.5667\n",
      "Epoch 216/300\n",
      "31/31 [==============================] - 0s 3ms/step - loss: 2.1138 - accuracy: 0.6680 - val_loss: 2.3051 - val_accuracy: 0.5800\n",
      "Epoch 217/300\n",
      "31/31 [==============================] - 0s 3ms/step - loss: 2.1171 - accuracy: 0.6578 - val_loss: 2.2925 - val_accuracy: 0.5733\n",
      "Epoch 218/300\n",
      "31/31 [==============================] - 0s 3ms/step - loss: 2.1073 - accuracy: 0.6527 - val_loss: 2.3007 - val_accuracy: 0.5667\n",
      "Epoch 219/300\n",
      "31/31 [==============================] - 0s 2ms/step - loss: 2.1035 - accuracy: 0.6568 - val_loss: 2.2946 - val_accuracy: 0.5800\n",
      "Epoch 220/300\n",
      "31/31 [==============================] - 0s 3ms/step - loss: 2.1043 - accuracy: 0.6588 - val_loss: 2.2673 - val_accuracy: 0.5733\n",
      "Epoch 221/300\n",
      "31/31 [==============================] - 0s 3ms/step - loss: 2.0875 - accuracy: 0.6537 - val_loss: 2.2683 - val_accuracy: 0.5733\n",
      "Epoch 222/300\n",
      "31/31 [==============================] - 0s 3ms/step - loss: 2.0815 - accuracy: 0.6650 - val_loss: 2.2649 - val_accuracy: 0.5733\n",
      "Epoch 223/300\n",
      "31/31 [==============================] - 0s 3ms/step - loss: 2.0737 - accuracy: 0.6516 - val_loss: 2.2466 - val_accuracy: 0.5867\n",
      "Epoch 224/300\n",
      "31/31 [==============================] - 0s 4ms/step - loss: 2.0719 - accuracy: 0.6650 - val_loss: 2.2381 - val_accuracy: 0.5767\n",
      "Epoch 225/300\n",
      "31/31 [==============================] - 0s 3ms/step - loss: 2.0562 - accuracy: 0.6568 - val_loss: 2.2451 - val_accuracy: 0.5700\n",
      "Epoch 226/300\n",
      "31/31 [==============================] - 0s 3ms/step - loss: 2.0603 - accuracy: 0.6506 - val_loss: 2.2251 - val_accuracy: 0.5800\n",
      "Epoch 227/300\n",
      "31/31 [==============================] - 0s 3ms/step - loss: 2.0447 - accuracy: 0.6598 - val_loss: 2.2535 - val_accuracy: 0.5700\n",
      "Epoch 228/300\n",
      "31/31 [==============================] - 0s 3ms/step - loss: 2.0424 - accuracy: 0.6527 - val_loss: 2.2426 - val_accuracy: 0.5633\n",
      "Epoch 229/300\n",
      "31/31 [==============================] - 0s 4ms/step - loss: 2.0368 - accuracy: 0.6557 - val_loss: 2.2240 - val_accuracy: 0.5533\n",
      "Epoch 230/300\n",
      "31/31 [==============================] - 0s 4ms/step - loss: 2.0276 - accuracy: 0.6619 - val_loss: 2.1986 - val_accuracy: 0.5967\n",
      "Epoch 231/300\n",
      "31/31 [==============================] - 0s 3ms/step - loss: 2.0226 - accuracy: 0.6650 - val_loss: 2.1976 - val_accuracy: 0.5833\n",
      "Epoch 232/300\n",
      "31/31 [==============================] - 0s 3ms/step - loss: 2.0157 - accuracy: 0.6445 - val_loss: 2.1904 - val_accuracy: 0.5933\n",
      "Epoch 233/300\n",
      "31/31 [==============================] - 0s 3ms/step - loss: 2.0115 - accuracy: 0.6475 - val_loss: 2.2254 - val_accuracy: 0.5600\n",
      "Epoch 234/300\n",
      "31/31 [==============================] - 0s 5ms/step - loss: 1.9895 - accuracy: 0.6537 - val_loss: 2.1745 - val_accuracy: 0.5833\n",
      "Epoch 235/300\n",
      "31/31 [==============================] - 0s 3ms/step - loss: 2.0002 - accuracy: 0.6578 - val_loss: 2.1672 - val_accuracy: 0.5800\n",
      "Epoch 236/300\n",
      "31/31 [==============================] - 0s 3ms/step - loss: 1.9871 - accuracy: 0.6537 - val_loss: 2.1672 - val_accuracy: 0.5733\n",
      "Epoch 237/300\n",
      "31/31 [==============================] - 0s 3ms/step - loss: 1.9803 - accuracy: 0.6588 - val_loss: 2.1794 - val_accuracy: 0.5767\n",
      "Epoch 238/300\n",
      "31/31 [==============================] - 0s 3ms/step - loss: 1.9747 - accuracy: 0.6732 - val_loss: 2.1492 - val_accuracy: 0.6000\n",
      "Epoch 239/300\n",
      "31/31 [==============================] - 0s 2ms/step - loss: 1.9686 - accuracy: 0.6598 - val_loss: 2.1655 - val_accuracy: 0.5800\n",
      "Epoch 240/300\n",
      "31/31 [==============================] - 0s 2ms/step - loss: 1.9619 - accuracy: 0.6660 - val_loss: 2.1547 - val_accuracy: 0.5700\n",
      "Epoch 241/300\n",
      "31/31 [==============================] - 0s 3ms/step - loss: 1.9607 - accuracy: 0.6547 - val_loss: 2.1309 - val_accuracy: 0.5867\n",
      "Epoch 242/300\n",
      "31/31 [==============================] - 0s 2ms/step - loss: 1.9508 - accuracy: 0.6568 - val_loss: 2.1383 - val_accuracy: 0.5800\n",
      "Epoch 243/300\n",
      "31/31 [==============================] - 0s 3ms/step - loss: 1.9439 - accuracy: 0.6639 - val_loss: 2.1187 - val_accuracy: 0.5800\n",
      "Epoch 244/300\n",
      "31/31 [==============================] - 0s 2ms/step - loss: 1.9372 - accuracy: 0.6680 - val_loss: 2.1212 - val_accuracy: 0.5767\n",
      "Epoch 245/300\n",
      "31/31 [==============================] - 0s 3ms/step - loss: 1.9280 - accuracy: 0.6578 - val_loss: 2.1067 - val_accuracy: 0.5700\n",
      "Epoch 246/300\n",
      "31/31 [==============================] - 0s 3ms/step - loss: 1.9262 - accuracy: 0.6670 - val_loss: 2.1109 - val_accuracy: 0.5767\n",
      "Epoch 247/300\n",
      "31/31 [==============================] - 0s 4ms/step - loss: 1.9172 - accuracy: 0.6588 - val_loss: 2.0953 - val_accuracy: 0.5867\n",
      "Epoch 248/300\n",
      "31/31 [==============================] - 0s 2ms/step - loss: 1.9103 - accuracy: 0.6639 - val_loss: 2.1176 - val_accuracy: 0.5633\n",
      "Epoch 249/300\n",
      "31/31 [==============================] - 0s 2ms/step - loss: 1.9124 - accuracy: 0.6527 - val_loss: 2.1114 - val_accuracy: 0.5600\n",
      "Epoch 250/300\n",
      "31/31 [==============================] - 0s 4ms/step - loss: 1.9096 - accuracy: 0.6578 - val_loss: 2.0801 - val_accuracy: 0.5667\n",
      "Epoch 251/300\n",
      "31/31 [==============================] - 0s 3ms/step - loss: 1.8907 - accuracy: 0.6557 - val_loss: 2.0889 - val_accuracy: 0.5733\n",
      "Epoch 252/300\n",
      "31/31 [==============================] - 0s 2ms/step - loss: 1.8987 - accuracy: 0.6609 - val_loss: 2.0841 - val_accuracy: 0.5833\n",
      "Epoch 253/300\n",
      "31/31 [==============================] - 0s 3ms/step - loss: 1.8814 - accuracy: 0.6516 - val_loss: 2.0848 - val_accuracy: 0.5667\n",
      "Epoch 254/300\n",
      "31/31 [==============================] - 0s 2ms/step - loss: 1.8789 - accuracy: 0.6629 - val_loss: 2.1049 - val_accuracy: 0.5733\n",
      "Epoch 255/300\n",
      "31/31 [==============================] - 0s 2ms/step - loss: 1.8667 - accuracy: 0.6609 - val_loss: 2.0816 - val_accuracy: 0.5500\n",
      "Epoch 256/300\n",
      "31/31 [==============================] - 0s 3ms/step - loss: 1.8788 - accuracy: 0.6496 - val_loss: 2.0607 - val_accuracy: 0.5867\n",
      "Epoch 257/300\n",
      "31/31 [==============================] - 0s 4ms/step - loss: 1.8605 - accuracy: 0.6609 - val_loss: 2.0522 - val_accuracy: 0.5500\n",
      "Epoch 258/300\n",
      "31/31 [==============================] - 0s 5ms/step - loss: 1.8545 - accuracy: 0.6691 - val_loss: 2.0479 - val_accuracy: 0.5767\n",
      "Epoch 259/300\n",
      "31/31 [==============================] - 0s 5ms/step - loss: 1.8546 - accuracy: 0.6609 - val_loss: 2.0875 - val_accuracy: 0.5400\n",
      "Epoch 260/300\n",
      "31/31 [==============================] - 0s 5ms/step - loss: 1.8380 - accuracy: 0.6588 - val_loss: 2.0288 - val_accuracy: 0.5667\n",
      "Epoch 261/300\n",
      "31/31 [==============================] - 0s 5ms/step - loss: 1.8400 - accuracy: 0.6578 - val_loss: 2.0223 - val_accuracy: 0.5733\n",
      "Epoch 262/300\n",
      "31/31 [==============================] - 0s 3ms/step - loss: 1.8392 - accuracy: 0.6404 - val_loss: 2.0474 - val_accuracy: 0.5500\n",
      "Epoch 263/300\n",
      "31/31 [==============================] - 0s 3ms/step - loss: 1.8269 - accuracy: 0.6527 - val_loss: 2.0191 - val_accuracy: 0.5633\n",
      "Epoch 264/300\n",
      "31/31 [==============================] - 0s 4ms/step - loss: 1.8290 - accuracy: 0.6537 - val_loss: 2.0044 - val_accuracy: 0.5733\n",
      "Epoch 265/300\n",
      "31/31 [==============================] - 0s 3ms/step - loss: 1.8242 - accuracy: 0.6619 - val_loss: 2.0025 - val_accuracy: 0.5767\n",
      "Epoch 266/300\n",
      "31/31 [==============================] - 0s 2ms/step - loss: 1.8088 - accuracy: 0.6578 - val_loss: 2.0036 - val_accuracy: 0.5767\n",
      "Epoch 267/300\n",
      "31/31 [==============================] - 0s 3ms/step - loss: 1.8111 - accuracy: 0.6557 - val_loss: 2.0120 - val_accuracy: 0.5867\n",
      "Epoch 268/300\n",
      "31/31 [==============================] - 0s 3ms/step - loss: 1.8072 - accuracy: 0.6609 - val_loss: 1.9862 - val_accuracy: 0.5800\n",
      "Epoch 269/300\n",
      "31/31 [==============================] - 0s 3ms/step - loss: 1.8040 - accuracy: 0.6598 - val_loss: 1.9898 - val_accuracy: 0.5667\n",
      "Epoch 270/300\n",
      "31/31 [==============================] - 0s 3ms/step - loss: 1.7866 - accuracy: 0.6506 - val_loss: 2.0002 - val_accuracy: 0.5767\n",
      "Epoch 271/300\n",
      "31/31 [==============================] - 0s 3ms/step - loss: 1.7911 - accuracy: 0.6670 - val_loss: 1.9816 - val_accuracy: 0.5933\n",
      "Epoch 272/300\n",
      "31/31 [==============================] - 0s 4ms/step - loss: 1.7817 - accuracy: 0.6557 - val_loss: 1.9767 - val_accuracy: 0.5700\n",
      "Epoch 273/300\n",
      "31/31 [==============================] - 0s 3ms/step - loss: 1.7787 - accuracy: 0.6609 - val_loss: 1.9667 - val_accuracy: 0.5900\n",
      "Epoch 274/300\n",
      "31/31 [==============================] - 0s 3ms/step - loss: 1.7770 - accuracy: 0.6547 - val_loss: 1.9547 - val_accuracy: 0.5700\n",
      "Epoch 275/300\n",
      "31/31 [==============================] - 0s 3ms/step - loss: 1.7667 - accuracy: 0.6660 - val_loss: 1.9523 - val_accuracy: 0.5900\n",
      "Epoch 276/300\n",
      "31/31 [==============================] - 0s 4ms/step - loss: 1.7604 - accuracy: 0.6629 - val_loss: 1.9580 - val_accuracy: 0.5767\n",
      "Epoch 277/300\n",
      "31/31 [==============================] - 0s 2ms/step - loss: 1.7472 - accuracy: 0.6732 - val_loss: 1.9614 - val_accuracy: 0.5700\n",
      "Epoch 278/300\n",
      "31/31 [==============================] - 0s 3ms/step - loss: 1.7577 - accuracy: 0.6516 - val_loss: 1.9421 - val_accuracy: 0.5567\n",
      "Epoch 279/300\n",
      "31/31 [==============================] - 0s 5ms/step - loss: 1.7513 - accuracy: 0.6547 - val_loss: 1.9331 - val_accuracy: 0.5600\n",
      "Epoch 280/300\n",
      "31/31 [==============================] - 0s 3ms/step - loss: 1.7407 - accuracy: 0.6742 - val_loss: 1.9305 - val_accuracy: 0.5800\n",
      "Epoch 281/300\n",
      "31/31 [==============================] - 0s 3ms/step - loss: 1.7405 - accuracy: 0.6588 - val_loss: 1.9449 - val_accuracy: 0.5733\n",
      "Epoch 282/300\n",
      "31/31 [==============================] - 0s 4ms/step - loss: 1.7389 - accuracy: 0.6609 - val_loss: 1.9303 - val_accuracy: 0.5633\n",
      "Epoch 283/300\n",
      "31/31 [==============================] - 0s 4ms/step - loss: 1.7222 - accuracy: 0.6639 - val_loss: 1.9268 - val_accuracy: 0.5633\n",
      "Epoch 284/300\n",
      "31/31 [==============================] - 0s 3ms/step - loss: 1.7234 - accuracy: 0.6578 - val_loss: 1.9437 - val_accuracy: 0.5700\n",
      "Epoch 285/300\n",
      "31/31 [==============================] - 0s 3ms/step - loss: 1.7138 - accuracy: 0.6588 - val_loss: 1.8955 - val_accuracy: 0.6000\n",
      "Epoch 286/300\n",
      "31/31 [==============================] - 0s 2ms/step - loss: 1.7099 - accuracy: 0.6732 - val_loss: 1.9243 - val_accuracy: 0.5400\n",
      "Epoch 287/300\n",
      "31/31 [==============================] - 0s 2ms/step - loss: 1.7037 - accuracy: 0.6721 - val_loss: 1.8964 - val_accuracy: 0.5767\n",
      "Epoch 288/300\n",
      "31/31 [==============================] - 0s 2ms/step - loss: 1.7099 - accuracy: 0.6639 - val_loss: 1.8978 - val_accuracy: 0.5733\n",
      "Epoch 289/300\n",
      "31/31 [==============================] - 0s 4ms/step - loss: 1.7053 - accuracy: 0.6639 - val_loss: 1.8949 - val_accuracy: 0.5733\n",
      "Epoch 290/300\n",
      "31/31 [==============================] - 0s 2ms/step - loss: 1.7069 - accuracy: 0.6475 - val_loss: 1.9202 - val_accuracy: 0.5733\n",
      "Epoch 291/300\n",
      "31/31 [==============================] - 0s 5ms/step - loss: 1.6819 - accuracy: 0.6691 - val_loss: 1.8822 - val_accuracy: 0.5600\n",
      "Epoch 292/300\n",
      "31/31 [==============================] - 0s 3ms/step - loss: 1.6950 - accuracy: 0.6609 - val_loss: 1.8820 - val_accuracy: 0.5800\n",
      "Epoch 293/300\n",
      "31/31 [==============================] - 0s 3ms/step - loss: 1.6906 - accuracy: 0.6434 - val_loss: 1.8923 - val_accuracy: 0.5633\n",
      "Epoch 294/300\n",
      "31/31 [==============================] - 0s 3ms/step - loss: 1.6733 - accuracy: 0.6762 - val_loss: 1.8709 - val_accuracy: 0.5733\n",
      "Epoch 295/300\n",
      "31/31 [==============================] - 0s 2ms/step - loss: 1.6710 - accuracy: 0.6568 - val_loss: 1.8856 - val_accuracy: 0.5800\n",
      "Epoch 296/300\n",
      "31/31 [==============================] - 0s 3ms/step - loss: 1.6711 - accuracy: 0.6670 - val_loss: 1.8612 - val_accuracy: 0.5733\n",
      "Epoch 297/300\n",
      "31/31 [==============================] - 0s 3ms/step - loss: 1.6649 - accuracy: 0.6568 - val_loss: 1.8625 - val_accuracy: 0.5733\n",
      "Epoch 298/300\n",
      "31/31 [==============================] - 0s 3ms/step - loss: 1.6546 - accuracy: 0.6691 - val_loss: 1.8404 - val_accuracy: 0.5767\n",
      "Epoch 299/300\n",
      "31/31 [==============================] - 0s 3ms/step - loss: 1.6633 - accuracy: 0.6568 - val_loss: 1.8592 - val_accuracy: 0.5733\n",
      "Epoch 300/300\n",
      "31/31 [==============================] - 0s 3ms/step - loss: 1.6504 - accuracy: 0.6650 - val_loss: 1.8557 - val_accuracy: 0.5967\n"
     ]
    }
   ],
   "source": [
    "# 4) Fit\n",
    "\n",
    "early_stopping_cb = keras.callbacks.EarlyStopping(patience=20)\n",
    "checkpoint_cb = keras.callbacks.ModelCheckpoint(\"my_wine_NN_model.h5\", save_best_only=True)\n",
    "tensorboard_cb = keras.callbacks.TensorBoard(run_logdir)\n",
    "\n",
    "\n",
    "history = model.fit(X_train, y_train, epochs=300,\n",
    "                    validation_data=(X_valid, y_valid),\n",
    "                    callbacks=[early_stopping_cb, checkpoint_cb, tensorboard_cb])"
   ]
  },
  {
   "cell_type": "markdown",
   "metadata": {},
   "source": [
    "### 11.3 Evaluate the NN Model"
   ]
  },
  {
   "cell_type": "code",
   "execution_count": 242,
   "metadata": {},
   "outputs": [],
   "source": [
    "model.save(\"my_wine_NN_model.h5\")"
   ]
  },
  {
   "cell_type": "code",
   "execution_count": 243,
   "metadata": {},
   "outputs": [],
   "source": [
    "model = keras.models.load_model(\"my_wine_NN_model.h5\") "
   ]
  },
  {
   "cell_type": "code",
   "execution_count": 244,
   "metadata": {},
   "outputs": [
    {
     "name": "stdout",
     "output_type": "stream",
     "text": [
      "10/10 [==============================] - 0s 1ms/step - loss: 1.7360 - accuracy: 0.0000e+00\n"
     ]
    },
    {
     "data": {
      "text/plain": [
       "[1.7359565496444702, 0.0]"
      ]
     },
     "execution_count": 244,
     "metadata": {},
     "output_type": "execute_result"
    }
   ],
   "source": [
    "model.evaluate(X_test, y_test)"
   ]
  },
  {
   "cell_type": "code",
   "execution_count": 245,
   "metadata": {},
   "outputs": [],
   "source": [
    "y_predicted=model.predict(X_test)"
   ]
  },
  {
   "cell_type": "code",
   "execution_count": 246,
   "metadata": {},
   "outputs": [
    {
     "data": {
      "text/plain": [
       "(320, 8)"
      ]
     },
     "execution_count": 246,
     "metadata": {},
     "output_type": "execute_result"
    }
   ],
   "source": [
    "X_test.shape"
   ]
  },
  {
   "cell_type": "code",
   "execution_count": 247,
   "metadata": {},
   "outputs": [],
   "source": [
    "y_predicted = [np.argmax(i) for i in y_predicted]"
   ]
  },
  {
   "cell_type": "code",
   "execution_count": 248,
   "metadata": {},
   "outputs": [
    {
     "data": {
      "text/plain": [
       "<tf.Tensor: shape=(6, 6), dtype=int32, numpy=\n",
       "array([[ 0,  0,  2,  0,  0,  0],\n",
       "       [ 0,  0,  4,  2,  0,  0],\n",
       "       [ 0,  0, 83, 63,  2,  0],\n",
       "       [ 0,  0, 25, 86, 14,  0],\n",
       "       [ 0,  0,  0, 17, 18,  0],\n",
       "       [ 0,  0,  0,  2,  2,  0]])>"
      ]
     },
     "execution_count": 248,
     "metadata": {},
     "output_type": "execute_result"
    }
   ],
   "source": [
    "tf.math.confusion_matrix(labels=y_test, predictions=y_predicted)"
   ]
  },
  {
   "cell_type": "code",
   "execution_count": 255,
   "metadata": {},
   "outputs": [
    {
     "data": {
      "image/png": "[encoded data removed]",
      "text/plain": [
       "<Figure size 720x504 with 2 Axes>"
      ]
     },
     "metadata": {},
     "output_type": "display_data"
    }
   ],
   "source": [
    "y_predicted = model.predict(X_test)\n",
    "y_predicted_labels = [np.argmax(i) for i in y_predicted]\n",
    "conf_x = tf.math.confusion_matrix(labels=y_test,predictions=y_predicted_labels)\n",
    "\n",
    "plt.figure(figsize = (10,7))\n",
    "sns.heatmap(conf_x, annot=True, fmt='d', annot_kws={\"fontsize\":16})\n",
    "plt.title(\"Confussion Matrix Neural Network Model\", fontsize=20)\n",
    "plt.xlabel('Predicted', fontsize=16)\n",
    "plt.ylabel('Truth', fontsize=16)\n",
    "plt.xticks(fontsize=14)\n",
    "plt.yticks(fontsize=14)\n",
    "plt.savefig(\"corr_mat_NN.png\", dpi=300)"
   ]
  },
  {
   "cell_type": "markdown",
   "metadata": {},
   "source": [
    "We can see that our **NN did not perform as well as the more classical ML approach with well known algorithms**"
   ]
  }
 ],
 "metadata": {
  "kernelspec": {
   "display_name": "your_env_name",
   "language": "python",
   "name": "your_env_name"
  },
  "language_info": {
   "codemirror_mode": {
    "name": "ipython",
    "version": 3
   },
   "file_extension": ".py",
   "mimetype": "text/x-python",
   "name": "python",
   "nbconvert_exporter": "python",
   "pygments_lexer": "ipython3",
   "version": "3.7.4"
  }
 },
 "nbformat": 4,
 "nbformat_minor": 4
}
