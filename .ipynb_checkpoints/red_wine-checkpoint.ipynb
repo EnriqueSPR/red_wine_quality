{
 "cells": [
  {
   "cell_type": "markdown",
   "metadata": {},
   "source": [
    "**Multi-classification** Problem using supervised ML.\n",
    "\n",
    "*Note: This problem could be also tackled with Regression*"
   ]
  },
  {
   "cell_type": "code",
   "execution_count": 263,
   "metadata": {},
   "outputs": [],
   "source": [
    "# Data handling\n",
    "import pandas as pd\n",
    "import numpy as np\n",
    "import random\n",
    "# Plotting\n",
    "import matplotlib.pyplot as plt\n",
    "from matplotlib import cm \n",
    "from pandas.plotting import scatter_matrix\n",
    "import seaborn as sns\n",
    "# Data Split\n",
    "from sklearn.model_selection import StratifiedShuffleSplit\n",
    "from sklearn.model_selection import train_test_split\n",
    "# Data Pre-Processing\n",
    "from sklearn.preprocessing import StandardScaler\n",
    "from sklearn.preprocessing import Normalizer\n",
    "# Modeling\n",
    "from sklearn.model_selection import cross_val_score\n",
    "from sklearn.linear_model import LogisticRegression\n",
    "from sklearn.tree import DecisionTreeClassifier\n",
    "from sklearn.ensemble import RandomForestClassifier\n",
    "from sklearn.neighbors import KNeighborsClassifier\n",
    "from sklearn.linear_model import SGDClassifier\n",
    "from sklearn.discriminant_analysis import LinearDiscriminantAnalysis\n",
    "from sklearn.naive_bayes import GaussianNB\n",
    "from sklearn.svm import SVC\n",
    "# Tunning\n",
    "from sklearn.model_selection import StratifiedKFold\n",
    "from sklearn.model_selection import GridSearchCV\n",
    "# Assesing model performance\n",
    "from sklearn.metrics import SCORERS\n",
    "from sklearn import metrics as m\n",
    "from sklearn.metrics import plot_roc_curve\n",
    "from sklearn.metrics import roc_curve, auc\n",
    "from sklearn.preprocessing import label_binarize\n",
    "from sklearn.metrics import classification_report\n",
    "from sklearn.metrics import confusion_matrix\n",
    "from sklearn.metrics import accuracy_score\n",
    "# Ensemble\n",
    "from sklearn.ensemble import VotingClassifier\n",
    "from sklearn.ensemble import BaggingClassifier\n",
    "from sklearn.ensemble import ExtraTreesClassifier\n",
    "from sklearn.ensemble import AdaBoostClassifier\n",
    "from sklearn.ensemble import GradientBoostingClassifier\n",
    "import xgboost as xgb\n",
    "\n",
    "# Neural Network\n",
    "import tensorflow as tf\n",
    "from tensorflow import keras\n",
    "import os\n",
    "\n",
    "# Ignoring warnings\n",
    "import warnings\n",
    "warnings.filterwarnings(\"ignore\")"
   ]
  },
  {
   "cell_type": "code",
   "execution_count": 264,
   "metadata": {},
   "outputs": [],
   "source": [
    "df = pd.read_csv(\"winequality-red.csv\")"
   ]
  },
  {
   "cell_type": "markdown",
   "metadata": {},
   "source": [
    "## 1. Visualize and analyze the data"
   ]
  },
  {
   "cell_type": "code",
   "execution_count": 265,
   "metadata": {},
   "outputs": [
    {
     "data": {
      "text/plain": [
       "fixed acidity           0\n",
       "volatile acidity        0\n",
       "citric acid             0\n",
       "residual sugar          0\n",
       "chlorides               0\n",
       "free sulfur dioxide     0\n",
       "total sulfur dioxide    0\n",
       "density                 0\n",
       "pH                      0\n",
       "sulphates               0\n",
       "alcohol                 0\n",
       "quality                 0\n",
       "dtype: int64"
      ]
     },
     "execution_count": 265,
     "metadata": {},
     "output_type": "execute_result"
    }
   ],
   "source": [
    "df.isna().sum() # no nan values ✔"
   ]
  },
  {
   "cell_type": "code",
   "execution_count": 266,
   "metadata": {},
   "outputs": [
    {
     "data": {
      "text/html": [
       "<div>\n",
       "<style scoped>\n",
       "    .dataframe tbody tr th:only-of-type {\n",
       "        vertical-align: middle;\n",
       "    }\n",
       "\n",
       "    .dataframe tbody tr th {\n",
       "        vertical-align: top;\n",
       "    }\n",
       "\n",
       "    .dataframe thead th {\n",
       "        text-align: right;\n",
       "    }\n",
       "</style>\n",
       "<table border=\"1\" class=\"dataframe\">\n",
       "  <thead>\n",
       "    <tr style=\"text-align: right;\">\n",
       "      <th></th>\n",
       "      <th>fixed acidity</th>\n",
       "      <th>volatile acidity</th>\n",
       "      <th>citric acid</th>\n",
       "      <th>residual sugar</th>\n",
       "      <th>chlorides</th>\n",
       "      <th>free sulfur dioxide</th>\n",
       "      <th>total sulfur dioxide</th>\n",
       "      <th>density</th>\n",
       "      <th>pH</th>\n",
       "      <th>sulphates</th>\n",
       "      <th>alcohol</th>\n",
       "      <th>quality</th>\n",
       "    </tr>\n",
       "  </thead>\n",
       "  <tbody>\n",
       "    <tr>\n",
       "      <th>count</th>\n",
       "      <td>1596.000000</td>\n",
       "      <td>1596.000000</td>\n",
       "      <td>1596.000000</td>\n",
       "      <td>1596.000000</td>\n",
       "      <td>1596.000000</td>\n",
       "      <td>1596.000000</td>\n",
       "      <td>1596.000000</td>\n",
       "      <td>1596.000000</td>\n",
       "      <td>1596.000000</td>\n",
       "      <td>1596.000000</td>\n",
       "      <td>1596.000000</td>\n",
       "      <td>1596.000000</td>\n",
       "    </tr>\n",
       "    <tr>\n",
       "      <th>mean</th>\n",
       "      <td>8.314160</td>\n",
       "      <td>0.527954</td>\n",
       "      <td>0.270276</td>\n",
       "      <td>2.535558</td>\n",
       "      <td>0.087120</td>\n",
       "      <td>15.858396</td>\n",
       "      <td>46.382206</td>\n",
       "      <td>0.996744</td>\n",
       "      <td>3.311917</td>\n",
       "      <td>0.656385</td>\n",
       "      <td>10.421147</td>\n",
       "      <td>5.637218</td>\n",
       "    </tr>\n",
       "    <tr>\n",
       "      <th>std</th>\n",
       "      <td>1.732203</td>\n",
       "      <td>0.179176</td>\n",
       "      <td>0.193894</td>\n",
       "      <td>1.405515</td>\n",
       "      <td>0.045251</td>\n",
       "      <td>10.460554</td>\n",
       "      <td>32.839138</td>\n",
       "      <td>0.001888</td>\n",
       "      <td>0.153346</td>\n",
       "      <td>0.163057</td>\n",
       "      <td>1.060371</td>\n",
       "      <td>0.807080</td>\n",
       "    </tr>\n",
       "    <tr>\n",
       "      <th>min</th>\n",
       "      <td>4.600000</td>\n",
       "      <td>0.120000</td>\n",
       "      <td>0.000000</td>\n",
       "      <td>0.900000</td>\n",
       "      <td>0.012000</td>\n",
       "      <td>1.000000</td>\n",
       "      <td>6.000000</td>\n",
       "      <td>0.990070</td>\n",
       "      <td>2.860000</td>\n",
       "      <td>0.330000</td>\n",
       "      <td>8.400000</td>\n",
       "      <td>3.000000</td>\n",
       "    </tr>\n",
       "    <tr>\n",
       "      <th>25%</th>\n",
       "      <td>7.100000</td>\n",
       "      <td>0.390000</td>\n",
       "      <td>0.090000</td>\n",
       "      <td>1.900000</td>\n",
       "      <td>0.070000</td>\n",
       "      <td>7.000000</td>\n",
       "      <td>22.000000</td>\n",
       "      <td>0.995600</td>\n",
       "      <td>3.210000</td>\n",
       "      <td>0.550000</td>\n",
       "      <td>9.500000</td>\n",
       "      <td>5.000000</td>\n",
       "    </tr>\n",
       "    <tr>\n",
       "      <th>50%</th>\n",
       "      <td>7.900000</td>\n",
       "      <td>0.520000</td>\n",
       "      <td>0.260000</td>\n",
       "      <td>2.200000</td>\n",
       "      <td>0.079000</td>\n",
       "      <td>14.000000</td>\n",
       "      <td>38.000000</td>\n",
       "      <td>0.996745</td>\n",
       "      <td>3.310000</td>\n",
       "      <td>0.620000</td>\n",
       "      <td>10.200000</td>\n",
       "      <td>6.000000</td>\n",
       "    </tr>\n",
       "    <tr>\n",
       "      <th>75%</th>\n",
       "      <td>9.200000</td>\n",
       "      <td>0.640000</td>\n",
       "      <td>0.420000</td>\n",
       "      <td>2.600000</td>\n",
       "      <td>0.090000</td>\n",
       "      <td>21.000000</td>\n",
       "      <td>62.000000</td>\n",
       "      <td>0.997832</td>\n",
       "      <td>3.400000</td>\n",
       "      <td>0.730000</td>\n",
       "      <td>11.100000</td>\n",
       "      <td>6.000000</td>\n",
       "    </tr>\n",
       "    <tr>\n",
       "      <th>max</th>\n",
       "      <td>15.600000</td>\n",
       "      <td>1.580000</td>\n",
       "      <td>0.790000</td>\n",
       "      <td>15.500000</td>\n",
       "      <td>0.611000</td>\n",
       "      <td>72.000000</td>\n",
       "      <td>289.000000</td>\n",
       "      <td>1.003690</td>\n",
       "      <td>4.010000</td>\n",
       "      <td>1.980000</td>\n",
       "      <td>14.000000</td>\n",
       "      <td>8.000000</td>\n",
       "    </tr>\n",
       "  </tbody>\n",
       "</table>\n",
       "</div>"
      ],
      "text/plain": [
       "       fixed acidity  volatile acidity  citric acid  residual sugar  \\\n",
       "count    1596.000000       1596.000000  1596.000000     1596.000000   \n",
       "mean        8.314160          0.527954     0.270276        2.535558   \n",
       "std         1.732203          0.179176     0.193894        1.405515   \n",
       "min         4.600000          0.120000     0.000000        0.900000   \n",
       "25%         7.100000          0.390000     0.090000        1.900000   \n",
       "50%         7.900000          0.520000     0.260000        2.200000   \n",
       "75%         9.200000          0.640000     0.420000        2.600000   \n",
       "max        15.600000          1.580000     0.790000       15.500000   \n",
       "\n",
       "         chlorides  free sulfur dioxide  total sulfur dioxide      density  \\\n",
       "count  1596.000000          1596.000000           1596.000000  1596.000000   \n",
       "mean      0.087120            15.858396             46.382206     0.996744   \n",
       "std       0.045251            10.460554             32.839138     0.001888   \n",
       "min       0.012000             1.000000              6.000000     0.990070   \n",
       "25%       0.070000             7.000000             22.000000     0.995600   \n",
       "50%       0.079000            14.000000             38.000000     0.996745   \n",
       "75%       0.090000            21.000000             62.000000     0.997832   \n",
       "max       0.611000            72.000000            289.000000     1.003690   \n",
       "\n",
       "                pH    sulphates      alcohol      quality  \n",
       "count  1596.000000  1596.000000  1596.000000  1596.000000  \n",
       "mean      3.311917     0.656385    10.421147     5.637218  \n",
       "std       0.153346     0.163057     1.060371     0.807080  \n",
       "min       2.860000     0.330000     8.400000     3.000000  \n",
       "25%       3.210000     0.550000     9.500000     5.000000  \n",
       "50%       3.310000     0.620000    10.200000     6.000000  \n",
       "75%       3.400000     0.730000    11.100000     6.000000  \n",
       "max       4.010000     1.980000    14.000000     8.000000  "
      ]
     },
     "execution_count": 266,
     "metadata": {},
     "output_type": "execute_result"
    }
   ],
   "source": [
    "df.describe()"
   ]
  },
  {
   "cell_type": "code",
   "execution_count": 267,
   "metadata": {},
   "outputs": [
    {
     "data": {
      "text/plain": [
       "(1596, 12)"
      ]
     },
     "execution_count": 267,
     "metadata": {},
     "output_type": "execute_result"
    }
   ],
   "source": [
    "df.shape # m=1596, n= 11(potentially)"
   ]
  },
  {
   "cell_type": "code",
   "execution_count": 268,
   "metadata": {},
   "outputs": [],
   "source": [
    "# a mapping dictionary that maps the quality values from 0 to 5\n",
    "quality_mapping = {\n",
    "3: 0, 4: 1, 5: 2, 6: 3, 7: 4, 8: 5}\n",
    "# you can use the map function of pandas with any dictionary \n",
    "# to convert the values in a given column to values in the dictionary\n",
    "\n",
    "df[\"quality\"] = df[\"quality\"].map(quality_mapping)"
   ]
  },
  {
   "cell_type": "markdown",
   "metadata": {},
   "source": [
    "##### Feature Engineering:\n",
    "Lets generate some extra-variables based on the available ones"
   ]
  },
  {
   "cell_type": "code",
   "execution_count": 269,
   "metadata": {},
   "outputs": [],
   "source": [
    "# df[\"acidity_by_Ph\"] = df[\"fixed acidity\"]/df[\"pH\"]\n",
    "df[\"density_sugar\"] = df[\"density\"]/df[\"residual sugar\"]\n",
    "df[\"sulphate_by_chloride\"] = df[\"sulphates\"]/df[\"chlorides\"]"
   ]
  },
  {
   "cell_type": "code",
   "execution_count": 270,
   "metadata": {},
   "outputs": [],
   "source": [
    "df.drop(\"sulphates\", axis=1, inplace=True) # we will incorporate sulphate_by_chloride which correlates better"
   ]
  },
  {
   "cell_type": "code",
   "execution_count": 271,
   "metadata": {},
   "outputs": [
    {
     "data": {
      "image/png": "[encoded data removed]",
      "text/plain": [
       "<Figure size 864x864 with 2 Axes>"
      ]
     },
     "metadata": {},
     "output_type": "display_data"
    }
   ],
   "source": [
    "plt.rcParams[\"figure.figsize\"] = (12,12)\n",
    "colormap=plt.cm.seismic\n",
    "plt.title(\"Pearson corr\", y=1.05, size=15)\n",
    "sns.heatmap(df.corr(), linewidths=0.1, vmax=1.0, square=True, cmap=colormap, linecolor=\"white\", annot=True)\n",
    "plt.tight_layout()\n",
    "# plt.savefig(\"corr.png\", dpi=400)\n",
    "plt.show()"
   ]
  },
  {
   "cell_type": "code",
   "execution_count": 272,
   "metadata": {},
   "outputs": [],
   "source": [
    "corr_matrix = df.corr()\n",
    "corr_vals = abs(corr_matrix[\"quality\"]).sort_values(ascending=False)\n",
    "top8_corr =  corr_vals[1:9]"
   ]
  },
  {
   "cell_type": "code",
   "execution_count": 273,
   "metadata": {},
   "outputs": [
    {
     "data": {
      "text/plain": [
       "alcohol                 0.480738\n",
       "volatile acidity        0.391735\n",
       "sulphate_by_chloride    0.363317\n",
       "citric acid             0.233733\n",
       "total sulfur dioxide    0.185404\n",
       "density                 0.173251\n",
       "fixed acidity           0.127766\n",
       "chlorides               0.119770\n",
       "Name: quality, dtype: float64"
      ]
     },
     "execution_count": 273,
     "metadata": {},
     "output_type": "execute_result"
    }
   ],
   "source": [
    "top8_corr # we will carry with these attributes for the modeling"
   ]
  },
  {
   "cell_type": "code",
   "execution_count": 274,
   "metadata": {},
   "outputs": [],
   "source": [
    "top8_corr = pd.DataFrame(top8_corr)"
   ]
  },
  {
   "cell_type": "markdown",
   "metadata": {},
   "source": [
    "We observe that the atributes that correlate best with the wine quality are alcohol, volatile acicity, sulphates, citric acid, total sufur dioxide, density, fixed acidity and chlorides. We will be using these in the modeling"
   ]
  },
  {
   "cell_type": "markdown",
   "metadata": {},
   "source": [
    "Note: To prevent the model from overfitting I decided to remove two attributes which seemed to not have a major importance and correlation with the target (citric acid and fixed acidity)"
   ]
  },
  {
   "cell_type": "code",
   "execution_count": 275,
   "metadata": {},
   "outputs": [],
   "source": [
    "# top8_corr.drop([\"citric acid\", \"fixed acidity\"], axis=0, inplace=True)"
   ]
  },
  {
   "cell_type": "code",
   "execution_count": 276,
   "metadata": {},
   "outputs": [],
   "source": [
    "list_top8 = list(top8_corr.index)"
   ]
  },
  {
   "cell_type": "code",
   "execution_count": 277,
   "metadata": {},
   "outputs": [],
   "source": [
    "list_top8.append(\"quality\")"
   ]
  },
  {
   "cell_type": "code",
   "execution_count": 278,
   "metadata": {},
   "outputs": [],
   "source": [
    "df_model = df[list_top8]"
   ]
  },
  {
   "cell_type": "code",
   "execution_count": 279,
   "metadata": {},
   "outputs": [
    {
     "data": {
      "image/png": "[encoded data removed]",
      "text/plain": [
       "<Figure size 576x576 with 9 Axes>"
      ]
     },
     "metadata": {},
     "output_type": "display_data"
    }
   ],
   "source": [
    "plt.rcParams[\"figure.figsize\"] = (8,8)\n",
    "df_model.hist(bins=12, color=\"darkblue\")\n",
    "plt.tight_layout()\n",
    "# plt.savefig(\"hist_features.png\", dpi=400)\n",
    "plt.show()\n"
   ]
  },
  {
   "cell_type": "markdown",
   "metadata": {},
   "source": [
    "We can see that most of the selected attributes shown an skewed distribution and possess different scales. We will therefore standarized the data before modeling. But first, lets split the data into the test and train sets."
   ]
  },
  {
   "cell_type": "markdown",
   "metadata": {},
   "source": [
    "## 2. Splitting data: \n",
    "First we check the distribution of the target values to see if an stratified split is needed"
   ]
  },
  {
   "cell_type": "code",
   "execution_count": 280,
   "metadata": {},
   "outputs": [
    {
     "data": {
      "image/png": "[encoded data removed]",
      "text/plain": [
       "<Figure size 360x288 with 1 Axes>"
      ]
     },
     "metadata": {},
     "output_type": "display_data"
    }
   ],
   "source": [
    "plt.rcParams[\"figure.figsize\"] = (5,4)\n",
    "ax = sns.countplot(x='quality', data=df)\n",
    "ax.set_title(\"Target values distribution\", fontsize=20)\n",
    "ax.set_xlabel(\"quality\", fontsize=16)\n",
    "ax.set_ylabel(\"count\", fontsize=16)\n",
    "# plt.savefig(\"target_values_distribution.png\", dpi=400)\n",
    "plt.show()"
   ]
  },
  {
   "cell_type": "markdown",
   "metadata": {},
   "source": [
    "We can see that we have a skewed dataset for classification \n",
    "so we may want to stratify the data before split. Furthermore, we will want to use **stratified k-fold cross-validation** (For classification problems).\n",
    "\n",
    "-> There are several choices for selecting the appropriate number of bins. If\n",
    "you have a lot of samples( > 10k, > 100k), then you don’t need to care about the\n",
    "number of bins. Just divide the data into 10 or 20 bins. If you do not have a lot of\n",
    "samples, you can use a simple rule like Sturge’s Rule to calculate the appropriate\n",
    "number of bins.\n",
    "\n",
    "\n",
    "Number of Bins = 1 + log2(N) Where N is the number of samples you have in your dataset. # 12 in our case"
   ]
  },
  {
   "cell_type": "markdown",
   "metadata": {},
   "source": [
    "For the stratification we will use the most correlated attribute (alchohol)"
   ]
  },
  {
   "cell_type": "code",
   "execution_count": 281,
   "metadata": {},
   "outputs": [],
   "source": [
    "def strater (col_item):\n",
    "    if col_item <= 9.3:\n",
    "        return 1\n",
    "    elif col_item > 9.3 and col_item <= 10:\n",
    "        return 2\n",
    "    elif col_item > 10 and col_item <= 11:\n",
    "        return 3\n",
    "    elif col_item > 11 and col_item <= 12:\n",
    "        return 4\n",
    "    else:\n",
    "        return 5"
   ]
  },
  {
   "cell_type": "code",
   "execution_count": 282,
   "metadata": {},
   "outputs": [],
   "source": [
    "df_model[\"strat\"] = df_model[\"alcohol\"].apply(strater)"
   ]
  },
  {
   "cell_type": "code",
   "execution_count": 283,
   "metadata": {},
   "outputs": [],
   "source": [
    "gist_heat = cm.get_cmap('gist_heat', 200)"
   ]
  },
  {
   "cell_type": "code",
   "execution_count": 284,
   "metadata": {},
   "outputs": [
    {
     "data": {
      "image/png": "[encoded data removed]",
      "text/plain": [
       "<Figure size 360x288 with 1 Axes>"
      ]
     },
     "metadata": {},
     "output_type": "display_data"
    }
   ],
   "source": [
    "df_model[\"strat\"].hist(color=gist_heat(random.uniform(0, 1)))\n",
    "plt.show()"
   ]
  },
  {
   "cell_type": "code",
   "execution_count": 285,
   "metadata": {},
   "outputs": [],
   "source": [
    "split = StratifiedShuffleSplit(n_splits = 1, test_size=0.20, random_state=10)"
   ]
  },
  {
   "cell_type": "code",
   "execution_count": 286,
   "metadata": {},
   "outputs": [],
   "source": [
    "for train_index, test_index in split.split(df_model, df_model[\"strat\"]):\n",
    "    strat_train_set = df_model.loc[train_index]\n",
    "    strat_test_set = df_model.loc[test_index]"
   ]
  },
  {
   "cell_type": "code",
   "execution_count": 287,
   "metadata": {},
   "outputs": [],
   "source": [
    "# we will also do a random split to compare the results of the distribution\n",
    "X = df_model.drop(\"quality\", axis=1)\n",
    "y = df_model[\"quality\"].values\n",
    "X_train, X_test, y_train, y_test = train_test_split(X, y, test_size=0.20, random_state=10) # 0.2 means 80 % is in our train set and 20"
   ]
  },
  {
   "cell_type": "code",
   "execution_count": 288,
   "metadata": {},
   "outputs": [],
   "source": [
    "def proportions(data):\n",
    "    return data[\"strat\"].value_counts()/len(data)"
   ]
  },
  {
   "cell_type": "code",
   "execution_count": 289,
   "metadata": {},
   "outputs": [],
   "source": [
    "comparing = pd.DataFrame({\"Overall\": proportions(df_model),\n",
    "                         \"Stratified\": proportions(strat_test_set),\n",
    "                         \"Random\": proportions(X_test)}).sort_index()"
   ]
  },
  {
   "cell_type": "code",
   "execution_count": 290,
   "metadata": {},
   "outputs": [],
   "source": [
    "comparing = comparing *100 "
   ]
  },
  {
   "cell_type": "code",
   "execution_count": 291,
   "metadata": {},
   "outputs": [
    {
     "data": {
      "text/html": [
       "<div>\n",
       "<style scoped>\n",
       "    .dataframe tbody tr th:only-of-type {\n",
       "        vertical-align: middle;\n",
       "    }\n",
       "\n",
       "    .dataframe tbody tr th {\n",
       "        vertical-align: top;\n",
       "    }\n",
       "\n",
       "    .dataframe thead th {\n",
       "        text-align: right;\n",
       "    }\n",
       "</style>\n",
       "<table border=\"1\" class=\"dataframe\">\n",
       "  <thead>\n",
       "    <tr style=\"text-align: right;\">\n",
       "      <th></th>\n",
       "      <th>Overall</th>\n",
       "      <th>Stratified</th>\n",
       "      <th>Random</th>\n",
       "    </tr>\n",
       "  </thead>\n",
       "  <tbody>\n",
       "    <tr>\n",
       "      <th>1</th>\n",
       "      <td>12.155388</td>\n",
       "      <td>12.1875</td>\n",
       "      <td>11.8750</td>\n",
       "    </tr>\n",
       "    <tr>\n",
       "      <th>2</th>\n",
       "      <td>34.523810</td>\n",
       "      <td>34.3750</td>\n",
       "      <td>33.4375</td>\n",
       "    </tr>\n",
       "    <tr>\n",
       "      <th>3</th>\n",
       "      <td>27.819549</td>\n",
       "      <td>27.8125</td>\n",
       "      <td>27.1875</td>\n",
       "    </tr>\n",
       "    <tr>\n",
       "      <th>4</th>\n",
       "      <td>16.729323</td>\n",
       "      <td>16.8750</td>\n",
       "      <td>17.5000</td>\n",
       "    </tr>\n",
       "    <tr>\n",
       "      <th>5</th>\n",
       "      <td>8.771930</td>\n",
       "      <td>8.7500</td>\n",
       "      <td>10.0000</td>\n",
       "    </tr>\n",
       "  </tbody>\n",
       "</table>\n",
       "</div>"
      ],
      "text/plain": [
       "     Overall  Stratified   Random\n",
       "1  12.155388     12.1875  11.8750\n",
       "2  34.523810     34.3750  33.4375\n",
       "3  27.819549     27.8125  27.1875\n",
       "4  16.729323     16.8750  17.5000\n",
       "5   8.771930      8.7500  10.0000"
      ]
     },
     "execution_count": 291,
     "metadata": {},
     "output_type": "execute_result"
    }
   ],
   "source": [
    "comparing \n",
    "# We can observe how the proportions in the stratified set are closer \n",
    "# to those in the whole set compared to the ramdomly generated set"
   ]
  },
  {
   "cell_type": "code",
   "execution_count": 292,
   "metadata": {},
   "outputs": [],
   "source": [
    "df_model.drop(\"strat\", axis=1, inplace=True)"
   ]
  },
  {
   "cell_type": "code",
   "execution_count": 293,
   "metadata": {},
   "outputs": [],
   "source": [
    "X = df_model.drop(\"quality\", axis=1)"
   ]
  },
  {
   "cell_type": "markdown",
   "metadata": {},
   "source": [
    "we go with stratified split then:"
   ]
  },
  {
   "cell_type": "code",
   "execution_count": 294,
   "metadata": {},
   "outputs": [],
   "source": [
    "strat_train_set.drop(\"strat\", axis=1, inplace=True)\n",
    "strat_test_set.drop(\"strat\", axis=1, inplace=True)"
   ]
  },
  {
   "cell_type": "code",
   "execution_count": 295,
   "metadata": {},
   "outputs": [],
   "source": [
    "X_train = strat_train_set.drop(\"quality\", axis=1)\n",
    "y_train = strat_train_set[\"quality\"].values"
   ]
  },
  {
   "cell_type": "code",
   "execution_count": 296,
   "metadata": {},
   "outputs": [],
   "source": [
    "X_test = strat_test_set.drop(\"quality\", axis=1)\n",
    "y_test = strat_test_set[\"quality\"].values"
   ]
  },
  {
   "cell_type": "markdown",
   "metadata": {},
   "source": [
    "## 3. Standarization of the data\n",
    "Standardizing the features around the center and 0 with a standard deviation of 1 is important when we compare measurements that have different units."
   ]
  },
  {
   "cell_type": "markdown",
   "metadata": {},
   "source": [
    "* Standarize Train set"
   ]
  },
  {
   "cell_type": "markdown",
   "metadata": {},
   "source": [
    "<!-- Standarization implies that the features will be rescaled to ensure the mean and the standard deviation to be 0 and 1, respectively. -->"
   ]
  },
  {
   "cell_type": "code",
   "execution_count": 297,
   "metadata": {},
   "outputs": [],
   "source": [
    "train_scaler = StandardScaler().fit(X_train) # Best results\n",
    "X_train_rescaled = train_scaler.transform(X_train)"
   ]
  },
  {
   "cell_type": "code",
   "execution_count": 298,
   "metadata": {},
   "outputs": [],
   "source": [
    "# from sklearn.preprocessing import MinMaxScaler # did not improve the model\n",
    "# scaler = MinMaxScaler(feature_range=(0, 1))\n",
    "# X_train_rescaled = scaler.fit_transform(X_train) # use MinMaxScaler to revert the re-scaled data"
   ]
  },
  {
   "cell_type": "code",
   "execution_count": 299,
   "metadata": {},
   "outputs": [],
   "source": [
    "# from sklearn.preprocessing import Normalizer # did not improve the model\n",
    "# scaler = Normalizer().fit(X_train)\n",
    "# X_train_rescaled = scaler.transform(X_train)"
   ]
  },
  {
   "cell_type": "code",
   "execution_count": 300,
   "metadata": {},
   "outputs": [],
   "source": [
    "df_rescaled = pd.DataFrame(X_train_rescaled, columns=df_model.columns[:-1])"
   ]
  },
  {
   "cell_type": "code",
   "execution_count": 301,
   "metadata": {},
   "outputs": [
    {
     "data": {
      "image/png": "[encoded data removed]",
      "text/plain": [
       "<Figure size 288x144 with 1 Axes>"
      ]
     },
     "metadata": {},
     "output_type": "display_data"
    },
    {
     "data": {
      "image/png": "[encoded data removed]",
      "text/plain": [
       "<Figure size 288x144 with 1 Axes>"
      ]
     },
     "metadata": {},
     "output_type": "display_data"
    },
    {
     "data": {
      "image/png": "[encoded data removed]",
      "text/plain": [
       "<Figure size 288x144 with 1 Axes>"
      ]
     },
     "metadata": {},
     "output_type": "display_data"
    },
    {
     "data": {
      "image/png": "[encoded data removed]",
      "text/plain": [
       "<Figure size 288x144 with 1 Axes>"
      ]
     },
     "metadata": {},
     "output_type": "display_data"
    },
    {
     "data": {
      "image/png": "[encoded data removed]",
      "text/plain": [
       "<Figure size 288x144 with 1 Axes>"
      ]
     },
     "metadata": {},
     "output_type": "display_data"
    },
    {
     "data": {
      "image/png": "[encoded data removed]",
      "text/plain": [
       "<Figure size 288x144 with 1 Axes>"
      ]
     },
     "metadata": {},
     "output_type": "display_data"
    },
    {
     "data": {
      "image/png": "[encoded data removed]",
      "text/plain": [
       "<Figure size 288x144 with 1 Axes>"
      ]
     },
     "metadata": {},
     "output_type": "display_data"
    },
    {
     "data": {
      "image/png": "[encoded data removed]",
      "text/plain": [
       "<Figure size 288x144 with 1 Axes>"
      ]
     },
     "metadata": {},
     "output_type": "display_data"
    }
   ],
   "source": [
    "\n",
    "for i in top8_corr.index:\n",
    "    df_rescaled[i].plot(kind=\"hist\", bins=12,\n",
    "               figsize=(4,2), \n",
    "               title=str.capitalize(i),\n",
    "               color=gist_heat(random.uniform(0, 1)))\n",
    "    plt.show()"
   ]
  },
  {
   "cell_type": "markdown",
   "metadata": {},
   "source": [
    "* Standarize Test set"
   ]
  },
  {
   "cell_type": "code",
   "execution_count": 302,
   "metadata": {},
   "outputs": [],
   "source": [
    "X_test_rescaled = train_scaler.transform(X_test)"
   ]
  },
  {
   "cell_type": "markdown",
   "metadata": {},
   "source": [
    "## 4. Exploring model performance"
   ]
  },
  {
   "cell_type": "markdown",
   "metadata": {},
   "source": [
    "**What performance metric should we use?**  It depends on the purpose of our model but for this case scenario we may want a balanced model with acceptable precision as well as recall. Hence, f1_score may be prefered. Furthermore, since the distribution of our targets is imbalanced, we may want to use micro-averages which aggregates the contributions of all classes to compute the average metric. Macro-average on the other side would treat all classes equally and would be preferred in a balanced class distribution scenario."
   ]
  },
  {
   "cell_type": "code",
   "execution_count": 303,
   "metadata": {},
   "outputs": [
    {
     "data": {
      "text/plain": [
       "dict_keys(['explained_variance', 'r2', 'max_error', 'neg_median_absolute_error', 'neg_mean_absolute_error', 'neg_mean_squared_error', 'neg_mean_squared_log_error', 'neg_root_mean_squared_error', 'neg_mean_poisson_deviance', 'neg_mean_gamma_deviance', 'accuracy', 'roc_auc', 'roc_auc_ovr', 'roc_auc_ovo', 'roc_auc_ovr_weighted', 'roc_auc_ovo_weighted', 'balanced_accuracy', 'average_precision', 'neg_log_loss', 'neg_brier_score', 'adjusted_rand_score', 'homogeneity_score', 'completeness_score', 'v_measure_score', 'mutual_info_score', 'adjusted_mutual_info_score', 'normalized_mutual_info_score', 'fowlkes_mallows_score', 'precision', 'precision_macro', 'precision_micro', 'precision_samples', 'precision_weighted', 'recall', 'recall_macro', 'recall_micro', 'recall_samples', 'recall_weighted', 'f1', 'f1_macro', 'f1_micro', 'f1_samples', 'f1_weighted', 'jaccard', 'jaccard_macro', 'jaccard_micro', 'jaccard_samples', 'jaccard_weighted'])"
      ]
     },
     "execution_count": 303,
     "metadata": {},
     "output_type": "execute_result"
    }
   ],
   "source": [
    "SCORERS.keys()"
   ]
  },
  {
   "cell_type": "code",
   "execution_count": 304,
   "metadata": {},
   "outputs": [
    {
     "name": "stdout",
     "output_type": "stream",
     "text": [
      "LR: Score = 0.592466, STD = 0.044876\n",
      "BC_LR: Score = 0.593267, STD = 0.045350\n",
      "SGD: Score = 0.524356, STD = 0.040165\n",
      "GNB: Score = 0.542276, STD = 0.037442\n",
      "KNC: Score = 0.580725, STD = 0.045412\n",
      "CART: Score = 0.590894, STD = 0.038479\n",
      "AB_CART: Score = 0.590056, STD = 0.038633\n",
      "GBC: Score = 0.612083, STD = 0.047007\n",
      "RFC: Score = 0.661509, STD = 0.041177\n",
      "ETC: Score = 0.667769, STD = 0.042958\n",
      "SVC: Score = 0.607366, STD = 0.036009\n",
      "BC_SVC: Score = 0.604214, STD = 0.035679\n",
      "XGB: Score = 0.626212, STD = 0.044509\n"
     ]
    }
   ],
   "source": [
    "models = []\n",
    "models.append(('LR', LogisticRegression()))\n",
    "models.append(('BC_LR', BaggingClassifier(LogisticRegression())))\n",
    "models.append(('SGD', SGDClassifier())) \n",
    "models.append(('GNB', GaussianNB()))\n",
    "models.append(('KNC', KNeighborsClassifier()))\n",
    "models.append(('CART', DecisionTreeClassifier())) # Note: When using tree based algos with no regularization, most likely they will overfit\n",
    "models.append(('AB_CART', AdaBoostClassifier(DecisionTreeClassifier())))\n",
    "models.append(('GBC', GradientBoostingClassifier()))\n",
    "models.append(('RFC', RandomForestClassifier())) # n_estimators=100, max_features=6\n",
    "models.append(('ETC', ExtraTreesClassifier()))\n",
    "models.append(('SVC', SVC()))\n",
    "models.append(('BC_SVC', BaggingClassifier(SVC())))\n",
    "models.append(('XGB', xgb.XGBClassifier()))\n",
    "\n",
    "\n",
    "results_model = []\n",
    "names_model = []\n",
    "for name, model in models:\n",
    "    SKF = StratifiedKFold(n_splits=12, random_state=10)\n",
    "    cv_results = cross_val_score(model, X_train_rescaled, y_train, cv=SKF, scoring='f1_micro')\n",
    "    results_model.append(cv_results)\n",
    "    names_model.append(name)\n",
    "    msg = \"%s: Score = %f, STD = %f\" % (name, cv_results.mean(), cv_results.std())\n",
    "    print(msg)"
   ]
  },
  {
   "cell_type": "code",
   "execution_count": 305,
   "metadata": {},
   "outputs": [],
   "source": [
    "values= []\n",
    "for i in results_model:\n",
    "    values.append(round(np.mean(i),3))"
   ]
  },
  {
   "cell_type": "code",
   "execution_count": 306,
   "metadata": {},
   "outputs": [],
   "source": [
    "zipped = list(zip(names_model, values))"
   ]
  },
  {
   "cell_type": "code",
   "execution_count": 307,
   "metadata": {},
   "outputs": [],
   "source": [
    "labels = []\n",
    "for name,value in zipped:\n",
    "    labels.append(\"\".join((name,(\"(\"+str(value)+\")\"))))\n",
    "    "
   ]
  },
  {
   "cell_type": "code",
   "execution_count": 308,
   "metadata": {},
   "outputs": [
    {
     "data": {
      "image/png": "[encoded data removed]",
      "text/plain": [
       "<Figure size 864x360 with 1 Axes>"
      ]
     },
     "metadata": {},
     "output_type": "display_data"
    }
   ],
   "source": [
    "# Compare Algorithms\n",
    "sns.set_style(\"ticks\")\n",
    "fig = plt.figure(figsize=(12,5))\n",
    "ax = fig.add_subplot(111)\n",
    "plt.boxplot(results_model)\n",
    "ax.set_title('Algorithm Comparison', fontsize=20)\n",
    "plt.ylabel(\"Score\", fontsize=16)\n",
    "ax.set_xticklabels(labels, rotation=30, fontsize=12)\n",
    "ax.set_yticklabels([0.35,0.40, 0.45, 0.50, 0.55, 0.60, 0.65, 0.70, 0.75], fontsize=10)\n",
    "plt.gcf().subplots_adjust(bottom=0.30)\n",
    "plt.tight_layout()\n",
    "# plt.savefig(\"Algo_comparison.png\", dpi=400)\n",
    "plt.show()\n"
   ]
  },
  {
   "cell_type": "markdown",
   "metadata": {},
   "source": [
    "Lets select three best performing models, tune them and ensemble them to achieve a better performing model."
   ]
  },
  {
   "cell_type": "markdown",
   "metadata": {},
   "source": [
    "### 5.1 Fine tune SVC"
   ]
  },
  {
   "cell_type": "code",
   "execution_count": 309,
   "metadata": {},
   "outputs": [
    {
     "name": "stdout",
     "output_type": "stream",
     "text": [
      "Best: 0.609718 using {'C': 1.5, 'gamma': 0.2, 'kernel': 'rbf', 'tol': 0.0001}\n",
      "nan (nan) with: {'C': 1.5, 'gamma': 0.2, 'kernel': 'rbf', 'tol': 0}\n",
      "0.609718 (0.039916) with: {'C': 1.5, 'gamma': 0.2, 'kernel': 'rbf', 'tol': 0.0001}\n",
      "0.609718 (0.039916) with: {'C': 1.5, 'gamma': 0.2, 'kernel': 'rbf', 'tol': 0.001}\n",
      "0.609718 (0.038240) with: {'C': 1.5, 'gamma': 0.2, 'kernel': 'rbf', 'tol': 0.1}\n",
      "0.605037 (0.044341) with: {'C': 1.5, 'gamma': 0.2, 'kernel': 'rbf', 'tol': 0.5}\n",
      "0.608953 (0.040853) with: {'C': 1.5, 'gamma': 0.2, 'kernel': 'rbf', 'tol': 1}\n"
     ]
    }
   ],
   "source": [
    "# Tried different combinations and chose the algo based on the score but also on the values of the hyperparameters to obtain some regularization of the model\n",
    "# kernel = [\"linear\", \"poly\", \"rbf\", \"sigmoid\"] \n",
    "C = [1.5] # The lower the higher regularization # [0.1, 0.5, 1.5, 2.5, 8.5] \n",
    "gamma = [0.2] # The lower the higher regularization\n",
    "tol = [0, 0.0001, 0.001, 0.1, 0.5, 1]\n",
    "# degree = [1,3]\n",
    "kernel = [\"rbf\"]\n",
    "\n",
    "\n",
    "param_grid = dict(kernel=kernel, C=C, gamma=gamma, tol=tol)\n",
    "\n",
    "\n",
    "model = SVC()\n",
    "SKF = StratifiedKFold(n_splits=12, random_state=10)\n",
    "grid = GridSearchCV(estimator=model, param_grid=param_grid, scoring=\"f1_micro\", cv=SKF)\n",
    "grid_result = grid.fit(X_train_rescaled, y_train)\n",
    "print(\"Best: %f using %s\" % (grid_result.best_score_, grid_result.best_params_))\n",
    "means = grid_result.cv_results_['mean_test_score']\n",
    "stds = grid_result.cv_results_['std_test_score']\n",
    "params = grid_result.cv_results_['params']\n",
    "for mean, stdev, param in zip(means, stds, params):\n",
    "    print(\"%f (%f) with: %r\" % (mean, stdev, param))\n",
    "    # 0.605801 (0.038748) with: {'C': 1.5, 'gamma': 0.1, 'kernel': 'rbf'}"
   ]
  },
  {
   "cell_type": "code",
   "execution_count": 310,
   "metadata": {},
   "outputs": [
    {
     "data": {
      "text/plain": [
       "SVC(C=1.5, break_ties=False, cache_size=200, class_weight=None, coef0=0.0,\n",
       "    decision_function_shape='ovr', degree=3, gamma=0.1, kernel='rbf',\n",
       "    max_iter=-1, probability=True, random_state=None, shrinking=True, tol=0.001,\n",
       "    verbose=False)"
      ]
     },
     "execution_count": 310,
     "metadata": {},
     "output_type": "execute_result"
    }
   ],
   "source": [
    "SVC_rbf = SVC(kernel=\"rbf\", C=1.5, gamma=0.1, tol=0.001, probability=True)\n",
    "SVC_rbf.fit(X_train_rescaled, y_train)"
   ]
  },
  {
   "cell_type": "markdown",
   "metadata": {},
   "source": [
    "Note: Under the hood Sklearn uses the OvO (One Vs One) strategy for this multi-classification problem, resulting in N × (N – 1) / 2 classifiers -> 15 classifiers in our case. Hence our model trained **15 binary classifiers**, got their decision scores for each case, and selected the class that won the most duels."
   ]
  },
  {
   "cell_type": "markdown",
   "metadata": {},
   "source": [
    "### 5.2 Evaluating SVC"
   ]
  },
  {
   "cell_type": "code",
   "execution_count": 311,
   "metadata": {},
   "outputs": [
    {
     "data": {
      "text/plain": [
       "0.658307210031348"
      ]
     },
     "execution_count": 311,
     "metadata": {},
     "output_type": "execute_result"
    }
   ],
   "source": [
    "SVC_rbf.score(X_train_rescaled,y_train)"
   ]
  },
  {
   "cell_type": "code",
   "execution_count": 312,
   "metadata": {},
   "outputs": [
    {
     "data": {
      "text/plain": [
       "0.628125"
      ]
     },
     "execution_count": 312,
     "metadata": {},
     "output_type": "execute_result"
    }
   ],
   "source": [
    "SVC_rbf.score(X_test_rescaled,y_test)"
   ]
  },
  {
   "cell_type": "code",
   "execution_count": 313,
   "metadata": {},
   "outputs": [
    {
     "data": {
      "text/plain": [
       "array([[0.00456996, 0.03160225, 0.56764833, 0.34508886, 0.04769654,\n",
       "        0.00339406]])"
      ]
     },
     "execution_count": 313,
     "metadata": {},
     "output_type": "execute_result"
    }
   ],
   "source": [
    "# Lets predict one single instance from the test set\n",
    "SVC_rbf.predict_proba(list(X_test_rescaled[0].reshape(1,-1))) # is appears to be class 2, although the probability to be class 3 is fairly high "
   ]
  },
  {
   "cell_type": "code",
   "execution_count": 314,
   "metadata": {},
   "outputs": [
    {
     "data": {
      "text/plain": [
       "array([2], dtype=int64)"
      ]
     },
     "execution_count": 314,
     "metadata": {},
     "output_type": "execute_result"
    }
   ],
   "source": [
    "SVC_rbf.predict(list(X_test_rescaled[0].reshape(1,-1)))"
   ]
  },
  {
   "cell_type": "code",
   "execution_count": 315,
   "metadata": {},
   "outputs": [
    {
     "name": "stdout",
     "output_type": "stream",
     "text": [
      "=====================\n",
      "F1_score:\n",
      "\n",
      "0.628125\n",
      "=====================\n",
      "Confusion Matrix:\n",
      "\n",
      "[[  0   0   2   0   0   0]\n",
      " [  0   0   4   2   0   0]\n",
      " [  0   0 107  40   1   0]\n",
      " [  0   0  34  83   8   0]\n",
      " [  0   0   0  24  11   0]\n",
      " [  0   0   0   3   1   0]]\n",
      "\n",
      "=================\n",
      "Classification Report:\n",
      "\n",
      "              precision    recall  f1-score   support\n",
      "\n",
      "           0       0.00      0.00      0.00         2\n",
      "           1       0.00      0.00      0.00         6\n",
      "           2       0.73      0.72      0.73       148\n",
      "           3       0.55      0.66      0.60       125\n",
      "           4       0.52      0.31      0.39        35\n",
      "           5       0.00      0.00      0.00         4\n",
      "\n",
      "    accuracy                           0.63       320\n",
      "   macro avg       0.30      0.28      0.29       320\n",
      "weighted avg       0.61      0.63      0.61       320\n",
      "\n"
     ]
    }
   ],
   "source": [
    "y_preds = SVC_rbf.predict(X_test_rescaled)\n",
    "print(\"=====================\\nF1_score:\\n\")\n",
    "print(m.f1_score(y_test, y_preds, average='micro'))\n",
    "print(\"=====================\\nConfusion Matrix:\\n\")\n",
    "print(m.confusion_matrix(y_test, y_preds))\n",
    "print(\"\\n=================\\nClassification Report:\\n\")\n",
    "print(m.classification_report(y_test, y_preds))"
   ]
  },
  {
   "cell_type": "markdown",
   "metadata": {},
   "source": [
    "Another important aspect of the model functioning is **feature\n",
    "importance**. We can use an attibute called coef_ to stimate feature importance in SVC models, but the kernel needs to be linear. Lets train a SVC with kernel linear to get idea about the feature importance in this type of model:"
   ]
  },
  {
   "cell_type": "code",
   "execution_count": 316,
   "metadata": {},
   "outputs": [
    {
     "data": {
      "text/plain": [
       "SVC(C=1.5, break_ties=False, cache_size=200, class_weight=None, coef0=0.0,\n",
       "    decision_function_shape='ovr', degree=3, gamma='scale', kernel='linear',\n",
       "    max_iter=-1, probability=False, random_state=None, shrinking=True,\n",
       "    tol=0.001, verbose=False)"
      ]
     },
     "execution_count": 316,
     "metadata": {},
     "output_type": "execute_result"
    }
   ],
   "source": [
    "SVC_linear = SVC(kernel=\"linear\", C=1.5)\n",
    "SVC_linear.fit(X_train_rescaled, y_train)"
   ]
  },
  {
   "cell_type": "code",
   "execution_count": 317,
   "metadata": {},
   "outputs": [],
   "source": [
    "features_dict_SVC = dict(zip(top8_corr.index, list(SVC_linear.coef_[0])))\n",
    "features_imp_df_SVC = pd.DataFrame(features_dict_SVC, index=[\"feature_importance\"]).T"
   ]
  },
  {
   "cell_type": "code",
   "execution_count": 318,
   "metadata": {},
   "outputs": [],
   "source": [
    "top8_corr.columns = [\"feature_corr\"]"
   ]
  },
  {
   "cell_type": "code",
   "execution_count": 319,
   "metadata": {},
   "outputs": [],
   "source": [
    "features_df_SVC = pd.concat([top8_corr, features_imp_df_SVC], axis=1)"
   ]
  },
  {
   "cell_type": "code",
   "execution_count": 320,
   "metadata": {},
   "outputs": [
    {
     "data": {
      "text/html": [
       "<div>\n",
       "<style scoped>\n",
       "    .dataframe tbody tr th:only-of-type {\n",
       "        vertical-align: middle;\n",
       "    }\n",
       "\n",
       "    .dataframe tbody tr th {\n",
       "        vertical-align: top;\n",
       "    }\n",
       "\n",
       "    .dataframe thead th {\n",
       "        text-align: right;\n",
       "    }\n",
       "</style>\n",
       "<table border=\"1\" class=\"dataframe\">\n",
       "  <thead>\n",
       "    <tr style=\"text-align: right;\">\n",
       "      <th></th>\n",
       "      <th>feature_corr</th>\n",
       "      <th>feature_importance</th>\n",
       "    </tr>\n",
       "  </thead>\n",
       "  <tbody>\n",
       "    <tr>\n",
       "      <th>alcohol</th>\n",
       "      <td>0.480738</td>\n",
       "      <td>-0.241646</td>\n",
       "    </tr>\n",
       "    <tr>\n",
       "      <th>volatile acidity</th>\n",
       "      <td>0.391735</td>\n",
       "      <td>0.468525</td>\n",
       "    </tr>\n",
       "    <tr>\n",
       "      <th>sulphate_by_chloride</th>\n",
       "      <td>0.363317</td>\n",
       "      <td>0.217496</td>\n",
       "    </tr>\n",
       "    <tr>\n",
       "      <th>citric acid</th>\n",
       "      <td>0.233733</td>\n",
       "      <td>0.079163</td>\n",
       "    </tr>\n",
       "    <tr>\n",
       "      <th>total sulfur dioxide</th>\n",
       "      <td>0.185404</td>\n",
       "      <td>-0.574641</td>\n",
       "    </tr>\n",
       "    <tr>\n",
       "      <th>density</th>\n",
       "      <td>0.173251</td>\n",
       "      <td>0.378974</td>\n",
       "    </tr>\n",
       "    <tr>\n",
       "      <th>fixed acidity</th>\n",
       "      <td>0.127766</td>\n",
       "      <td>0.042825</td>\n",
       "    </tr>\n",
       "    <tr>\n",
       "      <th>chlorides</th>\n",
       "      <td>0.119770</td>\n",
       "      <td>0.701036</td>\n",
       "    </tr>\n",
       "  </tbody>\n",
       "</table>\n",
       "</div>"
      ],
      "text/plain": [
       "                      feature_corr  feature_importance\n",
       "alcohol                   0.480738           -0.241646\n",
       "volatile acidity          0.391735            0.468525\n",
       "sulphate_by_chloride      0.363317            0.217496\n",
       "citric acid               0.233733            0.079163\n",
       "total sulfur dioxide      0.185404           -0.574641\n",
       "density                   0.173251            0.378974\n",
       "fixed acidity             0.127766            0.042825\n",
       "chlorides                 0.119770            0.701036"
      ]
     },
     "execution_count": 320,
     "metadata": {},
     "output_type": "execute_result"
    }
   ],
   "source": [
    "features_df_SVC"
   ]
  },
  {
   "cell_type": "code",
   "execution_count": 321,
   "metadata": {},
   "outputs": [],
   "source": [
    "# using a colormap\n",
    "seismic = cm.get_cmap('seismic', 20)"
   ]
  },
  {
   "cell_type": "code",
   "execution_count": 322,
   "metadata": {},
   "outputs": [
    {
     "data": {
      "image/png": "[encoded data removed]",
      "text/plain": [
       "<Figure size 864x432 with 1 Axes>"
      ]
     },
     "metadata": {},
     "output_type": "display_data"
    }
   ],
   "source": [
    "# Visualize feature correlations and importance\n",
    "\n",
    "features_df_SVC.plot(kind=\"barh\", legend=True, label=True, figsize=(12,6), colormap=seismic)\n",
    "plt.legend(bbox_to_anchor=(1, 1), fontsize=12)\n",
    "plt.title(\"Feature Importance vs Corr (SVC model)\", fontsize=16)\n",
    "plt.yticks(fontsize=12)\n",
    "plt.tight_layout()\n",
    "# plt.savefig(\"importance_vs_corr_SVC.png\", dpi=400)"
   ]
  },
  {
   "cell_type": "markdown",
   "metadata": {},
   "source": [
    "As we can see atributes with highest feature importance are chlorides and total sulfur dioxide. These results show that the features with high correlation with the target actually do not have the highest feature importance."
   ]
  },
  {
   "cell_type": "markdown",
   "metadata": {},
   "source": [
    "### 6.1 Fine tune RFC"
   ]
  },
  {
   "cell_type": "code",
   "execution_count": 323,
   "metadata": {},
   "outputs": [
    {
     "name": "stdout",
     "output_type": "stream",
     "text": [
      "Best: 0.632458 using {'max_depth': 8, 'max_features': 6, 'min_samples_leaf': 8}\n",
      "0.620643 (0.048256) with: {'max_depth': 8, 'max_features': 2, 'min_samples_leaf': 8}\n",
      "0.626139 (0.038975) with: {'max_depth': 8, 'max_features': 4, 'min_samples_leaf': 8}\n",
      "0.632458 (0.037237) with: {'max_depth': 8, 'max_features': 6, 'min_samples_leaf': 8}\n"
     ]
    }
   ],
   "source": [
    "\n",
    "max_depth = [8] # The lower the higher regularization \n",
    "# n_estimators = [50,100,150]\n",
    "max_features = [2,4,6] # The lower the higher regularization \n",
    "min_samples_leaf = [8] # [2, 6, 12, 20] The higher the higher the regularization\n",
    "\n",
    "param_grid = dict(max_depth=max_depth, min_samples_leaf=min_samples_leaf, max_features=max_features)\n",
    "\n",
    "\n",
    "model = RandomForestClassifier()\n",
    "SKF = StratifiedKFold(n_splits=12, random_state=10)\n",
    "grid = GridSearchCV(estimator=model, param_grid=param_grid, scoring=\"f1_micro\", cv=SKF)\n",
    "grid_result = grid.fit(X_train_rescaled, y_train)\n",
    "print(\"Best: %f using %s\" % (grid_result.best_score_, grid_result.best_params_))\n",
    "means = grid_result.cv_results_['mean_test_score']\n",
    "stds = grid_result.cv_results_['std_test_score']\n",
    "params = grid_result.cv_results_['params']\n",
    "for mean, stdev, param in zip(means, stds, params):\n",
    "    print(\"%f (%f) with: %r\" % (mean, stdev, param))\n"
   ]
  },
  {
   "cell_type": "code",
   "execution_count": 324,
   "metadata": {},
   "outputs": [
    {
     "data": {
      "text/plain": [
       "RandomForestClassifier(bootstrap=True, ccp_alpha=0.0, class_weight=None,\n",
       "                       criterion='gini', max_depth=3, max_features=4,\n",
       "                       max_leaf_nodes=None, max_samples=None,\n",
       "                       min_impurity_decrease=0.0, min_impurity_split=None,\n",
       "                       min_samples_leaf=3, min_samples_split=2,\n",
       "                       min_weight_fraction_leaf=0.0, n_estimators=100,\n",
       "                       n_jobs=None, oob_score=False, random_state=None,\n",
       "                       verbose=0, warm_start=False)"
      ]
     },
     "execution_count": 324,
     "metadata": {},
     "output_type": "execute_result"
    }
   ],
   "source": [
    "RFC =  RandomForestClassifier(max_depth=3, max_features=4, min_samples_leaf=3)\n",
    "RFC.fit(X_train_rescaled, y_train)"
   ]
  },
  {
   "cell_type": "markdown",
   "metadata": {},
   "source": [
    "### 6.2 Evaluating RFC"
   ]
  },
  {
   "cell_type": "code",
   "execution_count": 325,
   "metadata": {},
   "outputs": [
    {
     "data": {
      "text/plain": [
       "0.6144200626959248"
      ]
     },
     "execution_count": 325,
     "metadata": {},
     "output_type": "execute_result"
    }
   ],
   "source": [
    "RFC.score(X_train_rescaled,y_train)"
   ]
  },
  {
   "cell_type": "code",
   "execution_count": 326,
   "metadata": {},
   "outputs": [
    {
     "data": {
      "text/plain": [
       "0.621875"
      ]
     },
     "execution_count": 326,
     "metadata": {},
     "output_type": "execute_result"
    }
   ],
   "source": [
    "RFC.score(X_test_rescaled,y_test)"
   ]
  },
  {
   "cell_type": "code",
   "execution_count": 327,
   "metadata": {},
   "outputs": [
    {
     "name": "stdout",
     "output_type": "stream",
     "text": [
      "=====================\n",
      "F1_score:\n",
      "\n",
      "0.621875\n",
      "=====================\n",
      "Confusion Matrix:\n",
      "\n",
      "[[  0   0   1   1   0   0]\n",
      " [  0   0   4   2   0   0]\n",
      " [  0   0 106  41   1   0]\n",
      " [  0   0  38  84   3   0]\n",
      " [  0   0   0  26   9   0]\n",
      " [  0   0   0   4   0   0]]\n",
      "\n",
      "=================\n",
      "Classification Report:\n",
      "\n",
      "              precision    recall  f1-score   support\n",
      "\n",
      "           0       0.00      0.00      0.00         2\n",
      "           1       0.00      0.00      0.00         6\n",
      "           2       0.71      0.72      0.71       148\n",
      "           3       0.53      0.67      0.59       125\n",
      "           4       0.69      0.26      0.37        35\n",
      "           5       0.00      0.00      0.00         4\n",
      "\n",
      "    accuracy                           0.62       320\n",
      "   macro avg       0.32      0.27      0.28       320\n",
      "weighted avg       0.61      0.62      0.60       320\n",
      "\n"
     ]
    }
   ],
   "source": [
    "y_preds = RFC.predict(X_test_rescaled)\n",
    "print(\"=====================\\nF1_score:\\n\")\n",
    "print(m.f1_score(y_test, y_preds, average='micro'))\n",
    "print(\"=====================\\nConfusion Matrix:\\n\")\n",
    "print(m.confusion_matrix(y_test, y_preds))\n",
    "print(\"\\n=================\\nClassification Report:\\n\")\n",
    "print(m.classification_report(y_test, y_preds))"
   ]
  },
  {
   "cell_type": "code",
   "execution_count": 328,
   "metadata": {},
   "outputs": [],
   "source": [
    "# Feature Importance. Random Forests make easy to measure the relative importance of each feature ✔\n",
    "feature_imp = RFC.feature_importances_"
   ]
  },
  {
   "cell_type": "code",
   "execution_count": 329,
   "metadata": {},
   "outputs": [],
   "source": [
    "features_dict_RFC = dict(zip(top8_corr.index, list(feature_imp)))\n",
    "features_imp_df_RFC = pd.DataFrame(features_dict_RFC, index=[\"feature_importance\"]).T"
   ]
  },
  {
   "cell_type": "code",
   "execution_count": 330,
   "metadata": {},
   "outputs": [],
   "source": [
    "top8_corr.columns = [\"feature_corr\"]"
   ]
  },
  {
   "cell_type": "code",
   "execution_count": 331,
   "metadata": {},
   "outputs": [],
   "source": [
    "features_df_RFC = pd.concat([top8_corr, features_imp_df_RFC], axis=1)"
   ]
  },
  {
   "cell_type": "code",
   "execution_count": 332,
   "metadata": {},
   "outputs": [
    {
     "data": {
      "text/html": [
       "<div>\n",
       "<style scoped>\n",
       "    .dataframe tbody tr th:only-of-type {\n",
       "        vertical-align: middle;\n",
       "    }\n",
       "\n",
       "    .dataframe tbody tr th {\n",
       "        vertical-align: top;\n",
       "    }\n",
       "\n",
       "    .dataframe thead th {\n",
       "        text-align: right;\n",
       "    }\n",
       "</style>\n",
       "<table border=\"1\" class=\"dataframe\">\n",
       "  <thead>\n",
       "    <tr style=\"text-align: right;\">\n",
       "      <th></th>\n",
       "      <th>feature_corr</th>\n",
       "      <th>feature_importance</th>\n",
       "    </tr>\n",
       "  </thead>\n",
       "  <tbody>\n",
       "    <tr>\n",
       "      <th>alcohol</th>\n",
       "      <td>0.480738</td>\n",
       "      <td>0.436234</td>\n",
       "    </tr>\n",
       "    <tr>\n",
       "      <th>volatile acidity</th>\n",
       "      <td>0.391735</td>\n",
       "      <td>0.148215</td>\n",
       "    </tr>\n",
       "    <tr>\n",
       "      <th>sulphate_by_chloride</th>\n",
       "      <td>0.363317</td>\n",
       "      <td>0.179463</td>\n",
       "    </tr>\n",
       "    <tr>\n",
       "      <th>citric acid</th>\n",
       "      <td>0.233733</td>\n",
       "      <td>0.027082</td>\n",
       "    </tr>\n",
       "    <tr>\n",
       "      <th>total sulfur dioxide</th>\n",
       "      <td>0.185404</td>\n",
       "      <td>0.119772</td>\n",
       "    </tr>\n",
       "    <tr>\n",
       "      <th>density</th>\n",
       "      <td>0.173251</td>\n",
       "      <td>0.041946</td>\n",
       "    </tr>\n",
       "    <tr>\n",
       "      <th>fixed acidity</th>\n",
       "      <td>0.127766</td>\n",
       "      <td>0.033233</td>\n",
       "    </tr>\n",
       "    <tr>\n",
       "      <th>chlorides</th>\n",
       "      <td>0.119770</td>\n",
       "      <td>0.014054</td>\n",
       "    </tr>\n",
       "  </tbody>\n",
       "</table>\n",
       "</div>"
      ],
      "text/plain": [
       "                      feature_corr  feature_importance\n",
       "alcohol                   0.480738            0.436234\n",
       "volatile acidity          0.391735            0.148215\n",
       "sulphate_by_chloride      0.363317            0.179463\n",
       "citric acid               0.233733            0.027082\n",
       "total sulfur dioxide      0.185404            0.119772\n",
       "density                   0.173251            0.041946\n",
       "fixed acidity             0.127766            0.033233\n",
       "chlorides                 0.119770            0.014054"
      ]
     },
     "execution_count": 332,
     "metadata": {},
     "output_type": "execute_result"
    }
   ],
   "source": [
    "features_df_RFC"
   ]
  },
  {
   "cell_type": "code",
   "execution_count": 333,
   "metadata": {},
   "outputs": [
    {
     "data": {
      "image/png": "[encoded data removed]",
      "text/plain": [
       "<Figure size 864x432 with 1 Axes>"
      ]
     },
     "metadata": {},
     "output_type": "display_data"
    }
   ],
   "source": [
    "# Visualize feature correlations and importance\n",
    "\n",
    "features_df_RFC.plot(kind=\"barh\", legend=True, label=True, figsize=(12,6), colormap=seismic)\n",
    "plt.legend(bbox_to_anchor=(1, 1), fontsize=12)\n",
    "plt.title(\"Feature Importance vs Corr (RFC model)\", fontsize=16)\n",
    "plt.yticks(fontsize=12)\n",
    "plt.tight_layout()\n",
    "# plt.savefig(\"importance_vs_corr_RFC.png\", dpi=400)"
   ]
  },
  {
   "cell_type": "markdown",
   "metadata": {},
   "source": [
    "It appears that unlike the SVC algo, feature importance of the RFC has a strong association with the feature correlations with the target"
   ]
  },
  {
   "cell_type": "markdown",
   "metadata": {},
   "source": [
    "### 7.1 Fine tune ExtraTreesClassifier (ETC)"
   ]
  },
  {
   "cell_type": "code",
   "execution_count": 334,
   "metadata": {},
   "outputs": [
    {
     "name": "stdout",
     "output_type": "stream",
     "text": [
      "Best: 0.614383 using {'max_depth': 8, 'max_features': 6, 'min_samples_leaf': 8}\n",
      "0.589277 (0.043079) with: {'max_depth': 8, 'max_features': 2, 'min_samples_leaf': 8}\n",
      "0.612833 (0.041491) with: {'max_depth': 8, 'max_features': 4, 'min_samples_leaf': 8}\n",
      "0.614383 (0.042052) with: {'max_depth': 8, 'max_features': 6, 'min_samples_leaf': 8}\n"
     ]
    }
   ],
   "source": [
    " \n",
    "max_depth = [8] # The lower the higher regularization \n",
    "# n_estimators = [50,100,150]\n",
    "max_features = [2,4,6] # The lower the higher regularization \n",
    "min_samples_leaf = [8] # [2, 6, 12, 20] The higher the higher the regularization\n",
    "\n",
    "param_grid = dict(max_depth=max_depth, min_samples_leaf=min_samples_leaf, max_features=max_features)\n",
    "\n",
    "model = ExtraTreesClassifier()\n",
    "SKF = StratifiedKFold(n_splits=12, random_state=10)\n",
    "grid = GridSearchCV(estimator=model, param_grid=param_grid, scoring=\"f1_micro\", cv=SKF)\n",
    "grid_result = grid.fit(X_train_rescaled, y_train)\n",
    "print(\"Best: %f using %s\" % (grid_result.best_score_, grid_result.best_params_))\n",
    "means = grid_result.cv_results_['mean_test_score']\n",
    "stds = grid_result.cv_results_['std_test_score']\n",
    "params = grid_result.cv_results_['params']\n",
    "for mean, stdev, param in zip(means, stds, params):\n",
    "    print(\"%f (%f) with: %r\" % (mean, stdev, param))\n"
   ]
  },
  {
   "cell_type": "code",
   "execution_count": 335,
   "metadata": {},
   "outputs": [
    {
     "data": {
      "text/plain": [
       "ExtraTreesClassifier(bootstrap=False, ccp_alpha=0.0, class_weight=None,\n",
       "                     criterion='gini', max_depth=10, max_features=8,\n",
       "                     max_leaf_nodes=None, max_samples=None,\n",
       "                     min_impurity_decrease=0.0, min_impurity_split=None,\n",
       "                     min_samples_leaf=3, min_samples_split=2,\n",
       "                     min_weight_fraction_leaf=0.0, n_estimators=100,\n",
       "                     n_jobs=None, oob_score=False, random_state=None, verbose=0,\n",
       "                     warm_start=False)"
      ]
     },
     "execution_count": 335,
     "metadata": {},
     "output_type": "execute_result"
    }
   ],
   "source": [
    "ETC =  ExtraTreesClassifier(max_depth=10, max_features=8, min_samples_leaf=3)\n",
    "ETC.fit(X_train_rescaled, y_train)"
   ]
  },
  {
   "cell_type": "markdown",
   "metadata": {},
   "source": [
    "### 7.2 Evaluating ETC"
   ]
  },
  {
   "cell_type": "code",
   "execution_count": 336,
   "metadata": {},
   "outputs": [
    {
     "data": {
      "text/plain": [
       "0.8456112852664577"
      ]
     },
     "execution_count": 336,
     "metadata": {},
     "output_type": "execute_result"
    }
   ],
   "source": [
    "ETC.score(X_train_rescaled,y_train)"
   ]
  },
  {
   "cell_type": "code",
   "execution_count": 337,
   "metadata": {},
   "outputs": [
    {
     "data": {
      "text/plain": [
       "0.69375"
      ]
     },
     "execution_count": 337,
     "metadata": {},
     "output_type": "execute_result"
    }
   ],
   "source": [
    "ETC.score(X_test_rescaled,y_test)"
   ]
  },
  {
   "cell_type": "code",
   "execution_count": 338,
   "metadata": {},
   "outputs": [
    {
     "name": "stdout",
     "output_type": "stream",
     "text": [
      "=====================\n",
      "F1_score:\n",
      "\n",
      "0.69375\n",
      "=====================\n",
      "Confusion Matrix:\n",
      "\n",
      "[[  0   0   1   1   0   0]\n",
      " [  0   0   3   3   0   0]\n",
      " [  0   0 116  31   1   0]\n",
      " [  0   0  32  84   9   0]\n",
      " [  0   0   0  13  22   0]\n",
      " [  0   0   0   3   1   0]]\n",
      "\n",
      "=================\n",
      "Classification Report:\n",
      "\n",
      "              precision    recall  f1-score   support\n",
      "\n",
      "           0       0.00      0.00      0.00         2\n",
      "           1       0.00      0.00      0.00         6\n",
      "           2       0.76      0.78      0.77       148\n",
      "           3       0.62      0.67      0.65       125\n",
      "           4       0.67      0.63      0.65        35\n",
      "           5       0.00      0.00      0.00         4\n",
      "\n",
      "    accuracy                           0.69       320\n",
      "   macro avg       0.34      0.35      0.34       320\n",
      "weighted avg       0.67      0.69      0.68       320\n",
      "\n"
     ]
    }
   ],
   "source": [
    "y_preds = ETC.predict(X_test_rescaled)\n",
    "print(\"=====================\\nF1_score:\\n\")\n",
    "print(m.f1_score(y_test, y_preds, average='micro'))\n",
    "print(\"=====================\\nConfusion Matrix:\\n\")\n",
    "print(m.confusion_matrix(y_test, y_preds))\n",
    "print(\"\\n=================\\nClassification Report:\\n\")\n",
    "print(m.classification_report(y_test, y_preds))"
   ]
  },
  {
   "cell_type": "markdown",
   "metadata": {},
   "source": [
    "### 8.1 Fine tune XGB Classifier"
   ]
  },
  {
   "cell_type": "code",
   "execution_count": 339,
   "metadata": {},
   "outputs": [
    {
     "name": "stdout",
     "output_type": "stream",
     "text": [
      "Best: 0.654492 using {'learning_rate': 0.05, 'max_depth': 8, 'min_child_weight': 1}\n",
      "0.654492 (0.048773) with: {'learning_rate': 0.05, 'max_depth': 8, 'min_child_weight': 1}\n",
      "0.638012 (0.039646) with: {'learning_rate': 0.05, 'max_depth': 8, 'min_child_weight': 2}\n",
      "0.641884 (0.039912) with: {'learning_rate': 0.05, 'max_depth': 8, 'min_child_weight': 11}\n"
     ]
    }
   ],
   "source": [
    "max_depth = [8] # ,4,8,16]\n",
    "learning_rate = [0.05] # 0.03, 0.05\n",
    "min_child_weight = [1, 2, 11]\n",
    "\n",
    "param_grid = dict(max_depth=max_depth, learning_rate=learning_rate, min_child_weight=min_child_weight)\n",
    "\n",
    "model = xgb.XGBClassifier()\n",
    "SKF = StratifiedKFold(n_splits=12, random_state=10)\n",
    "grid = GridSearchCV(estimator=model, param_grid=param_grid, scoring=\"f1_micro\", cv=SKF)\n",
    "grid_result = grid.fit(X_train_rescaled, y_train)\n",
    "print(\"Best: %f using %s\" % (grid_result.best_score_, grid_result.best_params_))\n",
    "means = grid_result.cv_results_['mean_test_score']\n",
    "stds = grid_result.cv_results_['std_test_score']\n",
    "params = grid_result.cv_results_['params']\n",
    "for mean, stdev, param in zip(means, stds, params):\n",
    "    print(\"%f (%f) with: %r\" % (mean, stdev, param))"
   ]
  },
  {
   "cell_type": "code",
   "execution_count": 340,
   "metadata": {},
   "outputs": [
    {
     "data": {
      "text/plain": [
       "XGBClassifier(base_score=0.5, booster='gbtree', colsample_bylevel=1,\n",
       "              colsample_bynode=1, colsample_bytree=1, gamma=0,\n",
       "              learning_rate=0.045, max_delta_step=0, max_depth=4,\n",
       "              min_child_weight=11, missing=None, n_estimators=100, n_jobs=1,\n",
       "              nthread=None, objective='multi:softprob', random_state=0,\n",
       "              reg_alpha=0, reg_lambda=1, scale_pos_weight=1, seed=None,\n",
       "              silent=None, subsample=1, verbosity=1)"
      ]
     },
     "execution_count": 340,
     "metadata": {},
     "output_type": "execute_result"
    }
   ],
   "source": [
    "xgboost = xgb.XGBClassifier(max_depth=4, learning_rate=0.045, min_child_weight=11)\n",
    "xgboost.fit(X_train_rescaled,y_train)"
   ]
  },
  {
   "cell_type": "markdown",
   "metadata": {},
   "source": [
    "### 8.2 Evaluating XGB Classifier"
   ]
  },
  {
   "cell_type": "code",
   "execution_count": 341,
   "metadata": {},
   "outputs": [
    {
     "data": {
      "text/plain": [
       "0.7170846394984326"
      ]
     },
     "execution_count": 341,
     "metadata": {},
     "output_type": "execute_result"
    }
   ],
   "source": [
    "xgboost.score(X_train_rescaled,y_train)"
   ]
  },
  {
   "cell_type": "code",
   "execution_count": 342,
   "metadata": {},
   "outputs": [
    {
     "data": {
      "text/plain": [
       "0.625"
      ]
     },
     "execution_count": 342,
     "metadata": {},
     "output_type": "execute_result"
    }
   ],
   "source": [
    "xgboost.score(X_test_rescaled,y_test)"
   ]
  },
  {
   "cell_type": "code",
   "execution_count": 343,
   "metadata": {},
   "outputs": [
    {
     "name": "stdout",
     "output_type": "stream",
     "text": [
      "=====================\n",
      "F1_score:\n",
      "\n",
      "0.625\n",
      "=====================\n",
      "Confusion Matrix:\n",
      "\n",
      "[[  0   0   1   1   0   0]\n",
      " [  0   0   3   3   0   0]\n",
      " [  0   0 106  41   1   0]\n",
      " [  0   0  36  79  10   0]\n",
      " [  0   0   0  20  15   0]\n",
      " [  0   0   0   3   1   0]]\n",
      "\n",
      "=================\n",
      "Classification Report:\n",
      "\n",
      "              precision    recall  f1-score   support\n",
      "\n",
      "           0       0.00      0.00      0.00         2\n",
      "           1       0.00      0.00      0.00         6\n",
      "           2       0.73      0.72      0.72       148\n",
      "           3       0.54      0.63      0.58       125\n",
      "           4       0.56      0.43      0.48        35\n",
      "           5       0.00      0.00      0.00         4\n",
      "\n",
      "    accuracy                           0.62       320\n",
      "   macro avg       0.30      0.30      0.30       320\n",
      "weighted avg       0.61      0.62      0.61       320\n",
      "\n"
     ]
    }
   ],
   "source": [
    "y_preds = xgboost.predict(X_test_rescaled)\n",
    "print(\"=====================\\nF1_score:\\n\")\n",
    "print(m.f1_score(y_test, y_preds, average='micro'))\n",
    "print(\"=====================\\nConfusion Matrix:\\n\")\n",
    "print(m.confusion_matrix(y_test, y_preds))\n",
    "print(\"\\n=================\\nClassification Report:\\n\")\n",
    "print(m.classification_report(y_test, y_preds))"
   ]
  },
  {
   "cell_type": "markdown",
   "metadata": {},
   "source": [
    "## 9 Ensemble model based on SVC, RFC and ETC using voting classifier"
   ]
  },
  {
   "cell_type": "code",
   "execution_count": 344,
   "metadata": {},
   "outputs": [
    {
     "data": {
      "text/plain": [
       "VotingClassifier(estimators=[('rfc',\n",
       "                              RandomForestClassifier(bootstrap=True,\n",
       "                                                     ccp_alpha=0.0,\n",
       "                                                     class_weight=None,\n",
       "                                                     criterion='gini',\n",
       "                                                     max_depth=3,\n",
       "                                                     max_features=4,\n",
       "                                                     max_leaf_nodes=None,\n",
       "                                                     max_samples=None,\n",
       "                                                     min_impurity_decrease=0.0,\n",
       "                                                     min_impurity_split=None,\n",
       "                                                     min_samples_leaf=3,\n",
       "                                                     min_samples_split=2,\n",
       "                                                     min_weight_fraction_leaf=0.0,\n",
       "                                                     n_estimators=100,\n",
       "                                                     n_jobs=None,\n",
       "                                                     oob_score=False,...\n",
       "                                            colsample_bynode=1,\n",
       "                                            colsample_bytree=1, gamma=0,\n",
       "                                            learning_rate=0.045,\n",
       "                                            max_delta_step=0, max_depth=4,\n",
       "                                            min_child_weight=11, missing=None,\n",
       "                                            n_estimators=100, n_jobs=1,\n",
       "                                            nthread=None,\n",
       "                                            objective='multi:softprob',\n",
       "                                            random_state=0, reg_alpha=0,\n",
       "                                            reg_lambda=1, scale_pos_weight=1,\n",
       "                                            seed=None, silent=None, subsample=1,\n",
       "                                            verbosity=1))],\n",
       "                 flatten_transform=True, n_jobs=None, voting='soft',\n",
       "                 weights=None)"
      ]
     },
     "execution_count": 344,
     "metadata": {},
     "output_type": "execute_result"
    }
   ],
   "source": [
    "voting_clf = VotingClassifier(\n",
    "estimators=[('rfc', RFC), ('svc', SVC_rbf),(\"etc\", ETC), (\"xgbc\", xgboost)],\n",
    "voting='soft')\n",
    "voting_clf.fit(X_train_rescaled, y_train)"
   ]
  },
  {
   "cell_type": "markdown",
   "metadata": {},
   "source": [
    "#### Evaluation performance"
   ]
  },
  {
   "cell_type": "code",
   "execution_count": 345,
   "metadata": {},
   "outputs": [
    {
     "data": {
      "text/plain": [
       "0.7163009404388715"
      ]
     },
     "execution_count": 345,
     "metadata": {},
     "output_type": "execute_result"
    }
   ],
   "source": [
    "voting_clf.score(X_train_rescaled,y_train)"
   ]
  },
  {
   "cell_type": "code",
   "execution_count": 346,
   "metadata": {},
   "outputs": [
    {
     "data": {
      "text/plain": [
       "0.640625"
      ]
     },
     "execution_count": 346,
     "metadata": {},
     "output_type": "execute_result"
    }
   ],
   "source": [
    "voting_clf.score(X_test_rescaled,y_test)"
   ]
  },
  {
   "cell_type": "code",
   "execution_count": 347,
   "metadata": {},
   "outputs": [
    {
     "data": {
      "text/plain": [
       "[0.60625, 0.628125, 0.703125, 0.625]"
      ]
     },
     "execution_count": 347,
     "metadata": {},
     "output_type": "execute_result"
    }
   ],
   "source": [
    "[estimator.score(X_test_rescaled, y_test) for estimator in voting_clf.estimators_]"
   ]
  },
  {
   "cell_type": "code",
   "execution_count": 348,
   "metadata": {},
   "outputs": [
    {
     "data": {
      "text/plain": [
       "[0.6152037617554859, 0.658307210031348, 0.8550156739811913, 0.7170846394984326]"
      ]
     },
     "execution_count": 348,
     "metadata": {},
     "output_type": "execute_result"
    }
   ],
   "source": [
    "[estimator.score(X_train_rescaled, y_train) for estimator in voting_clf.estimators_]"
   ]
  },
  {
   "cell_type": "code",
   "execution_count": 349,
   "metadata": {},
   "outputs": [
    {
     "name": "stdout",
     "output_type": "stream",
     "text": [
      "=====================\n",
      "F1_score:\n",
      "\n",
      "0.640625\n",
      "=====================\n",
      "Accuracy Score:\n",
      "\n",
      "0.640625\n",
      "=====================\n",
      "Confusion Matrix:\n",
      "\n",
      "[[  0   0   1   1   0   0]\n",
      " [  0   0   3   3   0   0]\n",
      " [  0   0 108  39   1   0]\n",
      " [  0   0  34  84   7   0]\n",
      " [  0   0   0  22  13   0]\n",
      " [  0   0   0   3   1   0]]\n",
      "\n",
      "=================\n",
      "Classification Report:\n",
      "\n",
      "              precision    recall  f1-score   support\n",
      "\n",
      "           0       0.00      0.00      0.00         2\n",
      "           1       0.00      0.00      0.00         6\n",
      "           2       0.74      0.73      0.73       148\n",
      "           3       0.55      0.67      0.61       125\n",
      "           4       0.59      0.37      0.46        35\n",
      "           5       0.00      0.00      0.00         4\n",
      "\n",
      "    accuracy                           0.64       320\n",
      "   macro avg       0.31      0.30      0.30       320\n",
      "weighted avg       0.62      0.64      0.63       320\n",
      "\n"
     ]
    }
   ],
   "source": [
    "y_preds = voting_clf.predict(X_test_rescaled)\n",
    "print(\"=====================\\nF1_score:\\n\")\n",
    "print(m.f1_score(y_test, y_preds, average='micro'))\n",
    "print(\"=====================\\nAccuracy Score:\\n\")\n",
    "print(m.accuracy_score(y_test, y_preds))\n",
    "print(\"=====================\\nConfusion Matrix:\\n\")\n",
    "print(m.confusion_matrix(y_test, y_preds))\n",
    "print(\"\\n=================\\nClassification Report:\\n\")\n",
    "print(m.classification_report(y_test, y_preds))"
   ]
  },
  {
   "cell_type": "code",
   "execution_count": 350,
   "metadata": {},
   "outputs": [
    {
     "data": {
      "image/png": "[encoded data removed]",
      "text/plain": [
       "<Figure size 720x504 with 2 Axes>"
      ]
     },
     "metadata": {},
     "output_type": "display_data"
    }
   ],
   "source": [
    "\n",
    "conf_mx = m.confusion_matrix(y_test, y_preds)\n",
    "\n",
    "plt.figure(figsize = (10,7))\n",
    "sns.heatmap(conf_mx, annot=True, fmt='d', annot_kws={\"fontsize\":16})\n",
    "plt.title(\"Confussion Matrix Ensemble Model\", fontsize=20)\n",
    "plt.xlabel('Predicted', fontsize=16)\n",
    "plt.ylabel('Truth', fontsize=16)\n",
    "plt.xticks(fontsize=14)\n",
    "plt.yticks(fontsize=14)\n",
    "#plt.savefig(\"corr_mat.png\", dpi=300)"
   ]
  },
  {
   "cell_type": "markdown",
   "metadata": {},
   "source": [
    "We can also use matshow plot to represent the results from the correlation matrix"
   ]
  },
  {
   "cell_type": "code",
   "execution_count": 351,
   "metadata": {},
   "outputs": [
    {
     "data": {
      "image/png": "[encoded data removed]",
      "text/plain": [
       "<Figure size 576x576 with 1 Axes>"
      ]
     },
     "metadata": {},
     "output_type": "display_data"
    }
   ],
   "source": [
    "plt.rcParams[\"figure.figsize\"] = (8,8)\n",
    "plt.matshow(conf_mx, cmap=plt.cm.gray)\n",
    "plt.annotate(\"110\",(1.8,2.1), color=\"b\", weight='bold', fontsize=22)\n",
    "plt.annotate(\"37\",(2.9,2.1), color=\"w\", weight='bold',fontsize=18)\n",
    "plt.annotate(\"34\",(1.8,3.1), color=\"w\", weight='bold',fontsize=18)\n",
    "plt.annotate(\"83\",(2.9,3.1), color=\"b\", weight='bold',fontsize=20)\n",
    "plt.annotate(\"8\",(3.9,3.1), color=\"w\", weight='bold')\n",
    "plt.annotate(\"12\",(3.9,4.1), color=\"w\", weight='bold')\n",
    "plt.annotate(\"23\",(2.9,4.1), color=\"w\", weight='bold')\n",
    "# plt.savefig(\"matshow.png\", dpi=300)\n",
    "plt.show()\n"
   ]
  },
  {
   "cell_type": "markdown",
   "metadata": {},
   "source": [
    "**Highlighting the errors** produced by the model: We need to divide each value in the confusion matrix by the number of wines in the corresponding class, so you can compare error rates instead of absolute number of errors (which would make abundant classes look unfairly bad). We perform the normalization and plot the results again."
   ]
  },
  {
   "cell_type": "code",
   "execution_count": 352,
   "metadata": {},
   "outputs": [
    {
     "data": {
      "text/plain": [
       "(array([0.5, 1.5, 2.5, 3.5, 4.5, 5.5]), <a list of 6 Text yticklabel objects>)"
      ]
     },
     "execution_count": 352,
     "metadata": {},
     "output_type": "execute_result"
    },
    {
     "data": {
      "image/png": "[encoded data removed]",
      "text/plain": [
       "<Figure size 720x504 with 2 Axes>"
      ]
     },
     "metadata": {},
     "output_type": "display_data"
    }
   ],
   "source": [
    "row_sums = conf_mx.sum(axis=1, keepdims=True)\n",
    "norm_conf_mx = conf_mx / row_sums\n",
    "plt.figure(figsize = (10,7))\n",
    "sns.heatmap(norm_conf_mx, annot=True, annot_kws={\"fontsize\":16})\n",
    "plt.xlabel('Predicted', fontsize=16)\n",
    "plt.ylabel('Truth', fontsize=16)\n",
    "plt.xticks(fontsize=14)\n",
    "plt.yticks(fontsize=14)\n"
   ]
  },
  {
   "cell_type": "markdown",
   "metadata": {},
   "source": [
    "This diagram shows us that the classess 2 and 3 are the ones that are being missclassified the most."
   ]
  },
  {
   "cell_type": "markdown",
   "metadata": {},
   "source": [
    "We see that we hit a 64% of predictions correcly, and as we can appreciate in the confusion matrix, most of errors fall by one point of quality(+-1), meaning that we can make good use of our model to estimate the quality of red wine.\n",
    "We also observe more false negatives (below the diagonal) than false positives (above the diagonal) meaning that our **precision** is better than our **recall**. Or in other words, our model is more **specific** than **sensitive**."
   ]
  },
  {
   "cell_type": "markdown",
   "metadata": {},
   "source": [
    "ROC Curve (plot of true positive rate versus false positive rate) and AUC (Area Under Curve) Scores¶\n",
    "[see](https://stackoverflow.com/questions/45332410/sklearn-roc-for-multiclass-classification)"
   ]
  },
  {
   "cell_type": "markdown",
   "metadata": {},
   "source": [
    "We have to convert your problem into binary by using OneVsAll approach, so we will end-up with n_class number of ROC curves"
   ]
  },
  {
   "cell_type": "code",
   "execution_count": 353,
   "metadata": {},
   "outputs": [],
   "source": [
    "y_test = label_binarize(y_test, classes=[0,1,2,3,4,5])\n",
    "n_classes = 6"
   ]
  },
  {
   "cell_type": "code",
   "execution_count": 354,
   "metadata": {},
   "outputs": [],
   "source": [
    "y_score = voting_clf.fit(X_train_rescaled, y_train).predict_proba(X_test_rescaled) # for SVC we would have to use decision_function instead of predict_proba"
   ]
  },
  {
   "cell_type": "code",
   "execution_count": 355,
   "metadata": {},
   "outputs": [],
   "source": [
    "# Compute ROC curve and ROC area for each class\n",
    "fpr = dict()\n",
    "tpr = dict()\n",
    "roc_auc = dict()\n",
    "for i in range(n_classes):\n",
    "    fpr[i], tpr[i], _ = roc_curve(y_test[:, i], y_score[:, i])\n",
    "    roc_auc[i] = auc(fpr[i], tpr[i])"
   ]
  },
  {
   "cell_type": "code",
   "execution_count": 356,
   "metadata": {},
   "outputs": [
    {
     "data": {
      "image/png": "[encoded data removed]",
      "text/plain": [
       "<Figure size 432x360 with 1 Axes>"
      ]
     },
     "metadata": {},
     "output_type": "display_data"
    },
    {
     "data": {
      "image/png": "[encoded data removed]",
      "text/plain": [
       "<Figure size 432x360 with 1 Axes>"
      ]
     },
     "metadata": {},
     "output_type": "display_data"
    },
    {
     "data": {
      "image/png": "[encoded data removed]",
      "text/plain": [
       "<Figure size 432x360 with 1 Axes>"
      ]
     },
     "metadata": {},
     "output_type": "display_data"
    },
    {
     "data": {
      "image/png": "[encoded data removed]",
      "text/plain": [
       "<Figure size 432x360 with 1 Axes>"
      ]
     },
     "metadata": {},
     "output_type": "display_data"
    },
    {
     "data": {
      "image/png": "[encoded data removed]",
      "text/plain": [
       "<Figure size 432x360 with 1 Axes>"
      ]
     },
     "metadata": {},
     "output_type": "display_data"
    },
    {
     "data": {
      "image/png": "[encoded data removed]",
      "text/plain": [
       "<Figure size 432x360 with 1 Axes>"
      ]
     },
     "metadata": {},
     "output_type": "display_data"
    }
   ],
   "source": [
    "# Plot of a ROC curve for a specific class\n",
    "plt.rcParams[\"figure.figsize\"] = (6,5)\n",
    "for i in range(n_classes):\n",
    "    plt.figure()\n",
    "    plt.plot(fpr[i], tpr[i], label='ROC curve (AUC = %0.2f)' % roc_auc[i])\n",
    "    plt.plot([0, 1], [0, 1], 'k--')\n",
    "    plt.xlim([0.0, 1.0])\n",
    "    plt.ylim([0.0, 1.05])\n",
    "    plt.xlabel('$False Positive Rate$') # We can use $ to make the font italic\n",
    "    plt.ylabel('$True Positive Rate$')\n",
    "    plt.title('Receiver operating characteristic. Class {}'.format(i))\n",
    "    plt.legend(loc=\"lower right\")\n",
    "    plt.show()"
   ]
  },
  {
   "cell_type": "markdown",
   "metadata": {},
   "source": [
    "We can observe that we have good room for improvement predicting the classes 2 and 3. It appears that the model produced struggles more with the middle values, which was to be be expected"
   ]
  },
  {
   "cell_type": "markdown",
   "metadata": {},
   "source": [
    "## 10. Stacking Ensemble"
   ]
  },
  {
   "cell_type": "markdown",
   "metadata": {},
   "source": [
    "I will also explore the stacking ensemble approach. For this the following steps need to be followed:\n",
    "* Split train set into 2 subsets.\n",
    "* Train the estimators using training subset 1.\n",
    "* We predict the subset 2 using the trained models.\n",
    "* Based on the predictions, we generate another training X set (held_out) that we use to train out blender model"
   ]
  },
  {
   "cell_type": "code",
   "execution_count": 357,
   "metadata": {},
   "outputs": [
    {
     "data": {
      "text/plain": [
       "RandomForestClassifier(bootstrap=True, ccp_alpha=0.0, class_weight=None,\n",
       "                       criterion='gini', max_depth=None, max_features='auto',\n",
       "                       max_leaf_nodes=None, max_samples=None,\n",
       "                       min_impurity_decrease=0.0, min_impurity_split=None,\n",
       "                       min_samples_leaf=1, min_samples_split=2,\n",
       "                       min_weight_fraction_leaf=0.0, n_estimators=100,\n",
       "                       n_jobs=None, oob_score=False, random_state=42, verbose=0,\n",
       "                       warm_start=False)"
      ]
     },
     "execution_count": 357,
     "metadata": {},
     "output_type": "execute_result"
    }
   ],
   "source": [
    "#1) \n",
    "\n",
    "X_train, X_test, y_train, y_test = train_test_split(X, y, random_state=42)\n",
    "X_train_1, X_train_2, y_train_1, y_train_2 = train_test_split(X_train, y_train, random_state=42)\n",
    "\n",
    "#2)\n",
    "SVC_rbf = SVC(kernel=\"rbf\", C=1.5, gamma=0.1, tol=0.001, probability=True)\n",
    "RFC =  RandomForestClassifier(max_depth=3, max_features=4, min_samples_leaf=3)\n",
    "ETC =  ExtraTreesClassifier(max_depth=10, max_features=8, min_samples_leaf=3)\n",
    "xgboost = xgb.XGBClassifier(max_depth=2)\n",
    "\n",
    "blender = RandomForestClassifier(random_state=42)\n",
    "\n",
    "for p in [SVC_rbf, RFC, ETC,xgboost]:\n",
    "    p.fit(X_train_1, y_train_1)\n",
    "    \n",
    "#3)    \n",
    "SVC_rbf_p = SVC_rbf.predict(X_train_2)\n",
    "RFC_p = RFC.predict(X_train_2)\n",
    "ETC_p = ETC.predict(X_train_2)\n",
    "xgboost_p = xgboost.predict(X_train_2)\n",
    "\n",
    "#4)\n",
    "held_out = np.column_stack((SVC_rbf_p, RFC_p, ETC_p, xgboost_p)) \n",
    "blender.fit(held_out, y_train_2)"
   ]
  },
  {
   "cell_type": "code",
   "execution_count": 358,
   "metadata": {},
   "outputs": [
    {
     "data": {
      "text/plain": [
       "0.6115288220551378"
      ]
     },
     "execution_count": 358,
     "metadata": {},
     "output_type": "execute_result"
    }
   ],
   "source": [
    "result_1 = []\n",
    "for p in [SVC_rbf, RFC, ETC, xgboost]:\n",
    "    result_1.append(p.predict(X_test)) \n",
    "    \n",
    "    \"\"\"To check the model performance against the test set we need to obtain a prediction \n",
    "    test obtained from stacking the predictions from each estimator\"\"\"\n",
    "\n",
    "y_pred_s = blender.predict(np.column_stack(tuple(result_1)))\n",
    "accuracy_score(y_test, y_pred_s)"
   ]
  },
  {
   "cell_type": "code",
   "execution_count": 359,
   "metadata": {},
   "outputs": [
    {
     "data": {
      "text/plain": [
       "0.7518796992481203"
      ]
     },
     "execution_count": 359,
     "metadata": {},
     "output_type": "execute_result"
    }
   ],
   "source": [
    "result_2 = []\n",
    "for p in [SVC_rbf, RFC, ETC, xgboost]:\n",
    "    result_2.append(p.predict(X_train))\n",
    "\n",
    "y_pred_s = blender.predict(np.column_stack(tuple(result_2)))\n",
    "accuracy_score(y_train, y_pred_s)"
   ]
  },
  {
   "cell_type": "markdown",
   "metadata": {},
   "source": [
    "With the stacking ensemble approach we obtained a blender that performed worse than using Voting Classifier."
   ]
  },
  {
   "cell_type": "markdown",
   "metadata": {},
   "source": [
    "#### Future directions"
   ]
  },
  {
   "cell_type": "markdown",
   "metadata": {},
   "source": [
    "How can we improve the model? \n",
    "* **Gather more training data**. In particular for the classes 2 and 3\n",
    "* Include features that are more specific for these classess\n",
    "* Since classess 2 and 3 are not being satisfactorialy separated by our algo, we could consider grouping them both into one \"middle quality\" category"
   ]
  },
  {
   "cell_type": "markdown",
   "metadata": {},
   "source": [
    "## 11. Designing a Neural Network (NN) to tackle this problem:\n",
    "As a last part for this proyect, I will design a NN able to tackle this problem. This dataset is small, and it is known that NN work best when lost of data is fed to them, but lets explore the performance of a NN in this case."
   ]
  },
  {
   "cell_type": "markdown",
   "metadata": {},
   "source": [
    "### 11.1 Split the data"
   ]
  },
  {
   "cell_type": "code",
   "execution_count": 360,
   "metadata": {},
   "outputs": [],
   "source": [
    "X_train_full = strat_train_set.drop(\"quality\", axis=1)\n",
    "y_train_full = strat_train_set[\"quality\"].values"
   ]
  },
  {
   "cell_type": "code",
   "execution_count": 361,
   "metadata": {},
   "outputs": [],
   "source": [
    "X_test = strat_test_set.drop(\"quality\", axis=1)\n",
    "y_test = strat_test_set[\"quality\"].values"
   ]
  },
  {
   "cell_type": "code",
   "execution_count": 362,
   "metadata": {},
   "outputs": [],
   "source": [
    "X_train = X_train_full[300:]\n",
    "X_valid = X_train_full[:300]\n",
    "y_train = y_train_full[300:]\n",
    "y_valid = y_train_full[:300]"
   ]
  },
  {
   "cell_type": "code",
   "execution_count": 363,
   "metadata": {},
   "outputs": [],
   "source": [
    "scaler = StandardScaler()\n",
    "X_train = scaler.fit_transform(X_train)\n",
    "X_valid = scaler.transform(X_valid)\n",
    "X_test = scaler.transform(X_test)"
   ]
  },
  {
   "cell_type": "code",
   "execution_count": 364,
   "metadata": {},
   "outputs": [
    {
     "data": {
      "text/plain": [
       "(1596, 13)"
      ]
     },
     "execution_count": 364,
     "metadata": {},
     "output_type": "execute_result"
    }
   ],
   "source": [
    "df.shape"
   ]
  },
  {
   "cell_type": "code",
   "execution_count": 365,
   "metadata": {},
   "outputs": [
    {
     "data": {
      "text/plain": [
       "(976, 8)"
      ]
     },
     "execution_count": 365,
     "metadata": {},
     "output_type": "execute_result"
    }
   ],
   "source": [
    "X_train.shape"
   ]
  },
  {
   "cell_type": "code",
   "execution_count": 366,
   "metadata": {},
   "outputs": [
    {
     "data": {
      "text/plain": [
       "(300, 8)"
      ]
     },
     "execution_count": 366,
     "metadata": {},
     "output_type": "execute_result"
    }
   ],
   "source": [
    "X_valid.shape"
   ]
  },
  {
   "cell_type": "code",
   "execution_count": 367,
   "metadata": {},
   "outputs": [
    {
     "data": {
      "text/plain": [
       "(320, 8)"
      ]
     },
     "execution_count": 367,
     "metadata": {},
     "output_type": "execute_result"
    }
   ],
   "source": [
    "X_test.shape"
   ]
  },
  {
   "cell_type": "markdown",
   "metadata": {},
   "source": [
    "### 11.2 Design and train the NN"
   ]
  },
  {
   "cell_type": "code",
   "execution_count": 368,
   "metadata": {},
   "outputs": [],
   "source": [
    "# 1) Model. NN are prone to overfitting some we need some regularization mechanisms in place\n",
    "\n",
    "model = keras.models.Sequential([\n",
    "keras.layers.Input(shape=(8,)),\n",
    "keras.layers.Dense(300, activation=\"selu\",  kernel_regularizer=keras.regularizers.l2(0.01)),\n",
    "keras.layers.Dense(200, activation=\"selu\", kernel_regularizer=keras.regularizers.l2(0.01)),\n",
    "keras.layers.Dense(100, activation=\"selu\",  kernel_regularizer=keras.regularizers.l2(0.01)),\n",
    "keras.layers.Dense(50, activation=\"selu\",  kernel_regularizer=keras.regularizers.l2(0.01)),\n",
    "keras.layers.Dropout(rate=0.2),\n",
    "keras.layers.Dense(6, activation=\"softmax\")\n",
    "])"
   ]
  },
  {
   "cell_type": "code",
   "execution_count": 369,
   "metadata": {},
   "outputs": [],
   "source": [
    "# 2) compile\n",
    "\n",
    "model.compile(loss=\"sparse_categorical_crossentropy\",\n",
    "              optimizer= keras.optimizers.SGD(lr=0.005),\n",
    "              metrics=[\"accuracy\"])"
   ]
  },
  {
   "cell_type": "code",
   "execution_count": 370,
   "metadata": {},
   "outputs": [],
   "source": [
    "# 3) track the fitting process\n",
    "# 1) Let’s start by defining the root log directory we will use for our TensorBoard logs\n",
    "root_logdir = os.path.join(os.curdir, \"my_logs\")\n",
    "# 2) plus a small function that generates a subdirectory path for the current datetime so that it’s different at every run\n",
    "def get_run_logdir():\n",
    "    import time\n",
    "    run_id = time.strftime(\"run_SGD%Y_%m_%d-%H_%M_%S\")\n",
    "    return os.path.join(root_logdir, run_id)\n",
    "\n",
    "run_logdir = get_run_logdir()"
   ]
  },
  {
   "cell_type": "code",
   "execution_count": 371,
   "metadata": {},
   "outputs": [
    {
     "name": "stdout",
     "output_type": "stream",
     "text": [
      "The tensorboard extension is already loaded. To reload it, use:\n",
      "  %reload_ext tensorboard\n"
     ]
    },
    {
     "data": {
      "text/plain": [
       "Reusing TensorBoard on port 6006 (pid 8332), started 5:58:42 ago. (Use '!kill 8332' to kill it.)"
      ]
     },
     "metadata": {},
     "output_type": "display_data"
    },
    {
     "data": {
      "text/html": [
       "\n",
       "      <iframe id=\"tensorboard-frame-73fe671a2de7df30\" width=\"100%\" height=\"800\" frameborder=\"0\">\n",
       "      </iframe>\n",
       "      <script>\n",
       "        (function() {\n",
       "          const frame = document.getElementById(\"tensorboard-frame-73fe671a2de7df30\");\n",
       "          const url = new URL(\"/\", window.location);\n",
       "          const port = 6006;\n",
       "          if (port) {\n",
       "            url.port = port;\n",
       "          }\n",
       "          frame.src = url;\n",
       "        })();\n",
       "      </script>\n",
       "    "
      ],
      "text/plain": [
       "<IPython.core.display.HTML object>"
      ]
     },
     "metadata": {},
     "output_type": "display_data"
    }
   ],
   "source": [
    "%load_ext tensorboard\n",
    "# %tensorboard --logdir=./my_logs  --host localhost\n",
    "%tensorboard --logdir=./my_logs --port=6006"
   ]
  },
  {
   "cell_type": "code",
   "execution_count": 372,
   "metadata": {},
   "outputs": [
    {
     "name": "stdout",
     "output_type": "stream",
     "text": [
      "Epoch 1/500\n",
      " 2/31 [>.............................] - ETA: 14s - loss: 6.5719 - accuracy: 0.2031WARNING:tensorflow:Callbacks method `on_train_batch_end` is slow compared to the batch time (batch time: 0.0030s vs `on_train_batch_end` time: 1.0166s). Check your callbacks.\n",
      "31/31 [==============================] - 1s 41ms/step - loss: 5.9392 - accuracy: 0.4641 - val_loss: 5.6097 - val_accuracy: 0.5667\n",
      "Epoch 2/500\n",
      "31/31 [==============================] - 0s 3ms/step - loss: 5.5987 - accuracy: 0.5553 - val_loss: 5.5388 - val_accuracy: 0.5433\n",
      "Epoch 3/500\n",
      "31/31 [==============================] - 0s 3ms/step - loss: 5.5337 - accuracy: 0.5594 - val_loss: 5.4781 - val_accuracy: 0.5500\n",
      "Epoch 4/500\n",
      "31/31 [==============================] - 0s 3ms/step - loss: 5.4760 - accuracy: 0.5738 - val_loss: 5.4489 - val_accuracy: 0.5633\n",
      "Epoch 5/500\n",
      "31/31 [==============================] - 0s 3ms/step - loss: 5.4256 - accuracy: 0.5799 - val_loss: 5.4291 - val_accuracy: 0.5433\n",
      "Epoch 6/500\n",
      "31/31 [==============================] - 0s 4ms/step - loss: 5.3930 - accuracy: 0.5922 - val_loss: 5.3887 - val_accuracy: 0.5633\n",
      "Epoch 7/500\n",
      "31/31 [==============================] - 0s 3ms/step - loss: 5.3627 - accuracy: 0.5594 - val_loss: 5.3785 - val_accuracy: 0.5733\n",
      "Epoch 8/500\n",
      "31/31 [==============================] - 0s 3ms/step - loss: 5.3262 - accuracy: 0.6045 - val_loss: 5.3411 - val_accuracy: 0.5567\n",
      "Epoch 9/500\n",
      "31/31 [==============================] - 0s 3ms/step - loss: 5.2998 - accuracy: 0.5727 - val_loss: 5.3147 - val_accuracy: 0.5567\n",
      "Epoch 10/500\n",
      "31/31 [==============================] - 0s 3ms/step - loss: 5.2461 - accuracy: 0.5809 - val_loss: 5.2800 - val_accuracy: 0.5633\n",
      "Epoch 11/500\n",
      "31/31 [==============================] - 0s 2ms/step - loss: 5.2270 - accuracy: 0.5861 - val_loss: 5.2669 - val_accuracy: 0.5567\n",
      "Epoch 12/500\n",
      "31/31 [==============================] - 0s 2ms/step - loss: 5.2045 - accuracy: 0.5984 - val_loss: 5.2450 - val_accuracy: 0.5733\n",
      "Epoch 13/500\n",
      "31/31 [==============================] - 0s 3ms/step - loss: 5.1657 - accuracy: 0.5943 - val_loss: 5.2109 - val_accuracy: 0.5833\n",
      "Epoch 14/500\n",
      "31/31 [==============================] - 0s 3ms/step - loss: 5.1168 - accuracy: 0.5912 - val_loss: 5.1973 - val_accuracy: 0.5600\n",
      "Epoch 15/500\n",
      "31/31 [==============================] - 0s 2ms/step - loss: 5.1169 - accuracy: 0.5840 - val_loss: 5.1489 - val_accuracy: 0.5600\n",
      "Epoch 16/500\n",
      "31/31 [==============================] - 0s 3ms/step - loss: 5.0697 - accuracy: 0.6178 - val_loss: 5.1374 - val_accuracy: 0.5567\n",
      "Epoch 17/500\n",
      "31/31 [==============================] - 0s 3ms/step - loss: 5.0529 - accuracy: 0.6004 - val_loss: 5.0939 - val_accuracy: 0.5700\n",
      "Epoch 18/500\n",
      "31/31 [==============================] - 0s 4ms/step - loss: 5.0208 - accuracy: 0.5932 - val_loss: 5.0758 - val_accuracy: 0.5800\n",
      "Epoch 19/500\n",
      "31/31 [==============================] - 0s 3ms/step - loss: 5.0101 - accuracy: 0.6045 - val_loss: 5.0573 - val_accuracy: 0.5867\n",
      "Epoch 20/500\n",
      "31/31 [==============================] - 0s 3ms/step - loss: 4.9567 - accuracy: 0.6055 - val_loss: 5.0325 - val_accuracy: 0.5467\n",
      "Epoch 21/500\n",
      "31/31 [==============================] - 0s 4ms/step - loss: 4.9272 - accuracy: 0.6219 - val_loss: 5.0204 - val_accuracy: 0.5600\n",
      "Epoch 22/500\n",
      "31/31 [==============================] - 0s 4ms/step - loss: 4.9177 - accuracy: 0.6076 - val_loss: 4.9819 - val_accuracy: 0.5900\n",
      "Epoch 23/500\n",
      "31/31 [==============================] - 0s 3ms/step - loss: 4.8968 - accuracy: 0.5891 - val_loss: 4.9575 - val_accuracy: 0.5733\n",
      "Epoch 24/500\n",
      "31/31 [==============================] - 0s 3ms/step - loss: 4.8701 - accuracy: 0.6066 - val_loss: 4.9446 - val_accuracy: 0.5500\n",
      "Epoch 25/500\n",
      "31/31 [==============================] - 0s 3ms/step - loss: 4.8443 - accuracy: 0.5912 - val_loss: 4.9116 - val_accuracy: 0.5733\n",
      "Epoch 26/500\n",
      "31/31 [==============================] - 0s 3ms/step - loss: 4.8274 - accuracy: 0.5984 - val_loss: 4.8903 - val_accuracy: 0.5633\n",
      "Epoch 27/500\n",
      "31/31 [==============================] - 0s 3ms/step - loss: 4.7863 - accuracy: 0.6301 - val_loss: 4.8634 - val_accuracy: 0.5833\n",
      "Epoch 28/500\n",
      "31/31 [==============================] - 0s 3ms/step - loss: 4.7543 - accuracy: 0.6240 - val_loss: 4.8381 - val_accuracy: 0.5733\n",
      "Epoch 29/500\n",
      "31/31 [==============================] - 0s 3ms/step - loss: 4.7385 - accuracy: 0.6127 - val_loss: 4.8192 - val_accuracy: 0.5500\n",
      "Epoch 30/500\n",
      "31/31 [==============================] - 0s 3ms/step - loss: 4.7078 - accuracy: 0.6127 - val_loss: 4.7886 - val_accuracy: 0.5600\n",
      "Epoch 31/500\n",
      "31/31 [==============================] - 0s 3ms/step - loss: 4.6985 - accuracy: 0.6004 - val_loss: 4.7706 - val_accuracy: 0.5600\n",
      "Epoch 32/500\n",
      "31/31 [==============================] - 0s 4ms/step - loss: 4.6567 - accuracy: 0.6178 - val_loss: 4.7453 - val_accuracy: 0.5667\n",
      "Epoch 33/500\n",
      "31/31 [==============================] - 0s 3ms/step - loss: 4.6285 - accuracy: 0.6209 - val_loss: 4.7273 - val_accuracy: 0.5733\n",
      "Epoch 34/500\n",
      "31/31 [==============================] - 0s 3ms/step - loss: 4.6086 - accuracy: 0.6260 - val_loss: 4.6982 - val_accuracy: 0.5700\n",
      "Epoch 35/500\n",
      "31/31 [==============================] - 0s 5ms/step - loss: 4.5745 - accuracy: 0.6209 - val_loss: 4.6747 - val_accuracy: 0.5633\n",
      "Epoch 36/500\n",
      "31/31 [==============================] - 0s 4ms/step - loss: 4.5773 - accuracy: 0.6260 - val_loss: 4.6521 - val_accuracy: 0.5767\n",
      "Epoch 37/500\n",
      "31/31 [==============================] - 0s 4ms/step - loss: 4.5385 - accuracy: 0.6342 - val_loss: 4.6459 - val_accuracy: 0.5533\n",
      "Epoch 38/500\n",
      "31/31 [==============================] - 0s 3ms/step - loss: 4.5172 - accuracy: 0.6066 - val_loss: 4.6111 - val_accuracy: 0.5733\n",
      "Epoch 39/500\n",
      "31/31 [==============================] - 0s 3ms/step - loss: 4.5015 - accuracy: 0.6250 - val_loss: 4.5982 - val_accuracy: 0.5667\n",
      "Epoch 40/500\n",
      "31/31 [==============================] - 0s 3ms/step - loss: 4.4738 - accuracy: 0.6332 - val_loss: 4.5871 - val_accuracy: 0.5467\n",
      "Epoch 41/500\n",
      "31/31 [==============================] - 0s 4ms/step - loss: 4.4538 - accuracy: 0.6199 - val_loss: 4.5431 - val_accuracy: 0.5633\n",
      "Epoch 42/500\n",
      "31/31 [==============================] - 0s 3ms/step - loss: 4.4371 - accuracy: 0.6168 - val_loss: 4.5177 - val_accuracy: 0.5700\n",
      "Epoch 43/500\n",
      "31/31 [==============================] - 0s 4ms/step - loss: 4.4213 - accuracy: 0.6117 - val_loss: 4.5048 - val_accuracy: 0.5767\n",
      "Epoch 44/500\n",
      "31/31 [==============================] - 0s 3ms/step - loss: 4.3975 - accuracy: 0.6148 - val_loss: 4.4929 - val_accuracy: 0.5533\n",
      "Epoch 45/500\n",
      "31/31 [==============================] - 0s 4ms/step - loss: 4.3745 - accuracy: 0.6291 - val_loss: 4.4663 - val_accuracy: 0.5767\n",
      "Epoch 46/500\n",
      "31/31 [==============================] - 0s 5ms/step - loss: 4.3466 - accuracy: 0.6301 - val_loss: 4.4347 - val_accuracy: 0.5867\n",
      "Epoch 47/500\n",
      "31/31 [==============================] - 0s 3ms/step - loss: 4.3125 - accuracy: 0.6311 - val_loss: 4.4226 - val_accuracy: 0.5700\n",
      "Epoch 48/500\n",
      "31/31 [==============================] - 0s 3ms/step - loss: 4.2978 - accuracy: 0.6352 - val_loss: 4.4000 - val_accuracy: 0.5800\n",
      "Epoch 49/500\n",
      "31/31 [==============================] - 0s 3ms/step - loss: 4.2758 - accuracy: 0.6158 - val_loss: 4.3799 - val_accuracy: 0.5767\n",
      "Epoch 50/500\n",
      "31/31 [==============================] - 0s 3ms/step - loss: 4.2495 - accuracy: 0.6291 - val_loss: 4.3662 - val_accuracy: 0.5467\n",
      "Epoch 51/500\n",
      "31/31 [==============================] - 0s 3ms/step - loss: 4.2310 - accuracy: 0.6404 - val_loss: 4.3392 - val_accuracy: 0.5700\n",
      "Epoch 52/500\n",
      "31/31 [==============================] - 0s 3ms/step - loss: 4.2096 - accuracy: 0.6260 - val_loss: 4.3172 - val_accuracy: 0.5767\n",
      "Epoch 53/500\n",
      "31/31 [==============================] - 0s 3ms/step - loss: 4.1884 - accuracy: 0.6342 - val_loss: 4.2946 - val_accuracy: 0.5733\n",
      "Epoch 54/500\n",
      "31/31 [==============================] - 0s 3ms/step - loss: 4.1704 - accuracy: 0.6230 - val_loss: 4.2843 - val_accuracy: 0.5633\n",
      "Epoch 55/500\n",
      "31/31 [==============================] - 0s 4ms/step - loss: 4.1495 - accuracy: 0.6414 - val_loss: 4.2646 - val_accuracy: 0.5833\n",
      "Epoch 56/500\n",
      "31/31 [==============================] - 0s 4ms/step - loss: 4.1315 - accuracy: 0.6250 - val_loss: 4.2337 - val_accuracy: 0.5667\n",
      "Epoch 57/500\n",
      "31/31 [==============================] - 0s 4ms/step - loss: 4.1205 - accuracy: 0.6240 - val_loss: 4.2321 - val_accuracy: 0.5433\n",
      "Epoch 58/500\n",
      "31/31 [==============================] - 0s 4ms/step - loss: 4.0879 - accuracy: 0.6137 - val_loss: 4.1967 - val_accuracy: 0.5667\n",
      "Epoch 59/500\n",
      "31/31 [==============================] - 0s 4ms/step - loss: 4.0647 - accuracy: 0.6342 - val_loss: 4.1771 - val_accuracy: 0.5800\n",
      "Epoch 60/500\n",
      "31/31 [==============================] - 0s 4ms/step - loss: 4.0641 - accuracy: 0.6209 - val_loss: 4.1701 - val_accuracy: 0.5767\n",
      "Epoch 61/500\n",
      "31/31 [==============================] - 0s 3ms/step - loss: 4.0316 - accuracy: 0.6342 - val_loss: 4.1398 - val_accuracy: 0.5700\n",
      "Epoch 62/500\n",
      "31/31 [==============================] - 0s 3ms/step - loss: 4.0007 - accuracy: 0.6434 - val_loss: 4.1220 - val_accuracy: 0.5733\n",
      "Epoch 63/500\n",
      "31/31 [==============================] - 0s 3ms/step - loss: 4.0003 - accuracy: 0.6250 - val_loss: 4.1170 - val_accuracy: 0.5433\n",
      "Epoch 64/500\n",
      "31/31 [==============================] - 0s 3ms/step - loss: 3.9715 - accuracy: 0.6291 - val_loss: 4.1017 - val_accuracy: 0.5600\n",
      "Epoch 65/500\n",
      "31/31 [==============================] - 0s 3ms/step - loss: 3.9630 - accuracy: 0.6230 - val_loss: 4.0720 - val_accuracy: 0.5667\n",
      "Epoch 66/500\n",
      "31/31 [==============================] - 0s 3ms/step - loss: 3.9276 - accuracy: 0.6383 - val_loss: 4.0627 - val_accuracy: 0.5567\n",
      "Epoch 67/500\n",
      "31/31 [==============================] - 0s 3ms/step - loss: 3.9235 - accuracy: 0.6383 - val_loss: 4.0374 - val_accuracy: 0.5633\n",
      "Epoch 68/500\n",
      "31/31 [==============================] - 0s 3ms/step - loss: 3.9009 - accuracy: 0.6404 - val_loss: 4.0165 - val_accuracy: 0.5633\n",
      "Epoch 69/500\n",
      "31/31 [==============================] - 0s 4ms/step - loss: 3.8915 - accuracy: 0.6270 - val_loss: 4.0089 - val_accuracy: 0.5767\n",
      "Epoch 70/500\n",
      "31/31 [==============================] - 0s 5ms/step - loss: 3.8608 - accuracy: 0.6363 - val_loss: 3.9834 - val_accuracy: 0.5800\n",
      "Epoch 71/500\n",
      "31/31 [==============================] - 0s 3ms/step - loss: 3.8524 - accuracy: 0.6301 - val_loss: 3.9613 - val_accuracy: 0.5667\n",
      "Epoch 72/500\n",
      "31/31 [==============================] - 0s 4ms/step - loss: 3.8291 - accuracy: 0.6281 - val_loss: 3.9403 - val_accuracy: 0.5600\n",
      "Epoch 73/500\n",
      "31/31 [==============================] - 0s 2ms/step - loss: 3.8116 - accuracy: 0.6270 - val_loss: 3.9438 - val_accuracy: 0.5367\n",
      "Epoch 74/500\n",
      "31/31 [==============================] - 0s 3ms/step - loss: 3.7929 - accuracy: 0.6209 - val_loss: 3.9025 - val_accuracy: 0.5800\n",
      "Epoch 75/500\n",
      "31/31 [==============================] - 0s 3ms/step - loss: 3.7708 - accuracy: 0.6373 - val_loss: 3.8875 - val_accuracy: 0.5767\n",
      "Epoch 76/500\n",
      "31/31 [==============================] - 0s 3ms/step - loss: 3.7588 - accuracy: 0.6332 - val_loss: 3.8731 - val_accuracy: 0.5700\n",
      "Epoch 77/500\n",
      "31/31 [==============================] - 0s 3ms/step - loss: 3.7381 - accuracy: 0.6322 - val_loss: 3.8608 - val_accuracy: 0.5800\n",
      "Epoch 78/500\n",
      "31/31 [==============================] - 0s 3ms/step - loss: 3.7185 - accuracy: 0.6189 - val_loss: 3.8404 - val_accuracy: 0.5833\n",
      "Epoch 79/500\n",
      "31/31 [==============================] - 0s 3ms/step - loss: 3.6968 - accuracy: 0.6373 - val_loss: 3.8316 - val_accuracy: 0.5733\n",
      "Epoch 80/500\n",
      "31/31 [==============================] - 0s 4ms/step - loss: 3.6948 - accuracy: 0.6445 - val_loss: 3.8084 - val_accuracy: 0.5567\n",
      "Epoch 81/500\n",
      "31/31 [==============================] - 0s 5ms/step - loss: 3.6747 - accuracy: 0.6383 - val_loss: 3.7962 - val_accuracy: 0.5467\n",
      "Epoch 82/500\n",
      "31/31 [==============================] - 0s 6ms/step - loss: 3.6518 - accuracy: 0.6240 - val_loss: 3.7774 - val_accuracy: 0.5600\n",
      "Epoch 83/500\n",
      "31/31 [==============================] - 0s 4ms/step - loss: 3.6429 - accuracy: 0.6189 - val_loss: 3.7663 - val_accuracy: 0.5400\n",
      "Epoch 84/500\n",
      "31/31 [==============================] - 0s 4ms/step - loss: 3.6201 - accuracy: 0.6373 - val_loss: 3.7634 - val_accuracy: 0.5633\n",
      "Epoch 85/500\n",
      "31/31 [==============================] - 0s 4ms/step - loss: 3.5932 - accuracy: 0.6383 - val_loss: 3.7299 - val_accuracy: 0.5500\n",
      "Epoch 86/500\n",
      "31/31 [==============================] - 0s 3ms/step - loss: 3.5835 - accuracy: 0.6270 - val_loss: 3.7037 - val_accuracy: 0.5700\n",
      "Epoch 87/500\n",
      "31/31 [==============================] - 0s 3ms/step - loss: 3.5655 - accuracy: 0.6445 - val_loss: 3.7015 - val_accuracy: 0.5433\n",
      "Epoch 88/500\n",
      "31/31 [==============================] - 0s 3ms/step - loss: 3.5598 - accuracy: 0.6414 - val_loss: 3.6829 - val_accuracy: 0.5533\n",
      "Epoch 89/500\n",
      "31/31 [==============================] - 0s 3ms/step - loss: 3.5414 - accuracy: 0.6373 - val_loss: 3.6750 - val_accuracy: 0.5600\n",
      "Epoch 90/500\n",
      "31/31 [==============================] - 0s 3ms/step - loss: 3.5247 - accuracy: 0.6445 - val_loss: 3.6466 - val_accuracy: 0.5467\n",
      "Epoch 91/500\n",
      "31/31 [==============================] - 0s 3ms/step - loss: 3.4908 - accuracy: 0.6475 - val_loss: 3.6238 - val_accuracy: 0.5700\n",
      "Epoch 92/500\n",
      "31/31 [==============================] - 0s 2ms/step - loss: 3.4837 - accuracy: 0.6352 - val_loss: 3.6173 - val_accuracy: 0.5600\n",
      "Epoch 93/500\n",
      "31/31 [==============================] - 0s 3ms/step - loss: 3.4771 - accuracy: 0.6465 - val_loss: 3.6060 - val_accuracy: 0.5700\n",
      "Epoch 94/500\n",
      "31/31 [==============================] - 0s 3ms/step - loss: 3.4519 - accuracy: 0.6434 - val_loss: 3.5806 - val_accuracy: 0.5700\n",
      "Epoch 95/500\n",
      "31/31 [==============================] - 0s 3ms/step - loss: 3.4414 - accuracy: 0.6373 - val_loss: 3.5703 - val_accuracy: 0.5767\n",
      "Epoch 96/500\n",
      "31/31 [==============================] - 0s 3ms/step - loss: 3.4300 - accuracy: 0.6414 - val_loss: 3.5616 - val_accuracy: 0.5833\n",
      "Epoch 97/500\n",
      "31/31 [==============================] - 0s 3ms/step - loss: 3.4050 - accuracy: 0.6465 - val_loss: 3.5452 - val_accuracy: 0.5600\n",
      "Epoch 98/500\n",
      "31/31 [==============================] - 0s 3ms/step - loss: 3.3935 - accuracy: 0.6301 - val_loss: 3.5282 - val_accuracy: 0.5767\n",
      "Epoch 99/500\n",
      "31/31 [==============================] - 0s 3ms/step - loss: 3.3902 - accuracy: 0.6465 - val_loss: 3.5069 - val_accuracy: 0.5667\n",
      "Epoch 100/500\n",
      "31/31 [==============================] - 0s 3ms/step - loss: 3.3723 - accuracy: 0.6465 - val_loss: 3.4866 - val_accuracy: 0.5800\n",
      "Epoch 101/500\n",
      "31/31 [==============================] - 0s 3ms/step - loss: 3.3481 - accuracy: 0.6404 - val_loss: 3.4777 - val_accuracy: 0.5767\n",
      "Epoch 102/500\n",
      "31/31 [==============================] - 0s 3ms/step - loss: 3.3313 - accuracy: 0.6475 - val_loss: 3.4609 - val_accuracy: 0.5867\n",
      "Epoch 103/500\n",
      "31/31 [==============================] - 0s 2ms/step - loss: 3.3177 - accuracy: 0.6424 - val_loss: 3.4656 - val_accuracy: 0.5433\n",
      "Epoch 104/500\n",
      "31/31 [==============================] - 0s 3ms/step - loss: 3.2930 - accuracy: 0.6383 - val_loss: 3.4332 - val_accuracy: 0.5633\n",
      "Epoch 105/500\n",
      "31/31 [==============================] - 0s 3ms/step - loss: 3.2868 - accuracy: 0.6332 - val_loss: 3.4243 - val_accuracy: 0.5567\n",
      "Epoch 106/500\n",
      "31/31 [==============================] - 0s 3ms/step - loss: 3.2684 - accuracy: 0.6496 - val_loss: 3.4124 - val_accuracy: 0.5633\n",
      "Epoch 107/500\n",
      "31/31 [==============================] - 0s 4ms/step - loss: 3.2640 - accuracy: 0.6383 - val_loss: 3.3950 - val_accuracy: 0.5667\n",
      "Epoch 108/500\n",
      "31/31 [==============================] - 0s 2ms/step - loss: 3.2542 - accuracy: 0.6424 - val_loss: 3.3862 - val_accuracy: 0.5767\n",
      "Epoch 109/500\n",
      "31/31 [==============================] - 0s 2ms/step - loss: 3.2367 - accuracy: 0.6506 - val_loss: 3.3611 - val_accuracy: 0.5700\n",
      "Epoch 110/500\n",
      "31/31 [==============================] - 0s 2ms/step - loss: 3.2152 - accuracy: 0.6404 - val_loss: 3.3678 - val_accuracy: 0.5533\n",
      "Epoch 111/500\n",
      "31/31 [==============================] - 0s 2ms/step - loss: 3.2002 - accuracy: 0.6465 - val_loss: 3.3355 - val_accuracy: 0.5633\n",
      "Epoch 112/500\n",
      "31/31 [==============================] - 0s 3ms/step - loss: 3.1928 - accuracy: 0.6445 - val_loss: 3.3342 - val_accuracy: 0.5800\n",
      "Epoch 113/500\n",
      "31/31 [==============================] - 0s 3ms/step - loss: 3.1711 - accuracy: 0.6496 - val_loss: 3.3093 - val_accuracy: 0.5700\n",
      "Epoch 114/500\n",
      "31/31 [==============================] - 0s 3ms/step - loss: 3.1686 - accuracy: 0.6332 - val_loss: 3.3092 - val_accuracy: 0.5633\n",
      "Epoch 115/500\n",
      "31/31 [==============================] - 0s 2ms/step - loss: 3.1454 - accuracy: 0.6516 - val_loss: 3.2824 - val_accuracy: 0.5833\n",
      "Epoch 116/500\n",
      "31/31 [==============================] - 0s 3ms/step - loss: 3.1356 - accuracy: 0.6393 - val_loss: 3.2725 - val_accuracy: 0.5900\n",
      "Epoch 117/500\n",
      "31/31 [==============================] - 0s 3ms/step - loss: 3.1224 - accuracy: 0.6311 - val_loss: 3.2681 - val_accuracy: 0.5800\n",
      "Epoch 118/500\n",
      "31/31 [==============================] - 0s 2ms/step - loss: 3.1126 - accuracy: 0.6352 - val_loss: 3.2547 - val_accuracy: 0.5333\n",
      "Epoch 119/500\n",
      "31/31 [==============================] - 0s 3ms/step - loss: 3.0859 - accuracy: 0.6465 - val_loss: 3.2362 - val_accuracy: 0.5633\n",
      "Epoch 120/500\n",
      "31/31 [==============================] - 0s 3ms/step - loss: 3.0806 - accuracy: 0.6352 - val_loss: 3.2276 - val_accuracy: 0.5833\n",
      "Epoch 121/500\n",
      "31/31 [==============================] - 0s 3ms/step - loss: 3.0649 - accuracy: 0.6434 - val_loss: 3.2129 - val_accuracy: 0.5500\n",
      "Epoch 122/500\n",
      "31/31 [==============================] - 0s 3ms/step - loss: 3.0474 - accuracy: 0.6496 - val_loss: 3.1902 - val_accuracy: 0.5733\n",
      "Epoch 123/500\n",
      "31/31 [==============================] - 0s 3ms/step - loss: 3.0427 - accuracy: 0.6404 - val_loss: 3.1824 - val_accuracy: 0.5767\n",
      "Epoch 124/500\n",
      "31/31 [==============================] - 0s 3ms/step - loss: 3.0411 - accuracy: 0.6455 - val_loss: 3.1793 - val_accuracy: 0.5600\n",
      "Epoch 125/500\n",
      "31/31 [==============================] - 0s 3ms/step - loss: 3.0194 - accuracy: 0.6557 - val_loss: 3.1558 - val_accuracy: 0.5733\n",
      "Epoch 126/500\n",
      "31/31 [==============================] - 0s 3ms/step - loss: 3.0022 - accuracy: 0.6506 - val_loss: 3.1484 - val_accuracy: 0.5800\n",
      "Epoch 127/500\n",
      "31/31 [==============================] - 0s 3ms/step - loss: 2.9871 - accuracy: 0.6568 - val_loss: 3.1297 - val_accuracy: 0.5667\n",
      "Epoch 128/500\n",
      "31/31 [==============================] - 0s 3ms/step - loss: 2.9863 - accuracy: 0.6311 - val_loss: 3.1280 - val_accuracy: 0.5500\n",
      "Epoch 129/500\n",
      "31/31 [==============================] - 0s 3ms/step - loss: 2.9663 - accuracy: 0.6557 - val_loss: 3.1028 - val_accuracy: 0.5533\n",
      "Epoch 130/500\n",
      "31/31 [==============================] - 0s 3ms/step - loss: 2.9577 - accuracy: 0.6424 - val_loss: 3.0891 - val_accuracy: 0.5700\n",
      "Epoch 131/500\n",
      "31/31 [==============================] - 0s 3ms/step - loss: 2.9443 - accuracy: 0.6527 - val_loss: 3.0838 - val_accuracy: 0.5600\n",
      "Epoch 132/500\n",
      "31/31 [==============================] - 0s 3ms/step - loss: 2.9275 - accuracy: 0.6557 - val_loss: 3.0712 - val_accuracy: 0.5567\n",
      "Epoch 133/500\n",
      "31/31 [==============================] - 0s 3ms/step - loss: 2.9155 - accuracy: 0.6322 - val_loss: 3.0625 - val_accuracy: 0.5500\n",
      "Epoch 134/500\n",
      "31/31 [==============================] - 0s 3ms/step - loss: 2.9051 - accuracy: 0.6486 - val_loss: 3.0434 - val_accuracy: 0.5733\n",
      "Epoch 135/500\n",
      "31/31 [==============================] - 0s 3ms/step - loss: 2.8879 - accuracy: 0.6465 - val_loss: 3.0322 - val_accuracy: 0.5533\n",
      "Epoch 136/500\n",
      "31/31 [==============================] - 0s 3ms/step - loss: 2.8799 - accuracy: 0.6434 - val_loss: 3.0219 - val_accuracy: 0.5600\n",
      "Epoch 137/500\n",
      "31/31 [==============================] - 0s 3ms/step - loss: 2.8774 - accuracy: 0.6404 - val_loss: 3.0121 - val_accuracy: 0.5667\n",
      "Epoch 138/500\n",
      "31/31 [==============================] - 0s 3ms/step - loss: 2.8645 - accuracy: 0.6475 - val_loss: 2.9956 - val_accuracy: 0.5600\n",
      "Epoch 139/500\n",
      "31/31 [==============================] - 0s 3ms/step - loss: 2.8419 - accuracy: 0.6301 - val_loss: 2.9825 - val_accuracy: 0.5867\n",
      "Epoch 140/500\n",
      "31/31 [==============================] - 0s 3ms/step - loss: 2.8296 - accuracy: 0.6486 - val_loss: 2.9798 - val_accuracy: 0.5533\n",
      "Epoch 141/500\n",
      "31/31 [==============================] - 0s 3ms/step - loss: 2.8160 - accuracy: 0.6516 - val_loss: 2.9755 - val_accuracy: 0.5633\n",
      "Epoch 142/500\n",
      "31/31 [==============================] - 0s 3ms/step - loss: 2.7962 - accuracy: 0.6527 - val_loss: 2.9547 - val_accuracy: 0.5600\n",
      "Epoch 143/500\n",
      "31/31 [==============================] - 0s 4ms/step - loss: 2.8029 - accuracy: 0.6342 - val_loss: 2.9493 - val_accuracy: 0.5600\n",
      "Epoch 144/500\n",
      "31/31 [==============================] - 0s 3ms/step - loss: 2.7949 - accuracy: 0.6404 - val_loss: 2.9319 - val_accuracy: 0.5767\n",
      "Epoch 145/500\n",
      "31/31 [==============================] - 0s 3ms/step - loss: 2.7796 - accuracy: 0.6516 - val_loss: 2.9200 - val_accuracy: 0.5833\n",
      "Epoch 146/500\n",
      "31/31 [==============================] - 0s 2ms/step - loss: 2.7690 - accuracy: 0.6434 - val_loss: 2.9220 - val_accuracy: 0.5367\n",
      "Epoch 147/500\n",
      "31/31 [==============================] - 0s 2ms/step - loss: 2.7498 - accuracy: 0.6475 - val_loss: 2.9244 - val_accuracy: 0.5667\n",
      "Epoch 148/500\n",
      "31/31 [==============================] - 0s 3ms/step - loss: 2.7376 - accuracy: 0.6568 - val_loss: 2.8840 - val_accuracy: 0.5667\n",
      "Epoch 149/500\n",
      "31/31 [==============================] - 0s 3ms/step - loss: 2.7294 - accuracy: 0.6414 - val_loss: 2.8830 - val_accuracy: 0.5600\n",
      "Epoch 150/500\n",
      "31/31 [==============================] - 0s 3ms/step - loss: 2.7249 - accuracy: 0.6445 - val_loss: 2.8637 - val_accuracy: 0.5700\n",
      "Epoch 151/500\n",
      "31/31 [==============================] - 0s 2ms/step - loss: 2.7081 - accuracy: 0.6393 - val_loss: 2.8728 - val_accuracy: 0.5633\n",
      "Epoch 152/500\n",
      "31/31 [==============================] - 0s 3ms/step - loss: 2.6996 - accuracy: 0.6404 - val_loss: 2.8493 - val_accuracy: 0.5733\n",
      "Epoch 153/500\n",
      "31/31 [==============================] - 0s 2ms/step - loss: 2.6803 - accuracy: 0.6516 - val_loss: 2.8542 - val_accuracy: 0.5667\n",
      "Epoch 154/500\n",
      "31/31 [==============================] - 0s 3ms/step - loss: 2.6729 - accuracy: 0.6414 - val_loss: 2.8336 - val_accuracy: 0.5733\n",
      "Epoch 155/500\n",
      "31/31 [==============================] - 0s 3ms/step - loss: 2.6680 - accuracy: 0.6568 - val_loss: 2.8104 - val_accuracy: 0.5833\n",
      "Epoch 156/500\n",
      "31/31 [==============================] - 0s 3ms/step - loss: 2.6538 - accuracy: 0.6486 - val_loss: 2.7979 - val_accuracy: 0.5767\n",
      "Epoch 157/500\n",
      "31/31 [==============================] - 0s 3ms/step - loss: 2.6465 - accuracy: 0.6527 - val_loss: 2.7864 - val_accuracy: 0.5733\n",
      "Epoch 158/500\n",
      "31/31 [==============================] - 0s 2ms/step - loss: 2.6278 - accuracy: 0.6557 - val_loss: 2.7950 - val_accuracy: 0.5833\n",
      "Epoch 159/500\n",
      "31/31 [==============================] - 0s 2ms/step - loss: 2.6331 - accuracy: 0.6434 - val_loss: 2.7805 - val_accuracy: 0.5500\n",
      "Epoch 160/500\n",
      "31/31 [==============================] - 0s 3ms/step - loss: 2.6069 - accuracy: 0.6506 - val_loss: 2.7627 - val_accuracy: 0.5833\n",
      "Epoch 161/500\n",
      "31/31 [==============================] - 0s 3ms/step - loss: 2.6067 - accuracy: 0.6537 - val_loss: 2.7531 - val_accuracy: 0.5833\n",
      "Epoch 162/500\n",
      "31/31 [==============================] - 0s 2ms/step - loss: 2.5910 - accuracy: 0.6557 - val_loss: 2.7515 - val_accuracy: 0.5500\n",
      "Epoch 163/500\n",
      "31/31 [==============================] - 0s 3ms/step - loss: 2.5880 - accuracy: 0.6404 - val_loss: 2.7366 - val_accuracy: 0.5633\n",
      "Epoch 164/500\n",
      "31/31 [==============================] - 0s 3ms/step - loss: 2.5705 - accuracy: 0.6455 - val_loss: 2.7258 - val_accuracy: 0.5800\n",
      "Epoch 165/500\n",
      "31/31 [==============================] - 0s 3ms/step - loss: 2.5563 - accuracy: 0.6434 - val_loss: 2.7199 - val_accuracy: 0.5733\n",
      "Epoch 166/500\n",
      "31/31 [==============================] - 0s 3ms/step - loss: 2.5491 - accuracy: 0.6465 - val_loss: 2.7173 - val_accuracy: 0.5667\n",
      "Epoch 167/500\n",
      "31/31 [==============================] - 0s 3ms/step - loss: 2.5507 - accuracy: 0.6506 - val_loss: 2.6909 - val_accuracy: 0.5633\n",
      "Epoch 168/500\n",
      "31/31 [==============================] - 0s 3ms/step - loss: 2.5343 - accuracy: 0.6363 - val_loss: 2.6873 - val_accuracy: 0.5833\n",
      "Epoch 169/500\n",
      "31/31 [==============================] - 0s 3ms/step - loss: 2.5242 - accuracy: 0.6404 - val_loss: 2.6773 - val_accuracy: 0.5900\n",
      "Epoch 170/500\n",
      "31/31 [==============================] - 0s 3ms/step - loss: 2.5140 - accuracy: 0.6404 - val_loss: 2.6592 - val_accuracy: 0.5733\n",
      "Epoch 171/500\n",
      "31/31 [==============================] - 0s 2ms/step - loss: 2.5037 - accuracy: 0.6475 - val_loss: 2.6613 - val_accuracy: 0.5533\n",
      "Epoch 172/500\n",
      "31/31 [==============================] - 0s 3ms/step - loss: 2.4830 - accuracy: 0.6598 - val_loss: 2.6588 - val_accuracy: 0.5700\n",
      "Epoch 173/500\n",
      "31/31 [==============================] - 0s 3ms/step - loss: 2.4880 - accuracy: 0.6475 - val_loss: 2.6585 - val_accuracy: 0.5600\n",
      "Epoch 174/500\n",
      "31/31 [==============================] - 0s 3ms/step - loss: 2.4805 - accuracy: 0.6404 - val_loss: 2.6323 - val_accuracy: 0.5600\n",
      "Epoch 175/500\n",
      "31/31 [==============================] - 0s 3ms/step - loss: 2.4692 - accuracy: 0.6527 - val_loss: 2.6251 - val_accuracy: 0.5500\n",
      "Epoch 176/500\n",
      "31/31 [==============================] - 0s 3ms/step - loss: 2.4547 - accuracy: 0.6568 - val_loss: 2.6063 - val_accuracy: 0.6000\n",
      "Epoch 177/500\n",
      "31/31 [==============================] - 0s 2ms/step - loss: 2.4472 - accuracy: 0.6424 - val_loss: 2.6118 - val_accuracy: 0.5600\n",
      "Epoch 178/500\n",
      "31/31 [==============================] - 0s 3ms/step - loss: 2.4466 - accuracy: 0.6393 - val_loss: 2.5912 - val_accuracy: 0.5733\n",
      "Epoch 179/500\n",
      "31/31 [==============================] - 0s 3ms/step - loss: 2.4312 - accuracy: 0.6547 - val_loss: 2.5826 - val_accuracy: 0.5933\n",
      "Epoch 180/500\n",
      "31/31 [==============================] - 0s 3ms/step - loss: 2.4199 - accuracy: 0.6445 - val_loss: 2.5721 - val_accuracy: 0.5767\n",
      "Epoch 181/500\n",
      "31/31 [==============================] - 0s 3ms/step - loss: 2.4139 - accuracy: 0.6475 - val_loss: 2.5716 - val_accuracy: 0.5500\n",
      "Epoch 182/500\n",
      "31/31 [==============================] - 0s 3ms/step - loss: 2.4084 - accuracy: 0.6445 - val_loss: 2.5558 - val_accuracy: 0.5767\n",
      "Epoch 183/500\n",
      "31/31 [==============================] - 0s 3ms/step - loss: 2.3949 - accuracy: 0.6670 - val_loss: 2.5502 - val_accuracy: 0.5800\n",
      "Epoch 184/500\n",
      "31/31 [==============================] - 0s 3ms/step - loss: 2.3864 - accuracy: 0.6465 - val_loss: 2.5343 - val_accuracy: 0.5867\n",
      "Epoch 185/500\n",
      "31/31 [==============================] - 0s 2ms/step - loss: 2.3849 - accuracy: 0.6404 - val_loss: 2.5534 - val_accuracy: 0.5633\n",
      "Epoch 186/500\n",
      "31/31 [==============================] - 0s 3ms/step - loss: 2.3701 - accuracy: 0.6557 - val_loss: 2.5199 - val_accuracy: 0.5600\n",
      "Epoch 187/500\n",
      "31/31 [==============================] - 0s 2ms/step - loss: 2.3557 - accuracy: 0.6588 - val_loss: 2.5244 - val_accuracy: 0.5467\n",
      "Epoch 188/500\n",
      "31/31 [==============================] - 0s 3ms/step - loss: 2.3526 - accuracy: 0.6557 - val_loss: 2.5061 - val_accuracy: 0.5767\n",
      "Epoch 189/500\n",
      "31/31 [==============================] - 0s 2ms/step - loss: 2.3379 - accuracy: 0.6475 - val_loss: 2.5112 - val_accuracy: 0.5533\n",
      "Epoch 190/500\n",
      "31/31 [==============================] - 0s 3ms/step - loss: 2.3404 - accuracy: 0.6383 - val_loss: 2.4927 - val_accuracy: 0.5833\n",
      "Epoch 191/500\n",
      "31/31 [==============================] - 0s 2ms/step - loss: 2.3269 - accuracy: 0.6393 - val_loss: 2.4729 - val_accuracy: 0.5767\n",
      "Epoch 192/500\n",
      "31/31 [==============================] - 0s 2ms/step - loss: 2.3149 - accuracy: 0.6557 - val_loss: 2.4748 - val_accuracy: 0.5800\n",
      "Epoch 193/500\n",
      "31/31 [==============================] - 0s 3ms/step - loss: 2.2982 - accuracy: 0.6496 - val_loss: 2.4648 - val_accuracy: 0.6067\n",
      "Epoch 194/500\n",
      "31/31 [==============================] - 0s 3ms/step - loss: 2.3027 - accuracy: 0.6537 - val_loss: 2.4584 - val_accuracy: 0.5600\n",
      "Epoch 195/500\n",
      "31/31 [==============================] - 0s 2ms/step - loss: 2.3006 - accuracy: 0.6506 - val_loss: 2.4624 - val_accuracy: 0.5567\n",
      "Epoch 196/500\n",
      "31/31 [==============================] - 0s 3ms/step - loss: 2.2778 - accuracy: 0.6516 - val_loss: 2.4405 - val_accuracy: 0.5900\n",
      "Epoch 197/500\n",
      "31/31 [==============================] - 0s 2ms/step - loss: 2.2763 - accuracy: 0.6527 - val_loss: 2.4521 - val_accuracy: 0.5633\n",
      "Epoch 198/500\n",
      "31/31 [==============================] - 0s 3ms/step - loss: 2.2646 - accuracy: 0.6547 - val_loss: 2.4292 - val_accuracy: 0.5767\n",
      "Epoch 199/500\n",
      "31/31 [==============================] - 0s 2ms/step - loss: 2.2636 - accuracy: 0.6455 - val_loss: 2.4446 - val_accuracy: 0.5567\n",
      "Epoch 200/500\n",
      "31/31 [==============================] - 0s 3ms/step - loss: 2.2531 - accuracy: 0.6496 - val_loss: 2.4113 - val_accuracy: 0.5867\n",
      "Epoch 201/500\n",
      "31/31 [==============================] - 0s 3ms/step - loss: 2.2449 - accuracy: 0.6424 - val_loss: 2.4013 - val_accuracy: 0.5933\n",
      "Epoch 202/500\n",
      "31/31 [==============================] - 0s 3ms/step - loss: 2.2406 - accuracy: 0.6527 - val_loss: 2.3978 - val_accuracy: 0.5567\n",
      "Epoch 203/500\n",
      "31/31 [==============================] - 0s 3ms/step - loss: 2.2390 - accuracy: 0.6465 - val_loss: 2.3900 - val_accuracy: 0.5733\n",
      "Epoch 204/500\n",
      "31/31 [==============================] - 0s 3ms/step - loss: 2.2136 - accuracy: 0.6527 - val_loss: 2.3823 - val_accuracy: 0.5733\n",
      "Epoch 205/500\n",
      "31/31 [==============================] - 0s 2ms/step - loss: 2.2066 - accuracy: 0.6598 - val_loss: 2.3845 - val_accuracy: 0.5800\n",
      "Epoch 206/500\n",
      "31/31 [==============================] - 0s 3ms/step - loss: 2.1961 - accuracy: 0.6506 - val_loss: 2.3627 - val_accuracy: 0.5933\n",
      "Epoch 207/500\n",
      "31/31 [==============================] - 0s 3ms/step - loss: 2.1998 - accuracy: 0.6516 - val_loss: 2.3599 - val_accuracy: 0.5867\n",
      "Epoch 208/500\n",
      "31/31 [==============================] - 0s 3ms/step - loss: 2.1925 - accuracy: 0.6496 - val_loss: 2.3476 - val_accuracy: 0.5667\n",
      "Epoch 209/500\n",
      "31/31 [==============================] - 0s 2ms/step - loss: 2.1766 - accuracy: 0.6537 - val_loss: 2.3582 - val_accuracy: 0.5567\n",
      "Epoch 210/500\n",
      "31/31 [==============================] - 0s 3ms/step - loss: 2.1640 - accuracy: 0.6660 - val_loss: 2.3332 - val_accuracy: 0.5800\n",
      "Epoch 211/500\n",
      "31/31 [==============================] - 0s 3ms/step - loss: 2.1585 - accuracy: 0.6506 - val_loss: 2.3370 - val_accuracy: 0.5500\n",
      "Epoch 212/500\n",
      "31/31 [==============================] - 0s 4ms/step - loss: 2.1510 - accuracy: 0.6547 - val_loss: 2.3155 - val_accuracy: 0.5900\n",
      "Epoch 213/500\n",
      "31/31 [==============================] - 0s 4ms/step - loss: 2.1514 - accuracy: 0.6465 - val_loss: 2.3153 - val_accuracy: 0.5767\n",
      "Epoch 214/500\n",
      "31/31 [==============================] - 0s 4ms/step - loss: 2.1402 - accuracy: 0.6424 - val_loss: 2.3019 - val_accuracy: 0.5767\n",
      "Epoch 215/500\n",
      "31/31 [==============================] - 0s 6ms/step - loss: 2.1353 - accuracy: 0.6475 - val_loss: 2.2993 - val_accuracy: 0.5667\n",
      "Epoch 216/500\n",
      "31/31 [==============================] - 0s 2ms/step - loss: 2.1403 - accuracy: 0.6434 - val_loss: 2.3013 - val_accuracy: 0.5767\n",
      "Epoch 217/500\n",
      "31/31 [==============================] - 0s 3ms/step - loss: 2.1233 - accuracy: 0.6475 - val_loss: 2.2900 - val_accuracy: 0.5767\n",
      "Epoch 218/500\n",
      "31/31 [==============================] - 0s 5ms/step - loss: 2.1248 - accuracy: 0.6383 - val_loss: 2.2681 - val_accuracy: 0.5800\n",
      "Epoch 219/500\n",
      "31/31 [==============================] - 0s 4ms/step - loss: 2.1050 - accuracy: 0.6578 - val_loss: 2.2912 - val_accuracy: 0.5600\n",
      "Epoch 220/500\n",
      "31/31 [==============================] - 0s 4ms/step - loss: 2.0994 - accuracy: 0.6619 - val_loss: 2.2829 - val_accuracy: 0.5633\n",
      "Epoch 221/500\n",
      "31/31 [==============================] - 0s 3ms/step - loss: 2.0955 - accuracy: 0.6465 - val_loss: 2.2854 - val_accuracy: 0.5500\n",
      "Epoch 222/500\n",
      "31/31 [==============================] - 0s 3ms/step - loss: 2.0991 - accuracy: 0.6496 - val_loss: 2.2486 - val_accuracy: 0.5767\n",
      "Epoch 223/500\n",
      "31/31 [==============================] - 0s 4ms/step - loss: 2.0819 - accuracy: 0.6516 - val_loss: 2.2422 - val_accuracy: 0.5800\n",
      "Epoch 224/500\n",
      "31/31 [==============================] - 0s 3ms/step - loss: 2.0748 - accuracy: 0.6496 - val_loss: 2.2491 - val_accuracy: 0.5833\n",
      "Epoch 225/500\n",
      "31/31 [==============================] - 0s 4ms/step - loss: 2.0676 - accuracy: 0.6455 - val_loss: 2.2363 - val_accuracy: 0.5700\n",
      "Epoch 226/500\n",
      "31/31 [==============================] - 0s 3ms/step - loss: 2.0637 - accuracy: 0.6496 - val_loss: 2.2244 - val_accuracy: 0.5433\n",
      "Epoch 227/500\n",
      "31/31 [==============================] - 0s 4ms/step - loss: 2.0438 - accuracy: 0.6598 - val_loss: 2.2226 - val_accuracy: 0.5567\n",
      "Epoch 228/500\n",
      "31/31 [==============================] - 0s 3ms/step - loss: 2.0393 - accuracy: 0.6424 - val_loss: 2.2128 - val_accuracy: 0.5567\n",
      "Epoch 229/500\n",
      "31/31 [==============================] - 0s 2ms/step - loss: 2.0402 - accuracy: 0.6496 - val_loss: 2.2248 - val_accuracy: 0.5667\n",
      "Epoch 230/500\n",
      "31/31 [==============================] - 0s 3ms/step - loss: 2.0364 - accuracy: 0.6486 - val_loss: 2.2175 - val_accuracy: 0.5733\n",
      "Epoch 231/500\n",
      "31/31 [==============================] - 0s 5ms/step - loss: 2.0226 - accuracy: 0.6547 - val_loss: 2.1894 - val_accuracy: 0.5767\n",
      "Epoch 232/500\n",
      "31/31 [==============================] - 0s 3ms/step - loss: 2.0264 - accuracy: 0.6496 - val_loss: 2.1883 - val_accuracy: 0.5933\n",
      "Epoch 233/500\n",
      "31/31 [==============================] - 0s 3ms/step - loss: 2.0183 - accuracy: 0.6516 - val_loss: 2.1766 - val_accuracy: 0.5933\n",
      "Epoch 234/500\n",
      "31/31 [==============================] - 0s 2ms/step - loss: 2.0130 - accuracy: 0.6393 - val_loss: 2.1804 - val_accuracy: 0.5567\n",
      "Epoch 235/500\n",
      "31/31 [==============================] - 0s 3ms/step - loss: 1.9965 - accuracy: 0.6701 - val_loss: 2.1683 - val_accuracy: 0.5667\n",
      "Epoch 236/500\n",
      "31/31 [==============================] - 0s 3ms/step - loss: 1.9912 - accuracy: 0.6650 - val_loss: 2.1547 - val_accuracy: 0.5800\n",
      "Epoch 237/500\n",
      "31/31 [==============================] - 0s 3ms/step - loss: 1.9851 - accuracy: 0.6496 - val_loss: 2.1673 - val_accuracy: 0.5467\n",
      "Epoch 238/500\n",
      "31/31 [==============================] - 0s 3ms/step - loss: 1.9767 - accuracy: 0.6516 - val_loss: 2.1411 - val_accuracy: 0.5633\n",
      "Epoch 239/500\n",
      "31/31 [==============================] - 0s 2ms/step - loss: 1.9782 - accuracy: 0.6475 - val_loss: 2.1820 - val_accuracy: 0.5333\n",
      "Epoch 240/500\n",
      "31/31 [==============================] - 0s 3ms/step - loss: 1.9622 - accuracy: 0.6619 - val_loss: 2.1356 - val_accuracy: 0.5800\n",
      "Epoch 241/500\n",
      "31/31 [==============================] - 0s 2ms/step - loss: 1.9586 - accuracy: 0.6598 - val_loss: 2.1507 - val_accuracy: 0.5700\n",
      "Epoch 242/500\n",
      "31/31 [==============================] - 0s 3ms/step - loss: 1.9620 - accuracy: 0.6506 - val_loss: 2.1159 - val_accuracy: 0.5700\n",
      "Epoch 243/500\n",
      "31/31 [==============================] - 0s 2ms/step - loss: 1.9564 - accuracy: 0.6506 - val_loss: 2.1193 - val_accuracy: 0.5500\n",
      "Epoch 244/500\n",
      "31/31 [==============================] - 0s 2ms/step - loss: 1.9415 - accuracy: 0.6506 - val_loss: 2.1181 - val_accuracy: 0.5633\n",
      "Epoch 245/500\n",
      "31/31 [==============================] - 0s 3ms/step - loss: 1.9359 - accuracy: 0.6660 - val_loss: 2.1051 - val_accuracy: 0.5800\n",
      "Epoch 246/500\n",
      "31/31 [==============================] - 0s 4ms/step - loss: 1.9332 - accuracy: 0.6404 - val_loss: 2.1012 - val_accuracy: 0.5500\n",
      "Epoch 247/500\n",
      "31/31 [==============================] - 0s 4ms/step - loss: 1.9247 - accuracy: 0.6537 - val_loss: 2.1276 - val_accuracy: 0.5467\n",
      "Epoch 248/500\n",
      "31/31 [==============================] - 0s 3ms/step - loss: 1.9266 - accuracy: 0.6547 - val_loss: 2.0922 - val_accuracy: 0.5700\n",
      "Epoch 249/500\n",
      "31/31 [==============================] - 0s 3ms/step - loss: 1.9170 - accuracy: 0.6557 - val_loss: 2.0917 - val_accuracy: 0.5700\n",
      "Epoch 250/500\n",
      "31/31 [==============================] - 0s 4ms/step - loss: 1.9051 - accuracy: 0.6598 - val_loss: 2.0769 - val_accuracy: 0.5633\n",
      "Epoch 251/500\n",
      "31/31 [==============================] - 0s 4ms/step - loss: 1.9069 - accuracy: 0.6465 - val_loss: 2.0711 - val_accuracy: 0.5933\n",
      "Epoch 252/500\n",
      "31/31 [==============================] - 0s 4ms/step - loss: 1.8929 - accuracy: 0.6557 - val_loss: 2.0795 - val_accuracy: 0.5567\n",
      "Epoch 253/500\n",
      "31/31 [==============================] - 0s 3ms/step - loss: 1.8995 - accuracy: 0.6639 - val_loss: 2.0710 - val_accuracy: 0.5900\n",
      "Epoch 254/500\n",
      "31/31 [==============================] - 0s 2ms/step - loss: 1.8893 - accuracy: 0.6506 - val_loss: 2.0779 - val_accuracy: 0.5600\n",
      "Epoch 255/500\n",
      "31/31 [==============================] - 0s 3ms/step - loss: 1.8773 - accuracy: 0.6465 - val_loss: 2.0558 - val_accuracy: 0.5633\n",
      "Epoch 256/500\n",
      "31/31 [==============================] - 0s 4ms/step - loss: 1.8589 - accuracy: 0.6670 - val_loss: 2.0468 - val_accuracy: 0.5800\n",
      "Epoch 257/500\n",
      "31/31 [==============================] - 0s 3ms/step - loss: 1.8630 - accuracy: 0.6506 - val_loss: 2.0719 - val_accuracy: 0.5500\n",
      "Epoch 258/500\n",
      "31/31 [==============================] - 0s 4ms/step - loss: 1.8654 - accuracy: 0.6537 - val_loss: 2.0388 - val_accuracy: 0.5633\n",
      "Epoch 259/500\n",
      "31/31 [==============================] - 0s 3ms/step - loss: 1.8523 - accuracy: 0.6445 - val_loss: 2.0220 - val_accuracy: 0.5867\n",
      "Epoch 260/500\n",
      "31/31 [==============================] - 0s 2ms/step - loss: 1.8483 - accuracy: 0.6557 - val_loss: 2.0291 - val_accuracy: 0.5733\n",
      "Epoch 261/500\n",
      "31/31 [==============================] - 0s 3ms/step - loss: 1.8426 - accuracy: 0.6588 - val_loss: 2.0101 - val_accuracy: 0.5800\n",
      "Epoch 262/500\n",
      "31/31 [==============================] - 0s 2ms/step - loss: 1.8432 - accuracy: 0.6506 - val_loss: 2.0142 - val_accuracy: 0.5667\n",
      "Epoch 263/500\n",
      "31/31 [==============================] - 0s 4ms/step - loss: 1.8364 - accuracy: 0.6383 - val_loss: 2.0098 - val_accuracy: 0.5600\n",
      "Epoch 264/500\n",
      "31/31 [==============================] - 0s 3ms/step - loss: 1.8275 - accuracy: 0.6588 - val_loss: 2.0015 - val_accuracy: 0.5967\n",
      "Epoch 265/500\n",
      "31/31 [==============================] - 0s 3ms/step - loss: 1.8208 - accuracy: 0.6434 - val_loss: 2.0147 - val_accuracy: 0.5733\n",
      "Epoch 266/500\n",
      "31/31 [==============================] - 0s 3ms/step - loss: 1.8201 - accuracy: 0.6557 - val_loss: 1.9880 - val_accuracy: 0.5800\n",
      "Epoch 267/500\n",
      "31/31 [==============================] - 0s 3ms/step - loss: 1.8051 - accuracy: 0.6578 - val_loss: 1.9912 - val_accuracy: 0.5800\n",
      "Epoch 268/500\n",
      "31/31 [==============================] - 0s 3ms/step - loss: 1.8091 - accuracy: 0.6680 - val_loss: 1.9873 - val_accuracy: 0.5967\n",
      "Epoch 269/500\n",
      "31/31 [==============================] - 0s 3ms/step - loss: 1.8098 - accuracy: 0.6496 - val_loss: 1.9706 - val_accuracy: 0.5767\n",
      "Epoch 270/500\n",
      "31/31 [==============================] - 0s 3ms/step - loss: 1.7943 - accuracy: 0.6650 - val_loss: 2.0047 - val_accuracy: 0.5633\n",
      "Epoch 271/500\n",
      "31/31 [==============================] - 0s 4ms/step - loss: 1.7934 - accuracy: 0.6506 - val_loss: 1.9616 - val_accuracy: 0.5833\n",
      "Epoch 272/500\n",
      "31/31 [==============================] - 0s 2ms/step - loss: 1.7878 - accuracy: 0.6588 - val_loss: 1.9672 - val_accuracy: 0.5767\n",
      "Epoch 273/500\n",
      "31/31 [==============================] - 0s 2ms/step - loss: 1.7882 - accuracy: 0.6547 - val_loss: 1.9622 - val_accuracy: 0.5733\n",
      "Epoch 274/500\n",
      "31/31 [==============================] - 0s 3ms/step - loss: 1.7734 - accuracy: 0.6578 - val_loss: 1.9583 - val_accuracy: 0.5733\n",
      "Epoch 275/500\n",
      "31/31 [==============================] - 0s 3ms/step - loss: 1.7776 - accuracy: 0.6373 - val_loss: 1.9474 - val_accuracy: 0.5533\n",
      "Epoch 276/500\n",
      "31/31 [==============================] - 0s 4ms/step - loss: 1.7567 - accuracy: 0.6660 - val_loss: 1.9618 - val_accuracy: 0.5467\n",
      "Epoch 277/500\n",
      "31/31 [==============================] - 0s 5ms/step - loss: 1.7662 - accuracy: 0.6598 - val_loss: 1.9445 - val_accuracy: 0.5767\n",
      "Epoch 278/500\n",
      "31/31 [==============================] - 0s 4ms/step - loss: 1.7638 - accuracy: 0.6619 - val_loss: 1.9571 - val_accuracy: 0.5800\n",
      "Epoch 279/500\n",
      "31/31 [==============================] - 0s 3ms/step - loss: 1.7641 - accuracy: 0.6516 - val_loss: 1.9513 - val_accuracy: 0.5633\n",
      "Epoch 280/500\n",
      "31/31 [==============================] - 0s 3ms/step - loss: 1.7495 - accuracy: 0.6619 - val_loss: 1.9388 - val_accuracy: 0.5733\n",
      "Epoch 281/500\n",
      "31/31 [==============================] - 0s 3ms/step - loss: 1.7386 - accuracy: 0.6537 - val_loss: 1.9156 - val_accuracy: 0.5733\n",
      "Epoch 282/500\n",
      "31/31 [==============================] - 0s 3ms/step - loss: 1.7348 - accuracy: 0.6639 - val_loss: 1.9087 - val_accuracy: 0.5867\n",
      "Epoch 283/500\n",
      "31/31 [==============================] - 0s 5ms/step - loss: 1.7372 - accuracy: 0.6527 - val_loss: 1.9190 - val_accuracy: 0.5700\n",
      "Epoch 284/500\n",
      "31/31 [==============================] - 0s 5ms/step - loss: 1.7280 - accuracy: 0.6609 - val_loss: 1.9239 - val_accuracy: 0.5700\n",
      "Epoch 285/500\n",
      "31/31 [==============================] - 0s 2ms/step - loss: 1.7138 - accuracy: 0.6721 - val_loss: 1.9463 - val_accuracy: 0.5467\n",
      "Epoch 286/500\n",
      "31/31 [==============================] - 0s 3ms/step - loss: 1.7205 - accuracy: 0.6650 - val_loss: 1.9085 - val_accuracy: 0.5567\n",
      "Epoch 287/500\n",
      "31/31 [==============================] - 0s 3ms/step - loss: 1.7120 - accuracy: 0.6568 - val_loss: 1.8928 - val_accuracy: 0.5933\n",
      "Epoch 288/500\n",
      "31/31 [==============================] - 0s 2ms/step - loss: 1.7188 - accuracy: 0.6445 - val_loss: 1.9127 - val_accuracy: 0.5433\n",
      "Epoch 289/500\n",
      "31/31 [==============================] - 0s 2ms/step - loss: 1.7131 - accuracy: 0.6537 - val_loss: 1.8956 - val_accuracy: 0.5533\n",
      "Epoch 290/500\n",
      "31/31 [==============================] - 0s 2ms/step - loss: 1.7021 - accuracy: 0.6609 - val_loss: 1.9147 - val_accuracy: 0.5300\n",
      "Epoch 291/500\n",
      "31/31 [==============================] - 0s 4ms/step - loss: 1.6923 - accuracy: 0.6619 - val_loss: 1.8714 - val_accuracy: 0.5800\n",
      "Epoch 292/500\n",
      "31/31 [==============================] - 0s 3ms/step - loss: 1.6956 - accuracy: 0.6506 - val_loss: 1.8813 - val_accuracy: 0.5800\n",
      "Epoch 293/500\n",
      "31/31 [==============================] - 0s 4ms/step - loss: 1.6875 - accuracy: 0.6496 - val_loss: 1.8584 - val_accuracy: 0.5767\n",
      "Epoch 294/500\n",
      "31/31 [==============================] - 0s 7ms/step - loss: 1.6846 - accuracy: 0.6650 - val_loss: 1.8556 - val_accuracy: 0.5833\n",
      "Epoch 295/500\n",
      "31/31 [==============================] - 0s 4ms/step - loss: 1.6760 - accuracy: 0.6619 - val_loss: 1.8604 - val_accuracy: 0.5733\n",
      "Epoch 296/500\n",
      "31/31 [==============================] - 0s 2ms/step - loss: 1.6725 - accuracy: 0.6609 - val_loss: 1.8868 - val_accuracy: 0.5767\n",
      "Epoch 297/500\n",
      "31/31 [==============================] - 0s 7ms/step - loss: 1.6652 - accuracy: 0.6486 - val_loss: 1.8478 - val_accuracy: 0.5767\n",
      "Epoch 298/500\n",
      "31/31 [==============================] - 0s 6ms/step - loss: 1.6667 - accuracy: 0.6506 - val_loss: 1.8360 - val_accuracy: 0.5633\n",
      "Epoch 299/500\n",
      "31/31 [==============================] - 0s 4ms/step - loss: 1.6612 - accuracy: 0.6527 - val_loss: 1.8588 - val_accuracy: 0.5800\n",
      "Epoch 300/500\n",
      "31/31 [==============================] - 0s 3ms/step - loss: 1.6587 - accuracy: 0.6434 - val_loss: 1.8493 - val_accuracy: 0.5700\n",
      "Epoch 301/500\n",
      "31/31 [==============================] - 0s 3ms/step - loss: 1.6509 - accuracy: 0.6496 - val_loss: 1.8350 - val_accuracy: 0.5800\n",
      "Epoch 302/500\n",
      "31/31 [==============================] - 0s 2ms/step - loss: 1.6458 - accuracy: 0.6557 - val_loss: 1.8382 - val_accuracy: 0.5733\n",
      "Epoch 303/500\n",
      "31/31 [==============================] - 0s 2ms/step - loss: 1.6502 - accuracy: 0.6475 - val_loss: 1.8405 - val_accuracy: 0.5767\n",
      "Epoch 304/500\n",
      "31/31 [==============================] - 0s 3ms/step - loss: 1.6492 - accuracy: 0.6680 - val_loss: 1.8244 - val_accuracy: 0.5900\n",
      "Epoch 305/500\n",
      "31/31 [==============================] - 0s 4ms/step - loss: 1.6420 - accuracy: 0.6516 - val_loss: 1.8154 - val_accuracy: 0.5733\n",
      "Epoch 306/500\n",
      "31/31 [==============================] - 0s 3ms/step - loss: 1.6286 - accuracy: 0.6639 - val_loss: 1.8526 - val_accuracy: 0.5400\n",
      "Epoch 307/500\n",
      "31/31 [==============================] - 0s 4ms/step - loss: 1.6265 - accuracy: 0.6486 - val_loss: 1.8013 - val_accuracy: 0.5800\n",
      "Epoch 308/500\n",
      "31/31 [==============================] - 0s 2ms/step - loss: 1.6214 - accuracy: 0.6598 - val_loss: 1.8167 - val_accuracy: 0.5700\n",
      "Epoch 309/500\n",
      "31/31 [==============================] - 0s 2ms/step - loss: 1.6113 - accuracy: 0.6691 - val_loss: 1.8620 - val_accuracy: 0.5100\n",
      "Epoch 310/500\n",
      "31/31 [==============================] - 0s 3ms/step - loss: 1.6196 - accuracy: 0.6588 - val_loss: 1.7996 - val_accuracy: 0.5900\n",
      "Epoch 311/500\n",
      "31/31 [==============================] - 0s 4ms/step - loss: 1.6115 - accuracy: 0.6639 - val_loss: 1.7894 - val_accuracy: 0.5967\n",
      "Epoch 312/500\n",
      "31/31 [==============================] - 0s 4ms/step - loss: 1.6016 - accuracy: 0.6588 - val_loss: 1.8149 - val_accuracy: 0.5600\n",
      "Epoch 313/500\n",
      "31/31 [==============================] - 0s 3ms/step - loss: 1.6076 - accuracy: 0.6629 - val_loss: 1.7942 - val_accuracy: 0.5667\n",
      "Epoch 314/500\n",
      "31/31 [==============================] - 0s 3ms/step - loss: 1.6058 - accuracy: 0.6568 - val_loss: 1.7889 - val_accuracy: 0.5900\n",
      "Epoch 315/500\n",
      "31/31 [==============================] - 0s 4ms/step - loss: 1.5961 - accuracy: 0.6598 - val_loss: 1.7805 - val_accuracy: 0.5800\n",
      "Epoch 316/500\n",
      "31/31 [==============================] - 0s 3ms/step - loss: 1.5900 - accuracy: 0.6537 - val_loss: 1.7682 - val_accuracy: 0.5800\n",
      "Epoch 317/500\n",
      "31/31 [==============================] - 0s 2ms/step - loss: 1.5943 - accuracy: 0.6639 - val_loss: 1.7762 - val_accuracy: 0.5733\n",
      "Epoch 318/500\n",
      "31/31 [==============================] - 0s 2ms/step - loss: 1.5854 - accuracy: 0.6639 - val_loss: 1.7706 - val_accuracy: 0.5833\n",
      "Epoch 319/500\n",
      "31/31 [==============================] - 0s 4ms/step - loss: 1.5728 - accuracy: 0.6547 - val_loss: 1.7628 - val_accuracy: 0.5767\n",
      "Epoch 320/500\n",
      "31/31 [==============================] - 0s 5ms/step - loss: 1.5744 - accuracy: 0.6557 - val_loss: 1.7555 - val_accuracy: 0.5667\n",
      "Epoch 321/500\n",
      "31/31 [==============================] - 0s 4ms/step - loss: 1.5714 - accuracy: 0.6598 - val_loss: 1.7618 - val_accuracy: 0.5933\n",
      "Epoch 322/500\n",
      "31/31 [==============================] - 0s 3ms/step - loss: 1.5757 - accuracy: 0.6537 - val_loss: 1.7495 - val_accuracy: 0.5633\n",
      "Epoch 323/500\n",
      "31/31 [==============================] - 0s 4ms/step - loss: 1.5609 - accuracy: 0.6475 - val_loss: 1.7465 - val_accuracy: 0.5800\n",
      "Epoch 324/500\n",
      "31/31 [==============================] - 0s 2ms/step - loss: 1.5543 - accuracy: 0.6547 - val_loss: 1.7476 - val_accuracy: 0.5567\n",
      "Epoch 325/500\n",
      "31/31 [==============================] - 0s 3ms/step - loss: 1.5544 - accuracy: 0.6578 - val_loss: 1.7367 - val_accuracy: 0.5733\n",
      "Epoch 326/500\n",
      "31/31 [==============================] - 0s 2ms/step - loss: 1.5523 - accuracy: 0.6711 - val_loss: 1.7945 - val_accuracy: 0.5000\n",
      "Epoch 327/500\n",
      "31/31 [==============================] - 0s 3ms/step - loss: 1.5507 - accuracy: 0.6639 - val_loss: 1.7375 - val_accuracy: 0.5500\n",
      "Epoch 328/500\n",
      "31/31 [==============================] - 0s 2ms/step - loss: 1.5527 - accuracy: 0.6670 - val_loss: 1.7410 - val_accuracy: 0.5500\n",
      "Epoch 329/500\n",
      "31/31 [==============================] - 0s 3ms/step - loss: 1.5428 - accuracy: 0.6650 - val_loss: 1.7358 - val_accuracy: 0.5633\n",
      "Epoch 330/500\n",
      "31/31 [==============================] - 0s 3ms/step - loss: 1.5345 - accuracy: 0.6537 - val_loss: 1.7152 - val_accuracy: 0.5800\n",
      "Epoch 331/500\n",
      "31/31 [==============================] - 0s 2ms/step - loss: 1.5329 - accuracy: 0.6639 - val_loss: 1.7193 - val_accuracy: 0.5900\n",
      "Epoch 332/500\n",
      "31/31 [==============================] - 0s 2ms/step - loss: 1.5268 - accuracy: 0.6691 - val_loss: 1.7298 - val_accuracy: 0.5667\n",
      "Epoch 333/500\n",
      "31/31 [==============================] - 0s 3ms/step - loss: 1.5240 - accuracy: 0.6701 - val_loss: 1.7066 - val_accuracy: 0.5700\n",
      "Epoch 334/500\n",
      "31/31 [==============================] - 0s 3ms/step - loss: 1.5238 - accuracy: 0.6516 - val_loss: 1.7197 - val_accuracy: 0.5833\n",
      "Epoch 335/500\n",
      "31/31 [==============================] - 0s 4ms/step - loss: 1.5246 - accuracy: 0.6496 - val_loss: 1.7288 - val_accuracy: 0.5900\n",
      "Epoch 336/500\n",
      "31/31 [==============================] - 0s 3ms/step - loss: 1.5242 - accuracy: 0.6486 - val_loss: 1.7152 - val_accuracy: 0.5667\n",
      "Epoch 337/500\n",
      "31/31 [==============================] - 0s 3ms/step - loss: 1.5188 - accuracy: 0.6680 - val_loss: 1.6994 - val_accuracy: 0.5833\n",
      "Epoch 338/500\n",
      "31/31 [==============================] - 0s 3ms/step - loss: 1.5013 - accuracy: 0.6547 - val_loss: 1.7126 - val_accuracy: 0.5700\n",
      "Epoch 339/500\n",
      "31/31 [==============================] - 0s 2ms/step - loss: 1.4951 - accuracy: 0.6732 - val_loss: 1.7087 - val_accuracy: 0.5800\n",
      "Epoch 340/500\n",
      "31/31 [==============================] - 0s 3ms/step - loss: 1.5070 - accuracy: 0.6619 - val_loss: 1.7070 - val_accuracy: 0.5667\n",
      "Epoch 341/500\n",
      "31/31 [==============================] - 0s 2ms/step - loss: 1.4957 - accuracy: 0.6629 - val_loss: 1.7158 - val_accuracy: 0.5667\n",
      "Epoch 342/500\n",
      "31/31 [==============================] - 0s 3ms/step - loss: 1.4930 - accuracy: 0.6629 - val_loss: 1.6776 - val_accuracy: 0.5833\n",
      "Epoch 343/500\n",
      "31/31 [==============================] - 0s 2ms/step - loss: 1.4938 - accuracy: 0.6506 - val_loss: 1.6832 - val_accuracy: 0.6033\n",
      "Epoch 344/500\n",
      "31/31 [==============================] - 0s 2ms/step - loss: 1.4980 - accuracy: 0.6506 - val_loss: 1.6812 - val_accuracy: 0.5767\n",
      "Epoch 345/500\n",
      "31/31 [==============================] - 0s 2ms/step - loss: 1.4912 - accuracy: 0.6557 - val_loss: 1.6921 - val_accuracy: 0.5600\n",
      "Epoch 346/500\n",
      "31/31 [==============================] - 0s 3ms/step - loss: 1.4870 - accuracy: 0.6568 - val_loss: 1.6724 - val_accuracy: 0.5800\n",
      "Epoch 347/500\n",
      "31/31 [==============================] - 0s 3ms/step - loss: 1.4837 - accuracy: 0.6650 - val_loss: 1.6678 - val_accuracy: 0.5800\n",
      "Epoch 348/500\n",
      "31/31 [==============================] - 0s 2ms/step - loss: 1.4776 - accuracy: 0.6639 - val_loss: 1.6926 - val_accuracy: 0.5667\n",
      "Epoch 349/500\n",
      "31/31 [==============================] - 0s 3ms/step - loss: 1.4811 - accuracy: 0.6568 - val_loss: 1.6580 - val_accuracy: 0.5867\n",
      "Epoch 350/500\n",
      "31/31 [==============================] - 0s 4ms/step - loss: 1.4840 - accuracy: 0.6486 - val_loss: 1.6535 - val_accuracy: 0.5900\n",
      "Epoch 351/500\n",
      "31/31 [==============================] - 0s 2ms/step - loss: 1.4673 - accuracy: 0.6527 - val_loss: 1.6594 - val_accuracy: 0.6067\n",
      "Epoch 352/500\n",
      "31/31 [==============================] - 0s 2ms/step - loss: 1.4803 - accuracy: 0.6506 - val_loss: 1.6562 - val_accuracy: 0.5733\n",
      "Epoch 353/500\n",
      "31/31 [==============================] - 0s 2ms/step - loss: 1.4646 - accuracy: 0.6609 - val_loss: 1.6780 - val_accuracy: 0.5800\n",
      "Epoch 354/500\n",
      "31/31 [==============================] - 0s 2ms/step - loss: 1.4516 - accuracy: 0.6629 - val_loss: 1.6708 - val_accuracy: 0.5700\n",
      "Epoch 355/500\n",
      "31/31 [==============================] - 0s 2ms/step - loss: 1.4557 - accuracy: 0.6568 - val_loss: 1.6615 - val_accuracy: 0.5767\n",
      "Epoch 356/500\n",
      "31/31 [==============================] - 0s 2ms/step - loss: 1.4546 - accuracy: 0.6547 - val_loss: 1.6552 - val_accuracy: 0.5633\n",
      "Epoch 357/500\n",
      "31/31 [==============================] - 0s 3ms/step - loss: 1.4427 - accuracy: 0.6732 - val_loss: 1.6462 - val_accuracy: 0.5767\n",
      "Epoch 358/500\n",
      "31/31 [==============================] - 0s 2ms/step - loss: 1.4430 - accuracy: 0.6568 - val_loss: 1.6503 - val_accuracy: 0.5900\n",
      "Epoch 359/500\n",
      "31/31 [==============================] - 0s 2ms/step - loss: 1.4422 - accuracy: 0.6588 - val_loss: 1.6842 - val_accuracy: 0.5633\n",
      "Epoch 360/500\n",
      "31/31 [==============================] - 0s 3ms/step - loss: 1.4443 - accuracy: 0.6691 - val_loss: 1.6310 - val_accuracy: 0.5700\n",
      "Epoch 361/500\n",
      "31/31 [==============================] - 0s 2ms/step - loss: 1.4285 - accuracy: 0.6557 - val_loss: 1.6478 - val_accuracy: 0.5800\n",
      "Epoch 362/500\n",
      "31/31 [==============================] - ETA: 0s - loss: 1.4386 - accuracy: 0.65 - 0s 4ms/step - loss: 1.4323 - accuracy: 0.6588 - val_loss: 1.6345 - val_accuracy: 0.5867\n",
      "Epoch 363/500\n",
      "31/31 [==============================] - 0s 4ms/step - loss: 1.4291 - accuracy: 0.6629 - val_loss: 1.6200 - val_accuracy: 0.5767\n",
      "Epoch 364/500\n",
      "31/31 [==============================] - 0s 3ms/step - loss: 1.4388 - accuracy: 0.6496 - val_loss: 1.6213 - val_accuracy: 0.5633\n",
      "Epoch 365/500\n",
      "31/31 [==============================] - 0s 3ms/step - loss: 1.4237 - accuracy: 0.6783 - val_loss: 1.6366 - val_accuracy: 0.5600\n",
      "Epoch 366/500\n",
      "31/31 [==============================] - 0s 2ms/step - loss: 1.4299 - accuracy: 0.6578 - val_loss: 1.6469 - val_accuracy: 0.5500\n",
      "Epoch 367/500\n",
      "31/31 [==============================] - 0s 2ms/step - loss: 1.4167 - accuracy: 0.6629 - val_loss: 1.6255 - val_accuracy: 0.5733\n",
      "Epoch 368/500\n",
      "31/31 [==============================] - 0s 4ms/step - loss: 1.4107 - accuracy: 0.6650 - val_loss: 1.6017 - val_accuracy: 0.5900\n",
      "Epoch 369/500\n",
      "31/31 [==============================] - 0s 4ms/step - loss: 1.4131 - accuracy: 0.6578 - val_loss: 1.6026 - val_accuracy: 0.5767\n",
      "Epoch 370/500\n",
      "31/31 [==============================] - 0s 2ms/step - loss: 1.4146 - accuracy: 0.6732 - val_loss: 1.6411 - val_accuracy: 0.5367\n",
      "Epoch 371/500\n",
      "31/31 [==============================] - 0s 2ms/step - loss: 1.4065 - accuracy: 0.6506 - val_loss: 1.6150 - val_accuracy: 0.5667\n",
      "Epoch 372/500\n",
      "31/31 [==============================] - 0s 2ms/step - loss: 1.4019 - accuracy: 0.6568 - val_loss: 1.6474 - val_accuracy: 0.5533\n",
      "Epoch 373/500\n",
      "31/31 [==============================] - 0s 3ms/step - loss: 1.4048 - accuracy: 0.6537 - val_loss: 1.5891 - val_accuracy: 0.5767\n",
      "Epoch 374/500\n",
      "31/31 [==============================] - 0s 3ms/step - loss: 1.4011 - accuracy: 0.6496 - val_loss: 1.6313 - val_accuracy: 0.5400\n",
      "Epoch 375/500\n",
      "31/31 [==============================] - 0s 3ms/step - loss: 1.3999 - accuracy: 0.6639 - val_loss: 1.6439 - val_accuracy: 0.5567\n",
      "Epoch 376/500\n",
      "31/31 [==============================] - 0s 2ms/step - loss: 1.4055 - accuracy: 0.6557 - val_loss: 1.6145 - val_accuracy: 0.5533\n",
      "Epoch 377/500\n",
      "31/31 [==============================] - 0s 3ms/step - loss: 1.3937 - accuracy: 0.6475 - val_loss: 1.5852 - val_accuracy: 0.5833\n",
      "Epoch 378/500\n",
      "31/31 [==============================] - 0s 2ms/step - loss: 1.3928 - accuracy: 0.6721 - val_loss: 1.6017 - val_accuracy: 0.5633\n",
      "Epoch 379/500\n",
      "31/31 [==============================] - 0s 3ms/step - loss: 1.3929 - accuracy: 0.6670 - val_loss: 1.6028 - val_accuracy: 0.5833\n",
      "Epoch 380/500\n",
      "31/31 [==============================] - 0s 3ms/step - loss: 1.3906 - accuracy: 0.6588 - val_loss: 1.5657 - val_accuracy: 0.5767\n",
      "Epoch 381/500\n",
      "31/31 [==============================] - 0s 2ms/step - loss: 1.3882 - accuracy: 0.6465 - val_loss: 1.5998 - val_accuracy: 0.5600\n",
      "Epoch 382/500\n",
      "31/31 [==============================] - 0s 2ms/step - loss: 1.3783 - accuracy: 0.6680 - val_loss: 1.5978 - val_accuracy: 0.5767\n",
      "Epoch 383/500\n",
      "31/31 [==============================] - 0s 2ms/step - loss: 1.3748 - accuracy: 0.6752 - val_loss: 1.5801 - val_accuracy: 0.5767\n",
      "Epoch 384/500\n",
      "31/31 [==============================] - 0s 2ms/step - loss: 1.3781 - accuracy: 0.6670 - val_loss: 1.5965 - val_accuracy: 0.5633\n",
      "Epoch 385/500\n",
      "31/31 [==============================] - 0s 3ms/step - loss: 1.3763 - accuracy: 0.6598 - val_loss: 1.5578 - val_accuracy: 0.6067\n",
      "Epoch 386/500\n",
      "31/31 [==============================] - 0s 3ms/step - loss: 1.3629 - accuracy: 0.6568 - val_loss: 1.5981 - val_accuracy: 0.5500\n",
      "Epoch 387/500\n",
      "31/31 [==============================] - 0s 2ms/step - loss: 1.3656 - accuracy: 0.6527 - val_loss: 1.5674 - val_accuracy: 0.5800\n",
      "Epoch 388/500\n",
      "31/31 [==============================] - 0s 2ms/step - loss: 1.3703 - accuracy: 0.6691 - val_loss: 1.5619 - val_accuracy: 0.5867\n",
      "Epoch 389/500\n",
      "31/31 [==============================] - 0s 2ms/step - loss: 1.3562 - accuracy: 0.6680 - val_loss: 1.6009 - val_accuracy: 0.5500\n",
      "Epoch 390/500\n",
      "31/31 [==============================] - 0s 3ms/step - loss: 1.3598 - accuracy: 0.6660 - val_loss: 1.5525 - val_accuracy: 0.5967\n",
      "Epoch 391/500\n",
      "31/31 [==============================] - 0s 3ms/step - loss: 1.3590 - accuracy: 0.6598 - val_loss: 1.5709 - val_accuracy: 0.5567\n",
      "Epoch 392/500\n",
      "31/31 [==============================] - 0s 2ms/step - loss: 1.3550 - accuracy: 0.6598 - val_loss: 1.5793 - val_accuracy: 0.5500\n",
      "Epoch 393/500\n",
      "31/31 [==============================] - 0s 3ms/step - loss: 1.3518 - accuracy: 0.6619 - val_loss: 1.5499 - val_accuracy: 0.5967\n",
      "Epoch 394/500\n",
      "31/31 [==============================] - 0s 3ms/step - loss: 1.3452 - accuracy: 0.6680 - val_loss: 1.5635 - val_accuracy: 0.5633\n",
      "Epoch 395/500\n",
      "31/31 [==============================] - 0s 2ms/step - loss: 1.3483 - accuracy: 0.6578 - val_loss: 1.5578 - val_accuracy: 0.5600\n",
      "Epoch 396/500\n",
      "31/31 [==============================] - 0s 3ms/step - loss: 1.3374 - accuracy: 0.6670 - val_loss: 1.5357 - val_accuracy: 0.5700\n",
      "Epoch 397/500\n",
      "31/31 [==============================] - 0s 4ms/step - loss: 1.3454 - accuracy: 0.6588 - val_loss: 1.5732 - val_accuracy: 0.5767\n",
      "Epoch 398/500\n",
      "31/31 [==============================] - 0s 5ms/step - loss: 1.3412 - accuracy: 0.6639 - val_loss: 1.5259 - val_accuracy: 0.5633\n",
      "Epoch 399/500\n",
      "31/31 [==============================] - 0s 3ms/step - loss: 1.3339 - accuracy: 0.6721 - val_loss: 1.5429 - val_accuracy: 0.5600\n",
      "Epoch 400/500\n",
      "31/31 [==============================] - 0s 3ms/step - loss: 1.3311 - accuracy: 0.6732 - val_loss: 1.5852 - val_accuracy: 0.5700\n",
      "Epoch 401/500\n",
      "31/31 [==============================] - 0s 3ms/step - loss: 1.3347 - accuracy: 0.6609 - val_loss: 1.5312 - val_accuracy: 0.5633\n",
      "Epoch 402/500\n",
      "31/31 [==============================] - 0s 5ms/step - loss: 1.3222 - accuracy: 0.6660 - val_loss: 1.5240 - val_accuracy: 0.5933\n",
      "Epoch 403/500\n",
      "31/31 [==============================] - 0s 4ms/step - loss: 1.3264 - accuracy: 0.6527 - val_loss: 1.5228 - val_accuracy: 0.5800\n",
      "Epoch 404/500\n",
      "31/31 [==============================] - 0s 4ms/step - loss: 1.3316 - accuracy: 0.6568 - val_loss: 1.5217 - val_accuracy: 0.5867\n",
      "Epoch 405/500\n",
      "31/31 [==============================] - 0s 3ms/step - loss: 1.3217 - accuracy: 0.6588 - val_loss: 1.5772 - val_accuracy: 0.5433\n",
      "Epoch 406/500\n",
      "31/31 [==============================] - 0s 3ms/step - loss: 1.3226 - accuracy: 0.6527 - val_loss: 1.5181 - val_accuracy: 0.5733\n",
      "Epoch 407/500\n",
      "31/31 [==============================] - 0s 2ms/step - loss: 1.3257 - accuracy: 0.6537 - val_loss: 1.5197 - val_accuracy: 0.5800\n",
      "Epoch 408/500\n",
      "31/31 [==============================] - 0s 2ms/step - loss: 1.3277 - accuracy: 0.6486 - val_loss: 1.5236 - val_accuracy: 0.5700\n",
      "Epoch 409/500\n",
      "31/31 [==============================] - 0s 2ms/step - loss: 1.3071 - accuracy: 0.6588 - val_loss: 1.5445 - val_accuracy: 0.5700\n",
      "Epoch 410/500\n",
      "31/31 [==============================] - 0s 3ms/step - loss: 1.3213 - accuracy: 0.6639 - val_loss: 1.5038 - val_accuracy: 0.5800\n",
      "Epoch 411/500\n",
      "31/31 [==============================] - 0s 2ms/step - loss: 1.3201 - accuracy: 0.6598 - val_loss: 1.5101 - val_accuracy: 0.5800\n",
      "Epoch 412/500\n",
      "31/31 [==============================] - 0s 3ms/step - loss: 1.3074 - accuracy: 0.6711 - val_loss: 1.5110 - val_accuracy: 0.5667\n",
      "Epoch 413/500\n",
      "31/31 [==============================] - 0s 5ms/step - loss: 1.2966 - accuracy: 0.6711 - val_loss: 1.5234 - val_accuracy: 0.5900\n",
      "Epoch 414/500\n",
      "31/31 [==============================] - 0s 5ms/step - loss: 1.3022 - accuracy: 0.6537 - val_loss: 1.5488 - val_accuracy: 0.5633\n",
      "Epoch 415/500\n",
      "31/31 [==============================] - 0s 2ms/step - loss: 1.3003 - accuracy: 0.6721 - val_loss: 1.5227 - val_accuracy: 0.5833\n",
      "Epoch 416/500\n",
      "31/31 [==============================] - 0s 3ms/step - loss: 1.2924 - accuracy: 0.6547 - val_loss: 1.5810 - val_accuracy: 0.5033\n",
      "Epoch 417/500\n",
      "31/31 [==============================] - 0s 3ms/step - loss: 1.2983 - accuracy: 0.6578 - val_loss: 1.5013 - val_accuracy: 0.5800\n",
      "Epoch 418/500\n",
      "31/31 [==============================] - 0s 4ms/step - loss: 1.3016 - accuracy: 0.6701 - val_loss: 1.4976 - val_accuracy: 0.5800\n",
      "Epoch 419/500\n",
      "31/31 [==============================] - 0s 3ms/step - loss: 1.2989 - accuracy: 0.6691 - val_loss: 1.5173 - val_accuracy: 0.5900\n",
      "Epoch 420/500\n",
      "31/31 [==============================] - 0s 4ms/step - loss: 1.3007 - accuracy: 0.6568 - val_loss: 1.4816 - val_accuracy: 0.5700\n",
      "Epoch 421/500\n",
      "31/31 [==============================] - 0s 3ms/step - loss: 1.2867 - accuracy: 0.6619 - val_loss: 1.5348 - val_accuracy: 0.5467\n",
      "Epoch 422/500\n",
      "31/31 [==============================] - 0s 3ms/step - loss: 1.2911 - accuracy: 0.6609 - val_loss: 1.4769 - val_accuracy: 0.5667\n",
      "Epoch 423/500\n",
      "31/31 [==============================] - 0s 2ms/step - loss: 1.2975 - accuracy: 0.6578 - val_loss: 1.4779 - val_accuracy: 0.5767\n",
      "Epoch 424/500\n",
      "31/31 [==============================] - 0s 2ms/step - loss: 1.2866 - accuracy: 0.6691 - val_loss: 1.4871 - val_accuracy: 0.5833\n",
      "Epoch 425/500\n",
      "31/31 [==============================] - 0s 2ms/step - loss: 1.2861 - accuracy: 0.6701 - val_loss: 1.4941 - val_accuracy: 0.5700\n",
      "Epoch 426/500\n",
      "31/31 [==============================] - 0s 2ms/step - loss: 1.2788 - accuracy: 0.6547 - val_loss: 1.4792 - val_accuracy: 0.5667\n",
      "Epoch 427/500\n",
      "31/31 [==============================] - 0s 3ms/step - loss: 1.2780 - accuracy: 0.6650 - val_loss: 1.4665 - val_accuracy: 0.5867\n",
      "Epoch 428/500\n",
      "31/31 [==============================] - 0s 3ms/step - loss: 1.2753 - accuracy: 0.6711 - val_loss: 1.4936 - val_accuracy: 0.5567\n",
      "Epoch 429/500\n",
      "31/31 [==============================] - 0s 3ms/step - loss: 1.2774 - accuracy: 0.6557 - val_loss: 1.4644 - val_accuracy: 0.5900\n",
      "Epoch 430/500\n",
      "31/31 [==============================] - 0s 2ms/step - loss: 1.2758 - accuracy: 0.6650 - val_loss: 1.4679 - val_accuracy: 0.5800\n",
      "Epoch 431/500\n",
      "31/31 [==============================] - 0s 2ms/step - loss: 1.2729 - accuracy: 0.6527 - val_loss: 1.4705 - val_accuracy: 0.5600\n",
      "Epoch 432/500\n",
      "31/31 [==============================] - 0s 2ms/step - loss: 1.2577 - accuracy: 0.6660 - val_loss: 1.5014 - val_accuracy: 0.5633\n",
      "Epoch 433/500\n",
      "31/31 [==============================] - 0s 2ms/step - loss: 1.2733 - accuracy: 0.6619 - val_loss: 1.4805 - val_accuracy: 0.5733\n",
      "Epoch 434/500\n",
      "31/31 [==============================] - 0s 2ms/step - loss: 1.2656 - accuracy: 0.6496 - val_loss: 1.4664 - val_accuracy: 0.5800\n",
      "Epoch 435/500\n",
      "31/31 [==============================] - 0s 2ms/step - loss: 1.2640 - accuracy: 0.6568 - val_loss: 1.4839 - val_accuracy: 0.5500\n",
      "Epoch 436/500\n",
      "31/31 [==============================] - 0s 3ms/step - loss: 1.2614 - accuracy: 0.6721 - val_loss: 1.4567 - val_accuracy: 0.5900\n",
      "Epoch 437/500\n",
      "31/31 [==============================] - 0s 2ms/step - loss: 1.2647 - accuracy: 0.6547 - val_loss: 1.4647 - val_accuracy: 0.5900\n",
      "Epoch 438/500\n",
      "31/31 [==============================] - 0s 3ms/step - loss: 1.2526 - accuracy: 0.6629 - val_loss: 1.4956 - val_accuracy: 0.5833\n",
      "Epoch 439/500\n",
      "31/31 [==============================] - 0s 4ms/step - loss: 1.2574 - accuracy: 0.6598 - val_loss: 1.4682 - val_accuracy: 0.5600\n",
      "Epoch 440/500\n",
      "31/31 [==============================] - 0s 4ms/step - loss: 1.2570 - accuracy: 0.6516 - val_loss: 1.4515 - val_accuracy: 0.5667\n",
      "Epoch 441/500\n",
      "31/31 [==============================] - 0s 2ms/step - loss: 1.2512 - accuracy: 0.6660 - val_loss: 1.4826 - val_accuracy: 0.5633\n",
      "Epoch 442/500\n",
      "31/31 [==============================] - 0s 2ms/step - loss: 1.2509 - accuracy: 0.6547 - val_loss: 1.5057 - val_accuracy: 0.5467\n",
      "Epoch 443/500\n",
      "31/31 [==============================] - 0s 2ms/step - loss: 1.2580 - accuracy: 0.6547 - val_loss: 1.4687 - val_accuracy: 0.5500\n",
      "Epoch 444/500\n",
      "31/31 [==============================] - 0s 2ms/step - loss: 1.2578 - accuracy: 0.6486 - val_loss: 1.4607 - val_accuracy: 0.5567\n",
      "Epoch 445/500\n",
      "31/31 [==============================] - 0s 3ms/step - loss: 1.2423 - accuracy: 0.6537 - val_loss: 1.4477 - val_accuracy: 0.5733\n",
      "Epoch 446/500\n",
      "31/31 [==============================] - 0s 2ms/step - loss: 1.2438 - accuracy: 0.6455 - val_loss: 1.4583 - val_accuracy: 0.5867\n",
      "Epoch 447/500\n",
      "31/31 [==============================] - 0s 3ms/step - loss: 1.2363 - accuracy: 0.6732 - val_loss: 1.4681 - val_accuracy: 0.5700\n",
      "Epoch 448/500\n",
      "31/31 [==============================] - 0s 2ms/step - loss: 1.2370 - accuracy: 0.6660 - val_loss: 1.4498 - val_accuracy: 0.5533\n",
      "Epoch 449/500\n",
      "31/31 [==============================] - 0s 2ms/step - loss: 1.2406 - accuracy: 0.6547 - val_loss: 1.4668 - val_accuracy: 0.5733\n",
      "Epoch 450/500\n",
      "31/31 [==============================] - 0s 3ms/step - loss: 1.2346 - accuracy: 0.6588 - val_loss: 1.4381 - val_accuracy: 0.5833\n",
      "Epoch 451/500\n",
      "31/31 [==============================] - 0s 4ms/step - loss: 1.2332 - accuracy: 0.6486 - val_loss: 1.5314 - val_accuracy: 0.5033\n",
      "Epoch 452/500\n",
      "31/31 [==============================] - 0s 4ms/step - loss: 1.2338 - accuracy: 0.6609 - val_loss: 1.4471 - val_accuracy: 0.5700\n",
      "Epoch 453/500\n",
      "31/31 [==============================] - 0s 2ms/step - loss: 1.2325 - accuracy: 0.6578 - val_loss: 1.4431 - val_accuracy: 0.5667\n",
      "Epoch 454/500\n",
      "31/31 [==============================] - 0s 3ms/step - loss: 1.2308 - accuracy: 0.6598 - val_loss: 1.4254 - val_accuracy: 0.5867\n",
      "Epoch 455/500\n",
      "31/31 [==============================] - 0s 3ms/step - loss: 1.2266 - accuracy: 0.6650 - val_loss: 1.4165 - val_accuracy: 0.5767\n",
      "Epoch 456/500\n",
      "31/31 [==============================] - 0s 2ms/step - loss: 1.2238 - accuracy: 0.6588 - val_loss: 1.4233 - val_accuracy: 0.5800\n",
      "Epoch 457/500\n",
      "31/31 [==============================] - 0s 2ms/step - loss: 1.2297 - accuracy: 0.6680 - val_loss: 1.4219 - val_accuracy: 0.6067\n",
      "Epoch 458/500\n",
      "31/31 [==============================] - 0s 2ms/step - loss: 1.2223 - accuracy: 0.6568 - val_loss: 1.4357 - val_accuracy: 0.5567\n",
      "Epoch 459/500\n",
      "31/31 [==============================] - 0s 2ms/step - loss: 1.2181 - accuracy: 0.6680 - val_loss: 1.4246 - val_accuracy: 0.5867\n",
      "Epoch 460/500\n",
      "31/31 [==============================] - 0s 2ms/step - loss: 1.2220 - accuracy: 0.6660 - val_loss: 1.4654 - val_accuracy: 0.5367\n",
      "Epoch 461/500\n",
      "31/31 [==============================] - 0s 3ms/step - loss: 1.2131 - accuracy: 0.6629 - val_loss: 1.4043 - val_accuracy: 0.5900\n",
      "Epoch 462/500\n",
      "31/31 [==============================] - 0s 2ms/step - loss: 1.2214 - accuracy: 0.6598 - val_loss: 1.4749 - val_accuracy: 0.5533\n",
      "Epoch 463/500\n",
      "31/31 [==============================] - 0s 2ms/step - loss: 1.2182 - accuracy: 0.6639 - val_loss: 1.4157 - val_accuracy: 0.5967\n",
      "Epoch 464/500\n",
      "31/31 [==============================] - 0s 4ms/step - loss: 1.2131 - accuracy: 0.6721 - val_loss: 1.4315 - val_accuracy: 0.5700\n",
      "Epoch 465/500\n",
      "31/31 [==============================] - 0s 4ms/step - loss: 1.2079 - accuracy: 0.6680 - val_loss: 1.4141 - val_accuracy: 0.5733\n",
      "Epoch 466/500\n",
      "31/31 [==============================] - 0s 3ms/step - loss: 1.1998 - accuracy: 0.6547 - val_loss: 1.4510 - val_accuracy: 0.5533\n",
      "Epoch 467/500\n",
      "31/31 [==============================] - 0s 2ms/step - loss: 1.2066 - accuracy: 0.6527 - val_loss: 1.4562 - val_accuracy: 0.5500\n",
      "Epoch 468/500\n",
      "31/31 [==============================] - 0s 3ms/step - loss: 1.2131 - accuracy: 0.6670 - val_loss: 1.4136 - val_accuracy: 0.5933\n",
      "Epoch 469/500\n",
      "31/31 [==============================] - 0s 3ms/step - loss: 1.1947 - accuracy: 0.6670 - val_loss: 1.4167 - val_accuracy: 0.5833\n",
      "Epoch 470/500\n",
      "31/31 [==============================] - 0s 4ms/step - loss: 1.2017 - accuracy: 0.6721 - val_loss: 1.4237 - val_accuracy: 0.5633\n",
      "Epoch 471/500\n",
      "31/31 [==============================] - 0s 5ms/step - loss: 1.2010 - accuracy: 0.6609 - val_loss: 1.4132 - val_accuracy: 0.5800\n",
      "Epoch 472/500\n",
      "31/31 [==============================] - 0s 3ms/step - loss: 1.1991 - accuracy: 0.6752 - val_loss: 1.4167 - val_accuracy: 0.5633\n",
      "Epoch 473/500\n",
      "31/31 [==============================] - 0s 2ms/step - loss: 1.1887 - accuracy: 0.6660 - val_loss: 1.4092 - val_accuracy: 0.5800\n",
      "Epoch 474/500\n",
      "31/31 [==============================] - 0s 3ms/step - loss: 1.1947 - accuracy: 0.6752 - val_loss: 1.3952 - val_accuracy: 0.5833\n",
      "Epoch 475/500\n",
      "31/31 [==============================] - 0s 2ms/step - loss: 1.1895 - accuracy: 0.6650 - val_loss: 1.4104 - val_accuracy: 0.5667\n",
      "Epoch 476/500\n",
      "31/31 [==============================] - 0s 2ms/step - loss: 1.1919 - accuracy: 0.6670 - val_loss: 1.3964 - val_accuracy: 0.5767\n",
      "Epoch 477/500\n",
      "31/31 [==============================] - 0s 3ms/step - loss: 1.1980 - accuracy: 0.6598 - val_loss: 1.3925 - val_accuracy: 0.5800\n",
      "Epoch 478/500\n",
      "31/31 [==============================] - 0s 3ms/step - loss: 1.1972 - accuracy: 0.6486 - val_loss: 1.4060 - val_accuracy: 0.5833\n",
      "Epoch 479/500\n",
      "31/31 [==============================] - 0s 3ms/step - loss: 1.1856 - accuracy: 0.6588 - val_loss: 1.4082 - val_accuracy: 0.5833\n",
      "Epoch 480/500\n",
      "31/31 [==============================] - 0s 4ms/step - loss: 1.1919 - accuracy: 0.6639 - val_loss: 1.4089 - val_accuracy: 0.5567\n",
      "Epoch 481/500\n",
      "31/31 [==============================] - 0s 3ms/step - loss: 1.1891 - accuracy: 0.6701 - val_loss: 1.3806 - val_accuracy: 0.5733\n",
      "Epoch 482/500\n",
      "31/31 [==============================] - 0s 2ms/step - loss: 1.1925 - accuracy: 0.6547 - val_loss: 1.3869 - val_accuracy: 0.6033\n",
      "Epoch 483/500\n",
      "31/31 [==============================] - 0s 3ms/step - loss: 1.1820 - accuracy: 0.6691 - val_loss: 1.3761 - val_accuracy: 0.5767\n",
      "Epoch 484/500\n",
      "31/31 [==============================] - 0s 3ms/step - loss: 1.1766 - accuracy: 0.6660 - val_loss: 1.3905 - val_accuracy: 0.5733\n",
      "Epoch 485/500\n",
      "31/31 [==============================] - 0s 5ms/step - loss: 1.1728 - accuracy: 0.6732 - val_loss: 1.4430 - val_accuracy: 0.5600\n",
      "Epoch 486/500\n",
      "31/31 [==============================] - 0s 4ms/step - loss: 1.1672 - accuracy: 0.6609 - val_loss: 1.4117 - val_accuracy: 0.5467\n",
      "Epoch 487/500\n",
      "31/31 [==============================] - 0s 4ms/step - loss: 1.1868 - accuracy: 0.6639 - val_loss: 1.4281 - val_accuracy: 0.5400\n",
      "Epoch 488/500\n",
      "31/31 [==============================] - 0s 4ms/step - loss: 1.1749 - accuracy: 0.6793 - val_loss: 1.3697 - val_accuracy: 0.5933\n",
      "Epoch 489/500\n",
      "31/31 [==============================] - 0s 3ms/step - loss: 1.1788 - accuracy: 0.6588 - val_loss: 1.4262 - val_accuracy: 0.5600\n",
      "Epoch 490/500\n",
      "31/31 [==============================] - 0s 3ms/step - loss: 1.1825 - accuracy: 0.6609 - val_loss: 1.4106 - val_accuracy: 0.5467\n",
      "Epoch 491/500\n",
      "31/31 [==============================] - 0s 2ms/step - loss: 1.1703 - accuracy: 0.6639 - val_loss: 1.3916 - val_accuracy: 0.5800\n",
      "Epoch 492/500\n",
      "31/31 [==============================] - 0s 2ms/step - loss: 1.1693 - accuracy: 0.6701 - val_loss: 1.3958 - val_accuracy: 0.5800\n",
      "Epoch 493/500\n",
      "31/31 [==============================] - 0s 2ms/step - loss: 1.1606 - accuracy: 0.6506 - val_loss: 1.4014 - val_accuracy: 0.5533\n",
      "Epoch 494/500\n",
      "31/31 [==============================] - 0s 2ms/step - loss: 1.1723 - accuracy: 0.6680 - val_loss: 1.3865 - val_accuracy: 0.5767\n",
      "Epoch 495/500\n",
      "31/31 [==============================] - 0s 2ms/step - loss: 1.1673 - accuracy: 0.6557 - val_loss: 1.3977 - val_accuracy: 0.5633\n",
      "Epoch 496/500\n",
      "31/31 [==============================] - 0s 3ms/step - loss: 1.1642 - accuracy: 0.6670 - val_loss: 1.4056 - val_accuracy: 0.5567\n",
      "Epoch 497/500\n",
      "31/31 [==============================] - 0s 2ms/step - loss: 1.1689 - accuracy: 0.6568 - val_loss: 1.4068 - val_accuracy: 0.5433\n",
      "Epoch 498/500\n",
      "31/31 [==============================] - 0s 2ms/step - loss: 1.1576 - accuracy: 0.6691 - val_loss: 1.3746 - val_accuracy: 0.5733\n",
      "Epoch 499/500\n",
      "31/31 [==============================] - 0s 2ms/step - loss: 1.1539 - accuracy: 0.6629 - val_loss: 1.3782 - val_accuracy: 0.5700\n",
      "Epoch 500/500\n",
      "31/31 [==============================] - 0s 2ms/step - loss: 1.1548 - accuracy: 0.6670 - val_loss: 1.3866 - val_accuracy: 0.5600\n"
     ]
    }
   ],
   "source": [
    "# 4) Fit\n",
    "\n",
    "early_stopping_cb = keras.callbacks.EarlyStopping(patience=20)\n",
    "checkpoint_cb = keras.callbacks.ModelCheckpoint(\"my_wine_NN_model.h5\", save_best_only=True)\n",
    "tensorboard_cb = keras.callbacks.TensorBoard(run_logdir)\n",
    "\n",
    "\n",
    "history = model.fit(X_train, y_train, epochs=500,\n",
    "                    validation_data=(X_valid, y_valid),\n",
    "                    callbacks=[early_stopping_cb, checkpoint_cb, tensorboard_cb])"
   ]
  },
  {
   "cell_type": "markdown",
   "metadata": {},
   "source": [
    "### 11.3 Evaluate the NN Model"
   ]
  },
  {
   "cell_type": "code",
   "execution_count": 373,
   "metadata": {},
   "outputs": [],
   "source": [
    "model.save(\"my_wine_NN_model.h5\")"
   ]
  },
  {
   "cell_type": "code",
   "execution_count": 374,
   "metadata": {},
   "outputs": [],
   "source": [
    "model = keras.models.load_model(\"my_wine_NN_model.h5\") "
   ]
  },
  {
   "cell_type": "code",
   "execution_count": 375,
   "metadata": {},
   "outputs": [
    {
     "name": "stdout",
     "output_type": "stream",
     "text": [
      "10/10 [==============================] - 0s 992us/step - loss: 1.2609 - accuracy: 0.0000e+00\n"
     ]
    },
    {
     "data": {
      "text/plain": [
       "[1.2609326839447021, 0.0]"
      ]
     },
     "execution_count": 375,
     "metadata": {},
     "output_type": "execute_result"
    }
   ],
   "source": [
    "model.evaluate(X_test, y_test)"
   ]
  },
  {
   "cell_type": "code",
   "execution_count": 376,
   "metadata": {},
   "outputs": [
    {
     "name": "stdout",
     "output_type": "stream",
     "text": [
      "Model: \"sequential_2\"\n",
      "_________________________________________________________________\n",
      "Layer (type)                 Output Shape              Param #   \n",
      "=================================================================\n",
      "dense_10 (Dense)             (None, 300)               2700      \n",
      "_________________________________________________________________\n",
      "dense_11 (Dense)             (None, 200)               60200     \n",
      "_________________________________________________________________\n",
      "dense_12 (Dense)             (None, 100)               20100     \n",
      "_________________________________________________________________\n",
      "dense_13 (Dense)             (None, 50)                5050      \n",
      "_________________________________________________________________\n",
      "dropout_2 (Dropout)          (None, 50)                0         \n",
      "_________________________________________________________________\n",
      "dense_14 (Dense)             (None, 6)                 306       \n",
      "=================================================================\n",
      "Total params: 88,356\n",
      "Trainable params: 88,356\n",
      "Non-trainable params: 0\n",
      "_________________________________________________________________\n"
     ]
    }
   ],
   "source": [
    "model.summary()"
   ]
  },
  {
   "cell_type": "code",
   "execution_count": 377,
   "metadata": {},
   "outputs": [],
   "source": [
    "y_predicted=model.predict(X_test)"
   ]
  },
  {
   "cell_type": "code",
   "execution_count": 378,
   "metadata": {},
   "outputs": [
    {
     "data": {
      "text/plain": [
       "(320, 8)"
      ]
     },
     "execution_count": 378,
     "metadata": {},
     "output_type": "execute_result"
    }
   ],
   "source": [
    "X_test.shape"
   ]
  },
  {
   "cell_type": "code",
   "execution_count": 379,
   "metadata": {},
   "outputs": [],
   "source": [
    "y_predicted = [np.argmax(i) for i in y_predicted]"
   ]
  },
  {
   "cell_type": "code",
   "execution_count": 380,
   "metadata": {},
   "outputs": [
    {
     "data": {
      "text/plain": [
       "<tf.Tensor: shape=(6, 6), dtype=int32, numpy=\n",
       "array([[ 0,  0,  2,  0,  0,  0],\n",
       "       [ 0,  0,  3,  3,  0,  0],\n",
       "       [ 0,  0, 75, 73,  0,  0],\n",
       "       [ 0,  0, 21, 92, 12,  0],\n",
       "       [ 0,  0,  0, 22, 13,  0],\n",
       "       [ 0,  0,  0,  2,  2,  0]])>"
      ]
     },
     "execution_count": 380,
     "metadata": {},
     "output_type": "execute_result"
    }
   ],
   "source": [
    "tf.math.confusion_matrix(labels=y_test, predictions=y_predicted)"
   ]
  },
  {
   "cell_type": "code",
   "execution_count": 381,
   "metadata": {},
   "outputs": [
    {
     "data": {
      "image/png": "[encoded data removed]",
      "text/plain": [
       "<Figure size 720x504 with 2 Axes>"
      ]
     },
     "metadata": {},
     "output_type": "display_data"
    }
   ],
   "source": [
    "y_predicted = model.predict(X_test)\n",
    "y_predicted_labels = [np.argmax(i) for i in y_predicted]\n",
    "conf_x = tf.math.confusion_matrix(labels=y_test,predictions=y_predicted_labels)\n",
    "\n",
    "plt.figure(figsize = (10,7))\n",
    "sns.heatmap(conf_x, annot=True, fmt='d', annot_kws={\"fontsize\":16})\n",
    "plt.title(\"Confussion Matrix Neural Network Model\", fontsize=20)\n",
    "plt.xlabel('Predicted', fontsize=16)\n",
    "plt.ylabel('Truth', fontsize=16)\n",
    "plt.xticks(fontsize=14)\n",
    "plt.yticks(fontsize=14)\n",
    "plt.savefig(\"corr_mat_NN.png\", dpi=300)"
   ]
  },
  {
   "cell_type": "markdown",
   "metadata": {},
   "source": [
    "We can see that our **NN did not perform as well as the more classical ML approach with well known algorithms**"
   ]
  }
 ],
 "metadata": {
  "kernelspec": {
   "display_name": "your_env_name",
   "language": "python",
   "name": "your_env_name"
  },
  "language_info": {
   "codemirror_mode": {
    "name": "ipython",
    "version": 3
   },
   "file_extension": ".py",
   "mimetype": "text/x-python",
   "name": "python",
   "nbconvert_exporter": "python",
   "pygments_lexer": "ipython3",
   "version": "3.7.4"
  }
 },
 "nbformat": 4,
 "nbformat_minor": 4
}
