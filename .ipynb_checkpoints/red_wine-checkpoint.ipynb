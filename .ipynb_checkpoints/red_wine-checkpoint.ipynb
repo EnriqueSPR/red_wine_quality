{
 "cells": [
  {
   "cell_type": "markdown",
   "metadata": {},
   "source": [
    "**Multi-classification** Problem using supervised ML.\n",
    "\n",
    "*Note: This problem could be also tackled with Regression*"
   ]
  },
  {
   "cell_type": "code",
   "execution_count": 1,
   "metadata": {},
   "outputs": [],
   "source": [
    "# Data handling\n",
    "import pandas as pd\n",
    "import numpy as np\n",
    "import random\n",
    "# Plotting\n",
    "import matplotlib.pyplot as plt\n",
    "from matplotlib import cm \n",
    "from pandas.plotting import scatter_matrix\n",
    "import seaborn as sns\n",
    "# Data Split\n",
    "from sklearn.model_selection import StratifiedShuffleSplit\n",
    "from sklearn.model_selection import train_test_split\n",
    "# Data Pre-Processing\n",
    "from sklearn.preprocessing import StandardScaler\n",
    "from sklearn.preprocessing import Normalizer\n",
    "# Modeling\n",
    "from sklearn.model_selection import cross_val_score\n",
    "from sklearn.linear_model import LogisticRegression\n",
    "from sklearn.tree import DecisionTreeClassifier\n",
    "from sklearn.ensemble import RandomForestClassifier\n",
    "from sklearn.neighbors import KNeighborsClassifier\n",
    "from sklearn.linear_model import SGDClassifier\n",
    "from sklearn.discriminant_analysis import LinearDiscriminantAnalysis\n",
    "from sklearn.naive_bayes import GaussianNB\n",
    "from sklearn.svm import SVC\n",
    "# Tunning\n",
    "from sklearn.model_selection import StratifiedKFold\n",
    "from sklearn.model_selection import GridSearchCV\n",
    "# Assesing model performance\n",
    "from sklearn.metrics import SCORERS\n",
    "from sklearn import metrics as m\n",
    "from sklearn.metrics import plot_roc_curve\n",
    "from sklearn.metrics import roc_curve, auc\n",
    "from sklearn.preprocessing import label_binarize\n",
    "from sklearn.metrics import classification_report\n",
    "from sklearn.metrics import confusion_matrix\n",
    "from sklearn.metrics import accuracy_score\n",
    "# Ensemble\n",
    "from sklearn.ensemble import VotingClassifier\n",
    "from sklearn.ensemble import BaggingClassifier\n",
    "from sklearn.ensemble import ExtraTreesClassifier\n",
    "from sklearn.ensemble import AdaBoostClassifier\n",
    "from sklearn.ensemble import GradientBoostingClassifier\n",
    "import xgboost as xgb\n",
    "\n",
    "# Neural Network\n",
    "import tensorflow as tf\n",
    "from tensorflow import keras\n",
    "import os\n",
    "\n",
    "# Ignoring warnings\n",
    "import warnings\n",
    "warnings.filterwarnings(\"ignore\")"
   ]
  },
  {
   "cell_type": "code",
   "execution_count": 2,
   "metadata": {},
   "outputs": [],
   "source": [
    "df = pd.read_csv(\"data/winequality-red.csv\")"
   ]
  },
  {
   "cell_type": "markdown",
   "metadata": {},
   "source": [
    "## 1. Visualize and analyze the data"
   ]
  },
  {
   "cell_type": "code",
   "execution_count": 3,
   "metadata": {},
   "outputs": [
    {
     "data": {
      "text/plain": [
       "fixed acidity           0\n",
       "volatile acidity        0\n",
       "citric acid             0\n",
       "residual sugar          0\n",
       "chlorides               0\n",
       "free sulfur dioxide     0\n",
       "total sulfur dioxide    0\n",
       "density                 0\n",
       "pH                      0\n",
       "sulphates               0\n",
       "alcohol                 0\n",
       "quality                 0\n",
       "dtype: int64"
      ]
     },
     "execution_count": 3,
     "metadata": {},
     "output_type": "execute_result"
    }
   ],
   "source": [
    "df.isna().sum() # no nan values ✔"
   ]
  },
  {
   "cell_type": "code",
   "execution_count": 4,
   "metadata": {},
   "outputs": [
    {
     "data": {
      "text/html": [
       "<div>\n",
       "<style scoped>\n",
       "    .dataframe tbody tr th:only-of-type {\n",
       "        vertical-align: middle;\n",
       "    }\n",
       "\n",
       "    .dataframe tbody tr th {\n",
       "        vertical-align: top;\n",
       "    }\n",
       "\n",
       "    .dataframe thead th {\n",
       "        text-align: right;\n",
       "    }\n",
       "</style>\n",
       "<table border=\"1\" class=\"dataframe\">\n",
       "  <thead>\n",
       "    <tr style=\"text-align: right;\">\n",
       "      <th></th>\n",
       "      <th>fixed acidity</th>\n",
       "      <th>volatile acidity</th>\n",
       "      <th>citric acid</th>\n",
       "      <th>residual sugar</th>\n",
       "      <th>chlorides</th>\n",
       "      <th>free sulfur dioxide</th>\n",
       "      <th>total sulfur dioxide</th>\n",
       "      <th>density</th>\n",
       "      <th>pH</th>\n",
       "      <th>sulphates</th>\n",
       "      <th>alcohol</th>\n",
       "      <th>quality</th>\n",
       "    </tr>\n",
       "  </thead>\n",
       "  <tbody>\n",
       "    <tr>\n",
       "      <th>count</th>\n",
       "      <td>1596.000000</td>\n",
       "      <td>1596.000000</td>\n",
       "      <td>1596.000000</td>\n",
       "      <td>1596.000000</td>\n",
       "      <td>1596.000000</td>\n",
       "      <td>1596.000000</td>\n",
       "      <td>1596.000000</td>\n",
       "      <td>1596.000000</td>\n",
       "      <td>1596.000000</td>\n",
       "      <td>1596.000000</td>\n",
       "      <td>1596.000000</td>\n",
       "      <td>1596.000000</td>\n",
       "    </tr>\n",
       "    <tr>\n",
       "      <th>mean</th>\n",
       "      <td>8.314160</td>\n",
       "      <td>0.527954</td>\n",
       "      <td>0.270276</td>\n",
       "      <td>2.535558</td>\n",
       "      <td>0.087120</td>\n",
       "      <td>15.858396</td>\n",
       "      <td>46.382206</td>\n",
       "      <td>0.996744</td>\n",
       "      <td>3.311917</td>\n",
       "      <td>0.656385</td>\n",
       "      <td>10.421147</td>\n",
       "      <td>5.637218</td>\n",
       "    </tr>\n",
       "    <tr>\n",
       "      <th>std</th>\n",
       "      <td>1.732203</td>\n",
       "      <td>0.179176</td>\n",
       "      <td>0.193894</td>\n",
       "      <td>1.405515</td>\n",
       "      <td>0.045251</td>\n",
       "      <td>10.460554</td>\n",
       "      <td>32.839138</td>\n",
       "      <td>0.001888</td>\n",
       "      <td>0.153346</td>\n",
       "      <td>0.163057</td>\n",
       "      <td>1.060371</td>\n",
       "      <td>0.807080</td>\n",
       "    </tr>\n",
       "    <tr>\n",
       "      <th>min</th>\n",
       "      <td>4.600000</td>\n",
       "      <td>0.120000</td>\n",
       "      <td>0.000000</td>\n",
       "      <td>0.900000</td>\n",
       "      <td>0.012000</td>\n",
       "      <td>1.000000</td>\n",
       "      <td>6.000000</td>\n",
       "      <td>0.990070</td>\n",
       "      <td>2.860000</td>\n",
       "      <td>0.330000</td>\n",
       "      <td>8.400000</td>\n",
       "      <td>3.000000</td>\n",
       "    </tr>\n",
       "    <tr>\n",
       "      <th>25%</th>\n",
       "      <td>7.100000</td>\n",
       "      <td>0.390000</td>\n",
       "      <td>0.090000</td>\n",
       "      <td>1.900000</td>\n",
       "      <td>0.070000</td>\n",
       "      <td>7.000000</td>\n",
       "      <td>22.000000</td>\n",
       "      <td>0.995600</td>\n",
       "      <td>3.210000</td>\n",
       "      <td>0.550000</td>\n",
       "      <td>9.500000</td>\n",
       "      <td>5.000000</td>\n",
       "    </tr>\n",
       "    <tr>\n",
       "      <th>50%</th>\n",
       "      <td>7.900000</td>\n",
       "      <td>0.520000</td>\n",
       "      <td>0.260000</td>\n",
       "      <td>2.200000</td>\n",
       "      <td>0.079000</td>\n",
       "      <td>14.000000</td>\n",
       "      <td>38.000000</td>\n",
       "      <td>0.996745</td>\n",
       "      <td>3.310000</td>\n",
       "      <td>0.620000</td>\n",
       "      <td>10.200000</td>\n",
       "      <td>6.000000</td>\n",
       "    </tr>\n",
       "    <tr>\n",
       "      <th>75%</th>\n",
       "      <td>9.200000</td>\n",
       "      <td>0.640000</td>\n",
       "      <td>0.420000</td>\n",
       "      <td>2.600000</td>\n",
       "      <td>0.090000</td>\n",
       "      <td>21.000000</td>\n",
       "      <td>62.000000</td>\n",
       "      <td>0.997832</td>\n",
       "      <td>3.400000</td>\n",
       "      <td>0.730000</td>\n",
       "      <td>11.100000</td>\n",
       "      <td>6.000000</td>\n",
       "    </tr>\n",
       "    <tr>\n",
       "      <th>max</th>\n",
       "      <td>15.600000</td>\n",
       "      <td>1.580000</td>\n",
       "      <td>0.790000</td>\n",
       "      <td>15.500000</td>\n",
       "      <td>0.611000</td>\n",
       "      <td>72.000000</td>\n",
       "      <td>289.000000</td>\n",
       "      <td>1.003690</td>\n",
       "      <td>4.010000</td>\n",
       "      <td>1.980000</td>\n",
       "      <td>14.000000</td>\n",
       "      <td>8.000000</td>\n",
       "    </tr>\n",
       "  </tbody>\n",
       "</table>\n",
       "</div>"
      ],
      "text/plain": [
       "       fixed acidity  volatile acidity  citric acid  residual sugar  \\\n",
       "count    1596.000000       1596.000000  1596.000000     1596.000000   \n",
       "mean        8.314160          0.527954     0.270276        2.535558   \n",
       "std         1.732203          0.179176     0.193894        1.405515   \n",
       "min         4.600000          0.120000     0.000000        0.900000   \n",
       "25%         7.100000          0.390000     0.090000        1.900000   \n",
       "50%         7.900000          0.520000     0.260000        2.200000   \n",
       "75%         9.200000          0.640000     0.420000        2.600000   \n",
       "max        15.600000          1.580000     0.790000       15.500000   \n",
       "\n",
       "         chlorides  free sulfur dioxide  total sulfur dioxide      density  \\\n",
       "count  1596.000000          1596.000000           1596.000000  1596.000000   \n",
       "mean      0.087120            15.858396             46.382206     0.996744   \n",
       "std       0.045251            10.460554             32.839138     0.001888   \n",
       "min       0.012000             1.000000              6.000000     0.990070   \n",
       "25%       0.070000             7.000000             22.000000     0.995600   \n",
       "50%       0.079000            14.000000             38.000000     0.996745   \n",
       "75%       0.090000            21.000000             62.000000     0.997832   \n",
       "max       0.611000            72.000000            289.000000     1.003690   \n",
       "\n",
       "                pH    sulphates      alcohol      quality  \n",
       "count  1596.000000  1596.000000  1596.000000  1596.000000  \n",
       "mean      3.311917     0.656385    10.421147     5.637218  \n",
       "std       0.153346     0.163057     1.060371     0.807080  \n",
       "min       2.860000     0.330000     8.400000     3.000000  \n",
       "25%       3.210000     0.550000     9.500000     5.000000  \n",
       "50%       3.310000     0.620000    10.200000     6.000000  \n",
       "75%       3.400000     0.730000    11.100000     6.000000  \n",
       "max       4.010000     1.980000    14.000000     8.000000  "
      ]
     },
     "execution_count": 4,
     "metadata": {},
     "output_type": "execute_result"
    }
   ],
   "source": [
    "df.describe()"
   ]
  },
  {
   "cell_type": "code",
   "execution_count": 5,
   "metadata": {},
   "outputs": [
    {
     "data": {
      "text/plain": [
       "(1596, 12)"
      ]
     },
     "execution_count": 5,
     "metadata": {},
     "output_type": "execute_result"
    }
   ],
   "source": [
    "df.shape # m=1596, n= 11(potentially)"
   ]
  },
  {
   "cell_type": "code",
   "execution_count": 6,
   "metadata": {},
   "outputs": [],
   "source": [
    "# a mapping dictionary that maps the quality values from 0 to 5\n",
    "quality_mapping = {\n",
    "3: 0, 4: 1, 5: 2, 6: 3, 7: 4, 8: 5}\n",
    "# you can use the map function of pandas with any dictionary \n",
    "# to convert the values in a given column to values in the dictionary\n",
    "\n",
    "df[\"quality\"] = df[\"quality\"].map(quality_mapping)"
   ]
  },
  {
   "cell_type": "markdown",
   "metadata": {},
   "source": [
    "##### Feature Engineering:\n",
    "Lets generate some extra-variables based on the available ones"
   ]
  },
  {
   "cell_type": "code",
   "execution_count": 7,
   "metadata": {},
   "outputs": [],
   "source": [
    "# df[\"acidity_by_Ph\"] = df[\"fixed acidity\"]/df[\"pH\"]\n",
    "df[\"density_sugar\"] = df[\"density\"]/df[\"residual sugar\"]\n",
    "df[\"sulphate_by_chloride\"] = df[\"sulphates\"]/df[\"chlorides\"]"
   ]
  },
  {
   "cell_type": "code",
   "execution_count": 8,
   "metadata": {},
   "outputs": [],
   "source": [
    "df.drop(\"sulphates\", axis=1, inplace=True) # we will incorporate sulphate_by_chloride which correlates better"
   ]
  },
  {
   "cell_type": "code",
   "execution_count": 9,
   "metadata": {},
   "outputs": [
    {
     "data": {
      "image/png": "[encoded data removed]",
      "text/plain": [
       "<Figure size 864x864 with 2 Axes>"
      ]
     },
     "metadata": {
      "needs_background": "light"
     },
     "output_type": "display_data"
    }
   ],
   "source": [
    "plt.rcParams[\"figure.figsize\"] = (12,12)\n",
    "colormap=plt.cm.seismic\n",
    "plt.title(\"Pearson corr\", y=1.05, size=15)\n",
    "sns.heatmap(df.corr(), linewidths=0.1, vmax=1.0, square=True, cmap=colormap, linecolor=\"white\", annot=True)\n",
    "plt.tight_layout()\n",
    "# plt.savefig(\"corr.png\", dpi=400)\n",
    "plt.show()"
   ]
  },
  {
   "cell_type": "code",
   "execution_count": 10,
   "metadata": {},
   "outputs": [],
   "source": [
    "corr_matrix = df.corr()\n",
    "corr_vals = abs(corr_matrix[\"quality\"]).sort_values(ascending=False)\n",
    "top8_corr =  corr_vals[1:9]"
   ]
  },
  {
   "cell_type": "code",
   "execution_count": 11,
   "metadata": {},
   "outputs": [
    {
     "data": {
      "text/plain": [
       "alcohol                 0.480738\n",
       "volatile acidity        0.391735\n",
       "sulphate_by_chloride    0.363317\n",
       "citric acid             0.233733\n",
       "total sulfur dioxide    0.185404\n",
       "density                 0.173251\n",
       "fixed acidity           0.127766\n",
       "chlorides               0.119770\n",
       "Name: quality, dtype: float64"
      ]
     },
     "execution_count": 11,
     "metadata": {},
     "output_type": "execute_result"
    }
   ],
   "source": [
    "top8_corr # we will carry with these attributes for the modeling"
   ]
  },
  {
   "cell_type": "code",
   "execution_count": 12,
   "metadata": {},
   "outputs": [],
   "source": [
    "top8_corr = pd.DataFrame(top8_corr)"
   ]
  },
  {
   "cell_type": "markdown",
   "metadata": {},
   "source": [
    "We observe that the atributes that correlate best with the wine quality are alcohol, volatile acicity, sulphates, citric acid, total sufur dioxide, density, fixed acidity and chlorides. We will be using these in the modeling"
   ]
  },
  {
   "cell_type": "markdown",
   "metadata": {},
   "source": [
    "Note: To prevent the model from overfitting I decided to remove two attributes which seemed to not have a major importance and correlation with the target (citric acid and fixed acidity)"
   ]
  },
  {
   "cell_type": "code",
   "execution_count": 13,
   "metadata": {},
   "outputs": [],
   "source": [
    "# top8_corr.drop([\"citric acid\", \"fixed acidity\"], axis=0, inplace=True)"
   ]
  },
  {
   "cell_type": "code",
   "execution_count": 14,
   "metadata": {},
   "outputs": [],
   "source": [
    "list_top8 = list(top8_corr.index)"
   ]
  },
  {
   "cell_type": "code",
   "execution_count": 15,
   "metadata": {},
   "outputs": [],
   "source": [
    "list_top8.append(\"quality\")"
   ]
  },
  {
   "cell_type": "code",
   "execution_count": 16,
   "metadata": {},
   "outputs": [],
   "source": [
    "df_model = df[list_top8]"
   ]
  },
  {
   "cell_type": "code",
   "execution_count": 17,
   "metadata": {},
   "outputs": [
    {
     "data": {
      "image/png": "[encoded data removed]",
      "text/plain": [
       "<Figure size 576x576 with 9 Axes>"
      ]
     },
     "metadata": {
      "needs_background": "light"
     },
     "output_type": "display_data"
    }
   ],
   "source": [
    "plt.rcParams[\"figure.figsize\"] = (8,8)\n",
    "df_model.hist(bins=12, color=\"darkblue\")\n",
    "plt.tight_layout()\n",
    "# plt.savefig(\"hist_features.png\", dpi=400)\n",
    "plt.show()\n"
   ]
  },
  {
   "cell_type": "markdown",
   "metadata": {},
   "source": [
    "We can see that most of the selected attributes shown an skewed distribution and possess different scales. We will therefore standarized the data before modeling. But first, lets split the data into the test and train sets."
   ]
  },
  {
   "cell_type": "markdown",
   "metadata": {},
   "source": [
    "## 2. Splitting data: \n",
    "First we check the distribution of the target values to see if an stratified split is needed"
   ]
  },
  {
   "cell_type": "code",
   "execution_count": 18,
   "metadata": {},
   "outputs": [
    {
     "data": {
      "image/png": "[encoded data removed]",
      "text/plain": [
       "<Figure size 360x288 with 1 Axes>"
      ]
     },
     "metadata": {
      "needs_background": "light"
     },
     "output_type": "display_data"
    }
   ],
   "source": [
    "plt.rcParams[\"figure.figsize\"] = (5,4)\n",
    "ax = sns.countplot(x='quality', data=df)\n",
    "ax.set_title(\"Target values distribution\", fontsize=20)\n",
    "ax.set_xlabel(\"quality\", fontsize=16)\n",
    "ax.set_ylabel(\"count\", fontsize=16)\n",
    "# plt.savefig(\"target_values_distribution.png\", dpi=400)\n",
    "plt.show()"
   ]
  },
  {
   "cell_type": "markdown",
   "metadata": {},
   "source": [
    "We can see that we have a skewed dataset for classification \n",
    "so we may want to stratify the data before split. Furthermore, we will want to use **stratified k-fold cross-validation** (For classification problems).\n",
    "\n",
    "-> There are several choices for selecting the appropriate number of bins. If\n",
    "you have a lot of samples( > 10k, > 100k), then you don’t need to care about the\n",
    "number of bins. Just divide the data into 10 or 20 bins. If you do not have a lot of\n",
    "samples, you can use a simple rule like Sturge’s Rule to calculate the appropriate\n",
    "number of bins.\n",
    "\n",
    "\n",
    "Number of Bins = 1 + log2(N) Where N is the number of samples you have in your dataset. # 12 in our case"
   ]
  },
  {
   "cell_type": "markdown",
   "metadata": {},
   "source": [
    "For the stratification we will use the most correlated attribute (alchohol)"
   ]
  },
  {
   "cell_type": "code",
   "execution_count": 19,
   "metadata": {},
   "outputs": [],
   "source": [
    "def strater (col_item):\n",
    "    if col_item <= 9.3:\n",
    "        return 1\n",
    "    elif col_item > 9.3 and col_item <= 10:\n",
    "        return 2\n",
    "    elif col_item > 10 and col_item <= 11:\n",
    "        return 3\n",
    "    elif col_item > 11 and col_item <= 12:\n",
    "        return 4\n",
    "    else:\n",
    "        return 5"
   ]
  },
  {
   "cell_type": "code",
   "execution_count": 20,
   "metadata": {},
   "outputs": [],
   "source": [
    "df_model[\"strat\"] = df_model[\"alcohol\"].apply(strater)"
   ]
  },
  {
   "cell_type": "code",
   "execution_count": 21,
   "metadata": {},
   "outputs": [],
   "source": [
    "gist_heat = cm.get_cmap('gist_heat', 200)"
   ]
  },
  {
   "cell_type": "code",
   "execution_count": 22,
   "metadata": {},
   "outputs": [
    {
     "data": {
      "image/png": "[encoded data removed]",
      "text/plain": [
       "<Figure size 360x288 with 1 Axes>"
      ]
     },
     "metadata": {
      "needs_background": "light"
     },
     "output_type": "display_data"
    }
   ],
   "source": [
    "df_model[\"strat\"].hist(color=gist_heat(random.uniform(0, 1)))\n",
    "plt.show()"
   ]
  },
  {
   "cell_type": "code",
   "execution_count": 23,
   "metadata": {},
   "outputs": [],
   "source": [
    "split = StratifiedShuffleSplit(n_splits = 1, test_size=0.20, random_state=10)"
   ]
  },
  {
   "cell_type": "code",
   "execution_count": 24,
   "metadata": {},
   "outputs": [],
   "source": [
    "for train_index, test_index in split.split(df_model, df_model[\"strat\"]):\n",
    "    strat_train_set = df_model.loc[train_index]\n",
    "    strat_test_set = df_model.loc[test_index]"
   ]
  },
  {
   "cell_type": "code",
   "execution_count": 25,
   "metadata": {},
   "outputs": [],
   "source": [
    "# we will also do a random split to compare the results of the distribution\n",
    "X = df_model.drop(\"quality\", axis=1)\n",
    "y = df_model[\"quality\"].values\n",
    "X_train, X_test, y_train, y_test = train_test_split(X, y, test_size=0.20, random_state=10) # 0.2 means 80 % is in our train set and 20\n",
    "# note: we could symply include the attribute stratify = y to get a stratified split using train_test_split"
   ]
  },
  {
   "cell_type": "code",
   "execution_count": 26,
   "metadata": {},
   "outputs": [],
   "source": [
    "def proportions(data):\n",
    "    return data[\"strat\"].value_counts()/len(data)"
   ]
  },
  {
   "cell_type": "code",
   "execution_count": 27,
   "metadata": {},
   "outputs": [],
   "source": [
    "comparing = pd.DataFrame({\"Overall\": proportions(df_model),\n",
    "                         \"Stratified\": proportions(strat_test_set),\n",
    "                         \"Random\": proportions(X_test)}).sort_index()"
   ]
  },
  {
   "cell_type": "code",
   "execution_count": 28,
   "metadata": {},
   "outputs": [],
   "source": [
    "comparing = comparing *100 "
   ]
  },
  {
   "cell_type": "code",
   "execution_count": 29,
   "metadata": {},
   "outputs": [
    {
     "data": {
      "text/html": [
       "<div>\n",
       "<style scoped>\n",
       "    .dataframe tbody tr th:only-of-type {\n",
       "        vertical-align: middle;\n",
       "    }\n",
       "\n",
       "    .dataframe tbody tr th {\n",
       "        vertical-align: top;\n",
       "    }\n",
       "\n",
       "    .dataframe thead th {\n",
       "        text-align: right;\n",
       "    }\n",
       "</style>\n",
       "<table border=\"1\" class=\"dataframe\">\n",
       "  <thead>\n",
       "    <tr style=\"text-align: right;\">\n",
       "      <th></th>\n",
       "      <th>Overall</th>\n",
       "      <th>Stratified</th>\n",
       "      <th>Random</th>\n",
       "    </tr>\n",
       "  </thead>\n",
       "  <tbody>\n",
       "    <tr>\n",
       "      <th>1</th>\n",
       "      <td>12.155388</td>\n",
       "      <td>12.1875</td>\n",
       "      <td>11.8750</td>\n",
       "    </tr>\n",
       "    <tr>\n",
       "      <th>2</th>\n",
       "      <td>34.523810</td>\n",
       "      <td>34.3750</td>\n",
       "      <td>33.4375</td>\n",
       "    </tr>\n",
       "    <tr>\n",
       "      <th>3</th>\n",
       "      <td>27.819549</td>\n",
       "      <td>27.8125</td>\n",
       "      <td>27.1875</td>\n",
       "    </tr>\n",
       "    <tr>\n",
       "      <th>4</th>\n",
       "      <td>16.729323</td>\n",
       "      <td>16.8750</td>\n",
       "      <td>17.5000</td>\n",
       "    </tr>\n",
       "    <tr>\n",
       "      <th>5</th>\n",
       "      <td>8.771930</td>\n",
       "      <td>8.7500</td>\n",
       "      <td>10.0000</td>\n",
       "    </tr>\n",
       "  </tbody>\n",
       "</table>\n",
       "</div>"
      ],
      "text/plain": [
       "     Overall  Stratified   Random\n",
       "1  12.155388     12.1875  11.8750\n",
       "2  34.523810     34.3750  33.4375\n",
       "3  27.819549     27.8125  27.1875\n",
       "4  16.729323     16.8750  17.5000\n",
       "5   8.771930      8.7500  10.0000"
      ]
     },
     "execution_count": 29,
     "metadata": {},
     "output_type": "execute_result"
    }
   ],
   "source": [
    "comparing \n",
    "# We can observe how the proportions in the stratified set are closer \n",
    "# to those in the whole set compared to the ramdomly generated set"
   ]
  },
  {
   "cell_type": "code",
   "execution_count": 30,
   "metadata": {},
   "outputs": [],
   "source": [
    "df_model.drop(\"strat\", axis=1, inplace=True)"
   ]
  },
  {
   "cell_type": "code",
   "execution_count": 31,
   "metadata": {},
   "outputs": [],
   "source": [
    "X = df_model.drop(\"quality\", axis=1)"
   ]
  },
  {
   "cell_type": "markdown",
   "metadata": {},
   "source": [
    "we go with stratified split then:"
   ]
  },
  {
   "cell_type": "code",
   "execution_count": 32,
   "metadata": {},
   "outputs": [],
   "source": [
    "strat_train_set.drop(\"strat\", axis=1, inplace=True)\n",
    "strat_test_set.drop(\"strat\", axis=1, inplace=True)"
   ]
  },
  {
   "cell_type": "code",
   "execution_count": 33,
   "metadata": {},
   "outputs": [],
   "source": [
    "X_train = strat_train_set.drop(\"quality\", axis=1)\n",
    "y_train = strat_train_set[\"quality\"].values"
   ]
  },
  {
   "cell_type": "code",
   "execution_count": 34,
   "metadata": {},
   "outputs": [],
   "source": [
    "X_test = strat_test_set.drop(\"quality\", axis=1)\n",
    "y_test = strat_test_set[\"quality\"].values"
   ]
  },
  {
   "cell_type": "markdown",
   "metadata": {},
   "source": [
    "## 3. Standarization of the data\n",
    "Standardizing the features around the center and 0 with a standard deviation of 1 is important when we compare measurements that have different units."
   ]
  },
  {
   "cell_type": "markdown",
   "metadata": {},
   "source": [
    "* Standarize Train set"
   ]
  },
  {
   "cell_type": "markdown",
   "metadata": {},
   "source": [
    "<!-- Standarization implies that the features will be rescaled to ensure the mean and the standard deviation to be 0 and 1, respectively. -->"
   ]
  },
  {
   "cell_type": "code",
   "execution_count": 35,
   "metadata": {},
   "outputs": [],
   "source": [
    "train_scaler = StandardScaler().fit(X_train) # Best results\n",
    "X_train_rescaled = train_scaler.transform(X_train)"
   ]
  },
  {
   "cell_type": "code",
   "execution_count": 36,
   "metadata": {},
   "outputs": [],
   "source": [
    "# from sklearn.preprocessing import MinMaxScaler # did not improve the model\n",
    "# scaler = MinMaxScaler(feature_range=(0, 1))\n",
    "# X_train_rescaled = scaler.fit_transform(X_train) # use MinMaxScaler to revert the re-scaled data"
   ]
  },
  {
   "cell_type": "code",
   "execution_count": 37,
   "metadata": {},
   "outputs": [],
   "source": [
    "# from sklearn.preprocessing import Normalizer # did not improve the model\n",
    "# scaler = Normalizer().fit(X_train)\n",
    "# X_train_rescaled = scaler.transform(X_train)"
   ]
  },
  {
   "cell_type": "code",
   "execution_count": 38,
   "metadata": {},
   "outputs": [],
   "source": [
    "df_rescaled = pd.DataFrame(X_train_rescaled, columns=df_model.columns[:-1])"
   ]
  },
  {
   "cell_type": "code",
   "execution_count": 39,
   "metadata": {},
   "outputs": [
    {
     "data": {
      "image/png": "[encoded data removed]",
      "text/plain": [
       "<Figure size 288x144 with 1 Axes>"
      ]
     },
     "metadata": {
      "needs_background": "light"
     },
     "output_type": "display_data"
    },
    {
     "data": {
      "image/png": "[encoded data removed]",
      "text/plain": [
       "<Figure size 288x144 with 1 Axes>"
      ]
     },
     "metadata": {
      "needs_background": "light"
     },
     "output_type": "display_data"
    },
    {
     "data": {
      "image/png": "[encoded data removed]",
      "text/plain": [
       "<Figure size 288x144 with 1 Axes>"
      ]
     },
     "metadata": {
      "needs_background": "light"
     },
     "output_type": "display_data"
    },
    {
     "data": {
      "image/png": "[encoded data removed]",
      "text/plain": [
       "<Figure size 288x144 with 1 Axes>"
      ]
     },
     "metadata": {
      "needs_background": "light"
     },
     "output_type": "display_data"
    },
    {
     "data": {
      "image/png": "[encoded data removed]",
      "text/plain": [
       "<Figure size 288x144 with 1 Axes>"
      ]
     },
     "metadata": {
      "needs_background": "light"
     },
     "output_type": "display_data"
    },
    {
     "data": {
      "image/png": "[encoded data removed]",
      "text/plain": [
       "<Figure size 288x144 with 1 Axes>"
      ]
     },
     "metadata": {
      "needs_background": "light"
     },
     "output_type": "display_data"
    },
    {
     "data": {
      "image/png": "[encoded data removed]",
      "text/plain": [
       "<Figure size 288x144 with 1 Axes>"
      ]
     },
     "metadata": {
      "needs_background": "light"
     },
     "output_type": "display_data"
    },
    {
     "data": {
      "image/png": "[encoded data removed]",
      "text/plain": [
       "<Figure size 288x144 with 1 Axes>"
      ]
     },
     "metadata": {
      "needs_background": "light"
     },
     "output_type": "display_data"
    }
   ],
   "source": [
    "\n",
    "for i in top8_corr.index:\n",
    "    df_rescaled[i].plot(kind=\"hist\", bins=12,\n",
    "               figsize=(4,2), \n",
    "               title=str.capitalize(i),\n",
    "               color=gist_heat(random.uniform(0, 1)))\n",
    "    plt.show()"
   ]
  },
  {
   "cell_type": "markdown",
   "metadata": {},
   "source": [
    "* Standarize Test set"
   ]
  },
  {
   "cell_type": "code",
   "execution_count": 41,
   "metadata": {},
   "outputs": [],
   "source": [
    "X_test_rescaled = train_scaler.transform(X_test)"
   ]
  },
  {
   "cell_type": "markdown",
   "metadata": {},
   "source": [
    "## 4. Exploring model performance"
   ]
  },
  {
   "cell_type": "markdown",
   "metadata": {},
   "source": [
    "**What performance metric should we use?**  It depends on the purpose of our model but for this case scenario we may want a balanced model with acceptable precision as well as recall. Hence, f1_score may be prefered. Furthermore, since the distribution of our targets is imbalanced, we may want to use micro-averages which aggregates the contributions of all classes to compute the average metric. Macro-average on the other side would treat all classes equally and would be preferred in a balanced class distribution scenario."
   ]
  },
  {
   "cell_type": "code",
   "execution_count": 42,
   "metadata": {},
   "outputs": [
    {
     "data": {
      "text/plain": [
       "dict_keys(['explained_variance', 'r2', 'max_error', 'neg_median_absolute_error', 'neg_mean_absolute_error', 'neg_mean_squared_error', 'neg_mean_squared_log_error', 'neg_root_mean_squared_error', 'neg_mean_poisson_deviance', 'neg_mean_gamma_deviance', 'accuracy', 'roc_auc', 'roc_auc_ovr', 'roc_auc_ovo', 'roc_auc_ovr_weighted', 'roc_auc_ovo_weighted', 'balanced_accuracy', 'average_precision', 'neg_log_loss', 'neg_brier_score', 'adjusted_rand_score', 'homogeneity_score', 'completeness_score', 'v_measure_score', 'mutual_info_score', 'adjusted_mutual_info_score', 'normalized_mutual_info_score', 'fowlkes_mallows_score', 'precision', 'precision_macro', 'precision_micro', 'precision_samples', 'precision_weighted', 'recall', 'recall_macro', 'recall_micro', 'recall_samples', 'recall_weighted', 'f1', 'f1_macro', 'f1_micro', 'f1_samples', 'f1_weighted', 'jaccard', 'jaccard_macro', 'jaccard_micro', 'jaccard_samples', 'jaccard_weighted'])"
      ]
     },
     "execution_count": 42,
     "metadata": {},
     "output_type": "execute_result"
    }
   ],
   "source": [
    "SCORERS.keys()"
   ]
  },
  {
   "cell_type": "code",
   "execution_count": 43,
   "metadata": {},
   "outputs": [
    {
     "name": "stdout",
     "output_type": "stream",
     "text": [
      "LR: Score = 0.592466, STD = 0.044876\n",
      "BC_LR: Score = 0.595596, STD = 0.038881\n",
      "SGD: Score = 0.530616, STD = 0.044874\n",
      "GNB: Score = 0.542276, STD = 0.037442\n",
      "KNC: Score = 0.580725, STD = 0.045412\n",
      "CART: Score = 0.591680, STD = 0.046920\n",
      "AB_CART: Score = 0.576780, STD = 0.048340\n",
      "GBC: Score = 0.613648, STD = 0.047553\n",
      "RFC: Score = 0.667732, STD = 0.037865\n",
      "ETC: Score = 0.671678, STD = 0.035235\n",
      "SVC: Score = 0.607366, STD = 0.036009\n",
      "BC_SVC: Score = 0.611283, STD = 0.037290\n",
      "XGB: Score = 0.626212, STD = 0.044509\n"
     ]
    }
   ],
   "source": [
    "models = []\n",
    "models.append(('LR', LogisticRegression()))\n",
    "models.append(('BC_LR', BaggingClassifier(LogisticRegression())))\n",
    "models.append(('SGD', SGDClassifier())) \n",
    "models.append(('GNB', GaussianNB()))\n",
    "models.append(('KNC', KNeighborsClassifier()))\n",
    "models.append(('CART', DecisionTreeClassifier())) # Note: When using tree based algos with no regularization, most likely they will overfit\n",
    "models.append(('AB_CART', AdaBoostClassifier(DecisionTreeClassifier())))\n",
    "models.append(('GBC', GradientBoostingClassifier()))\n",
    "models.append(('RFC', RandomForestClassifier())) # n_estimators=100, max_features=6\n",
    "models.append(('ETC', ExtraTreesClassifier()))\n",
    "models.append(('SVC', SVC()))\n",
    "models.append(('BC_SVC', BaggingClassifier(SVC())))\n",
    "models.append(('XGB', xgb.XGBClassifier()))\n",
    "\n",
    "\n",
    "results_model = []\n",
    "names_model = []\n",
    "for name, model in models:\n",
    "    SKF = StratifiedKFold(n_splits=12, random_state=10)\n",
    "    cv_results = cross_val_score(model, X_train_rescaled, y_train, cv=SKF, scoring='f1_micro')\n",
    "    results_model.append(cv_results)\n",
    "    names_model.append(name)\n",
    "    msg = \"%s: Score = %f, STD = %f\" % (name, cv_results.mean(), cv_results.std())\n",
    "    print(msg)"
   ]
  },
  {
   "cell_type": "code",
   "execution_count": 44,
   "metadata": {},
   "outputs": [],
   "source": [
    "values= []\n",
    "for i in results_model:\n",
    "    values.append(round(np.mean(i),3))"
   ]
  },
  {
   "cell_type": "code",
   "execution_count": 45,
   "metadata": {},
   "outputs": [],
   "source": [
    "zipped = list(zip(names_model, values))"
   ]
  },
  {
   "cell_type": "code",
   "execution_count": 46,
   "metadata": {},
   "outputs": [],
   "source": [
    "labels = []\n",
    "for name,value in zipped:\n",
    "    labels.append(\"\".join((name,(\"(\"+str(value)+\")\"))))\n",
    "    "
   ]
  },
  {
   "cell_type": "code",
   "execution_count": 47,
   "metadata": {},
   "outputs": [
    {
     "data": {
      "image/png": "[encoded data removed]",
      "text/plain": [
       "<Figure size 864x360 with 1 Axes>"
      ]
     },
     "metadata": {},
     "output_type": "display_data"
    }
   ],
   "source": [
    "# Compare Algorithms\n",
    "sns.set_style(\"ticks\")\n",
    "fig = plt.figure(figsize=(12,5))\n",
    "ax = fig.add_subplot(111)\n",
    "plt.boxplot(results_model)\n",
    "ax.set_title('Algorithm Comparison', fontsize=20)\n",
    "plt.ylabel(\"Score\", fontsize=16)\n",
    "ax.set_xticklabels(labels, rotation=30, fontsize=12)\n",
    "ax.set_yticklabels([0.35,0.40, 0.45, 0.50, 0.55, 0.60, 0.65, 0.70, 0.75], fontsize=10)\n",
    "plt.gcf().subplots_adjust(bottom=0.30)\n",
    "plt.tight_layout()\n",
    "# plt.savefig(\"Algo_comparison.png\", dpi=400)\n",
    "plt.show()\n"
   ]
  },
  {
   "cell_type": "markdown",
   "metadata": {},
   "source": [
    "Lets select three best performing models, tune them and ensemble them to achieve a better performing model."
   ]
  },
  {
   "cell_type": "markdown",
   "metadata": {},
   "source": [
    "### 5.1 Fine tune SVC"
   ]
  },
  {
   "cell_type": "code",
   "execution_count": 48,
   "metadata": {},
   "outputs": [
    {
     "name": "stdout",
     "output_type": "stream",
     "text": [
      "Best: 0.609718 using {'C': 1.5, 'gamma': 0.2, 'kernel': 'rbf', 'tol': 0.0001}\n",
      "nan (nan) with: {'C': 1.5, 'gamma': 0.2, 'kernel': 'rbf', 'tol': 0}\n",
      "0.609718 (0.039916) with: {'C': 1.5, 'gamma': 0.2, 'kernel': 'rbf', 'tol': 0.0001}\n",
      "0.609718 (0.039916) with: {'C': 1.5, 'gamma': 0.2, 'kernel': 'rbf', 'tol': 0.001}\n",
      "0.609718 (0.038240) with: {'C': 1.5, 'gamma': 0.2, 'kernel': 'rbf', 'tol': 0.1}\n",
      "0.605037 (0.044341) with: {'C': 1.5, 'gamma': 0.2, 'kernel': 'rbf', 'tol': 0.5}\n",
      "0.608953 (0.040853) with: {'C': 1.5, 'gamma': 0.2, 'kernel': 'rbf', 'tol': 1}\n"
     ]
    }
   ],
   "source": [
    "# Tried different combinations and chose the algo based on the score but also on the values of the hyperparameters to obtain some regularization of the model\n",
    "# kernel = [\"linear\", \"poly\", \"rbf\", \"sigmoid\"] \n",
    "C = [1.5] # The lower the higher regularization # [0.1, 0.5, 1.5, 2.5, 8.5] \n",
    "gamma = [0.2] # The lower the higher regularization\n",
    "tol = [0, 0.0001, 0.001, 0.1, 0.5, 1]\n",
    "# degree = [1,3]\n",
    "kernel = [\"rbf\"]\n",
    "\n",
    "\n",
    "param_grid = dict(kernel=kernel, C=C, gamma=gamma, tol=tol)\n",
    "\n",
    "\n",
    "model = SVC()\n",
    "SKF = StratifiedKFold(n_splits=12, random_state=10)\n",
    "grid = GridSearchCV(estimator=model, param_grid=param_grid, scoring=\"f1_micro\", cv=SKF)\n",
    "grid_result = grid.fit(X_train_rescaled, y_train)\n",
    "print(\"Best: %f using %s\" % (grid_result.best_score_, grid_result.best_params_))\n",
    "means = grid_result.cv_results_['mean_test_score']\n",
    "stds = grid_result.cv_results_['std_test_score']\n",
    "params = grid_result.cv_results_['params']\n",
    "for mean, stdev, param in zip(means, stds, params):\n",
    "    print(\"%f (%f) with: %r\" % (mean, stdev, param))\n",
    "    # 0.605801 (0.038748) with: {'C': 1.5, 'gamma': 0.1, 'kernel': 'rbf'}"
   ]
  },
  {
   "cell_type": "code",
   "execution_count": 49,
   "metadata": {},
   "outputs": [
    {
     "data": {
      "text/plain": [
       "SVC(C=1.5, break_ties=False, cache_size=200, class_weight=None, coef0=0.0,\n",
       "    decision_function_shape='ovr', degree=3, gamma=0.1, kernel='rbf',\n",
       "    max_iter=-1, probability=True, random_state=None, shrinking=True, tol=0.001,\n",
       "    verbose=False)"
      ]
     },
     "execution_count": 49,
     "metadata": {},
     "output_type": "execute_result"
    }
   ],
   "source": [
    "SVC_rbf = SVC(kernel=\"rbf\", C=1.5, gamma=0.1, tol=0.001, probability=True)\n",
    "SVC_rbf.fit(X_train_rescaled, y_train)"
   ]
  },
  {
   "cell_type": "markdown",
   "metadata": {},
   "source": [
    "Note: Under the hood Sklearn uses the OvO (One Vs One) strategy for this multi-classification problem, resulting in N × (N – 1) / 2 classifiers -> 15 classifiers in our case. Hence our model trained **15 binary classifiers**, got their decision scores for each case, and selected the class that won the most duels."
   ]
  },
  {
   "cell_type": "markdown",
   "metadata": {},
   "source": [
    "### 5.2 Evaluating SVC"
   ]
  },
  {
   "cell_type": "code",
   "execution_count": 50,
   "metadata": {},
   "outputs": [
    {
     "data": {
      "text/plain": [
       "0.658307210031348"
      ]
     },
     "execution_count": 50,
     "metadata": {},
     "output_type": "execute_result"
    }
   ],
   "source": [
    "SVC_rbf.score(X_train_rescaled,y_train)"
   ]
  },
  {
   "cell_type": "code",
   "execution_count": 51,
   "metadata": {},
   "outputs": [
    {
     "data": {
      "text/plain": [
       "0.628125"
      ]
     },
     "execution_count": 51,
     "metadata": {},
     "output_type": "execute_result"
    }
   ],
   "source": [
    "SVC_rbf.score(X_test_rescaled,y_test)"
   ]
  },
  {
   "cell_type": "code",
   "execution_count": 52,
   "metadata": {},
   "outputs": [
    {
     "data": {
      "text/plain": [
       "array([[0.00482123, 0.03222319, 0.56854562, 0.34485822, 0.04584569,\n",
       "        0.00370605]])"
      ]
     },
     "execution_count": 52,
     "metadata": {},
     "output_type": "execute_result"
    }
   ],
   "source": [
    "# Lets predict one single instance from the test set\n",
    "SVC_rbf.predict_proba(list(X_test_rescaled[0].reshape(1,-1))) # is appears to be class 2, although the probability to be class 3 is fairly high "
   ]
  },
  {
   "cell_type": "code",
   "execution_count": 53,
   "metadata": {},
   "outputs": [
    {
     "data": {
      "text/plain": [
       "array([2], dtype=int64)"
      ]
     },
     "execution_count": 53,
     "metadata": {},
     "output_type": "execute_result"
    }
   ],
   "source": [
    "SVC_rbf.predict(list(X_test_rescaled[0].reshape(1,-1)))"
   ]
  },
  {
   "cell_type": "code",
   "execution_count": 54,
   "metadata": {},
   "outputs": [
    {
     "name": "stdout",
     "output_type": "stream",
     "text": [
      "=====================\n",
      "F1_score:\n",
      "\n",
      "0.628125\n",
      "=====================\n",
      "Confusion Matrix:\n",
      "\n",
      "[[  0   0   2   0   0   0]\n",
      " [  0   0   4   2   0   0]\n",
      " [  0   0 107  40   1   0]\n",
      " [  0   0  34  83   8   0]\n",
      " [  0   0   0  24  11   0]\n",
      " [  0   0   0   3   1   0]]\n",
      "\n",
      "=================\n",
      "Classification Report:\n",
      "\n",
      "              precision    recall  f1-score   support\n",
      "\n",
      "           0       0.00      0.00      0.00         2\n",
      "           1       0.00      0.00      0.00         6\n",
      "           2       0.73      0.72      0.73       148\n",
      "           3       0.55      0.66      0.60       125\n",
      "           4       0.52      0.31      0.39        35\n",
      "           5       0.00      0.00      0.00         4\n",
      "\n",
      "    accuracy                           0.63       320\n",
      "   macro avg       0.30      0.28      0.29       320\n",
      "weighted avg       0.61      0.63      0.61       320\n",
      "\n"
     ]
    }
   ],
   "source": [
    "y_preds = SVC_rbf.predict(X_test_rescaled)\n",
    "print(\"=====================\\nF1_score:\\n\")\n",
    "print(m.f1_score(y_test, y_preds, average='micro'))\n",
    "print(\"=====================\\nConfusion Matrix:\\n\")\n",
    "print(m.confusion_matrix(y_test, y_preds))\n",
    "print(\"\\n=================\\nClassification Report:\\n\")\n",
    "print(m.classification_report(y_test, y_preds))"
   ]
  },
  {
   "cell_type": "markdown",
   "metadata": {},
   "source": [
    "Another important aspect of the model functioning is **feature\n",
    "importance**. We can use an attibute called coef_ to stimate feature importance in SVC models, but the kernel needs to be linear. Lets train a SVC with kernel linear to get idea about the feature importance in this type of model:"
   ]
  },
  {
   "cell_type": "code",
   "execution_count": 55,
   "metadata": {},
   "outputs": [
    {
     "data": {
      "text/plain": [
       "SVC(C=1.5, break_ties=False, cache_size=200, class_weight=None, coef0=0.0,\n",
       "    decision_function_shape='ovr', degree=3, gamma='scale', kernel='linear',\n",
       "    max_iter=-1, probability=False, random_state=None, shrinking=True,\n",
       "    tol=0.001, verbose=False)"
      ]
     },
     "execution_count": 55,
     "metadata": {},
     "output_type": "execute_result"
    }
   ],
   "source": [
    "SVC_linear = SVC(kernel=\"linear\", C=1.5)\n",
    "SVC_linear.fit(X_train_rescaled, y_train)"
   ]
  },
  {
   "cell_type": "code",
   "execution_count": 56,
   "metadata": {},
   "outputs": [],
   "source": [
    "features_dict_SVC = dict(zip(top8_corr.index, list(SVC_linear.coef_[0])))\n",
    "features_imp_df_SVC = pd.DataFrame(features_dict_SVC, index=[\"feature_importance\"]).T"
   ]
  },
  {
   "cell_type": "code",
   "execution_count": 57,
   "metadata": {},
   "outputs": [],
   "source": [
    "top8_corr.columns = [\"feature_corr\"]"
   ]
  },
  {
   "cell_type": "code",
   "execution_count": 58,
   "metadata": {},
   "outputs": [],
   "source": [
    "features_df_SVC = pd.concat([top8_corr, features_imp_df_SVC], axis=1)"
   ]
  },
  {
   "cell_type": "code",
   "execution_count": 59,
   "metadata": {},
   "outputs": [
    {
     "data": {
      "text/html": [
       "<div>\n",
       "<style scoped>\n",
       "    .dataframe tbody tr th:only-of-type {\n",
       "        vertical-align: middle;\n",
       "    }\n",
       "\n",
       "    .dataframe tbody tr th {\n",
       "        vertical-align: top;\n",
       "    }\n",
       "\n",
       "    .dataframe thead th {\n",
       "        text-align: right;\n",
       "    }\n",
       "</style>\n",
       "<table border=\"1\" class=\"dataframe\">\n",
       "  <thead>\n",
       "    <tr style=\"text-align: right;\">\n",
       "      <th></th>\n",
       "      <th>feature_corr</th>\n",
       "      <th>feature_importance</th>\n",
       "    </tr>\n",
       "  </thead>\n",
       "  <tbody>\n",
       "    <tr>\n",
       "      <th>alcohol</th>\n",
       "      <td>0.480738</td>\n",
       "      <td>-0.241646</td>\n",
       "    </tr>\n",
       "    <tr>\n",
       "      <th>volatile acidity</th>\n",
       "      <td>0.391735</td>\n",
       "      <td>0.468525</td>\n",
       "    </tr>\n",
       "    <tr>\n",
       "      <th>sulphate_by_chloride</th>\n",
       "      <td>0.363317</td>\n",
       "      <td>0.217496</td>\n",
       "    </tr>\n",
       "    <tr>\n",
       "      <th>citric acid</th>\n",
       "      <td>0.233733</td>\n",
       "      <td>0.079163</td>\n",
       "    </tr>\n",
       "    <tr>\n",
       "      <th>total sulfur dioxide</th>\n",
       "      <td>0.185404</td>\n",
       "      <td>-0.574641</td>\n",
       "    </tr>\n",
       "    <tr>\n",
       "      <th>density</th>\n",
       "      <td>0.173251</td>\n",
       "      <td>0.378974</td>\n",
       "    </tr>\n",
       "    <tr>\n",
       "      <th>fixed acidity</th>\n",
       "      <td>0.127766</td>\n",
       "      <td>0.042825</td>\n",
       "    </tr>\n",
       "    <tr>\n",
       "      <th>chlorides</th>\n",
       "      <td>0.119770</td>\n",
       "      <td>0.701036</td>\n",
       "    </tr>\n",
       "  </tbody>\n",
       "</table>\n",
       "</div>"
      ],
      "text/plain": [
       "                      feature_corr  feature_importance\n",
       "alcohol                   0.480738           -0.241646\n",
       "volatile acidity          0.391735            0.468525\n",
       "sulphate_by_chloride      0.363317            0.217496\n",
       "citric acid               0.233733            0.079163\n",
       "total sulfur dioxide      0.185404           -0.574641\n",
       "density                   0.173251            0.378974\n",
       "fixed acidity             0.127766            0.042825\n",
       "chlorides                 0.119770            0.701036"
      ]
     },
     "execution_count": 59,
     "metadata": {},
     "output_type": "execute_result"
    }
   ],
   "source": [
    "features_df_SVC"
   ]
  },
  {
   "cell_type": "code",
   "execution_count": 60,
   "metadata": {},
   "outputs": [],
   "source": [
    "# using a colormap\n",
    "seismic = cm.get_cmap('seismic', 20)"
   ]
  },
  {
   "cell_type": "code",
   "execution_count": 61,
   "metadata": {},
   "outputs": [
    {
     "data": {
      "image/png": "[encoded data removed]",
      "text/plain": [
       "<Figure size 864x432 with 1 Axes>"
      ]
     },
     "metadata": {},
     "output_type": "display_data"
    }
   ],
   "source": [
    "# Visualize feature correlations and importance\n",
    "\n",
    "features_df_SVC.plot(kind=\"barh\", legend=True, label=True, figsize=(12,6), colormap=seismic)\n",
    "plt.legend(bbox_to_anchor=(1, 1), fontsize=12)\n",
    "plt.title(\"Feature Importance vs Corr (SVC model)\", fontsize=16)\n",
    "plt.yticks(fontsize=12)\n",
    "plt.tight_layout()\n",
    "# plt.savefig(\"importance_vs_corr_SVC.png\", dpi=400)"
   ]
  },
  {
   "cell_type": "markdown",
   "metadata": {},
   "source": [
    "As we can see atributes with highest feature importance are chlorides and total sulfur dioxide. These results show that the features with high correlation with the target actually do not have the highest feature importance."
   ]
  },
  {
   "cell_type": "markdown",
   "metadata": {},
   "source": [
    "### 6.1 Fine tune RFC"
   ]
  },
  {
   "cell_type": "code",
   "execution_count": 62,
   "metadata": {},
   "outputs": [
    {
     "name": "stdout",
     "output_type": "stream",
     "text": [
      "Best: 0.637130 using {'max_depth': 8, 'max_features': 4, 'min_samples_leaf': 8}\n",
      "0.619085 (0.037852) with: {'max_depth': 8, 'max_features': 2, 'min_samples_leaf': 8}\n",
      "0.637130 (0.043226) with: {'max_depth': 8, 'max_features': 4, 'min_samples_leaf': 8}\n",
      "0.630826 (0.041280) with: {'max_depth': 8, 'max_features': 6, 'min_samples_leaf': 8}\n"
     ]
    }
   ],
   "source": [
    "\n",
    "max_depth = [8] # The lower the higher regularization \n",
    "# n_estimators = [50,100,150]\n",
    "max_features = [2,4,6] # The lower the higher regularization \n",
    "min_samples_leaf = [8] # [2, 6, 12, 20] The higher the higher the regularization\n",
    "\n",
    "param_grid = dict(max_depth=max_depth, min_samples_leaf=min_samples_leaf, max_features=max_features)\n",
    "\n",
    "\n",
    "model = RandomForestClassifier()\n",
    "SKF = StratifiedKFold(n_splits=12, random_state=10)\n",
    "grid = GridSearchCV(estimator=model, param_grid=param_grid, scoring=\"f1_micro\", cv=SKF)\n",
    "grid_result = grid.fit(X_train_rescaled, y_train)\n",
    "print(\"Best: %f using %s\" % (grid_result.best_score_, grid_result.best_params_))\n",
    "means = grid_result.cv_results_['mean_test_score']\n",
    "stds = grid_result.cv_results_['std_test_score']\n",
    "params = grid_result.cv_results_['params']\n",
    "for mean, stdev, param in zip(means, stds, params):\n",
    "    print(\"%f (%f) with: %r\" % (mean, stdev, param))\n"
   ]
  },
  {
   "cell_type": "code",
   "execution_count": 63,
   "metadata": {},
   "outputs": [
    {
     "data": {
      "text/plain": [
       "RandomForestClassifier(bootstrap=True, ccp_alpha=0.0, class_weight=None,\n",
       "                       criterion='gini', max_depth=3, max_features=4,\n",
       "                       max_leaf_nodes=None, max_samples=None,\n",
       "                       min_impurity_decrease=0.0, min_impurity_split=None,\n",
       "                       min_samples_leaf=3, min_samples_split=2,\n",
       "                       min_weight_fraction_leaf=0.0, n_estimators=100,\n",
       "                       n_jobs=None, oob_score=False, random_state=None,\n",
       "                       verbose=0, warm_start=False)"
      ]
     },
     "execution_count": 63,
     "metadata": {},
     "output_type": "execute_result"
    }
   ],
   "source": [
    "RFC =  RandomForestClassifier(max_depth=3, max_features=4, min_samples_leaf=3)\n",
    "RFC.fit(X_train_rescaled, y_train)"
   ]
  },
  {
   "cell_type": "markdown",
   "metadata": {},
   "source": [
    "### 6.2 Evaluating RFC"
   ]
  },
  {
   "cell_type": "code",
   "execution_count": 64,
   "metadata": {},
   "outputs": [
    {
     "data": {
      "text/plain": [
       "0.6206896551724138"
      ]
     },
     "execution_count": 64,
     "metadata": {},
     "output_type": "execute_result"
    }
   ],
   "source": [
    "RFC.score(X_train_rescaled,y_train)"
   ]
  },
  {
   "cell_type": "code",
   "execution_count": 65,
   "metadata": {},
   "outputs": [
    {
     "data": {
      "text/plain": [
       "0.628125"
      ]
     },
     "execution_count": 65,
     "metadata": {},
     "output_type": "execute_result"
    }
   ],
   "source": [
    "RFC.score(X_test_rescaled,y_test)"
   ]
  },
  {
   "cell_type": "code",
   "execution_count": 66,
   "metadata": {},
   "outputs": [
    {
     "name": "stdout",
     "output_type": "stream",
     "text": [
      "=====================\n",
      "F1_score:\n",
      "\n",
      "0.628125\n",
      "=====================\n",
      "Confusion Matrix:\n",
      "\n",
      "[[  0   0   1   1   0   0]\n",
      " [  0   0   4   2   0   0]\n",
      " [  0   0 107  41   0   0]\n",
      " [  0   0  37  86   2   0]\n",
      " [  0   0   0  27   8   0]\n",
      " [  0   0   0   4   0   0]]\n",
      "\n",
      "=================\n",
      "Classification Report:\n",
      "\n",
      "              precision    recall  f1-score   support\n",
      "\n",
      "           0       0.00      0.00      0.00         2\n",
      "           1       0.00      0.00      0.00         6\n",
      "           2       0.72      0.72      0.72       148\n",
      "           3       0.53      0.69      0.60       125\n",
      "           4       0.80      0.23      0.36        35\n",
      "           5       0.00      0.00      0.00         4\n",
      "\n",
      "    accuracy                           0.63       320\n",
      "   macro avg       0.34      0.27      0.28       320\n",
      "weighted avg       0.63      0.63      0.61       320\n",
      "\n"
     ]
    }
   ],
   "source": [
    "y_preds = RFC.predict(X_test_rescaled)\n",
    "print(\"=====================\\nF1_score:\\n\")\n",
    "print(m.f1_score(y_test, y_preds, average='micro'))\n",
    "print(\"=====================\\nConfusion Matrix:\\n\")\n",
    "print(m.confusion_matrix(y_test, y_preds))\n",
    "print(\"\\n=================\\nClassification Report:\\n\")\n",
    "print(m.classification_report(y_test, y_preds))"
   ]
  },
  {
   "cell_type": "code",
   "execution_count": 67,
   "metadata": {},
   "outputs": [],
   "source": [
    "# Feature Importance. Random Forests make easy to measure the relative importance of each feature ✔\n",
    "feature_imp = RFC.feature_importances_"
   ]
  },
  {
   "cell_type": "code",
   "execution_count": 68,
   "metadata": {},
   "outputs": [],
   "source": [
    "features_dict_RFC = dict(zip(top8_corr.index, list(feature_imp)))\n",
    "features_imp_df_RFC = pd.DataFrame(features_dict_RFC, index=[\"feature_importance\"]).T"
   ]
  },
  {
   "cell_type": "code",
   "execution_count": 69,
   "metadata": {},
   "outputs": [],
   "source": [
    "top8_corr.columns = [\"feature_corr\"]"
   ]
  },
  {
   "cell_type": "code",
   "execution_count": 70,
   "metadata": {},
   "outputs": [],
   "source": [
    "features_df_RFC = pd.concat([top8_corr, features_imp_df_RFC], axis=1)"
   ]
  },
  {
   "cell_type": "code",
   "execution_count": 71,
   "metadata": {},
   "outputs": [
    {
     "data": {
      "text/html": [
       "<div>\n",
       "<style scoped>\n",
       "    .dataframe tbody tr th:only-of-type {\n",
       "        vertical-align: middle;\n",
       "    }\n",
       "\n",
       "    .dataframe tbody tr th {\n",
       "        vertical-align: top;\n",
       "    }\n",
       "\n",
       "    .dataframe thead th {\n",
       "        text-align: right;\n",
       "    }\n",
       "</style>\n",
       "<table border=\"1\" class=\"dataframe\">\n",
       "  <thead>\n",
       "    <tr style=\"text-align: right;\">\n",
       "      <th></th>\n",
       "      <th>feature_corr</th>\n",
       "      <th>feature_importance</th>\n",
       "    </tr>\n",
       "  </thead>\n",
       "  <tbody>\n",
       "    <tr>\n",
       "      <th>alcohol</th>\n",
       "      <td>0.480738</td>\n",
       "      <td>0.461871</td>\n",
       "    </tr>\n",
       "    <tr>\n",
       "      <th>volatile acidity</th>\n",
       "      <td>0.391735</td>\n",
       "      <td>0.166699</td>\n",
       "    </tr>\n",
       "    <tr>\n",
       "      <th>sulphate_by_chloride</th>\n",
       "      <td>0.363317</td>\n",
       "      <td>0.165837</td>\n",
       "    </tr>\n",
       "    <tr>\n",
       "      <th>citric acid</th>\n",
       "      <td>0.233733</td>\n",
       "      <td>0.020969</td>\n",
       "    </tr>\n",
       "    <tr>\n",
       "      <th>total sulfur dioxide</th>\n",
       "      <td>0.185404</td>\n",
       "      <td>0.120880</td>\n",
       "    </tr>\n",
       "    <tr>\n",
       "      <th>density</th>\n",
       "      <td>0.173251</td>\n",
       "      <td>0.026579</td>\n",
       "    </tr>\n",
       "    <tr>\n",
       "      <th>fixed acidity</th>\n",
       "      <td>0.127766</td>\n",
       "      <td>0.028384</td>\n",
       "    </tr>\n",
       "    <tr>\n",
       "      <th>chlorides</th>\n",
       "      <td>0.119770</td>\n",
       "      <td>0.008781</td>\n",
       "    </tr>\n",
       "  </tbody>\n",
       "</table>\n",
       "</div>"
      ],
      "text/plain": [
       "                      feature_corr  feature_importance\n",
       "alcohol                   0.480738            0.461871\n",
       "volatile acidity          0.391735            0.166699\n",
       "sulphate_by_chloride      0.363317            0.165837\n",
       "citric acid               0.233733            0.020969\n",
       "total sulfur dioxide      0.185404            0.120880\n",
       "density                   0.173251            0.026579\n",
       "fixed acidity             0.127766            0.028384\n",
       "chlorides                 0.119770            0.008781"
      ]
     },
     "execution_count": 71,
     "metadata": {},
     "output_type": "execute_result"
    }
   ],
   "source": [
    "features_df_RFC"
   ]
  },
  {
   "cell_type": "code",
   "execution_count": 72,
   "metadata": {},
   "outputs": [
    {
     "data": {
      "image/png": "[encoded data removed]",
      "text/plain": [
       "<Figure size 864x432 with 1 Axes>"
      ]
     },
     "metadata": {},
     "output_type": "display_data"
    }
   ],
   "source": [
    "# Visualize feature correlations and importance\n",
    "\n",
    "features_df_RFC.plot(kind=\"barh\", legend=True, label=True, figsize=(12,6), colormap=seismic)\n",
    "plt.legend(bbox_to_anchor=(1, 1), fontsize=12)\n",
    "plt.title(\"Feature Importance vs Corr (RFC model)\", fontsize=16)\n",
    "plt.yticks(fontsize=12)\n",
    "plt.tight_layout()\n",
    "# plt.savefig(\"importance_vs_corr_RFC.png\", dpi=400)"
   ]
  },
  {
   "cell_type": "markdown",
   "metadata": {},
   "source": [
    "It appears that unlike the SVC algo, feature importance of the RFC has a strong association with the feature correlations with the target"
   ]
  },
  {
   "cell_type": "markdown",
   "metadata": {},
   "source": [
    "### 7.1 Fine tune ExtraTreesClassifier (ETC)"
   ]
  },
  {
   "cell_type": "code",
   "execution_count": 73,
   "metadata": {},
   "outputs": [
    {
     "name": "stdout",
     "output_type": "stream",
     "text": [
      "Best: 0.613612 using {'max_depth': 8, 'max_features': 4, 'min_samples_leaf': 8}\n",
      "0.589263 (0.039226) with: {'max_depth': 8, 'max_features': 2, 'min_samples_leaf': 8}\n",
      "0.613612 (0.039836) with: {'max_depth': 8, 'max_features': 4, 'min_samples_leaf': 8}\n",
      "0.612069 (0.040069) with: {'max_depth': 8, 'max_features': 6, 'min_samples_leaf': 8}\n"
     ]
    }
   ],
   "source": [
    " \n",
    "max_depth = [8] # The lower the higher regularization \n",
    "# n_estimators = [50,100,150]\n",
    "max_features = [2,4,6] # The lower the higher regularization \n",
    "min_samples_leaf = [8] # [2, 6, 12, 20] The higher the higher the regularization\n",
    "\n",
    "param_grid = dict(max_depth=max_depth, min_samples_leaf=min_samples_leaf, max_features=max_features)\n",
    "\n",
    "model = ExtraTreesClassifier()\n",
    "SKF = StratifiedKFold(n_splits=12, random_state=10)\n",
    "grid = GridSearchCV(estimator=model, param_grid=param_grid, scoring=\"f1_micro\", cv=SKF)\n",
    "grid_result = grid.fit(X_train_rescaled, y_train)\n",
    "print(\"Best: %f using %s\" % (grid_result.best_score_, grid_result.best_params_))\n",
    "means = grid_result.cv_results_['mean_test_score']\n",
    "stds = grid_result.cv_results_['std_test_score']\n",
    "params = grid_result.cv_results_['params']\n",
    "for mean, stdev, param in zip(means, stds, params):\n",
    "    print(\"%f (%f) with: %r\" % (mean, stdev, param))\n"
   ]
  },
  {
   "cell_type": "code",
   "execution_count": 74,
   "metadata": {},
   "outputs": [
    {
     "data": {
      "text/plain": [
       "ExtraTreesClassifier(bootstrap=False, ccp_alpha=0.0, class_weight=None,\n",
       "                     criterion='gini', max_depth=10, max_features=8,\n",
       "                     max_leaf_nodes=None, max_samples=None,\n",
       "                     min_impurity_decrease=0.0, min_impurity_split=None,\n",
       "                     min_samples_leaf=3, min_samples_split=2,\n",
       "                     min_weight_fraction_leaf=0.0, n_estimators=100,\n",
       "                     n_jobs=None, oob_score=False, random_state=None, verbose=0,\n",
       "                     warm_start=False)"
      ]
     },
     "execution_count": 74,
     "metadata": {},
     "output_type": "execute_result"
    }
   ],
   "source": [
    "ETC =  ExtraTreesClassifier(max_depth=10, max_features=8, min_samples_leaf=3)\n",
    "ETC.fit(X_train_rescaled, y_train)"
   ]
  },
  {
   "cell_type": "markdown",
   "metadata": {},
   "source": [
    "### 7.2 Evaluating ETC"
   ]
  },
  {
   "cell_type": "code",
   "execution_count": 75,
   "metadata": {},
   "outputs": [
    {
     "data": {
      "text/plain": [
       "0.8479623824451411"
      ]
     },
     "execution_count": 75,
     "metadata": {},
     "output_type": "execute_result"
    }
   ],
   "source": [
    "ETC.score(X_train_rescaled,y_train)"
   ]
  },
  {
   "cell_type": "code",
   "execution_count": 76,
   "metadata": {},
   "outputs": [
    {
     "data": {
      "text/plain": [
       "0.690625"
      ]
     },
     "execution_count": 76,
     "metadata": {},
     "output_type": "execute_result"
    }
   ],
   "source": [
    "ETC.score(X_test_rescaled,y_test)"
   ]
  },
  {
   "cell_type": "code",
   "execution_count": 77,
   "metadata": {},
   "outputs": [
    {
     "name": "stdout",
     "output_type": "stream",
     "text": [
      "=====================\n",
      "F1_score:\n",
      "\n",
      "0.690625\n",
      "=====================\n",
      "Confusion Matrix:\n",
      "\n",
      "[[  0   0   1   1   0   0]\n",
      " [  0   0   3   3   0   0]\n",
      " [  0   0 112  35   1   0]\n",
      " [  0   0  31  87   7   0]\n",
      " [  0   0   2  11  22   0]\n",
      " [  0   0   0   4   0   0]]\n",
      "\n",
      "=================\n",
      "Classification Report:\n",
      "\n",
      "              precision    recall  f1-score   support\n",
      "\n",
      "           0       0.00      0.00      0.00         2\n",
      "           1       0.00      0.00      0.00         6\n",
      "           2       0.75      0.76      0.75       148\n",
      "           3       0.62      0.70      0.65       125\n",
      "           4       0.73      0.63      0.68        35\n",
      "           5       0.00      0.00      0.00         4\n",
      "\n",
      "    accuracy                           0.69       320\n",
      "   macro avg       0.35      0.35      0.35       320\n",
      "weighted avg       0.67      0.69      0.68       320\n",
      "\n"
     ]
    }
   ],
   "source": [
    "y_preds = ETC.predict(X_test_rescaled)\n",
    "print(\"=====================\\nF1_score:\\n\")\n",
    "print(m.f1_score(y_test, y_preds, average='micro'))\n",
    "print(\"=====================\\nConfusion Matrix:\\n\")\n",
    "print(m.confusion_matrix(y_test, y_preds))\n",
    "print(\"\\n=================\\nClassification Report:\\n\")\n",
    "print(m.classification_report(y_test, y_preds))"
   ]
  },
  {
   "cell_type": "markdown",
   "metadata": {},
   "source": [
    "### 8.1 Fine tune XGB Classifier"
   ]
  },
  {
   "cell_type": "code",
   "execution_count": 78,
   "metadata": {},
   "outputs": [
    {
     "name": "stdout",
     "output_type": "stream",
     "text": [
      "Best: 0.654492 using {'learning_rate': 0.05, 'max_depth': 8, 'min_child_weight': 1}\n",
      "0.654492 (0.048773) with: {'learning_rate': 0.05, 'max_depth': 8, 'min_child_weight': 1}\n",
      "0.638012 (0.039646) with: {'learning_rate': 0.05, 'max_depth': 8, 'min_child_weight': 2}\n",
      "0.641884 (0.039912) with: {'learning_rate': 0.05, 'max_depth': 8, 'min_child_weight': 11}\n"
     ]
    }
   ],
   "source": [
    "max_depth = [8] # ,4,8,16]\n",
    "learning_rate = [0.05] # 0.03, 0.05\n",
    "min_child_weight = [1, 2, 11]\n",
    "\n",
    "param_grid = dict(max_depth=max_depth, learning_rate=learning_rate, min_child_weight=min_child_weight)\n",
    "\n",
    "model = xgb.XGBClassifier()\n",
    "SKF = StratifiedKFold(n_splits=12, random_state=10)\n",
    "grid = GridSearchCV(estimator=model, param_grid=param_grid, scoring=\"f1_micro\", cv=SKF)\n",
    "grid_result = grid.fit(X_train_rescaled, y_train)\n",
    "print(\"Best: %f using %s\" % (grid_result.best_score_, grid_result.best_params_))\n",
    "means = grid_result.cv_results_['mean_test_score']\n",
    "stds = grid_result.cv_results_['std_test_score']\n",
    "params = grid_result.cv_results_['params']\n",
    "for mean, stdev, param in zip(means, stds, params):\n",
    "    print(\"%f (%f) with: %r\" % (mean, stdev, param))"
   ]
  },
  {
   "cell_type": "code",
   "execution_count": 79,
   "metadata": {},
   "outputs": [
    {
     "data": {
      "text/plain": [
       "XGBClassifier(base_score=0.5, booster='gbtree', colsample_bylevel=1,\n",
       "              colsample_bynode=1, colsample_bytree=1, gamma=0,\n",
       "              learning_rate=0.045, max_delta_step=0, max_depth=4,\n",
       "              min_child_weight=11, missing=None, n_estimators=100, n_jobs=1,\n",
       "              nthread=None, objective='multi:softprob', random_state=0,\n",
       "              reg_alpha=0, reg_lambda=1, scale_pos_weight=1, seed=None,\n",
       "              silent=None, subsample=1, verbosity=1)"
      ]
     },
     "execution_count": 79,
     "metadata": {},
     "output_type": "execute_result"
    }
   ],
   "source": [
    "xgboost = xgb.XGBClassifier(max_depth=4, learning_rate=0.045, min_child_weight=11)\n",
    "xgboost.fit(X_train_rescaled,y_train)"
   ]
  },
  {
   "cell_type": "markdown",
   "metadata": {},
   "source": [
    "### 8.2 Evaluating XGB Classifier"
   ]
  },
  {
   "cell_type": "code",
   "execution_count": 80,
   "metadata": {},
   "outputs": [
    {
     "data": {
      "text/plain": [
       "0.7170846394984326"
      ]
     },
     "execution_count": 80,
     "metadata": {},
     "output_type": "execute_result"
    }
   ],
   "source": [
    "xgboost.score(X_train_rescaled,y_train)"
   ]
  },
  {
   "cell_type": "code",
   "execution_count": 81,
   "metadata": {},
   "outputs": [
    {
     "data": {
      "text/plain": [
       "0.625"
      ]
     },
     "execution_count": 81,
     "metadata": {},
     "output_type": "execute_result"
    }
   ],
   "source": [
    "xgboost.score(X_test_rescaled,y_test)"
   ]
  },
  {
   "cell_type": "code",
   "execution_count": 82,
   "metadata": {},
   "outputs": [
    {
     "name": "stdout",
     "output_type": "stream",
     "text": [
      "=====================\n",
      "F1_score:\n",
      "\n",
      "0.625\n",
      "=====================\n",
      "Confusion Matrix:\n",
      "\n",
      "[[  0   0   1   1   0   0]\n",
      " [  0   0   3   3   0   0]\n",
      " [  0   0 106  41   1   0]\n",
      " [  0   0  36  79  10   0]\n",
      " [  0   0   0  20  15   0]\n",
      " [  0   0   0   3   1   0]]\n",
      "\n",
      "=================\n",
      "Classification Report:\n",
      "\n",
      "              precision    recall  f1-score   support\n",
      "\n",
      "           0       0.00      0.00      0.00         2\n",
      "           1       0.00      0.00      0.00         6\n",
      "           2       0.73      0.72      0.72       148\n",
      "           3       0.54      0.63      0.58       125\n",
      "           4       0.56      0.43      0.48        35\n",
      "           5       0.00      0.00      0.00         4\n",
      "\n",
      "    accuracy                           0.62       320\n",
      "   macro avg       0.30      0.30      0.30       320\n",
      "weighted avg       0.61      0.62      0.61       320\n",
      "\n"
     ]
    }
   ],
   "source": [
    "y_preds = xgboost.predict(X_test_rescaled)\n",
    "print(\"=====================\\nF1_score:\\n\")\n",
    "print(m.f1_score(y_test, y_preds, average='micro'))\n",
    "print(\"=====================\\nConfusion Matrix:\\n\")\n",
    "print(m.confusion_matrix(y_test, y_preds))\n",
    "print(\"\\n=================\\nClassification Report:\\n\")\n",
    "print(m.classification_report(y_test, y_preds))"
   ]
  },
  {
   "cell_type": "markdown",
   "metadata": {},
   "source": [
    "## 9 Ensemble model based on SVC, RFC and ETC using voting classifier"
   ]
  },
  {
   "cell_type": "code",
   "execution_count": 83,
   "metadata": {},
   "outputs": [
    {
     "data": {
      "text/plain": [
       "VotingClassifier(estimators=[('rfc',\n",
       "                              RandomForestClassifier(bootstrap=True,\n",
       "                                                     ccp_alpha=0.0,\n",
       "                                                     class_weight=None,\n",
       "                                                     criterion='gini',\n",
       "                                                     max_depth=3,\n",
       "                                                     max_features=4,\n",
       "                                                     max_leaf_nodes=None,\n",
       "                                                     max_samples=None,\n",
       "                                                     min_impurity_decrease=0.0,\n",
       "                                                     min_impurity_split=None,\n",
       "                                                     min_samples_leaf=3,\n",
       "                                                     min_samples_split=2,\n",
       "                                                     min_weight_fraction_leaf=0.0,\n",
       "                                                     n_estimators=100,\n",
       "                                                     n_jobs=None,\n",
       "                                                     oob_score=False,...\n",
       "                                            colsample_bynode=1,\n",
       "                                            colsample_bytree=1, gamma=0,\n",
       "                                            learning_rate=0.045,\n",
       "                                            max_delta_step=0, max_depth=4,\n",
       "                                            min_child_weight=11, missing=None,\n",
       "                                            n_estimators=100, n_jobs=1,\n",
       "                                            nthread=None,\n",
       "                                            objective='multi:softprob',\n",
       "                                            random_state=0, reg_alpha=0,\n",
       "                                            reg_lambda=1, scale_pos_weight=1,\n",
       "                                            seed=None, silent=None, subsample=1,\n",
       "                                            verbosity=1))],\n",
       "                 flatten_transform=True, n_jobs=None, voting='soft',\n",
       "                 weights=None)"
      ]
     },
     "execution_count": 83,
     "metadata": {},
     "output_type": "execute_result"
    }
   ],
   "source": [
    "voting_clf = VotingClassifier(\n",
    "estimators=[('rfc', RFC), ('svc', SVC_rbf),(\"etc\", ETC), (\"xgbc\", xgboost)],\n",
    "voting='soft')\n",
    "voting_clf.fit(X_train_rescaled, y_train)"
   ]
  },
  {
   "cell_type": "markdown",
   "metadata": {},
   "source": [
    "#### Evaluation performance"
   ]
  },
  {
   "cell_type": "code",
   "execution_count": 84,
   "metadata": {},
   "outputs": [
    {
     "data": {
      "text/plain": [
       "0.7170846394984326"
      ]
     },
     "execution_count": 84,
     "metadata": {},
     "output_type": "execute_result"
    }
   ],
   "source": [
    "voting_clf.score(X_train_rescaled,y_train)"
   ]
  },
  {
   "cell_type": "code",
   "execution_count": 85,
   "metadata": {},
   "outputs": [
    {
     "data": {
      "text/plain": [
       "0.65"
      ]
     },
     "execution_count": 85,
     "metadata": {},
     "output_type": "execute_result"
    }
   ],
   "source": [
    "voting_clf.score(X_test_rescaled,y_test)"
   ]
  },
  {
   "cell_type": "code",
   "execution_count": 86,
   "metadata": {},
   "outputs": [
    {
     "data": {
      "text/plain": [
       "[0.6125, 0.628125, 0.703125, 0.625]"
      ]
     },
     "execution_count": 86,
     "metadata": {},
     "output_type": "execute_result"
    }
   ],
   "source": [
    "[estimator.score(X_test_rescaled, y_test) for estimator in voting_clf.estimators_]"
   ]
  },
  {
   "cell_type": "code",
   "execution_count": 87,
   "metadata": {},
   "outputs": [
    {
     "data": {
      "text/plain": [
       "[0.6191222570532915, 0.658307210031348, 0.8463949843260188, 0.7170846394984326]"
      ]
     },
     "execution_count": 87,
     "metadata": {},
     "output_type": "execute_result"
    }
   ],
   "source": [
    "[estimator.score(X_train_rescaled, y_train) for estimator in voting_clf.estimators_]"
   ]
  },
  {
   "cell_type": "code",
   "execution_count": 88,
   "metadata": {},
   "outputs": [
    {
     "name": "stdout",
     "output_type": "stream",
     "text": [
      "=====================\n",
      "F1_score:\n",
      "\n",
      "0.65\n",
      "=====================\n",
      "Accuracy Score:\n",
      "\n",
      "0.65\n",
      "=====================\n",
      "Confusion Matrix:\n",
      "\n",
      "[[  0   0   2   0   0   0]\n",
      " [  0   0   4   2   0   0]\n",
      " [  0   0 108  39   1   0]\n",
      " [  0   0  33  85   7   0]\n",
      " [  0   0   0  19  15   1]\n",
      " [  0   0   0   3   1   0]]\n",
      "\n",
      "=================\n",
      "Classification Report:\n",
      "\n",
      "              precision    recall  f1-score   support\n",
      "\n",
      "           0       0.00      0.00      0.00         2\n",
      "           1       0.00      0.00      0.00         6\n",
      "           2       0.73      0.73      0.73       148\n",
      "           3       0.57      0.68      0.62       125\n",
      "           4       0.62      0.43      0.51        35\n",
      "           5       0.00      0.00      0.00         4\n",
      "\n",
      "    accuracy                           0.65       320\n",
      "   macro avg       0.32      0.31      0.31       320\n",
      "weighted avg       0.63      0.65      0.64       320\n",
      "\n"
     ]
    }
   ],
   "source": [
    "y_preds = voting_clf.predict(X_test_rescaled)\n",
    "print(\"=====================\\nF1_score:\\n\")\n",
    "print(m.f1_score(y_test, y_preds, average='micro'))\n",
    "print(\"=====================\\nAccuracy Score:\\n\")\n",
    "print(m.accuracy_score(y_test, y_preds))\n",
    "print(\"=====================\\nConfusion Matrix:\\n\")\n",
    "print(m.confusion_matrix(y_test, y_preds))\n",
    "print(\"\\n=================\\nClassification Report:\\n\")\n",
    "print(m.classification_report(y_test, y_preds))"
   ]
  },
  {
   "cell_type": "code",
   "execution_count": 89,
   "metadata": {},
   "outputs": [
    {
     "data": {
      "text/plain": [
       "(array([0.5, 1.5, 2.5, 3.5, 4.5, 5.5]), <a list of 6 Text yticklabel objects>)"
      ]
     },
     "execution_count": 89,
     "metadata": {},
     "output_type": "execute_result"
    },
    {
     "data": {
      "image/png": "[encoded data removed]",
      "text/plain": [
       "<Figure size 720x504 with 2 Axes>"
      ]
     },
     "metadata": {},
     "output_type": "display_data"
    }
   ],
   "source": [
    "\n",
    "conf_mx = m.confusion_matrix(y_test, y_preds)\n",
    "\n",
    "plt.figure(figsize = (10,7))\n",
    "sns.heatmap(conf_mx, annot=True, fmt='d', annot_kws={\"fontsize\":16})\n",
    "plt.title(\"Confussion Matrix Ensemble Model\", fontsize=20)\n",
    "plt.xlabel('Predicted', fontsize=16)\n",
    "plt.ylabel('Truth', fontsize=16)\n",
    "plt.xticks(fontsize=14)\n",
    "plt.yticks(fontsize=14)\n",
    "#plt.savefig(\"corr_mat.png\", dpi=300)"
   ]
  },
  {
   "cell_type": "markdown",
   "metadata": {},
   "source": [
    "We can also use matshow plot to represent the results from the correlation matrix"
   ]
  },
  {
   "cell_type": "code",
   "execution_count": 90,
   "metadata": {},
   "outputs": [
    {
     "data": {
      "image/png": "[encoded data removed]",
      "text/plain": [
       "<Figure size 576x576 with 1 Axes>"
      ]
     },
     "metadata": {},
     "output_type": "display_data"
    }
   ],
   "source": [
    "plt.rcParams[\"figure.figsize\"] = (8,8)\n",
    "plt.matshow(conf_mx, cmap=plt.cm.gray)\n",
    "plt.annotate(\"110\",(1.8,2.1), color=\"b\", weight='bold', fontsize=22)\n",
    "plt.annotate(\"37\",(2.9,2.1), color=\"w\", weight='bold',fontsize=18)\n",
    "plt.annotate(\"34\",(1.8,3.1), color=\"w\", weight='bold',fontsize=18)\n",
    "plt.annotate(\"83\",(2.9,3.1), color=\"b\", weight='bold',fontsize=20)\n",
    "plt.annotate(\"8\",(3.9,3.1), color=\"w\", weight='bold')\n",
    "plt.annotate(\"12\",(3.9,4.1), color=\"w\", weight='bold')\n",
    "plt.annotate(\"23\",(2.9,4.1), color=\"w\", weight='bold')\n",
    "# plt.savefig(\"matshow.png\", dpi=300)\n",
    "plt.show()\n"
   ]
  },
  {
   "cell_type": "markdown",
   "metadata": {},
   "source": [
    "**Highlighting the errors** produced by the model: We need to divide each value in the confusion matrix by the number of wines in the corresponding class, so you can compare error rates instead of absolute number of errors (which would make abundant classes look unfairly bad). We perform the normalization and plot the results again."
   ]
  },
  {
   "cell_type": "code",
   "execution_count": 91,
   "metadata": {},
   "outputs": [
    {
     "data": {
      "text/plain": [
       "(array([0.5, 1.5, 2.5, 3.5, 4.5, 5.5]), <a list of 6 Text yticklabel objects>)"
      ]
     },
     "execution_count": 91,
     "metadata": {},
     "output_type": "execute_result"
    },
    {
     "data": {
      "image/png": "[encoded data removed]",
      "text/plain": [
       "<Figure size 720x504 with 2 Axes>"
      ]
     },
     "metadata": {},
     "output_type": "display_data"
    }
   ],
   "source": [
    "row_sums = conf_mx.sum(axis=1, keepdims=True)\n",
    "norm_conf_mx = conf_mx / row_sums\n",
    "plt.figure(figsize = (10,7))\n",
    "sns.heatmap(norm_conf_mx, annot=True, annot_kws={\"fontsize\":16})\n",
    "plt.xlabel('Predicted', fontsize=16)\n",
    "plt.ylabel('Truth', fontsize=16)\n",
    "plt.xticks(fontsize=14)\n",
    "plt.yticks(fontsize=14)\n"
   ]
  },
  {
   "cell_type": "markdown",
   "metadata": {},
   "source": [
    "This diagram shows us that the classess 2 and 3 are the ones that are being missclassified the most."
   ]
  },
  {
   "cell_type": "markdown",
   "metadata": {},
   "source": [
    "We see that we hit a 64% of predictions correcly, and as we can appreciate in the confusion matrix, most of errors fall by one point of quality(+-1), meaning that we can make good use of our model to estimate the quality of red wine.\n",
    "We also observe more false negatives (below the diagonal) than false positives (above the diagonal) meaning that our **precision** is better than our **recall**. Or in other words, our model is more **specific** than **sensitive**."
   ]
  },
  {
   "cell_type": "markdown",
   "metadata": {},
   "source": [
    "ROC Curve (plot of true positive rate versus false positive rate) and AUC (Area Under Curve) Scores¶\n",
    "[see](https://stackoverflow.com/questions/45332410/sklearn-roc-for-multiclass-classification)"
   ]
  },
  {
   "cell_type": "markdown",
   "metadata": {},
   "source": [
    "We have to convert your problem into binary by using OneVsAll approach, so we will end-up with n_class number of ROC curves"
   ]
  },
  {
   "cell_type": "code",
   "execution_count": 92,
   "metadata": {},
   "outputs": [],
   "source": [
    "y_test = label_binarize(y_test, classes=[0,1,2,3,4,5])\n",
    "n_classes = 6"
   ]
  },
  {
   "cell_type": "code",
   "execution_count": 93,
   "metadata": {},
   "outputs": [],
   "source": [
    "y_score = voting_clf.fit(X_train_rescaled, y_train).predict_proba(X_test_rescaled) # for SVC we would have to use decision_function instead of predict_proba"
   ]
  },
  {
   "cell_type": "code",
   "execution_count": 94,
   "metadata": {},
   "outputs": [],
   "source": [
    "# Compute ROC curve and ROC area for each class\n",
    "fpr = dict()\n",
    "tpr = dict()\n",
    "roc_auc = dict()\n",
    "for i in range(n_classes):\n",
    "    fpr[i], tpr[i], _ = roc_curve(y_test[:, i], y_score[:, i])\n",
    "    roc_auc[i] = auc(fpr[i], tpr[i])"
   ]
  },
  {
   "cell_type": "code",
   "execution_count": 95,
   "metadata": {},
   "outputs": [
    {
     "data": {
      "image/png": "[encoded data removed]",
      "text/plain": [
       "<Figure size 432x360 with 1 Axes>"
      ]
     },
     "metadata": {},
     "output_type": "display_data"
    },
    {
     "data": {
      "image/png": "[encoded data removed]",
      "text/plain": [
       "<Figure size 432x360 with 1 Axes>"
      ]
     },
     "metadata": {},
     "output_type": "display_data"
    },
    {
     "data": {
      "image/png": "[encoded data removed]",
      "text/plain": [
       "<Figure size 432x360 with 1 Axes>"
      ]
     },
     "metadata": {},
     "output_type": "display_data"
    },
    {
     "data": {
      "image/png": "[encoded data removed]",
      "text/plain": [
       "<Figure size 432x360 with 1 Axes>"
      ]
     },
     "metadata": {},
     "output_type": "display_data"
    },
    {
     "data": {
      "image/png": "[encoded data removed]",
      "text/plain": [
       "<Figure size 432x360 with 1 Axes>"
      ]
     },
     "metadata": {},
     "output_type": "display_data"
    },
    {
     "data": {
      "image/png": "[encoded data removed]",
      "text/plain": [
       "<Figure size 432x360 with 1 Axes>"
      ]
     },
     "metadata": {},
     "output_type": "display_data"
    }
   ],
   "source": [
    "# Plot of a ROC curve for a specific class\n",
    "plt.rcParams[\"figure.figsize\"] = (6,5)\n",
    "for i in range(n_classes):\n",
    "    plt.figure()\n",
    "    plt.plot(fpr[i], tpr[i], label='ROC curve (AUC = %0.2f)' % roc_auc[i])\n",
    "    plt.plot([0, 1], [0, 1], 'k--')\n",
    "    plt.xlim([0.0, 1.0])\n",
    "    plt.ylim([0.0, 1.05])\n",
    "    plt.xlabel('$False Positive Rate$') # We can use $ to make the font italic\n",
    "    plt.ylabel('$True Positive Rate$')\n",
    "    plt.title('Receiver operating characteristic. Class {}'.format(i))\n",
    "    plt.legend(loc=\"lower right\")\n",
    "    plt.show()"
   ]
  },
  {
   "cell_type": "markdown",
   "metadata": {},
   "source": [
    "We can observe that we have good room for improvement predicting the classes 2 and 3. It appears that the model produced struggles more with the middle values, which was to be be expected"
   ]
  },
  {
   "cell_type": "markdown",
   "metadata": {},
   "source": [
    "Note: I tried builing the same model taking in account the **class imbalance** in the data set by including class_weight=\"balanced\" in the different algos, but the resulting ensemble model did not perform better. To read more about data imbalanced see:\n",
    "\n",
    "[Tacking data inbalance in multi-classification problems](https://machinelearningmastery.com/multi-class-imbalanced-classification/)"
   ]
  },
  {
   "cell_type": "markdown",
   "metadata": {},
   "source": [
    "## 10. Stacking Ensemble"
   ]
  },
  {
   "cell_type": "markdown",
   "metadata": {},
   "source": [
    "I will also explore the stacking ensemble approach. For this the following steps need to be followed:\n",
    "* Split train set into 2 subsets.\n",
    "* Train the estimators using training subset 1.\n",
    "* We predict the subset 2 using the trained models.\n",
    "* Based on the predictions, we generate another training X set (held_out) that we use to train out blender model"
   ]
  },
  {
   "cell_type": "code",
   "execution_count": 96,
   "metadata": {},
   "outputs": [
    {
     "data": {
      "text/plain": [
       "RandomForestClassifier(bootstrap=True, ccp_alpha=0.0, class_weight=None,\n",
       "                       criterion='gini', max_depth=None, max_features='auto',\n",
       "                       max_leaf_nodes=None, max_samples=None,\n",
       "                       min_impurity_decrease=0.0, min_impurity_split=None,\n",
       "                       min_samples_leaf=1, min_samples_split=2,\n",
       "                       min_weight_fraction_leaf=0.0, n_estimators=100,\n",
       "                       n_jobs=None, oob_score=False, random_state=42, verbose=0,\n",
       "                       warm_start=False)"
      ]
     },
     "execution_count": 96,
     "metadata": {},
     "output_type": "execute_result"
    }
   ],
   "source": [
    "#1) \n",
    "\n",
    "X_train, X_test, y_train, y_test = train_test_split(X, y, random_state=42)\n",
    "X_train_1, X_train_2, y_train_1, y_train_2 = train_test_split(X_train, y_train, random_state=42)\n",
    "\n",
    "#2)\n",
    "SVC_rbf = SVC(kernel=\"rbf\", C=1.5, gamma=0.1, tol=0.001, probability=True)\n",
    "RFC =  RandomForestClassifier(max_depth=3, max_features=4, min_samples_leaf=3)\n",
    "ETC =  ExtraTreesClassifier(max_depth=10, max_features=8, min_samples_leaf=3)\n",
    "xgboost = xgb.XGBClassifier(max_depth=2)\n",
    "\n",
    "blender = RandomForestClassifier(random_state=42)\n",
    "\n",
    "for p in [SVC_rbf, RFC, ETC,xgboost]:\n",
    "    p.fit(X_train_1, y_train_1)\n",
    "    \n",
    "#3)    \n",
    "SVC_rbf_p = SVC_rbf.predict(X_train_2)\n",
    "RFC_p = RFC.predict(X_train_2)\n",
    "ETC_p = ETC.predict(X_train_2)\n",
    "xgboost_p = xgboost.predict(X_train_2)\n",
    "\n",
    "#4)\n",
    "held_out = np.column_stack((SVC_rbf_p, RFC_p, ETC_p, xgboost_p)) \n",
    "blender.fit(held_out, y_train_2)"
   ]
  },
  {
   "cell_type": "code",
   "execution_count": 97,
   "metadata": {},
   "outputs": [
    {
     "data": {
      "text/plain": [
       "0.6140350877192983"
      ]
     },
     "execution_count": 97,
     "metadata": {},
     "output_type": "execute_result"
    }
   ],
   "source": [
    "result_1 = []\n",
    "for p in [SVC_rbf, RFC, ETC, xgboost]:\n",
    "    result_1.append(p.predict(X_test)) \n",
    "    \n",
    "    \"\"\"To check the model performance against the test set we need to obtain a prediction \n",
    "    test obtained from stacking the predictions from each estimator\"\"\"\n",
    "\n",
    "y_pred_s = blender.predict(np.column_stack(tuple(result_1)))\n",
    "accuracy_score(y_test, y_pred_s)"
   ]
  },
  {
   "cell_type": "code",
   "execution_count": 98,
   "metadata": {},
   "outputs": [
    {
     "data": {
      "text/plain": [
       "0.7376775271512114"
      ]
     },
     "execution_count": 98,
     "metadata": {},
     "output_type": "execute_result"
    }
   ],
   "source": [
    "result_2 = []\n",
    "for p in [SVC_rbf, RFC, ETC, xgboost]:\n",
    "    result_2.append(p.predict(X_train))\n",
    "\n",
    "y_pred_s = blender.predict(np.column_stack(tuple(result_2)))\n",
    "accuracy_score(y_train, y_pred_s)"
   ]
  },
  {
   "cell_type": "markdown",
   "metadata": {},
   "source": [
    "With the stacking ensemble approach we obtained a blender that performed worse than using Voting Classifier."
   ]
  },
  {
   "cell_type": "markdown",
   "metadata": {},
   "source": [
    "#### Future directions"
   ]
  },
  {
   "cell_type": "markdown",
   "metadata": {},
   "source": [
    "How can we improve the model? \n",
    "* **Gather more training data**. In particular for the classes 2 and 3\n",
    "* Include features that are more specific for these classess\n",
    "* Since classess 2 and 3 are not being satisfactorialy separated by our algo, we could consider grouping them both into one \"middle quality\" category"
   ]
  },
  {
   "cell_type": "markdown",
   "metadata": {},
   "source": [
    "## 11. Designing a Neural Network (NN) to tackle this problem:\n",
    "As a last part for this proyect, I will design a NN able to tackle this problem. This dataset is small, and it is known that NN work best when lost of data is fed to them, but lets explore the performance of a NN in this case."
   ]
  },
  {
   "cell_type": "markdown",
   "metadata": {},
   "source": [
    "### 11.1 Split the data"
   ]
  },
  {
   "cell_type": "code",
   "execution_count": 99,
   "metadata": {},
   "outputs": [],
   "source": [
    "X_train_full = strat_train_set.drop(\"quality\", axis=1)\n",
    "y_train_full = strat_train_set[\"quality\"].values"
   ]
  },
  {
   "cell_type": "code",
   "execution_count": 100,
   "metadata": {},
   "outputs": [],
   "source": [
    "X_test = strat_test_set.drop(\"quality\", axis=1)\n",
    "y_test = strat_test_set[\"quality\"].values"
   ]
  },
  {
   "cell_type": "code",
   "execution_count": 101,
   "metadata": {},
   "outputs": [],
   "source": [
    "X_train = X_train_full[300:]\n",
    "X_valid = X_train_full[:300]\n",
    "y_train = y_train_full[300:]\n",
    "y_valid = y_train_full[:300]"
   ]
  },
  {
   "cell_type": "code",
   "execution_count": 102,
   "metadata": {},
   "outputs": [],
   "source": [
    "scaler = StandardScaler()\n",
    "X_train = scaler.fit_transform(X_train)\n",
    "X_valid = scaler.transform(X_valid)\n",
    "X_test = scaler.transform(X_test)"
   ]
  },
  {
   "cell_type": "code",
   "execution_count": 103,
   "metadata": {},
   "outputs": [
    {
     "data": {
      "text/plain": [
       "(1596, 13)"
      ]
     },
     "execution_count": 103,
     "metadata": {},
     "output_type": "execute_result"
    }
   ],
   "source": [
    "df.shape"
   ]
  },
  {
   "cell_type": "code",
   "execution_count": 104,
   "metadata": {},
   "outputs": [
    {
     "data": {
      "text/plain": [
       "(976, 8)"
      ]
     },
     "execution_count": 104,
     "metadata": {},
     "output_type": "execute_result"
    }
   ],
   "source": [
    "X_train.shape"
   ]
  },
  {
   "cell_type": "code",
   "execution_count": 105,
   "metadata": {},
   "outputs": [
    {
     "data": {
      "text/plain": [
       "(300, 8)"
      ]
     },
     "execution_count": 105,
     "metadata": {},
     "output_type": "execute_result"
    }
   ],
   "source": [
    "X_valid.shape"
   ]
  },
  {
   "cell_type": "code",
   "execution_count": 106,
   "metadata": {},
   "outputs": [
    {
     "data": {
      "text/plain": [
       "(320, 8)"
      ]
     },
     "execution_count": 106,
     "metadata": {},
     "output_type": "execute_result"
    }
   ],
   "source": [
    "X_test.shape"
   ]
  },
  {
   "cell_type": "markdown",
   "metadata": {},
   "source": [
    "### 11.2 Design and train the NN"
   ]
  },
  {
   "cell_type": "code",
   "execution_count": 107,
   "metadata": {},
   "outputs": [],
   "source": [
    "# 1) Model. NN are prone to overfitting some we need some regularization mechanisms in place\n",
    "\n",
    "model = keras.models.Sequential([\n",
    "keras.layers.Input(shape=(8,)),\n",
    "keras.layers.Dense(300, activation=\"selu\",  kernel_regularizer=keras.regularizers.l2(0.01)),\n",
    "keras.layers.Dense(200, activation=\"selu\", kernel_regularizer=keras.regularizers.l2(0.01)),\n",
    "keras.layers.Dense(100, activation=\"selu\",  kernel_regularizer=keras.regularizers.l2(0.01)),\n",
    "keras.layers.Dense(50, activation=\"selu\",  kernel_regularizer=keras.regularizers.l2(0.01)),\n",
    "keras.layers.Dropout(rate=0.2),\n",
    "keras.layers.Dense(6, activation=\"softmax\")\n",
    "])"
   ]
  },
  {
   "cell_type": "code",
   "execution_count": 108,
   "metadata": {},
   "outputs": [],
   "source": [
    "# 2) compile\n",
    "\n",
    "model.compile(loss=\"sparse_categorical_crossentropy\",\n",
    "              optimizer= keras.optimizers.SGD(lr=0.005),\n",
    "              metrics=[\"accuracy\"])"
   ]
  },
  {
   "cell_type": "code",
   "execution_count": 109,
   "metadata": {},
   "outputs": [],
   "source": [
    "# 3) track the fitting process\n",
    "# 1) Let’s start by defining the root log directory we will use for our TensorBoard logs\n",
    "root_logdir = os.path.join(os.curdir, \"my_logs\")\n",
    "# 2) plus a small function that generates a subdirectory path for the current datetime so that it’s different at every run\n",
    "def get_run_logdir():\n",
    "    import time\n",
    "    run_id = time.strftime(\"run_SGD%Y_%m_%d-%H_%M_%S\")\n",
    "    return os.path.join(root_logdir, run_id)\n",
    "\n",
    "run_logdir = get_run_logdir()"
   ]
  },
  {
   "cell_type": "code",
   "execution_count": 121,
   "metadata": {},
   "outputs": [
    {
     "name": "stdout",
     "output_type": "stream",
     "text": [
      "The tensorboard extension is already loaded. To reload it, use:\n",
      "  %reload_ext tensorboard\n"
     ]
    },
    {
     "data": {
      "text/plain": [
       "Reusing TensorBoard on port 6006 (pid 4764), started 0:02:00 ago. (Use '!kill 4764' to kill it.)"
      ]
     },
     "metadata": {},
     "output_type": "display_data"
    },
    {
     "data": {
      "text/html": [
       "\n",
       "      <iframe id=\"tensorboard-frame-d279a3d07593529b\" width=\"100%\" height=\"800\" frameborder=\"0\">\n",
       "      </iframe>\n",
       "      <script>\n",
       "        (function() {\n",
       "          const frame = document.getElementById(\"tensorboard-frame-d279a3d07593529b\");\n",
       "          const url = new URL(\"/\", window.location);\n",
       "          const port = 6006;\n",
       "          if (port) {\n",
       "            url.port = port;\n",
       "          }\n",
       "          frame.src = url;\n",
       "        })();\n",
       "      </script>\n",
       "    "
      ],
      "text/plain": [
       "<IPython.core.display.HTML object>"
      ]
     },
     "metadata": {},
     "output_type": "display_data"
    }
   ],
   "source": [
    "%load_ext tensorboard\n",
    "# %tensorboard --logdir=./my_logs  --host localhost\n",
    "%tensorboard --logdir=./my_logs --port=6006"
   ]
  },
  {
   "cell_type": "code",
   "execution_count": 111,
   "metadata": {
    "collapsed": true,
    "jupyter": {
     "outputs_hidden": true
    }
   },
   "outputs": [
    {
     "name": "stdout",
     "output_type": "stream",
     "text": [
      "Epoch 1/500\n",
      " 1/31 [..............................] - ETA: 0s - loss: 6.5626 - accuracy: 0.1875WARNING:tensorflow:From C:\\Users\\enriq\\AppData\\Roaming\\Python\\Python37\\site-packages\\tensorflow\\python\\ops\\summary_ops_v2.py:1277: stop (from tensorflow.python.eager.profiler) is deprecated and will be removed after 2020-07-01.\n",
      "Instructions for updating:\n",
      "use `tf.profiler.experimental.stop` instead.\n",
      " 2/31 [>.............................] - ETA: 1s - loss: 6.5522 - accuracy: 0.1875WARNING:tensorflow:Callbacks method `on_train_batch_end` is slow compared to the batch time (batch time: 0.0040s vs `on_train_batch_end` time: 0.1096s). Check your callbacks.\n",
      "31/31 [==============================] - 0s 14ms/step - loss: 5.9668 - accuracy: 0.4539 - val_loss: 5.6353 - val_accuracy: 0.5533\n",
      "Epoch 2/500\n",
      "31/31 [==============================] - 0s 3ms/step - loss: 5.6121 - accuracy: 0.5594 - val_loss: 5.5318 - val_accuracy: 0.5867\n",
      "Epoch 3/500\n",
      "31/31 [==============================] - 0s 4ms/step - loss: 5.5142 - accuracy: 0.5912 - val_loss: 5.4777 - val_accuracy: 0.5733\n",
      "Epoch 4/500\n",
      "31/31 [==============================] - 0s 4ms/step - loss: 5.4802 - accuracy: 0.5574 - val_loss: 5.4472 - val_accuracy: 0.5633\n",
      "Epoch 5/500\n",
      "31/31 [==============================] - 0s 5ms/step - loss: 5.4156 - accuracy: 0.5922 - val_loss: 5.4368 - val_accuracy: 0.5833\n",
      "Epoch 6/500\n",
      "31/31 [==============================] - 0s 4ms/step - loss: 5.3948 - accuracy: 0.5850 - val_loss: 5.3898 - val_accuracy: 0.5800\n",
      "Epoch 7/500\n",
      "31/31 [==============================] - 0s 5ms/step - loss: 5.3506 - accuracy: 0.5963 - val_loss: 5.3726 - val_accuracy: 0.5767\n",
      "Epoch 8/500\n",
      "31/31 [==============================] - 0s 3ms/step - loss: 5.3234 - accuracy: 0.5932 - val_loss: 5.3508 - val_accuracy: 0.5933\n",
      "Epoch 9/500\n",
      "31/31 [==============================] - 0s 3ms/step - loss: 5.2734 - accuracy: 0.6035 - val_loss: 5.3113 - val_accuracy: 0.5767\n",
      "Epoch 10/500\n",
      "31/31 [==============================] - 0s 3ms/step - loss: 5.2508 - accuracy: 0.5994 - val_loss: 5.3032 - val_accuracy: 0.5600\n",
      "Epoch 11/500\n",
      "31/31 [==============================] - 0s 3ms/step - loss: 5.2206 - accuracy: 0.5871 - val_loss: 5.2688 - val_accuracy: 0.5833\n",
      "Epoch 12/500\n",
      "31/31 [==============================] - 0s 3ms/step - loss: 5.1749 - accuracy: 0.5963 - val_loss: 5.2536 - val_accuracy: 0.5700\n",
      "Epoch 13/500\n",
      "31/31 [==============================] - 0s 3ms/step - loss: 5.1661 - accuracy: 0.5748 - val_loss: 5.2116 - val_accuracy: 0.5633\n",
      "Epoch 14/500\n",
      "31/31 [==============================] - 0s 3ms/step - loss: 5.1208 - accuracy: 0.6035 - val_loss: 5.1912 - val_accuracy: 0.5733\n",
      "Epoch 15/500\n",
      "31/31 [==============================] - 0s 3ms/step - loss: 5.1182 - accuracy: 0.5809 - val_loss: 5.1578 - val_accuracy: 0.5633\n",
      "Epoch 16/500\n",
      "31/31 [==============================] - 0s 4ms/step - loss: 5.0727 - accuracy: 0.6025 - val_loss: 5.1398 - val_accuracy: 0.5833\n",
      "Epoch 17/500\n",
      "31/31 [==============================] - 0s 3ms/step - loss: 5.0563 - accuracy: 0.6045 - val_loss: 5.1149 - val_accuracy: 0.5667\n",
      "Epoch 18/500\n",
      "31/31 [==============================] - 0s 3ms/step - loss: 5.0162 - accuracy: 0.6158 - val_loss: 5.0849 - val_accuracy: 0.5600\n",
      "Epoch 19/500\n",
      "31/31 [==============================] - 0s 3ms/step - loss: 4.9854 - accuracy: 0.6096 - val_loss: 5.0570 - val_accuracy: 0.5633\n",
      "Epoch 20/500\n",
      "31/31 [==============================] - 0s 3ms/step - loss: 4.9508 - accuracy: 0.6076 - val_loss: 5.0556 - val_accuracy: 0.5800\n",
      "Epoch 21/500\n",
      "31/31 [==============================] - 0s 3ms/step - loss: 4.9350 - accuracy: 0.6209 - val_loss: 5.0182 - val_accuracy: 0.5767\n",
      "Epoch 22/500\n",
      "31/31 [==============================] - 0s 3ms/step - loss: 4.9074 - accuracy: 0.6096 - val_loss: 4.9960 - val_accuracy: 0.5867\n",
      "Epoch 23/500\n",
      "31/31 [==============================] - 0s 3ms/step - loss: 4.8790 - accuracy: 0.6148 - val_loss: 4.9685 - val_accuracy: 0.5833\n",
      "Epoch 24/500\n",
      "31/31 [==============================] - 0s 3ms/step - loss: 4.8410 - accuracy: 0.6219 - val_loss: 4.9413 - val_accuracy: 0.5667\n",
      "Epoch 25/500\n",
      "31/31 [==============================] - 0s 3ms/step - loss: 4.8406 - accuracy: 0.6004 - val_loss: 4.9109 - val_accuracy: 0.5733\n",
      "Epoch 26/500\n",
      "31/31 [==============================] - 0s 5ms/step - loss: 4.8076 - accuracy: 0.6025 - val_loss: 4.8879 - val_accuracy: 0.5800\n",
      "Epoch 27/500\n",
      "31/31 [==============================] - 0s 3ms/step - loss: 4.7778 - accuracy: 0.6086 - val_loss: 4.8557 - val_accuracy: 0.5700\n",
      "Epoch 28/500\n",
      "31/31 [==============================] - 0s 3ms/step - loss: 4.7646 - accuracy: 0.6158 - val_loss: 4.8401 - val_accuracy: 0.5767\n",
      "Epoch 29/500\n",
      "31/31 [==============================] - 0s 3ms/step - loss: 4.7345 - accuracy: 0.6066 - val_loss: 4.8173 - val_accuracy: 0.5800\n",
      "Epoch 30/500\n",
      "31/31 [==============================] - 0s 3ms/step - loss: 4.6957 - accuracy: 0.6230 - val_loss: 4.8013 - val_accuracy: 0.5733\n",
      "Epoch 31/500\n",
      "31/31 [==============================] - 0s 3ms/step - loss: 4.6791 - accuracy: 0.6137 - val_loss: 4.7735 - val_accuracy: 0.5567\n",
      "Epoch 32/500\n",
      "31/31 [==============================] - 0s 3ms/step - loss: 4.6555 - accuracy: 0.6260 - val_loss: 4.7596 - val_accuracy: 0.5633\n",
      "Epoch 33/500\n",
      "31/31 [==============================] - 0s 3ms/step - loss: 4.6483 - accuracy: 0.6014 - val_loss: 4.7278 - val_accuracy: 0.5700\n",
      "Epoch 34/500\n",
      "31/31 [==============================] - 0s 3ms/step - loss: 4.6017 - accuracy: 0.6281 - val_loss: 4.7203 - val_accuracy: 0.5733\n",
      "Epoch 35/500\n",
      "31/31 [==============================] - 0s 3ms/step - loss: 4.5914 - accuracy: 0.6117 - val_loss: 4.7027 - val_accuracy: 0.5733\n",
      "Epoch 36/500\n",
      "31/31 [==============================] - 0s 3ms/step - loss: 4.5539 - accuracy: 0.6199 - val_loss: 4.6663 - val_accuracy: 0.5667\n",
      "Epoch 37/500\n",
      "31/31 [==============================] - 0s 3ms/step - loss: 4.5358 - accuracy: 0.6137 - val_loss: 4.6488 - val_accuracy: 0.5600\n",
      "Epoch 38/500\n",
      "31/31 [==============================] - 0s 3ms/step - loss: 4.5130 - accuracy: 0.6219 - val_loss: 4.6081 - val_accuracy: 0.5767\n",
      "Epoch 39/500\n",
      "31/31 [==============================] - 0s 3ms/step - loss: 4.4849 - accuracy: 0.6342 - val_loss: 4.5984 - val_accuracy: 0.5633\n",
      "Epoch 40/500\n",
      "31/31 [==============================] - 0s 3ms/step - loss: 4.4667 - accuracy: 0.6178 - val_loss: 4.5690 - val_accuracy: 0.5533\n",
      "Epoch 41/500\n",
      "31/31 [==============================] - 0s 3ms/step - loss: 4.4589 - accuracy: 0.6066 - val_loss: 4.5474 - val_accuracy: 0.5800\n",
      "Epoch 42/500\n",
      "31/31 [==============================] - 0s 3ms/step - loss: 4.4299 - accuracy: 0.6250 - val_loss: 4.5404 - val_accuracy: 0.5833\n",
      "Epoch 43/500\n",
      "31/31 [==============================] - 0s 4ms/step - loss: 4.3984 - accuracy: 0.6373 - val_loss: 4.5061 - val_accuracy: 0.5700\n",
      "Epoch 44/500\n",
      "31/31 [==============================] - 0s 4ms/step - loss: 4.3746 - accuracy: 0.6219 - val_loss: 4.5030 - val_accuracy: 0.5700\n",
      "Epoch 45/500\n",
      "31/31 [==============================] - 0s 3ms/step - loss: 4.3652 - accuracy: 0.6148 - val_loss: 4.4689 - val_accuracy: 0.5700\n",
      "Epoch 46/500\n",
      "31/31 [==============================] - 0s 3ms/step - loss: 4.3324 - accuracy: 0.6486 - val_loss: 4.4475 - val_accuracy: 0.5733\n",
      "Epoch 47/500\n",
      "31/31 [==============================] - 0s 3ms/step - loss: 4.3106 - accuracy: 0.6373 - val_loss: 4.4290 - val_accuracy: 0.5733\n",
      "Epoch 48/500\n",
      "31/31 [==============================] - 0s 3ms/step - loss: 4.3041 - accuracy: 0.6342 - val_loss: 4.4104 - val_accuracy: 0.5633\n",
      "Epoch 49/500\n",
      "31/31 [==============================] - 0s 3ms/step - loss: 4.2733 - accuracy: 0.6373 - val_loss: 4.3867 - val_accuracy: 0.5733\n",
      "Epoch 50/500\n",
      "31/31 [==============================] - 0s 3ms/step - loss: 4.2476 - accuracy: 0.6393 - val_loss: 4.3606 - val_accuracy: 0.5767\n",
      "Epoch 51/500\n",
      "31/31 [==============================] - 0s 3ms/step - loss: 4.2307 - accuracy: 0.6127 - val_loss: 4.3528 - val_accuracy: 0.5667\n",
      "Epoch 52/500\n",
      "31/31 [==============================] - 0s 4ms/step - loss: 4.2030 - accuracy: 0.6168 - val_loss: 4.3266 - val_accuracy: 0.5600\n",
      "Epoch 53/500\n",
      "31/31 [==============================] - 0s 3ms/step - loss: 4.1842 - accuracy: 0.6158 - val_loss: 4.3143 - val_accuracy: 0.5700\n",
      "Epoch 54/500\n",
      "31/31 [==============================] - 0s 3ms/step - loss: 4.1714 - accuracy: 0.6168 - val_loss: 4.2894 - val_accuracy: 0.5833\n",
      "Epoch 55/500\n",
      "31/31 [==============================] - 0s 3ms/step - loss: 4.1556 - accuracy: 0.6148 - val_loss: 4.2705 - val_accuracy: 0.5633\n",
      "Epoch 56/500\n",
      "31/31 [==============================] - 0s 4ms/step - loss: 4.1327 - accuracy: 0.6189 - val_loss: 4.2596 - val_accuracy: 0.5667\n",
      "Epoch 57/500\n",
      "31/31 [==============================] - 0s 4ms/step - loss: 4.1087 - accuracy: 0.6219 - val_loss: 4.2248 - val_accuracy: 0.5600\n",
      "Epoch 58/500\n",
      "31/31 [==============================] - 0s 4ms/step - loss: 4.0778 - accuracy: 0.6178 - val_loss: 4.2064 - val_accuracy: 0.5567\n",
      "Epoch 59/500\n",
      "31/31 [==============================] - 0s 4ms/step - loss: 4.0646 - accuracy: 0.6291 - val_loss: 4.1885 - val_accuracy: 0.5767\n",
      "Epoch 60/500\n",
      "31/31 [==============================] - 0s 3ms/step - loss: 4.0583 - accuracy: 0.6219 - val_loss: 4.1661 - val_accuracy: 0.5833\n",
      "Epoch 61/500\n",
      "31/31 [==============================] - 0s 3ms/step - loss: 4.0348 - accuracy: 0.6301 - val_loss: 4.1623 - val_accuracy: 0.5833\n",
      "Epoch 62/500\n",
      "31/31 [==============================] - 0s 3ms/step - loss: 4.0049 - accuracy: 0.6322 - val_loss: 4.1453 - val_accuracy: 0.5767\n",
      "Epoch 63/500\n",
      "31/31 [==============================] - 0s 4ms/step - loss: 3.9761 - accuracy: 0.6342 - val_loss: 4.1131 - val_accuracy: 0.5733\n",
      "Epoch 64/500\n",
      "31/31 [==============================] - 0s 3ms/step - loss: 3.9717 - accuracy: 0.6322 - val_loss: 4.0950 - val_accuracy: 0.5733\n",
      "Epoch 65/500\n",
      "31/31 [==============================] - 0s 3ms/step - loss: 3.9646 - accuracy: 0.6311 - val_loss: 4.0755 - val_accuracy: 0.5700\n",
      "Epoch 66/500\n",
      "31/31 [==============================] - 0s 5ms/step - loss: 3.9282 - accuracy: 0.6260 - val_loss: 4.0533 - val_accuracy: 0.5700\n",
      "Epoch 67/500\n",
      "31/31 [==============================] - 0s 4ms/step - loss: 3.9041 - accuracy: 0.6373 - val_loss: 4.0327 - val_accuracy: 0.5667\n",
      "Epoch 68/500\n",
      "31/31 [==============================] - 0s 3ms/step - loss: 3.8852 - accuracy: 0.6332 - val_loss: 4.0206 - val_accuracy: 0.5767\n",
      "Epoch 69/500\n",
      "31/31 [==============================] - 0s 3ms/step - loss: 3.8808 - accuracy: 0.6281 - val_loss: 4.0079 - val_accuracy: 0.5700\n",
      "Epoch 70/500\n",
      "31/31 [==============================] - 0s 3ms/step - loss: 3.8580 - accuracy: 0.6281 - val_loss: 3.9832 - val_accuracy: 0.5733\n",
      "Epoch 71/500\n",
      "31/31 [==============================] - 0s 3ms/step - loss: 3.8354 - accuracy: 0.6260 - val_loss: 3.9745 - val_accuracy: 0.5733\n",
      "Epoch 72/500\n",
      "31/31 [==============================] - 0s 4ms/step - loss: 3.8281 - accuracy: 0.6322 - val_loss: 3.9438 - val_accuracy: 0.5733\n",
      "Epoch 73/500\n",
      "31/31 [==============================] - 0s 2ms/step - loss: 3.8008 - accuracy: 0.6373 - val_loss: 3.9539 - val_accuracy: 0.5633\n",
      "Epoch 74/500\n",
      "31/31 [==============================] - 0s 3ms/step - loss: 3.7861 - accuracy: 0.6373 - val_loss: 3.9169 - val_accuracy: 0.5800\n",
      "Epoch 75/500\n",
      "31/31 [==============================] - 0s 4ms/step - loss: 3.7693 - accuracy: 0.6311 - val_loss: 3.8980 - val_accuracy: 0.5733\n",
      "Epoch 76/500\n",
      "31/31 [==============================] - 0s 3ms/step - loss: 3.7452 - accuracy: 0.6281 - val_loss: 3.8823 - val_accuracy: 0.5733\n",
      "Epoch 77/500\n",
      "31/31 [==============================] - 0s 3ms/step - loss: 3.7419 - accuracy: 0.6260 - val_loss: 3.8713 - val_accuracy: 0.5733\n",
      "Epoch 78/500\n",
      "31/31 [==============================] - 0s 3ms/step - loss: 3.7185 - accuracy: 0.6383 - val_loss: 3.8437 - val_accuracy: 0.5700\n",
      "Epoch 79/500\n",
      "31/31 [==============================] - 0s 3ms/step - loss: 3.6968 - accuracy: 0.6311 - val_loss: 3.8264 - val_accuracy: 0.5767\n",
      "Epoch 80/500\n",
      "31/31 [==============================] - 0s 3ms/step - loss: 3.6830 - accuracy: 0.6414 - val_loss: 3.8201 - val_accuracy: 0.5600\n",
      "Epoch 81/500\n",
      "31/31 [==============================] - 0s 3ms/step - loss: 3.6581 - accuracy: 0.6475 - val_loss: 3.8009 - val_accuracy: 0.5767\n",
      "Epoch 82/500\n",
      "31/31 [==============================] - 0s 3ms/step - loss: 3.6511 - accuracy: 0.6332 - val_loss: 3.7747 - val_accuracy: 0.5767\n",
      "Epoch 83/500\n",
      "31/31 [==============================] - 0s 3ms/step - loss: 3.6303 - accuracy: 0.6260 - val_loss: 3.7651 - val_accuracy: 0.5767\n",
      "Epoch 84/500\n",
      "31/31 [==============================] - 0s 3ms/step - loss: 3.6209 - accuracy: 0.6301 - val_loss: 3.7502 - val_accuracy: 0.5633\n",
      "Epoch 85/500\n",
      "31/31 [==============================] - 0s 3ms/step - loss: 3.6131 - accuracy: 0.6250 - val_loss: 3.7311 - val_accuracy: 0.5700\n",
      "Epoch 86/500\n",
      "31/31 [==============================] - 0s 3ms/step - loss: 3.5760 - accuracy: 0.6393 - val_loss: 3.7303 - val_accuracy: 0.5600\n",
      "Epoch 87/500\n",
      "31/31 [==============================] - 0s 3ms/step - loss: 3.5602 - accuracy: 0.6373 - val_loss: 3.6957 - val_accuracy: 0.5733\n",
      "Epoch 88/500\n",
      "31/31 [==============================] - 0s 3ms/step - loss: 3.5444 - accuracy: 0.6332 - val_loss: 3.6860 - val_accuracy: 0.5700\n",
      "Epoch 89/500\n",
      "31/31 [==============================] - 0s 3ms/step - loss: 3.5216 - accuracy: 0.6352 - val_loss: 3.6646 - val_accuracy: 0.5800\n",
      "Epoch 90/500\n",
      "31/31 [==============================] - 0s 3ms/step - loss: 3.5178 - accuracy: 0.6475 - val_loss: 3.6569 - val_accuracy: 0.5767\n",
      "Epoch 91/500\n",
      "31/31 [==============================] - 0s 3ms/step - loss: 3.5048 - accuracy: 0.6404 - val_loss: 3.6388 - val_accuracy: 0.5667\n",
      "Epoch 92/500\n",
      "31/31 [==============================] - 0s 3ms/step - loss: 3.4877 - accuracy: 0.6373 - val_loss: 3.6152 - val_accuracy: 0.5833\n",
      "Epoch 93/500\n",
      "31/31 [==============================] - 0s 3ms/step - loss: 3.4585 - accuracy: 0.6496 - val_loss: 3.6086 - val_accuracy: 0.5667\n",
      "Epoch 94/500\n",
      "31/31 [==============================] - 0s 3ms/step - loss: 3.4533 - accuracy: 0.6332 - val_loss: 3.5828 - val_accuracy: 0.5667\n",
      "Epoch 95/500\n",
      "31/31 [==============================] - 0s 3ms/step - loss: 3.4338 - accuracy: 0.6414 - val_loss: 3.5682 - val_accuracy: 0.5700\n",
      "Epoch 96/500\n",
      "31/31 [==============================] - 0s 3ms/step - loss: 3.4211 - accuracy: 0.6270 - val_loss: 3.5667 - val_accuracy: 0.5633\n",
      "Epoch 97/500\n",
      "31/31 [==============================] - 0s 3ms/step - loss: 3.4002 - accuracy: 0.6506 - val_loss: 3.5415 - val_accuracy: 0.5700\n",
      "Epoch 98/500\n",
      "31/31 [==============================] - 0s 3ms/step - loss: 3.3895 - accuracy: 0.6465 - val_loss: 3.5307 - val_accuracy: 0.5800\n",
      "Epoch 99/500\n",
      "31/31 [==============================] - 0s 3ms/step - loss: 3.3715 - accuracy: 0.6445 - val_loss: 3.5204 - val_accuracy: 0.5667\n",
      "Epoch 100/500\n",
      "31/31 [==============================] - 0s 3ms/step - loss: 3.3528 - accuracy: 0.6455 - val_loss: 3.5114 - val_accuracy: 0.5767\n",
      "Epoch 101/500\n",
      "31/31 [==============================] - 0s 3ms/step - loss: 3.3492 - accuracy: 0.6342 - val_loss: 3.4820 - val_accuracy: 0.5800\n",
      "Epoch 102/500\n",
      "31/31 [==============================] - 0s 3ms/step - loss: 3.3264 - accuracy: 0.6383 - val_loss: 3.4755 - val_accuracy: 0.5633\n",
      "Epoch 103/500\n",
      "31/31 [==============================] - 0s 3ms/step - loss: 3.3077 - accuracy: 0.6455 - val_loss: 3.4544 - val_accuracy: 0.5733\n",
      "Epoch 104/500\n",
      "31/31 [==============================] - 0s 3ms/step - loss: 3.2944 - accuracy: 0.6342 - val_loss: 3.4420 - val_accuracy: 0.5833\n",
      "Epoch 105/500\n",
      "31/31 [==============================] - 0s 4ms/step - loss: 3.2902 - accuracy: 0.6352 - val_loss: 3.4195 - val_accuracy: 0.5733\n",
      "Epoch 106/500\n",
      "31/31 [==============================] - 0s 4ms/step - loss: 3.2696 - accuracy: 0.6516 - val_loss: 3.4139 - val_accuracy: 0.5800\n",
      "Epoch 107/500\n",
      "31/31 [==============================] - 0s 4ms/step - loss: 3.2552 - accuracy: 0.6445 - val_loss: 3.3985 - val_accuracy: 0.5800\n",
      "Epoch 108/500\n",
      "31/31 [==============================] - 0s 4ms/step - loss: 3.2386 - accuracy: 0.6455 - val_loss: 3.3971 - val_accuracy: 0.5600\n",
      "Epoch 109/500\n",
      "31/31 [==============================] - 0s 4ms/step - loss: 3.2182 - accuracy: 0.6445 - val_loss: 3.3688 - val_accuracy: 0.5600\n",
      "Epoch 110/500\n",
      "31/31 [==============================] - 0s 3ms/step - loss: 3.2239 - accuracy: 0.6393 - val_loss: 3.3553 - val_accuracy: 0.5767\n",
      "Epoch 111/500\n",
      "31/31 [==============================] - 0s 3ms/step - loss: 3.2072 - accuracy: 0.6322 - val_loss: 3.3434 - val_accuracy: 0.5733\n",
      "Epoch 112/500\n",
      "31/31 [==============================] - 0s 3ms/step - loss: 3.1800 - accuracy: 0.6445 - val_loss: 3.3412 - val_accuracy: 0.5633\n",
      "Epoch 113/500\n",
      "31/31 [==============================] - 0s 4ms/step - loss: 3.1670 - accuracy: 0.6393 - val_loss: 3.3120 - val_accuracy: 0.5667\n",
      "Epoch 114/500\n",
      "31/31 [==============================] - 0s 3ms/step - loss: 3.1606 - accuracy: 0.6352 - val_loss: 3.3049 - val_accuracy: 0.5667\n",
      "Epoch 115/500\n",
      "31/31 [==============================] - 0s 3ms/step - loss: 3.1418 - accuracy: 0.6516 - val_loss: 3.2918 - val_accuracy: 0.5600\n",
      "Epoch 116/500\n",
      "31/31 [==============================] - 0s 3ms/step - loss: 3.1267 - accuracy: 0.6496 - val_loss: 3.2874 - val_accuracy: 0.5433\n",
      "Epoch 117/500\n",
      "31/31 [==============================] - 0s 3ms/step - loss: 3.1114 - accuracy: 0.6475 - val_loss: 3.2697 - val_accuracy: 0.5700\n",
      "Epoch 118/500\n",
      "31/31 [==============================] - 0s 3ms/step - loss: 3.1013 - accuracy: 0.6475 - val_loss: 3.2515 - val_accuracy: 0.5667\n",
      "Epoch 119/500\n",
      "31/31 [==============================] - 0s 3ms/step - loss: 3.0942 - accuracy: 0.6537 - val_loss: 3.2334 - val_accuracy: 0.5767\n",
      "Epoch 120/500\n",
      "31/31 [==============================] - 0s 2ms/step - loss: 3.0841 - accuracy: 0.6260 - val_loss: 3.2354 - val_accuracy: 0.5600\n",
      "Epoch 121/500\n",
      "31/31 [==============================] - 0s 3ms/step - loss: 3.0675 - accuracy: 0.6465 - val_loss: 3.2141 - val_accuracy: 0.5833\n",
      "Epoch 122/500\n",
      "31/31 [==============================] - 0s 3ms/step - loss: 3.0531 - accuracy: 0.6393 - val_loss: 3.2033 - val_accuracy: 0.6067\n",
      "Epoch 123/500\n",
      "31/31 [==============================] - 0s 3ms/step - loss: 3.0357 - accuracy: 0.6445 - val_loss: 3.1881 - val_accuracy: 0.5733\n",
      "Epoch 124/500\n",
      "31/31 [==============================] - 0s 3ms/step - loss: 3.0255 - accuracy: 0.6434 - val_loss: 3.1720 - val_accuracy: 0.5967\n",
      "Epoch 125/500\n",
      "31/31 [==============================] - 0s 3ms/step - loss: 3.0058 - accuracy: 0.6496 - val_loss: 3.1636 - val_accuracy: 0.5767\n",
      "Epoch 126/500\n",
      "31/31 [==============================] - 0s 2ms/step - loss: 2.9993 - accuracy: 0.6455 - val_loss: 3.1700 - val_accuracy: 0.5600\n",
      "Epoch 127/500\n",
      "31/31 [==============================] - 0s 3ms/step - loss: 2.9935 - accuracy: 0.6527 - val_loss: 3.1621 - val_accuracy: 0.5633\n",
      "Epoch 128/500\n",
      "31/31 [==============================] - 0s 4ms/step - loss: 2.9707 - accuracy: 0.6455 - val_loss: 3.1229 - val_accuracy: 0.5700\n",
      "Epoch 129/500\n",
      "31/31 [==============================] - 0s 5ms/step - loss: 2.9675 - accuracy: 0.6424 - val_loss: 3.1095 - val_accuracy: 0.5800\n",
      "Epoch 130/500\n",
      "31/31 [==============================] - 0s 3ms/step - loss: 2.9529 - accuracy: 0.6475 - val_loss: 3.1095 - val_accuracy: 0.5700\n",
      "Epoch 131/500\n",
      "31/31 [==============================] - 0s 3ms/step - loss: 2.9424 - accuracy: 0.6373 - val_loss: 3.0982 - val_accuracy: 0.5567\n",
      "Epoch 132/500\n",
      "31/31 [==============================] - 0s 3ms/step - loss: 2.9230 - accuracy: 0.6332 - val_loss: 3.0728 - val_accuracy: 0.5733\n",
      "Epoch 133/500\n",
      "31/31 [==============================] - 0s 3ms/step - loss: 2.9184 - accuracy: 0.6424 - val_loss: 3.0780 - val_accuracy: 0.5533\n",
      "Epoch 134/500\n",
      "31/31 [==============================] - 0s 6ms/step - loss: 2.8951 - accuracy: 0.6363 - val_loss: 3.0545 - val_accuracy: 0.5867\n",
      "Epoch 135/500\n",
      "31/31 [==============================] - 0s 4ms/step - loss: 2.8863 - accuracy: 0.6527 - val_loss: 3.0391 - val_accuracy: 0.5733\n",
      "Epoch 136/500\n",
      "31/31 [==============================] - 0s 3ms/step - loss: 2.8756 - accuracy: 0.6475 - val_loss: 3.0235 - val_accuracy: 0.5933\n",
      "Epoch 137/500\n",
      "31/31 [==============================] - 0s 3ms/step - loss: 2.8636 - accuracy: 0.6455 - val_loss: 3.0124 - val_accuracy: 0.5667\n",
      "Epoch 138/500\n",
      "31/31 [==============================] - 0s 3ms/step - loss: 2.8490 - accuracy: 0.6455 - val_loss: 3.0031 - val_accuracy: 0.5700\n",
      "Epoch 139/500\n",
      "31/31 [==============================] - 0s 2ms/step - loss: 2.8313 - accuracy: 0.6598 - val_loss: 3.0043 - val_accuracy: 0.5667\n",
      "Epoch 140/500\n",
      "31/31 [==============================] - 0s 3ms/step - loss: 2.8270 - accuracy: 0.6393 - val_loss: 2.9855 - val_accuracy: 0.5733\n",
      "Epoch 141/500\n",
      "31/31 [==============================] - 0s 3ms/step - loss: 2.8137 - accuracy: 0.6393 - val_loss: 2.9679 - val_accuracy: 0.5667\n",
      "Epoch 142/500\n",
      "31/31 [==============================] - 0s 3ms/step - loss: 2.8062 - accuracy: 0.6414 - val_loss: 2.9551 - val_accuracy: 0.5700\n",
      "Epoch 143/500\n",
      "31/31 [==============================] - 0s 2ms/step - loss: 2.7818 - accuracy: 0.6465 - val_loss: 2.9725 - val_accuracy: 0.5667\n",
      "Epoch 144/500\n",
      "31/31 [==============================] - 0s 3ms/step - loss: 2.7840 - accuracy: 0.6404 - val_loss: 2.9388 - val_accuracy: 0.5633\n",
      "Epoch 145/500\n",
      "31/31 [==============================] - 0s 3ms/step - loss: 2.7728 - accuracy: 0.6434 - val_loss: 2.9278 - val_accuracy: 0.5633\n",
      "Epoch 146/500\n",
      "31/31 [==============================] - 0s 3ms/step - loss: 2.7669 - accuracy: 0.6455 - val_loss: 2.9179 - val_accuracy: 0.5700\n",
      "Epoch 147/500\n",
      "31/31 [==============================] - 0s 3ms/step - loss: 2.7555 - accuracy: 0.6516 - val_loss: 2.9059 - val_accuracy: 0.5833\n",
      "Epoch 148/500\n",
      "31/31 [==============================] - 0s 4ms/step - loss: 2.7257 - accuracy: 0.6639 - val_loss: 2.8932 - val_accuracy: 0.5633\n",
      "Epoch 149/500\n",
      "31/31 [==============================] - ETA: 0s - loss: 2.5519 - accuracy: 0.68 - 0s 3ms/step - loss: 2.7227 - accuracy: 0.6486 - val_loss: 2.9015 - val_accuracy: 0.5733\n",
      "Epoch 150/500\n",
      "31/31 [==============================] - 0s 3ms/step - loss: 2.7294 - accuracy: 0.6414 - val_loss: 2.8929 - val_accuracy: 0.5600\n",
      "Epoch 151/500\n",
      "31/31 [==============================] - 0s 3ms/step - loss: 2.7108 - accuracy: 0.6445 - val_loss: 2.8528 - val_accuracy: 0.5667\n",
      "Epoch 152/500\n",
      "31/31 [==============================] - 0s 3ms/step - loss: 2.6933 - accuracy: 0.6404 - val_loss: 2.8489 - val_accuracy: 0.5800\n",
      "Epoch 153/500\n",
      "31/31 [==============================] - 0s 4ms/step - loss: 2.6835 - accuracy: 0.6639 - val_loss: 2.8334 - val_accuracy: 0.5600\n",
      "Epoch 154/500\n",
      "31/31 [==============================] - 0s 4ms/step - loss: 2.6694 - accuracy: 0.6537 - val_loss: 2.8278 - val_accuracy: 0.5867\n",
      "Epoch 155/500\n",
      "31/31 [==============================] - 0s 3ms/step - loss: 2.6662 - accuracy: 0.6465 - val_loss: 2.8239 - val_accuracy: 0.5633\n",
      "Epoch 156/500\n",
      "31/31 [==============================] - 0s 5ms/step - loss: 2.6498 - accuracy: 0.6527 - val_loss: 2.8033 - val_accuracy: 0.5667\n",
      "Epoch 157/500\n",
      "31/31 [==============================] - 0s 3ms/step - loss: 2.6381 - accuracy: 0.6455 - val_loss: 2.8020 - val_accuracy: 0.5700\n",
      "Epoch 158/500\n",
      "31/31 [==============================] - 0s 3ms/step - loss: 2.6312 - accuracy: 0.6598 - val_loss: 2.7911 - val_accuracy: 0.5500\n",
      "Epoch 159/500\n",
      "31/31 [==============================] - 0s 2ms/step - loss: 2.6172 - accuracy: 0.6547 - val_loss: 2.8123 - val_accuracy: 0.5533\n",
      "Epoch 160/500\n",
      "31/31 [==============================] - 0s 4ms/step - loss: 2.6063 - accuracy: 0.6455 - val_loss: 2.7687 - val_accuracy: 0.5800\n",
      "Epoch 161/500\n",
      "31/31 [==============================] - 0s 4ms/step - loss: 2.5979 - accuracy: 0.6496 - val_loss: 2.7612 - val_accuracy: 0.5700\n",
      "Epoch 162/500\n",
      "31/31 [==============================] - 0s 3ms/step - loss: 2.5956 - accuracy: 0.6496 - val_loss: 2.7540 - val_accuracy: 0.5833\n",
      "Epoch 163/500\n",
      "31/31 [==============================] - 0s 3ms/step - loss: 2.5869 - accuracy: 0.6424 - val_loss: 2.7338 - val_accuracy: 0.5700\n",
      "Epoch 164/500\n",
      "31/31 [==============================] - 0s 3ms/step - loss: 2.5758 - accuracy: 0.6445 - val_loss: 2.7313 - val_accuracy: 0.5800\n",
      "Epoch 165/500\n",
      "31/31 [==============================] - 0s 3ms/step - loss: 2.5545 - accuracy: 0.6465 - val_loss: 2.7227 - val_accuracy: 0.5733\n",
      "Epoch 166/500\n",
      "31/31 [==============================] - 0s 3ms/step - loss: 2.5564 - accuracy: 0.6506 - val_loss: 2.7047 - val_accuracy: 0.5833\n",
      "Epoch 167/500\n",
      "31/31 [==============================] - 0s 3ms/step - loss: 2.5417 - accuracy: 0.6465 - val_loss: 2.7019 - val_accuracy: 0.5600\n",
      "Epoch 168/500\n",
      "31/31 [==============================] - 0s 4ms/step - loss: 2.5320 - accuracy: 0.6445 - val_loss: 2.6931 - val_accuracy: 0.5700\n",
      "Epoch 169/500\n",
      "31/31 [==============================] - 0s 4ms/step - loss: 2.5205 - accuracy: 0.6547 - val_loss: 2.6811 - val_accuracy: 0.5633\n",
      "Epoch 170/500\n",
      "31/31 [==============================] - 0s 3ms/step - loss: 2.5135 - accuracy: 0.6414 - val_loss: 2.6658 - val_accuracy: 0.5800\n",
      "Epoch 171/500\n",
      "31/31 [==============================] - 0s 3ms/step - loss: 2.4961 - accuracy: 0.6568 - val_loss: 2.6777 - val_accuracy: 0.5533\n",
      "Epoch 172/500\n",
      "31/31 [==============================] - 0s 2ms/step - loss: 2.4955 - accuracy: 0.6475 - val_loss: 2.6792 - val_accuracy: 0.5667\n",
      "Epoch 173/500\n",
      "31/31 [==============================] - 0s 3ms/step - loss: 2.4753 - accuracy: 0.6598 - val_loss: 2.6413 - val_accuracy: 0.5633\n",
      "Epoch 174/500\n",
      "31/31 [==============================] - 0s 3ms/step - loss: 2.4744 - accuracy: 0.6455 - val_loss: 2.6271 - val_accuracy: 0.5700\n",
      "Epoch 175/500\n",
      "31/31 [==============================] - 0s 3ms/step - loss: 2.4620 - accuracy: 0.6383 - val_loss: 2.6224 - val_accuracy: 0.5733\n",
      "Epoch 176/500\n",
      "31/31 [==============================] - 0s 3ms/step - loss: 2.4586 - accuracy: 0.6475 - val_loss: 2.6136 - val_accuracy: 0.5767\n",
      "Epoch 177/500\n",
      "31/31 [==============================] - 0s 3ms/step - loss: 2.4403 - accuracy: 0.6537 - val_loss: 2.6200 - val_accuracy: 0.5533\n",
      "Epoch 178/500\n",
      "31/31 [==============================] - 0s 5ms/step - loss: 2.4319 - accuracy: 0.6465 - val_loss: 2.5919 - val_accuracy: 0.5767\n",
      "Epoch 179/500\n",
      "31/31 [==============================] - 0s 4ms/step - loss: 2.4278 - accuracy: 0.6404 - val_loss: 2.5872 - val_accuracy: 0.5667\n",
      "Epoch 180/500\n",
      "31/31 [==============================] - 0s 3ms/step - loss: 2.4200 - accuracy: 0.6486 - val_loss: 2.5791 - val_accuracy: 0.5667\n",
      "Epoch 181/500\n",
      "31/31 [==============================] - 0s 3ms/step - loss: 2.4093 - accuracy: 0.6445 - val_loss: 2.5742 - val_accuracy: 0.5833\n",
      "Epoch 182/500\n",
      "31/31 [==============================] - 0s 2ms/step - loss: 2.3881 - accuracy: 0.6609 - val_loss: 2.5762 - val_accuracy: 0.5700\n",
      "Epoch 183/500\n",
      "31/31 [==============================] - 0s 3ms/step - loss: 2.3992 - accuracy: 0.6352 - val_loss: 2.5507 - val_accuracy: 0.5600\n",
      "Epoch 184/500\n",
      "31/31 [==============================] - 0s 3ms/step - loss: 2.3781 - accuracy: 0.6475 - val_loss: 2.5481 - val_accuracy: 0.5800\n",
      "Epoch 185/500\n",
      "31/31 [==============================] - 0s 3ms/step - loss: 2.3751 - accuracy: 0.6291 - val_loss: 2.5391 - val_accuracy: 0.5767\n",
      "Epoch 186/500\n",
      "31/31 [==============================] - 0s 3ms/step - loss: 2.3565 - accuracy: 0.6557 - val_loss: 2.5219 - val_accuracy: 0.5767\n",
      "Epoch 187/500\n",
      "31/31 [==============================] - 0s 2ms/step - loss: 2.3580 - accuracy: 0.6434 - val_loss: 2.5300 - val_accuracy: 0.5733\n",
      "Epoch 188/500\n",
      "31/31 [==============================] - 0s 3ms/step - loss: 2.3297 - accuracy: 0.6650 - val_loss: 2.5108 - val_accuracy: 0.5633\n",
      "Epoch 189/500\n",
      "31/31 [==============================] - 0s 3ms/step - loss: 2.3373 - accuracy: 0.6557 - val_loss: 2.5095 - val_accuracy: 0.5533\n",
      "Epoch 190/500\n",
      "31/31 [==============================] - 0s 3ms/step - loss: 2.3324 - accuracy: 0.6578 - val_loss: 2.4967 - val_accuracy: 0.5833\n",
      "Epoch 191/500\n",
      "31/31 [==============================] - 0s 2ms/step - loss: 2.3181 - accuracy: 0.6445 - val_loss: 2.4988 - val_accuracy: 0.5567\n",
      "Epoch 192/500\n",
      "31/31 [==============================] - 0s 3ms/step - loss: 2.3118 - accuracy: 0.6455 - val_loss: 2.4830 - val_accuracy: 0.5867\n",
      "Epoch 193/500\n",
      "31/31 [==============================] - 0s 2ms/step - loss: 2.3036 - accuracy: 0.6445 - val_loss: 2.4974 - val_accuracy: 0.5667\n",
      "Epoch 194/500\n",
      "31/31 [==============================] - 0s 3ms/step - loss: 2.2922 - accuracy: 0.6557 - val_loss: 2.4774 - val_accuracy: 0.5633\n",
      "Epoch 195/500\n",
      "31/31 [==============================] - 0s 4ms/step - loss: 2.2912 - accuracy: 0.6537 - val_loss: 2.4679 - val_accuracy: 0.5567\n",
      "Epoch 196/500\n",
      "31/31 [==============================] - 0s 4ms/step - loss: 2.2776 - accuracy: 0.6578 - val_loss: 2.4574 - val_accuracy: 0.5467\n",
      "Epoch 197/500\n",
      "31/31 [==============================] - 0s 4ms/step - loss: 2.2682 - accuracy: 0.6465 - val_loss: 2.4395 - val_accuracy: 0.5900\n",
      "Epoch 198/500\n",
      "31/31 [==============================] - 0s 3ms/step - loss: 2.2667 - accuracy: 0.6455 - val_loss: 2.4422 - val_accuracy: 0.5600\n",
      "Epoch 199/500\n",
      "31/31 [==============================] - 0s 3ms/step - loss: 2.2448 - accuracy: 0.6660 - val_loss: 2.4145 - val_accuracy: 0.5833\n",
      "Epoch 200/500\n",
      "31/31 [==============================] - 0s 3ms/step - loss: 2.2497 - accuracy: 0.6486 - val_loss: 2.4112 - val_accuracy: 0.5633\n",
      "Epoch 201/500\n",
      "31/31 [==============================] - 0s 3ms/step - loss: 2.2353 - accuracy: 0.6568 - val_loss: 2.4045 - val_accuracy: 0.5733\n",
      "Epoch 202/500\n",
      "31/31 [==============================] - 0s 2ms/step - loss: 2.2317 - accuracy: 0.6568 - val_loss: 2.4099 - val_accuracy: 0.5767\n",
      "Epoch 203/500\n",
      "31/31 [==============================] - 0s 2ms/step - loss: 2.2202 - accuracy: 0.6629 - val_loss: 2.4066 - val_accuracy: 0.5733\n",
      "Epoch 204/500\n",
      "31/31 [==============================] - 0s 3ms/step - loss: 2.2122 - accuracy: 0.6578 - val_loss: 2.3820 - val_accuracy: 0.5533\n",
      "Epoch 205/500\n",
      "31/31 [==============================] - 0s 5ms/step - loss: 2.2021 - accuracy: 0.6619 - val_loss: 2.3786 - val_accuracy: 0.5833\n",
      "Epoch 206/500\n",
      "31/31 [==============================] - 0s 3ms/step - loss: 2.2022 - accuracy: 0.6465 - val_loss: 2.3734 - val_accuracy: 0.5800\n",
      "Epoch 207/500\n",
      "31/31 [==============================] - 0s 2ms/step - loss: 2.1901 - accuracy: 0.6670 - val_loss: 2.3744 - val_accuracy: 0.5667\n",
      "Epoch 208/500\n",
      "31/31 [==============================] - 0s 3ms/step - loss: 2.1765 - accuracy: 0.6701 - val_loss: 2.3572 - val_accuracy: 0.5733\n",
      "Epoch 209/500\n",
      "31/31 [==============================] - 0s 3ms/step - loss: 2.1792 - accuracy: 0.6568 - val_loss: 2.3383 - val_accuracy: 0.5833\n",
      "Epoch 210/500\n",
      "31/31 [==============================] - 0s 3ms/step - loss: 2.1729 - accuracy: 0.6424 - val_loss: 2.3323 - val_accuracy: 0.5800\n",
      "Epoch 211/500\n",
      "31/31 [==============================] - 0s 2ms/step - loss: 2.1641 - accuracy: 0.6619 - val_loss: 2.3358 - val_accuracy: 0.5733\n",
      "Epoch 212/500\n",
      "31/31 [==============================] - 0s 2ms/step - loss: 2.1518 - accuracy: 0.6486 - val_loss: 2.3509 - val_accuracy: 0.5667\n",
      "Epoch 213/500\n",
      "31/31 [==============================] - 0s 2ms/step - loss: 2.1525 - accuracy: 0.6537 - val_loss: 2.3560 - val_accuracy: 0.5733\n",
      "Epoch 214/500\n",
      "31/31 [==============================] - 0s 3ms/step - loss: 2.1377 - accuracy: 0.6568 - val_loss: 2.3257 - val_accuracy: 0.5700\n",
      "Epoch 215/500\n",
      "31/31 [==============================] - 0s 4ms/step - loss: 2.1391 - accuracy: 0.6516 - val_loss: 2.3031 - val_accuracy: 0.5700\n",
      "Epoch 216/500\n",
      "31/31 [==============================] - 0s 4ms/step - loss: 2.1265 - accuracy: 0.6506 - val_loss: 2.2949 - val_accuracy: 0.5733\n",
      "Epoch 217/500\n",
      "31/31 [==============================] - 0s 3ms/step - loss: 2.1181 - accuracy: 0.6547 - val_loss: 2.2903 - val_accuracy: 0.5767\n",
      "Epoch 218/500\n",
      "31/31 [==============================] - 0s 2ms/step - loss: 2.1091 - accuracy: 0.6568 - val_loss: 2.2924 - val_accuracy: 0.5500\n",
      "Epoch 219/500\n",
      "31/31 [==============================] - 0s 3ms/step - loss: 2.0998 - accuracy: 0.6619 - val_loss: 2.2731 - val_accuracy: 0.5867\n",
      "Epoch 220/500\n",
      "31/31 [==============================] - 0s 2ms/step - loss: 2.0905 - accuracy: 0.6732 - val_loss: 2.2744 - val_accuracy: 0.5533\n",
      "Epoch 221/500\n",
      "31/31 [==============================] - 0s 3ms/step - loss: 2.0901 - accuracy: 0.6557 - val_loss: 2.2579 - val_accuracy: 0.5667\n",
      "Epoch 222/500\n",
      "31/31 [==============================] - 0s 3ms/step - loss: 2.0906 - accuracy: 0.6281 - val_loss: 2.2567 - val_accuracy: 0.5633\n",
      "Epoch 223/500\n",
      "31/31 [==============================] - 0s 3ms/step - loss: 2.0783 - accuracy: 0.6598 - val_loss: 2.2517 - val_accuracy: 0.5667\n",
      "Epoch 224/500\n",
      "31/31 [==============================] - 0s 3ms/step - loss: 2.0681 - accuracy: 0.6568 - val_loss: 2.2489 - val_accuracy: 0.5633\n",
      "Epoch 225/500\n",
      "31/31 [==============================] - 0s 3ms/step - loss: 2.0568 - accuracy: 0.6598 - val_loss: 2.2285 - val_accuracy: 0.5733\n",
      "Epoch 226/500\n",
      "31/31 [==============================] - 0s 2ms/step - loss: 2.0587 - accuracy: 0.6475 - val_loss: 2.2708 - val_accuracy: 0.5500\n",
      "Epoch 227/500\n",
      "31/31 [==============================] - 0s 2ms/step - loss: 2.0485 - accuracy: 0.6557 - val_loss: 2.2449 - val_accuracy: 0.5667\n",
      "Epoch 228/500\n",
      "31/31 [==============================] - 0s 3ms/step - loss: 2.0470 - accuracy: 0.6475 - val_loss: 2.2058 - val_accuracy: 0.5767\n",
      "Epoch 229/500\n",
      "31/31 [==============================] - 0s 2ms/step - loss: 2.0296 - accuracy: 0.6598 - val_loss: 2.2310 - val_accuracy: 0.5633\n",
      "Epoch 230/500\n",
      "31/31 [==============================] - 0s 2ms/step - loss: 2.0323 - accuracy: 0.6568 - val_loss: 2.2195 - val_accuracy: 0.5733\n",
      "Epoch 231/500\n",
      "31/31 [==============================] - 0s 2ms/step - loss: 2.0201 - accuracy: 0.6680 - val_loss: 2.2319 - val_accuracy: 0.5767\n",
      "Epoch 232/500\n",
      "31/31 [==============================] - 0s 3ms/step - loss: 2.0190 - accuracy: 0.6486 - val_loss: 2.2074 - val_accuracy: 0.5567\n",
      "Epoch 233/500\n",
      "31/31 [==============================] - 0s 5ms/step - loss: 2.0069 - accuracy: 0.6639 - val_loss: 2.1982 - val_accuracy: 0.5633\n",
      "Epoch 234/500\n",
      "31/31 [==============================] - 0s 3ms/step - loss: 2.0019 - accuracy: 0.6547 - val_loss: 2.1821 - val_accuracy: 0.5733\n",
      "Epoch 235/500\n",
      "31/31 [==============================] - 0s 3ms/step - loss: 1.9945 - accuracy: 0.6516 - val_loss: 2.1731 - val_accuracy: 0.5967\n",
      "Epoch 236/500\n",
      "31/31 [==============================] - 0s 4ms/step - loss: 1.9937 - accuracy: 0.6332 - val_loss: 2.1682 - val_accuracy: 0.5567\n",
      "Epoch 237/500\n",
      "31/31 [==============================] - 0s 2ms/step - loss: 1.9828 - accuracy: 0.6537 - val_loss: 2.1800 - val_accuracy: 0.5867\n",
      "Epoch 238/500\n",
      "31/31 [==============================] - 0s 2ms/step - loss: 1.9742 - accuracy: 0.6691 - val_loss: 2.1743 - val_accuracy: 0.5933\n",
      "Epoch 239/500\n",
      "31/31 [==============================] - 0s 3ms/step - loss: 1.9705 - accuracy: 0.6639 - val_loss: 2.1522 - val_accuracy: 0.5867\n",
      "Epoch 240/500\n",
      "31/31 [==============================] - 0s 3ms/step - loss: 1.9679 - accuracy: 0.6516 - val_loss: 2.1450 - val_accuracy: 0.5733\n",
      "Epoch 241/500\n",
      "31/31 [==============================] - 0s 2ms/step - loss: 1.9630 - accuracy: 0.6486 - val_loss: 2.1729 - val_accuracy: 0.5767\n",
      "Epoch 242/500\n",
      "31/31 [==============================] - 0s 3ms/step - loss: 1.9596 - accuracy: 0.6445 - val_loss: 2.1439 - val_accuracy: 0.5533\n",
      "Epoch 243/500\n",
      "31/31 [==============================] - 0s 3ms/step - loss: 1.9495 - accuracy: 0.6445 - val_loss: 2.1220 - val_accuracy: 0.5500\n",
      "Epoch 244/500\n",
      "31/31 [==============================] - 0s 3ms/step - loss: 1.9376 - accuracy: 0.6629 - val_loss: 2.1071 - val_accuracy: 0.5800\n",
      "Epoch 245/500\n",
      "31/31 [==============================] - 0s 2ms/step - loss: 1.9348 - accuracy: 0.6465 - val_loss: 2.1134 - val_accuracy: 0.5667\n",
      "Epoch 246/500\n",
      "31/31 [==============================] - 0s 3ms/step - loss: 1.9244 - accuracy: 0.6588 - val_loss: 2.1001 - val_accuracy: 0.5900\n",
      "Epoch 247/500\n",
      "31/31 [==============================] - 0s 3ms/step - loss: 1.9175 - accuracy: 0.6578 - val_loss: 2.0977 - val_accuracy: 0.5900\n",
      "Epoch 248/500\n",
      "31/31 [==============================] - 0s 2ms/step - loss: 1.9173 - accuracy: 0.6557 - val_loss: 2.1031 - val_accuracy: 0.5700\n",
      "Epoch 249/500\n",
      "31/31 [==============================] - 0s 3ms/step - loss: 1.9109 - accuracy: 0.6475 - val_loss: 2.0869 - val_accuracy: 0.5767\n",
      "Epoch 250/500\n",
      "31/31 [==============================] - 0s 4ms/step - loss: 1.9019 - accuracy: 0.6568 - val_loss: 2.0816 - val_accuracy: 0.5467\n",
      "Epoch 251/500\n",
      "31/31 [==============================] - 0s 3ms/step - loss: 1.8921 - accuracy: 0.6629 - val_loss: 2.0812 - val_accuracy: 0.5767\n",
      "Epoch 252/500\n",
      "31/31 [==============================] - 0s 3ms/step - loss: 1.8876 - accuracy: 0.6455 - val_loss: 2.0721 - val_accuracy: 0.5833\n",
      "Epoch 253/500\n",
      "31/31 [==============================] - 0s 4ms/step - loss: 1.8894 - accuracy: 0.6609 - val_loss: 2.0704 - val_accuracy: 0.5667\n",
      "Epoch 254/500\n",
      "31/31 [==============================] - 0s 7ms/step - loss: 1.8865 - accuracy: 0.6609 - val_loss: 2.0640 - val_accuracy: 0.5733\n",
      "Epoch 255/500\n",
      "31/31 [==============================] - 0s 3ms/step - loss: 1.8773 - accuracy: 0.6486 - val_loss: 2.0573 - val_accuracy: 0.5500\n",
      "Epoch 256/500\n",
      "31/31 [==============================] - 0s 3ms/step - loss: 1.8796 - accuracy: 0.6568 - val_loss: 2.0420 - val_accuracy: 0.5900\n",
      "Epoch 257/500\n",
      "31/31 [==============================] - 0s 3ms/step - loss: 1.8694 - accuracy: 0.6527 - val_loss: 2.0436 - val_accuracy: 0.5733\n",
      "Epoch 258/500\n",
      "31/31 [==============================] - 0s 3ms/step - loss: 1.8618 - accuracy: 0.6547 - val_loss: 2.0301 - val_accuracy: 0.5867\n",
      "Epoch 259/500\n",
      "31/31 [==============================] - 0s 2ms/step - loss: 1.8525 - accuracy: 0.6496 - val_loss: 2.0336 - val_accuracy: 0.5567\n",
      "Epoch 260/500\n",
      "31/31 [==============================] - 0s 3ms/step - loss: 1.8504 - accuracy: 0.6424 - val_loss: 2.0228 - val_accuracy: 0.5767\n",
      "Epoch 261/500\n",
      "31/31 [==============================] - 0s 2ms/step - loss: 1.8471 - accuracy: 0.6527 - val_loss: 2.0393 - val_accuracy: 0.5867\n",
      "Epoch 262/500\n",
      "31/31 [==============================] - 0s 2ms/step - loss: 1.8320 - accuracy: 0.6639 - val_loss: 2.0426 - val_accuracy: 0.5467\n",
      "Epoch 263/500\n",
      "31/31 [==============================] - 0s 4ms/step - loss: 1.8324 - accuracy: 0.6496 - val_loss: 2.0054 - val_accuracy: 0.5633\n",
      "Epoch 264/500\n",
      "31/31 [==============================] - 0s 2ms/step - loss: 1.8307 - accuracy: 0.6609 - val_loss: 2.0147 - val_accuracy: 0.5600\n",
      "Epoch 265/500\n",
      "31/31 [==============================] - 0s 3ms/step - loss: 1.8198 - accuracy: 0.6475 - val_loss: 2.0053 - val_accuracy: 0.5767\n",
      "Epoch 266/500\n",
      "31/31 [==============================] - 0s 3ms/step - loss: 1.8189 - accuracy: 0.6516 - val_loss: 1.9903 - val_accuracy: 0.5500\n",
      "Epoch 267/500\n",
      "31/31 [==============================] - 0s 3ms/step - loss: 1.8106 - accuracy: 0.6537 - val_loss: 1.9817 - val_accuracy: 0.5833\n",
      "Epoch 268/500\n",
      "31/31 [==============================] - 0s 3ms/step - loss: 1.8106 - accuracy: 0.6568 - val_loss: 1.9793 - val_accuracy: 0.5833\n",
      "Epoch 269/500\n",
      "31/31 [==============================] - 0s 2ms/step - loss: 1.8054 - accuracy: 0.6568 - val_loss: 1.9871 - val_accuracy: 0.5800\n",
      "Epoch 270/500\n",
      "31/31 [==============================] - 0s 2ms/step - loss: 1.7982 - accuracy: 0.6629 - val_loss: 1.9873 - val_accuracy: 0.5833\n",
      "Epoch 271/500\n",
      "31/31 [==============================] - 0s 3ms/step - loss: 1.7897 - accuracy: 0.6732 - val_loss: 1.9991 - val_accuracy: 0.5500\n",
      "Epoch 272/500\n",
      "31/31 [==============================] - 0s 4ms/step - loss: 1.7898 - accuracy: 0.6475 - val_loss: 1.9643 - val_accuracy: 0.5633\n",
      "Epoch 273/500\n",
      "31/31 [==============================] - 0s 4ms/step - loss: 1.7832 - accuracy: 0.6486 - val_loss: 1.9485 - val_accuracy: 0.5867\n",
      "Epoch 274/500\n",
      "31/31 [==============================] - 0s 2ms/step - loss: 1.7739 - accuracy: 0.6629 - val_loss: 1.9491 - val_accuracy: 0.5833\n",
      "Epoch 275/500\n",
      "31/31 [==============================] - 0s 3ms/step - loss: 1.7680 - accuracy: 0.6660 - val_loss: 1.9484 - val_accuracy: 0.5633\n",
      "Epoch 276/500\n",
      "31/31 [==============================] - 0s 2ms/step - loss: 1.7660 - accuracy: 0.6609 - val_loss: 1.9600 - val_accuracy: 0.5767\n",
      "Epoch 277/500\n",
      "31/31 [==============================] - 0s 5ms/step - loss: 1.7617 - accuracy: 0.6475 - val_loss: 1.9418 - val_accuracy: 0.5767\n",
      "Epoch 278/500\n",
      "31/31 [==============================] - 0s 4ms/step - loss: 1.7489 - accuracy: 0.6609 - val_loss: 1.9778 - val_accuracy: 0.5367\n",
      "Epoch 279/500\n",
      "31/31 [==============================] - 0s 3ms/step - loss: 1.7513 - accuracy: 0.6516 - val_loss: 1.9540 - val_accuracy: 0.5800\n",
      "Epoch 280/500\n",
      "31/31 [==============================] - 0s 4ms/step - loss: 1.7427 - accuracy: 0.6629 - val_loss: 1.9194 - val_accuracy: 0.5833\n",
      "Epoch 281/500\n",
      "31/31 [==============================] - 0s 2ms/step - loss: 1.7466 - accuracy: 0.6629 - val_loss: 1.9200 - val_accuracy: 0.6000\n",
      "Epoch 282/500\n",
      "31/31 [==============================] - 0s 2ms/step - loss: 1.7324 - accuracy: 0.6568 - val_loss: 1.9575 - val_accuracy: 0.5300\n",
      "Epoch 283/500\n",
      "31/31 [==============================] - 0s 4ms/step - loss: 1.7299 - accuracy: 0.6619 - val_loss: 1.9052 - val_accuracy: 0.5600\n",
      "Epoch 284/500\n",
      "31/31 [==============================] - 0s 3ms/step - loss: 1.7347 - accuracy: 0.6629 - val_loss: 1.8996 - val_accuracy: 0.5833\n",
      "Epoch 285/500\n",
      "31/31 [==============================] - 0s 2ms/step - loss: 1.7241 - accuracy: 0.6486 - val_loss: 1.9035 - val_accuracy: 0.5633\n",
      "Epoch 286/500\n",
      "31/31 [==============================] - 0s 3ms/step - loss: 1.7122 - accuracy: 0.6619 - val_loss: 1.8944 - val_accuracy: 0.5833\n",
      "Epoch 287/500\n",
      "31/31 [==============================] - 0s 2ms/step - loss: 1.7141 - accuracy: 0.6701 - val_loss: 1.8993 - val_accuracy: 0.5733\n",
      "Epoch 288/500\n",
      "31/31 [==============================] - 0s 2ms/step - loss: 1.7059 - accuracy: 0.6547 - val_loss: 1.9204 - val_accuracy: 0.5500\n",
      "Epoch 289/500\n",
      "31/31 [==============================] - 0s 2ms/step - loss: 1.7114 - accuracy: 0.6568 - val_loss: 1.9158 - val_accuracy: 0.5433\n",
      "Epoch 290/500\n",
      "31/31 [==============================] - 0s 2ms/step - loss: 1.6980 - accuracy: 0.6465 - val_loss: 1.8962 - val_accuracy: 0.5533\n",
      "Epoch 291/500\n",
      "31/31 [==============================] - 0s 3ms/step - loss: 1.7014 - accuracy: 0.6598 - val_loss: 1.8832 - val_accuracy: 0.5433\n",
      "Epoch 292/500\n",
      "31/31 [==============================] - 0s 3ms/step - loss: 1.6824 - accuracy: 0.6557 - val_loss: 1.8766 - val_accuracy: 0.5567\n",
      "Epoch 293/500\n",
      "31/31 [==============================] - 0s 2ms/step - loss: 1.6860 - accuracy: 0.6619 - val_loss: 1.8914 - val_accuracy: 0.5567\n",
      "Epoch 294/500\n",
      "31/31 [==============================] - 0s 3ms/step - loss: 1.6884 - accuracy: 0.6619 - val_loss: 1.8638 - val_accuracy: 0.5667\n",
      "Epoch 295/500\n",
      "31/31 [==============================] - 0s 3ms/step - loss: 1.6811 - accuracy: 0.6537 - val_loss: 1.8630 - val_accuracy: 0.5933\n",
      "Epoch 296/500\n",
      "31/31 [==============================] - 0s 3ms/step - loss: 1.6683 - accuracy: 0.6547 - val_loss: 1.8584 - val_accuracy: 0.5600\n",
      "Epoch 297/500\n",
      "31/31 [==============================] - 0s 3ms/step - loss: 1.6614 - accuracy: 0.6732 - val_loss: 1.8815 - val_accuracy: 0.5600\n",
      "Epoch 298/500\n",
      "31/31 [==============================] - 0s 3ms/step - loss: 1.6699 - accuracy: 0.6527 - val_loss: 1.8431 - val_accuracy: 0.5633\n",
      "Epoch 299/500\n",
      "31/31 [==============================] - 0s 3ms/step - loss: 1.6531 - accuracy: 0.6547 - val_loss: 1.8386 - val_accuracy: 0.5767\n",
      "Epoch 300/500\n",
      "31/31 [==============================] - 0s 3ms/step - loss: 1.6506 - accuracy: 0.6639 - val_loss: 1.8369 - val_accuracy: 0.5900\n",
      "Epoch 301/500\n",
      "31/31 [==============================] - 0s 2ms/step - loss: 1.6484 - accuracy: 0.6670 - val_loss: 1.9467 - val_accuracy: 0.5433\n",
      "Epoch 302/500\n",
      "31/31 [==============================] - 0s 2ms/step - loss: 1.6550 - accuracy: 0.6424 - val_loss: 1.8440 - val_accuracy: 0.5633\n",
      "Epoch 303/500\n",
      "31/31 [==============================] - 0s 3ms/step - loss: 1.6502 - accuracy: 0.6568 - val_loss: 1.8171 - val_accuracy: 0.5633\n",
      "Epoch 304/500\n",
      "31/31 [==============================] - 0s 2ms/step - loss: 1.6418 - accuracy: 0.6496 - val_loss: 1.8373 - val_accuracy: 0.5667\n",
      "Epoch 305/500\n",
      "31/31 [==============================] - 0s 3ms/step - loss: 1.6365 - accuracy: 0.6578 - val_loss: 1.8115 - val_accuracy: 0.5733\n",
      "Epoch 306/500\n",
      "31/31 [==============================] - 0s 3ms/step - loss: 1.6283 - accuracy: 0.6670 - val_loss: 1.8083 - val_accuracy: 0.5867\n",
      "Epoch 307/500\n",
      "31/31 [==============================] - 0s 2ms/step - loss: 1.6284 - accuracy: 0.6609 - val_loss: 1.8285 - val_accuracy: 0.5667\n",
      "Epoch 308/500\n",
      "31/31 [==============================] - 0s 3ms/step - loss: 1.6209 - accuracy: 0.6691 - val_loss: 1.8009 - val_accuracy: 0.5667\n",
      "Epoch 309/500\n",
      "31/31 [==============================] - 0s 2ms/step - loss: 1.6254 - accuracy: 0.6568 - val_loss: 1.8041 - val_accuracy: 0.5833\n",
      "Epoch 310/500\n",
      "31/31 [==============================] - 0s 2ms/step - loss: 1.6173 - accuracy: 0.6486 - val_loss: 1.8161 - val_accuracy: 0.5733\n",
      "Epoch 311/500\n",
      "31/31 [==============================] - 0s 2ms/step - loss: 1.6034 - accuracy: 0.6537 - val_loss: 1.8111 - val_accuracy: 0.5800\n",
      "Epoch 312/500\n",
      "31/31 [==============================] - 0s 3ms/step - loss: 1.6050 - accuracy: 0.6547 - val_loss: 1.7866 - val_accuracy: 0.5767\n",
      "Epoch 313/500\n",
      "31/31 [==============================] - 0s 3ms/step - loss: 1.5931 - accuracy: 0.6527 - val_loss: 1.7810 - val_accuracy: 0.5600\n",
      "Epoch 314/500\n",
      "31/31 [==============================] - 0s 3ms/step - loss: 1.5998 - accuracy: 0.6588 - val_loss: 1.7749 - val_accuracy: 0.5800\n",
      "Epoch 315/500\n",
      "31/31 [==============================] - 0s 3ms/step - loss: 1.5965 - accuracy: 0.6537 - val_loss: 1.7982 - val_accuracy: 0.5733\n",
      "Epoch 316/500\n",
      "31/31 [==============================] - 0s 4ms/step - loss: 1.5870 - accuracy: 0.6486 - val_loss: 1.7711 - val_accuracy: 0.5767\n",
      "Epoch 317/500\n",
      "31/31 [==============================] - 0s 5ms/step - loss: 1.5812 - accuracy: 0.6588 - val_loss: 1.7844 - val_accuracy: 0.5767\n",
      "Epoch 318/500\n",
      "31/31 [==============================] - 0s 3ms/step - loss: 1.5833 - accuracy: 0.6465 - val_loss: 1.7696 - val_accuracy: 0.5667\n",
      "Epoch 319/500\n",
      "31/31 [==============================] - 0s 2ms/step - loss: 1.5798 - accuracy: 0.6762 - val_loss: 1.7773 - val_accuracy: 0.6000\n",
      "Epoch 320/500\n",
      "31/31 [==============================] - 0s 2ms/step - loss: 1.5865 - accuracy: 0.6455 - val_loss: 1.8267 - val_accuracy: 0.5233\n",
      "Epoch 321/500\n",
      "31/31 [==============================] - 0s 2ms/step - loss: 1.5753 - accuracy: 0.6455 - val_loss: 1.7738 - val_accuracy: 0.5667\n",
      "Epoch 322/500\n",
      "31/31 [==============================] - 0s 3ms/step - loss: 1.5685 - accuracy: 0.6588 - val_loss: 1.7492 - val_accuracy: 0.5733\n",
      "Epoch 323/500\n",
      "31/31 [==============================] - 0s 2ms/step - loss: 1.5667 - accuracy: 0.6568 - val_loss: 1.7573 - val_accuracy: 0.5600\n",
      "Epoch 324/500\n",
      "31/31 [==============================] - 0s 2ms/step - loss: 1.5623 - accuracy: 0.6598 - val_loss: 1.7529 - val_accuracy: 0.5633\n",
      "Epoch 325/500\n",
      "31/31 [==============================] - 0s 3ms/step - loss: 1.5624 - accuracy: 0.6568 - val_loss: 1.7399 - val_accuracy: 0.5667\n",
      "Epoch 326/500\n",
      "31/31 [==============================] - 0s 3ms/step - loss: 1.5562 - accuracy: 0.6568 - val_loss: 1.7728 - val_accuracy: 0.5700\n",
      "Epoch 327/500\n",
      "31/31 [==============================] - 0s 3ms/step - loss: 1.5561 - accuracy: 0.6578 - val_loss: 1.7354 - val_accuracy: 0.5700\n",
      "Epoch 328/500\n",
      "31/31 [==============================] - 0s 3ms/step - loss: 1.5554 - accuracy: 0.6588 - val_loss: 1.7385 - val_accuracy: 0.5733\n",
      "Epoch 329/500\n",
      "31/31 [==============================] - 0s 4ms/step - loss: 1.5437 - accuracy: 0.6650 - val_loss: 1.7244 - val_accuracy: 0.5767\n",
      "Epoch 330/500\n",
      "31/31 [==============================] - 0s 3ms/step - loss: 1.5375 - accuracy: 0.6670 - val_loss: 1.7454 - val_accuracy: 0.5600\n",
      "Epoch 331/500\n",
      "31/31 [==============================] - 0s 4ms/step - loss: 1.5311 - accuracy: 0.6588 - val_loss: 1.7232 - val_accuracy: 0.5800\n",
      "Epoch 332/500\n",
      "31/31 [==============================] - 0s 2ms/step - loss: 1.5251 - accuracy: 0.6486 - val_loss: 1.7374 - val_accuracy: 0.5700\n",
      "Epoch 333/500\n",
      "31/31 [==============================] - 0s 2ms/step - loss: 1.5242 - accuracy: 0.6619 - val_loss: 1.7271 - val_accuracy: 0.5667\n",
      "Epoch 334/500\n",
      "31/31 [==============================] - 0s 2ms/step - loss: 1.5272 - accuracy: 0.6486 - val_loss: 1.7370 - val_accuracy: 0.5567\n",
      "Epoch 335/500\n",
      "31/31 [==============================] - 0s 2ms/step - loss: 1.5189 - accuracy: 0.6598 - val_loss: 1.7641 - val_accuracy: 0.5133\n",
      "Epoch 336/500\n",
      "31/31 [==============================] - 0s 3ms/step - loss: 1.5201 - accuracy: 0.6660 - val_loss: 1.7152 - val_accuracy: 0.5700\n",
      "Epoch 337/500\n",
      "31/31 [==============================] - 0s 3ms/step - loss: 1.5149 - accuracy: 0.6516 - val_loss: 1.7107 - val_accuracy: 0.5767\n",
      "Epoch 338/500\n",
      "31/31 [==============================] - 0s 6ms/step - loss: 1.5077 - accuracy: 0.6660 - val_loss: 1.6867 - val_accuracy: 0.5633\n",
      "Epoch 339/500\n",
      "31/31 [==============================] - 0s 2ms/step - loss: 1.5034 - accuracy: 0.6691 - val_loss: 1.7324 - val_accuracy: 0.5667\n",
      "Epoch 340/500\n",
      "31/31 [==============================] - 0s 2ms/step - loss: 1.5018 - accuracy: 0.6588 - val_loss: 1.7096 - val_accuracy: 0.5700\n",
      "Epoch 341/500\n",
      "31/31 [==============================] - 0s 2ms/step - loss: 1.5057 - accuracy: 0.6732 - val_loss: 1.7037 - val_accuracy: 0.6067\n",
      "Epoch 342/500\n",
      "31/31 [==============================] - 0s 2ms/step - loss: 1.4948 - accuracy: 0.6721 - val_loss: 1.6892 - val_accuracy: 0.5700\n",
      "Epoch 343/500\n",
      "31/31 [==============================] - 0s 3ms/step - loss: 1.5026 - accuracy: 0.6465 - val_loss: 1.6778 - val_accuracy: 0.5533\n",
      "Epoch 344/500\n",
      "31/31 [==============================] - 0s 3ms/step - loss: 1.4832 - accuracy: 0.6650 - val_loss: 1.6969 - val_accuracy: 0.5667\n",
      "Epoch 345/500\n",
      "31/31 [==============================] - 0s 2ms/step - loss: 1.4795 - accuracy: 0.6506 - val_loss: 1.6957 - val_accuracy: 0.5533\n",
      "Epoch 346/500\n",
      "31/31 [==============================] - 0s 2ms/step - loss: 1.4856 - accuracy: 0.6527 - val_loss: 1.6889 - val_accuracy: 0.5833\n",
      "Epoch 347/500\n",
      "31/31 [==============================] - 0s 3ms/step - loss: 1.4844 - accuracy: 0.6537 - val_loss: 1.6751 - val_accuracy: 0.5767\n",
      "Epoch 348/500\n",
      "31/31 [==============================] - 0s 3ms/step - loss: 1.4686 - accuracy: 0.6660 - val_loss: 1.6688 - val_accuracy: 0.5600\n",
      "Epoch 349/500\n",
      "31/31 [==============================] - 0s 3ms/step - loss: 1.4759 - accuracy: 0.6588 - val_loss: 1.6681 - val_accuracy: 0.5767\n",
      "Epoch 350/500\n",
      "31/31 [==============================] - 0s 3ms/step - loss: 1.4778 - accuracy: 0.6527 - val_loss: 1.6582 - val_accuracy: 0.5867\n",
      "Epoch 351/500\n",
      "31/31 [==============================] - 0s 2ms/step - loss: 1.4635 - accuracy: 0.6670 - val_loss: 1.7072 - val_accuracy: 0.5367\n",
      "Epoch 352/500\n",
      "31/31 [==============================] - 0s 3ms/step - loss: 1.4641 - accuracy: 0.6588 - val_loss: 1.6531 - val_accuracy: 0.5867\n",
      "Epoch 353/500\n",
      "31/31 [==============================] - 0s 2ms/step - loss: 1.4585 - accuracy: 0.6557 - val_loss: 1.6580 - val_accuracy: 0.5833\n",
      "Epoch 354/500\n",
      "31/31 [==============================] - 0s 3ms/step - loss: 1.4551 - accuracy: 0.6619 - val_loss: 1.6461 - val_accuracy: 0.5733\n",
      "Epoch 355/500\n",
      "31/31 [==============================] - 0s 2ms/step - loss: 1.4591 - accuracy: 0.6537 - val_loss: 1.6544 - val_accuracy: 0.5500\n",
      "Epoch 356/500\n",
      "31/31 [==============================] - 0s 2ms/step - loss: 1.4520 - accuracy: 0.6701 - val_loss: 1.6683 - val_accuracy: 0.5533\n",
      "Epoch 357/500\n",
      "31/31 [==============================] - 0s 2ms/step - loss: 1.4428 - accuracy: 0.6578 - val_loss: 1.6786 - val_accuracy: 0.5667\n",
      "Epoch 358/500\n",
      "31/31 [==============================] - 0s 3ms/step - loss: 1.4490 - accuracy: 0.6465 - val_loss: 1.6331 - val_accuracy: 0.5700\n",
      "Epoch 359/500\n",
      "31/31 [==============================] - 0s 2ms/step - loss: 1.4486 - accuracy: 0.6578 - val_loss: 1.6377 - val_accuracy: 0.5833\n",
      "Epoch 360/500\n",
      "31/31 [==============================] - 0s 2ms/step - loss: 1.4366 - accuracy: 0.6680 - val_loss: 1.6424 - val_accuracy: 0.5533\n",
      "Epoch 361/500\n",
      "31/31 [==============================] - 0s 2ms/step - loss: 1.4388 - accuracy: 0.6506 - val_loss: 1.6391 - val_accuracy: 0.5433\n",
      "Epoch 362/500\n",
      "31/31 [==============================] - 0s 2ms/step - loss: 1.4324 - accuracy: 0.6721 - val_loss: 1.6687 - val_accuracy: 0.5500\n",
      "Epoch 363/500\n",
      "31/31 [==============================] - 0s 3ms/step - loss: 1.4279 - accuracy: 0.6434 - val_loss: 1.6152 - val_accuracy: 0.5833\n",
      "Epoch 364/500\n",
      "31/31 [==============================] - 0s 2ms/step - loss: 1.4255 - accuracy: 0.6547 - val_loss: 1.6383 - val_accuracy: 0.5567\n",
      "Epoch 365/500\n",
      "31/31 [==============================] - 0s 2ms/step - loss: 1.4198 - accuracy: 0.6578 - val_loss: 1.6318 - val_accuracy: 0.5800\n",
      "Epoch 366/500\n",
      "31/31 [==============================] - 0s 3ms/step - loss: 1.4207 - accuracy: 0.6650 - val_loss: 1.6055 - val_accuracy: 0.5767\n",
      "Epoch 367/500\n",
      "31/31 [==============================] - 0s 2ms/step - loss: 1.4204 - accuracy: 0.6527 - val_loss: 1.6116 - val_accuracy: 0.5733\n",
      "Epoch 368/500\n",
      "31/31 [==============================] - 0s 3ms/step - loss: 1.4190 - accuracy: 0.6619 - val_loss: 1.6035 - val_accuracy: 0.5867\n",
      "Epoch 369/500\n",
      "31/31 [==============================] - 0s 2ms/step - loss: 1.4149 - accuracy: 0.6650 - val_loss: 1.6043 - val_accuracy: 0.5900\n",
      "Epoch 370/500\n",
      "31/31 [==============================] - 0s 2ms/step - loss: 1.4117 - accuracy: 0.6650 - val_loss: 1.6203 - val_accuracy: 0.5567\n",
      "Epoch 371/500\n",
      "31/31 [==============================] - 0s 2ms/step - loss: 1.4083 - accuracy: 0.6506 - val_loss: 1.6514 - val_accuracy: 0.5367\n",
      "Epoch 372/500\n",
      "31/31 [==============================] - 0s 3ms/step - loss: 1.4014 - accuracy: 0.6506 - val_loss: 1.6024 - val_accuracy: 0.5900\n",
      "Epoch 373/500\n",
      "31/31 [==============================] - 0s 4ms/step - loss: 1.4063 - accuracy: 0.6547 - val_loss: 1.5899 - val_accuracy: 0.5800\n",
      "Epoch 374/500\n",
      "31/31 [==============================] - 0s 2ms/step - loss: 1.3863 - accuracy: 0.6711 - val_loss: 1.6049 - val_accuracy: 0.5767\n",
      "Epoch 375/500\n",
      "31/31 [==============================] - 0s 2ms/step - loss: 1.3872 - accuracy: 0.6783 - val_loss: 1.6014 - val_accuracy: 0.5600\n",
      "Epoch 376/500\n",
      "31/31 [==============================] - 0s 2ms/step - loss: 1.4038 - accuracy: 0.6639 - val_loss: 1.5907 - val_accuracy: 0.5700\n",
      "Epoch 377/500\n",
      "31/31 [==============================] - 0s 3ms/step - loss: 1.3924 - accuracy: 0.6609 - val_loss: 1.5852 - val_accuracy: 0.6000\n",
      "Epoch 378/500\n",
      "31/31 [==============================] - 0s 3ms/step - loss: 1.3898 - accuracy: 0.6578 - val_loss: 1.5849 - val_accuracy: 0.5867\n",
      "Epoch 379/500\n",
      "31/31 [==============================] - 0s 3ms/step - loss: 1.3910 - accuracy: 0.6578 - val_loss: 1.6187 - val_accuracy: 0.5767\n",
      "Epoch 380/500\n",
      "31/31 [==============================] - 0s 2ms/step - loss: 1.3849 - accuracy: 0.6619 - val_loss: 1.6199 - val_accuracy: 0.5500\n",
      "Epoch 381/500\n",
      "31/31 [==============================] - 0s 3ms/step - loss: 1.3796 - accuracy: 0.6639 - val_loss: 1.5697 - val_accuracy: 0.5967\n",
      "Epoch 382/500\n",
      "31/31 [==============================] - 0s 2ms/step - loss: 1.3831 - accuracy: 0.6486 - val_loss: 1.5775 - val_accuracy: 0.5800\n",
      "Epoch 383/500\n",
      "31/31 [==============================] - 0s 2ms/step - loss: 1.3718 - accuracy: 0.6721 - val_loss: 1.5818 - val_accuracy: 0.5700\n",
      "Epoch 384/500\n",
      "31/31 [==============================] - 0s 3ms/step - loss: 1.3705 - accuracy: 0.6588 - val_loss: 1.5688 - val_accuracy: 0.5800\n",
      "Epoch 385/500\n",
      "31/31 [==============================] - 0s 2ms/step - loss: 1.3714 - accuracy: 0.6639 - val_loss: 1.5747 - val_accuracy: 0.5567\n",
      "Epoch 386/500\n",
      "31/31 [==============================] - 0s 2ms/step - loss: 1.3591 - accuracy: 0.6619 - val_loss: 1.5782 - val_accuracy: 0.5600\n",
      "Epoch 387/500\n",
      "31/31 [==============================] - 0s 3ms/step - loss: 1.3705 - accuracy: 0.6557 - val_loss: 1.5551 - val_accuracy: 0.5567\n",
      "Epoch 388/500\n",
      "31/31 [==============================] - 0s 3ms/step - loss: 1.3667 - accuracy: 0.6619 - val_loss: 1.5626 - val_accuracy: 0.5833\n",
      "Epoch 389/500\n",
      "31/31 [==============================] - 0s 3ms/step - loss: 1.3604 - accuracy: 0.6527 - val_loss: 1.5678 - val_accuracy: 0.5433\n",
      "Epoch 390/500\n",
      "31/31 [==============================] - 0s 3ms/step - loss: 1.3621 - accuracy: 0.6711 - val_loss: 1.5625 - val_accuracy: 0.5900\n",
      "Epoch 391/500\n",
      "31/31 [==============================] - 0s 3ms/step - loss: 1.3561 - accuracy: 0.6639 - val_loss: 1.5800 - val_accuracy: 0.5567\n",
      "Epoch 392/500\n",
      "31/31 [==============================] - 0s 4ms/step - loss: 1.3535 - accuracy: 0.6557 - val_loss: 1.5511 - val_accuracy: 0.5800\n",
      "Epoch 393/500\n",
      "31/31 [==============================] - 0s 3ms/step - loss: 1.3532 - accuracy: 0.6691 - val_loss: 1.5510 - val_accuracy: 0.5733\n",
      "Epoch 394/500\n",
      "31/31 [==============================] - 0s 2ms/step - loss: 1.3429 - accuracy: 0.6609 - val_loss: 1.5748 - val_accuracy: 0.5667\n",
      "Epoch 395/500\n",
      "31/31 [==============================] - 0s 3ms/step - loss: 1.3453 - accuracy: 0.6598 - val_loss: 1.5374 - val_accuracy: 0.5833\n",
      "Epoch 396/500\n",
      "31/31 [==============================] - 0s 2ms/step - loss: 1.3435 - accuracy: 0.6557 - val_loss: 1.5395 - val_accuracy: 0.5733\n",
      "Epoch 397/500\n",
      "31/31 [==============================] - 0s 3ms/step - loss: 1.3524 - accuracy: 0.6527 - val_loss: 1.5293 - val_accuracy: 0.5733\n",
      "Epoch 398/500\n",
      "31/31 [==============================] - 0s 2ms/step - loss: 1.3439 - accuracy: 0.6752 - val_loss: 1.5323 - val_accuracy: 0.5833\n",
      "Epoch 399/500\n",
      "31/31 [==============================] - 0s 2ms/step - loss: 1.3483 - accuracy: 0.6547 - val_loss: 1.5317 - val_accuracy: 0.5767\n",
      "Epoch 400/500\n",
      "31/31 [==============================] - 0s 2ms/step - loss: 1.3470 - accuracy: 0.6537 - val_loss: 1.5840 - val_accuracy: 0.5733\n",
      "Epoch 401/500\n",
      "31/31 [==============================] - 0s 2ms/step - loss: 1.3252 - accuracy: 0.6680 - val_loss: 1.5560 - val_accuracy: 0.5700\n",
      "Epoch 402/500\n",
      "31/31 [==============================] - 0s 2ms/step - loss: 1.3387 - accuracy: 0.6527 - val_loss: 1.5699 - val_accuracy: 0.5467\n",
      "Epoch 403/500\n",
      "31/31 [==============================] - 0s 3ms/step - loss: 1.3363 - accuracy: 0.6588 - val_loss: 1.5205 - val_accuracy: 0.5700\n",
      "Epoch 404/500\n",
      "31/31 [==============================] - 0s 2ms/step - loss: 1.3232 - accuracy: 0.6670 - val_loss: 1.5518 - val_accuracy: 0.5400\n",
      "Epoch 405/500\n",
      "31/31 [==============================] - 0s 3ms/step - loss: 1.3269 - accuracy: 0.6619 - val_loss: 1.5089 - val_accuracy: 0.5933\n",
      "Epoch 406/500\n",
      "31/31 [==============================] - 0s 2ms/step - loss: 1.3168 - accuracy: 0.6598 - val_loss: 1.5485 - val_accuracy: 0.5667\n",
      "Epoch 407/500\n",
      "31/31 [==============================] - 0s 2ms/step - loss: 1.3199 - accuracy: 0.6568 - val_loss: 1.5386 - val_accuracy: 0.5267\n",
      "Epoch 408/500\n",
      "31/31 [==============================] - 0s 2ms/step - loss: 1.3108 - accuracy: 0.6639 - val_loss: 1.5862 - val_accuracy: 0.5433\n",
      "Epoch 409/500\n",
      "31/31 [==============================] - 0s 2ms/step - loss: 1.3159 - accuracy: 0.6537 - val_loss: 1.5197 - val_accuracy: 0.5533\n",
      "Epoch 410/500\n",
      "31/31 [==============================] - 0s 3ms/step - loss: 1.3141 - accuracy: 0.6680 - val_loss: 1.5350 - val_accuracy: 0.5800\n",
      "Epoch 411/500\n",
      "31/31 [==============================] - 0s 5ms/step - loss: 1.3102 - accuracy: 0.6547 - val_loss: 1.5033 - val_accuracy: 0.5700\n",
      "Epoch 412/500\n",
      "31/31 [==============================] - 0s 4ms/step - loss: 1.3118 - accuracy: 0.6588 - val_loss: 1.5090 - val_accuracy: 0.5633\n",
      "Epoch 413/500\n",
      "31/31 [==============================] - 0s 5ms/step - loss: 1.3049 - accuracy: 0.6598 - val_loss: 1.5104 - val_accuracy: 0.5700\n",
      "Epoch 414/500\n",
      "31/31 [==============================] - 0s 4ms/step - loss: 1.3242 - accuracy: 0.6537 - val_loss: 1.5161 - val_accuracy: 0.5733\n",
      "Epoch 415/500\n",
      "31/31 [==============================] - 0s 7ms/step - loss: 1.2958 - accuracy: 0.6680 - val_loss: 1.4970 - val_accuracy: 0.5900\n",
      "Epoch 416/500\n",
      "31/31 [==============================] - 0s 3ms/step - loss: 1.3057 - accuracy: 0.6578 - val_loss: 1.4833 - val_accuracy: 0.5833\n",
      "Epoch 417/500\n",
      "31/31 [==============================] - 0s 2ms/step - loss: 1.2961 - accuracy: 0.6547 - val_loss: 1.5135 - val_accuracy: 0.6000\n",
      "Epoch 418/500\n",
      "31/31 [==============================] - 0s 2ms/step - loss: 1.3008 - accuracy: 0.6639 - val_loss: 1.4842 - val_accuracy: 0.5667\n",
      "Epoch 419/500\n",
      "31/31 [==============================] - 0s 2ms/step - loss: 1.2886 - accuracy: 0.6680 - val_loss: 1.4847 - val_accuracy: 0.5800\n",
      "Epoch 420/500\n",
      "31/31 [==============================] - 0s 2ms/step - loss: 1.2995 - accuracy: 0.6629 - val_loss: 1.5136 - val_accuracy: 0.5500\n",
      "Epoch 421/500\n",
      "31/31 [==============================] - 0s 2ms/step - loss: 1.2866 - accuracy: 0.6609 - val_loss: 1.4930 - val_accuracy: 0.5833\n",
      "Epoch 422/500\n",
      "31/31 [==============================] - 0s 2ms/step - loss: 1.2937 - accuracy: 0.6496 - val_loss: 1.5159 - val_accuracy: 0.5733\n",
      "Epoch 423/500\n",
      "31/31 [==============================] - 0s 3ms/step - loss: 1.2873 - accuracy: 0.6537 - val_loss: 1.4824 - val_accuracy: 0.6000\n",
      "Epoch 424/500\n",
      "31/31 [==============================] - 0s 2ms/step - loss: 1.2773 - accuracy: 0.6639 - val_loss: 1.5352 - val_accuracy: 0.5633\n",
      "Epoch 425/500\n",
      "31/31 [==============================] - 0s 3ms/step - loss: 1.2768 - accuracy: 0.6650 - val_loss: 1.4743 - val_accuracy: 0.5733\n",
      "Epoch 426/500\n",
      "31/31 [==============================] - 0s 2ms/step - loss: 1.2780 - accuracy: 0.6650 - val_loss: 1.4834 - val_accuracy: 0.5967\n",
      "Epoch 427/500\n",
      "31/31 [==============================] - 0s 2ms/step - loss: 1.2780 - accuracy: 0.6629 - val_loss: 1.4861 - val_accuracy: 0.5700\n",
      "Epoch 428/500\n",
      "31/31 [==============================] - 0s 3ms/step - loss: 1.2700 - accuracy: 0.6773 - val_loss: 1.4715 - val_accuracy: 0.5667\n",
      "Epoch 429/500\n",
      "31/31 [==============================] - 0s 3ms/step - loss: 1.2753 - accuracy: 0.6680 - val_loss: 1.4665 - val_accuracy: 0.5633\n",
      "Epoch 430/500\n",
      "31/31 [==============================] - 0s 2ms/step - loss: 1.2571 - accuracy: 0.6742 - val_loss: 1.4696 - val_accuracy: 0.5800\n",
      "Epoch 431/500\n",
      "31/31 [==============================] - 0s 2ms/step - loss: 1.2613 - accuracy: 0.6537 - val_loss: 1.4834 - val_accuracy: 0.5567\n",
      "Epoch 432/500\n",
      "31/31 [==============================] - 0s 2ms/step - loss: 1.2658 - accuracy: 0.6547 - val_loss: 1.4821 - val_accuracy: 0.5767\n",
      "Epoch 433/500\n",
      "31/31 [==============================] - 0s 2ms/step - loss: 1.2663 - accuracy: 0.6639 - val_loss: 1.5059 - val_accuracy: 0.5800\n",
      "Epoch 434/500\n",
      "31/31 [==============================] - 0s 2ms/step - loss: 1.2597 - accuracy: 0.6609 - val_loss: 1.4697 - val_accuracy: 0.5833\n",
      "Epoch 435/500\n",
      "31/31 [==============================] - 0s 3ms/step - loss: 1.2641 - accuracy: 0.6670 - val_loss: 1.4639 - val_accuracy: 0.5700\n",
      "Epoch 436/500\n",
      "31/31 [==============================] - 0s 3ms/step - loss: 1.2582 - accuracy: 0.6557 - val_loss: 1.4512 - val_accuracy: 0.5900\n",
      "Epoch 437/500\n",
      "31/31 [==============================] - 0s 2ms/step - loss: 1.2584 - accuracy: 0.6629 - val_loss: 1.4721 - val_accuracy: 0.5533\n",
      "Epoch 438/500\n",
      "31/31 [==============================] - 0s 3ms/step - loss: 1.2651 - accuracy: 0.6588 - val_loss: 1.4598 - val_accuracy: 0.5867\n",
      "Epoch 439/500\n",
      "31/31 [==============================] - 0s 2ms/step - loss: 1.2455 - accuracy: 0.6762 - val_loss: 1.4741 - val_accuracy: 0.5567\n",
      "Epoch 440/500\n",
      "31/31 [==============================] - 0s 3ms/step - loss: 1.2537 - accuracy: 0.6516 - val_loss: 1.4474 - val_accuracy: 0.5567\n",
      "Epoch 441/500\n",
      "31/31 [==============================] - 0s 2ms/step - loss: 1.2510 - accuracy: 0.6650 - val_loss: 1.4805 - val_accuracy: 0.5867\n",
      "Epoch 442/500\n",
      "31/31 [==============================] - 0s 2ms/step - loss: 1.2366 - accuracy: 0.6762 - val_loss: 1.4577 - val_accuracy: 0.6033\n",
      "Epoch 443/500\n",
      "31/31 [==============================] - 0s 2ms/step - loss: 1.2521 - accuracy: 0.6670 - val_loss: 1.4525 - val_accuracy: 0.5800\n",
      "Epoch 444/500\n",
      "31/31 [==============================] - 0s 2ms/step - loss: 1.2579 - accuracy: 0.6516 - val_loss: 1.5132 - val_accuracy: 0.5167\n",
      "Epoch 445/500\n",
      "31/31 [==============================] - 0s 3ms/step - loss: 1.2376 - accuracy: 0.6701 - val_loss: 1.4417 - val_accuracy: 0.5667\n",
      "Epoch 446/500\n",
      "31/31 [==============================] - 0s 3ms/step - loss: 1.2487 - accuracy: 0.6578 - val_loss: 1.4412 - val_accuracy: 0.5567\n",
      "Epoch 447/500\n",
      "31/31 [==============================] - 0s 2ms/step - loss: 1.2402 - accuracy: 0.6598 - val_loss: 1.4458 - val_accuracy: 0.6000\n",
      "Epoch 448/500\n",
      "31/31 [==============================] - 0s 3ms/step - loss: 1.2557 - accuracy: 0.6537 - val_loss: 1.4305 - val_accuracy: 0.5733\n",
      "Epoch 449/500\n",
      "31/31 [==============================] - 0s 2ms/step - loss: 1.2460 - accuracy: 0.6537 - val_loss: 1.4315 - val_accuracy: 0.5733\n",
      "Epoch 450/500\n",
      "31/31 [==============================] - 0s 2ms/step - loss: 1.2356 - accuracy: 0.6670 - val_loss: 1.4829 - val_accuracy: 0.5333\n",
      "Epoch 451/500\n",
      "31/31 [==============================] - 0s 2ms/step - loss: 1.2274 - accuracy: 0.6742 - val_loss: 1.4437 - val_accuracy: 0.5567\n",
      "Epoch 452/500\n",
      "31/31 [==============================] - 0s 2ms/step - loss: 1.2277 - accuracy: 0.6824 - val_loss: 1.4480 - val_accuracy: 0.5567\n",
      "Epoch 453/500\n",
      "31/31 [==============================] - 0s 3ms/step - loss: 1.2403 - accuracy: 0.6691 - val_loss: 1.4529 - val_accuracy: 0.5600\n",
      "Epoch 454/500\n",
      "31/31 [==============================] - 0s 3ms/step - loss: 1.2451 - accuracy: 0.6537 - val_loss: 1.4412 - val_accuracy: 0.5700\n",
      "Epoch 455/500\n",
      "31/31 [==============================] - 0s 4ms/step - loss: 1.2350 - accuracy: 0.6578 - val_loss: 1.4221 - val_accuracy: 0.5633\n",
      "Epoch 456/500\n",
      "31/31 [==============================] - 0s 3ms/step - loss: 1.2280 - accuracy: 0.6629 - val_loss: 1.4201 - val_accuracy: 0.5767\n",
      "Epoch 457/500\n",
      "31/31 [==============================] - 0s 2ms/step - loss: 1.2292 - accuracy: 0.6598 - val_loss: 1.4355 - val_accuracy: 0.5567\n",
      "Epoch 458/500\n",
      "31/31 [==============================] - 0s 2ms/step - loss: 1.2163 - accuracy: 0.6742 - val_loss: 1.4460 - val_accuracy: 0.5833\n",
      "Epoch 459/500\n",
      "31/31 [==============================] - 0s 2ms/step - loss: 1.2106 - accuracy: 0.6783 - val_loss: 1.4336 - val_accuracy: 0.5900\n",
      "Epoch 460/500\n",
      "31/31 [==============================] - 0s 3ms/step - loss: 1.2226 - accuracy: 0.6547 - val_loss: 1.4187 - val_accuracy: 0.5733\n",
      "Epoch 461/500\n",
      "31/31 [==============================] - 0s 2ms/step - loss: 1.2151 - accuracy: 0.6701 - val_loss: 1.4841 - val_accuracy: 0.5433\n",
      "Epoch 462/500\n",
      "31/31 [==============================] - 0s 2ms/step - loss: 1.2096 - accuracy: 0.6578 - val_loss: 1.4390 - val_accuracy: 0.5800\n",
      "Epoch 463/500\n",
      "31/31 [==============================] - 0s 5ms/step - loss: 1.2141 - accuracy: 0.6568 - val_loss: 1.4660 - val_accuracy: 0.5633\n",
      "Epoch 464/500\n",
      "31/31 [==============================] - 0s 3ms/step - loss: 1.2143 - accuracy: 0.6537 - val_loss: 1.4241 - val_accuracy: 0.5833\n",
      "Epoch 465/500\n",
      "31/31 [==============================] - 0s 2ms/step - loss: 1.2111 - accuracy: 0.6588 - val_loss: 1.4392 - val_accuracy: 0.5667\n",
      "Epoch 466/500\n",
      "31/31 [==============================] - 0s 2ms/step - loss: 1.2120 - accuracy: 0.6660 - val_loss: 1.4884 - val_accuracy: 0.5400\n",
      "Epoch 467/500\n",
      "31/31 [==============================] - 0s 2ms/step - loss: 1.2104 - accuracy: 0.6691 - val_loss: 1.4430 - val_accuracy: 0.5767\n",
      "Epoch 468/500\n",
      "31/31 [==============================] - 0s 3ms/step - loss: 1.2080 - accuracy: 0.6496 - val_loss: 1.3914 - val_accuracy: 0.5833\n",
      "Epoch 469/500\n",
      "31/31 [==============================] - 0s 2ms/step - loss: 1.2051 - accuracy: 0.6629 - val_loss: 1.4177 - val_accuracy: 0.5600\n",
      "Epoch 470/500\n",
      "31/31 [==============================] - 0s 2ms/step - loss: 1.1927 - accuracy: 0.6701 - val_loss: 1.4390 - val_accuracy: 0.5533\n",
      "Epoch 471/500\n",
      "31/31 [==============================] - 0s 2ms/step - loss: 1.2014 - accuracy: 0.6578 - val_loss: 1.4464 - val_accuracy: 0.5600\n",
      "Epoch 472/500\n",
      "31/31 [==============================] - 0s 2ms/step - loss: 1.2010 - accuracy: 0.6660 - val_loss: 1.4189 - val_accuracy: 0.5700\n",
      "Epoch 473/500\n",
      "31/31 [==============================] - 0s 2ms/step - loss: 1.1929 - accuracy: 0.6691 - val_loss: 1.3998 - val_accuracy: 0.5600\n",
      "Epoch 474/500\n",
      "31/31 [==============================] - 0s 2ms/step - loss: 1.1992 - accuracy: 0.6598 - val_loss: 1.4750 - val_accuracy: 0.5267\n",
      "Epoch 475/500\n",
      "31/31 [==============================] - 0s 2ms/step - loss: 1.1994 - accuracy: 0.6639 - val_loss: 1.3953 - val_accuracy: 0.5733\n",
      "Epoch 476/500\n",
      "31/31 [==============================] - 0s 2ms/step - loss: 1.1885 - accuracy: 0.6711 - val_loss: 1.4661 - val_accuracy: 0.5433\n",
      "Epoch 477/500\n",
      "31/31 [==============================] - 0s 3ms/step - loss: 1.1895 - accuracy: 0.6619 - val_loss: 1.3882 - val_accuracy: 0.5700\n",
      "Epoch 478/500\n",
      "31/31 [==============================] - 0s 2ms/step - loss: 1.1872 - accuracy: 0.6711 - val_loss: 1.4120 - val_accuracy: 0.5733\n",
      "Epoch 479/500\n",
      "31/31 [==============================] - 0s 2ms/step - loss: 1.1986 - accuracy: 0.6773 - val_loss: 1.4189 - val_accuracy: 0.5567\n",
      "Epoch 480/500\n",
      "31/31 [==============================] - 0s 2ms/step - loss: 1.1843 - accuracy: 0.6680 - val_loss: 1.3900 - val_accuracy: 0.5833\n",
      "Epoch 481/500\n",
      "31/31 [==============================] - 0s 2ms/step - loss: 1.1830 - accuracy: 0.6650 - val_loss: 1.4015 - val_accuracy: 0.5667\n",
      "Epoch 482/500\n",
      "31/31 [==============================] - 0s 2ms/step - loss: 1.1850 - accuracy: 0.6639 - val_loss: 1.4652 - val_accuracy: 0.5433\n",
      "Epoch 483/500\n",
      "31/31 [==============================] - 0s 2ms/step - loss: 1.1807 - accuracy: 0.6496 - val_loss: 1.4267 - val_accuracy: 0.5533\n",
      "Epoch 484/500\n",
      "31/31 [==============================] - 0s 2ms/step - loss: 1.1804 - accuracy: 0.6547 - val_loss: 1.4840 - val_accuracy: 0.4867\n",
      "Epoch 485/500\n",
      "31/31 [==============================] - 0s 2ms/step - loss: 1.1944 - accuracy: 0.6701 - val_loss: 1.4132 - val_accuracy: 0.5600\n",
      "Epoch 486/500\n",
      "31/31 [==============================] - 0s 2ms/step - loss: 1.1804 - accuracy: 0.6629 - val_loss: 1.4144 - val_accuracy: 0.5700\n",
      "Epoch 487/500\n",
      "31/31 [==============================] - 0s 2ms/step - loss: 1.1835 - accuracy: 0.6639 - val_loss: 1.4137 - val_accuracy: 0.5667\n",
      "Epoch 488/500\n",
      "31/31 [==============================] - 0s 3ms/step - loss: 1.1771 - accuracy: 0.6639 - val_loss: 1.3717 - val_accuracy: 0.5600\n",
      "Epoch 489/500\n",
      "31/31 [==============================] - 0s 2ms/step - loss: 1.1646 - accuracy: 0.6650 - val_loss: 1.4022 - val_accuracy: 0.5667\n",
      "Epoch 490/500\n",
      "31/31 [==============================] - 0s 3ms/step - loss: 1.1778 - accuracy: 0.6691 - val_loss: 1.4432 - val_accuracy: 0.5167\n",
      "Epoch 491/500\n",
      "31/31 [==============================] - 0s 2ms/step - loss: 1.1752 - accuracy: 0.6598 - val_loss: 1.4051 - val_accuracy: 0.5600\n",
      "Epoch 492/500\n",
      "31/31 [==============================] - 0s 2ms/step - loss: 1.1731 - accuracy: 0.6711 - val_loss: 1.4118 - val_accuracy: 0.5933\n",
      "Epoch 493/500\n",
      "31/31 [==============================] - 0s 3ms/step - loss: 1.1656 - accuracy: 0.6793 - val_loss: 1.4449 - val_accuracy: 0.5567\n",
      "Epoch 494/500\n",
      "31/31 [==============================] - 0s 2ms/step - loss: 1.1725 - accuracy: 0.6639 - val_loss: 1.4880 - val_accuracy: 0.5033\n",
      "Epoch 495/500\n",
      "31/31 [==============================] - 0s 2ms/step - loss: 1.1745 - accuracy: 0.6568 - val_loss: 1.3804 - val_accuracy: 0.5700\n",
      "Epoch 496/500\n",
      "31/31 [==============================] - 0s 2ms/step - loss: 1.1695 - accuracy: 0.6537 - val_loss: 1.4432 - val_accuracy: 0.5333\n",
      "Epoch 497/500\n",
      "31/31 [==============================] - 0s 2ms/step - loss: 1.1705 - accuracy: 0.6660 - val_loss: 1.3934 - val_accuracy: 0.5667\n",
      "Epoch 498/500\n",
      "31/31 [==============================] - 0s 4ms/step - loss: 1.1576 - accuracy: 0.6742 - val_loss: 1.3948 - val_accuracy: 0.5533\n",
      "Epoch 499/500\n",
      "31/31 [==============================] - 0s 3ms/step - loss: 1.1611 - accuracy: 0.6701 - val_loss: 1.3574 - val_accuracy: 0.5667\n",
      "Epoch 500/500\n",
      "31/31 [==============================] - 0s 3ms/step - loss: 1.1685 - accuracy: 0.6619 - val_loss: 1.3801 - val_accuracy: 0.5667\n"
     ]
    }
   ],
   "source": [
    "# 4) Fit\n",
    "\n",
    "early_stopping_cb = keras.callbacks.EarlyStopping(patience=20)\n",
    "checkpoint_cb = keras.callbacks.ModelCheckpoint(\"my_wine_NN_model.h5\", save_best_only=True)\n",
    "tensorboard_cb = keras.callbacks.TensorBoard(run_logdir)\n",
    "\n",
    "\n",
    "history = model.fit(X_train, y_train, epochs=500,\n",
    "                    validation_data=(X_valid, y_valid),\n",
    "                    callbacks=[early_stopping_cb, checkpoint_cb, tensorboard_cb])"
   ]
  },
  {
   "cell_type": "markdown",
   "metadata": {},
   "source": [
    "### 11.3 Evaluate the NN Model"
   ]
  },
  {
   "cell_type": "code",
   "execution_count": 112,
   "metadata": {},
   "outputs": [],
   "source": [
    "model.save(\"my_wine_NN_model.h5\")"
   ]
  },
  {
   "cell_type": "code",
   "execution_count": 113,
   "metadata": {},
   "outputs": [],
   "source": [
    "model = keras.models.load_model(\"my_wine_NN_model.h5\") "
   ]
  },
  {
   "cell_type": "code",
   "execution_count": 114,
   "metadata": {},
   "outputs": [
    {
     "name": "stdout",
     "output_type": "stream",
     "text": [
      "10/10 [==============================] - 0s 1ms/step - loss: 1.2584 - accuracy: 0.0000e+00\n"
     ]
    },
    {
     "data": {
      "text/plain": [
       "[1.258396029472351, 0.0]"
      ]
     },
     "execution_count": 114,
     "metadata": {},
     "output_type": "execute_result"
    }
   ],
   "source": [
    "model.evaluate(X_test, y_test)"
   ]
  },
  {
   "cell_type": "code",
   "execution_count": 115,
   "metadata": {},
   "outputs": [
    {
     "name": "stdout",
     "output_type": "stream",
     "text": [
      "Model: \"sequential\"\n",
      "_________________________________________________________________\n",
      "Layer (type)                 Output Shape              Param #   \n",
      "=================================================================\n",
      "dense (Dense)                (None, 300)               2700      \n",
      "_________________________________________________________________\n",
      "dense_1 (Dense)              (None, 200)               60200     \n",
      "_________________________________________________________________\n",
      "dense_2 (Dense)              (None, 100)               20100     \n",
      "_________________________________________________________________\n",
      "dense_3 (Dense)              (None, 50)                5050      \n",
      "_________________________________________________________________\n",
      "dropout (Dropout)            (None, 50)                0         \n",
      "_________________________________________________________________\n",
      "dense_4 (Dense)              (None, 6)                 306       \n",
      "=================================================================\n",
      "Total params: 88,356\n",
      "Trainable params: 88,356\n",
      "Non-trainable params: 0\n",
      "_________________________________________________________________\n"
     ]
    }
   ],
   "source": [
    "model.summary()"
   ]
  },
  {
   "cell_type": "code",
   "execution_count": 116,
   "metadata": {},
   "outputs": [],
   "source": [
    "y_predicted=model.predict(X_test)"
   ]
  },
  {
   "cell_type": "code",
   "execution_count": 117,
   "metadata": {},
   "outputs": [
    {
     "data": {
      "text/plain": [
       "(320, 8)"
      ]
     },
     "execution_count": 117,
     "metadata": {},
     "output_type": "execute_result"
    }
   ],
   "source": [
    "X_test.shape"
   ]
  },
  {
   "cell_type": "code",
   "execution_count": 118,
   "metadata": {},
   "outputs": [],
   "source": [
    "y_predicted = [np.argmax(i) for i in y_predicted]"
   ]
  },
  {
   "cell_type": "code",
   "execution_count": 119,
   "metadata": {},
   "outputs": [
    {
     "data": {
      "text/plain": [
       "<tf.Tensor: shape=(6, 6), dtype=int32, numpy=\n",
       "array([[  0,   0,   2,   0,   0,   0],\n",
       "       [  0,   0,   6,   0,   0,   0],\n",
       "       [  0,   0, 127,  20,   1,   0],\n",
       "       [  0,   0,  59,  54,  12,   0],\n",
       "       [  0,   0,   2,  18,  15,   0],\n",
       "       [  0,   0,   1,   0,   3,   0]])>"
      ]
     },
     "execution_count": 119,
     "metadata": {},
     "output_type": "execute_result"
    }
   ],
   "source": [
    "tf.math.confusion_matrix(labels=y_test, predictions=y_predicted)"
   ]
  },
  {
   "cell_type": "code",
   "execution_count": 120,
   "metadata": {},
   "outputs": [
    {
     "data": {
      "text/plain": [
       "(array([0.5, 1.5, 2.5, 3.5, 4.5, 5.5]), <a list of 6 Text yticklabel objects>)"
      ]
     },
     "execution_count": 120,
     "metadata": {},
     "output_type": "execute_result"
    },
    {
     "data": {
      "image/png": "[encoded data removed]",
      "text/plain": [
       "<Figure size 720x504 with 2 Axes>"
      ]
     },
     "metadata": {},
     "output_type": "display_data"
    }
   ],
   "source": [
    "y_predicted = model.predict(X_test)\n",
    "y_predicted_labels = [np.argmax(i) for i in y_predicted]\n",
    "conf_x = tf.math.confusion_matrix(labels=y_test,predictions=y_predicted_labels)\n",
    "\n",
    "plt.figure(figsize = (10,7))\n",
    "sns.heatmap(conf_x, annot=True, fmt='d', annot_kws={\"fontsize\":16})\n",
    "plt.title(\"Confussion Matrix Neural Network Model\", fontsize=20)\n",
    "plt.xlabel('Predicted', fontsize=16)\n",
    "plt.ylabel('Truth', fontsize=16)\n",
    "plt.xticks(fontsize=14)\n",
    "plt.yticks(fontsize=14)\n",
    "#plt.savefig(\"corr_mat_NN.png\", dpi=300)"
   ]
  },
  {
   "cell_type": "markdown",
   "metadata": {},
   "source": [
    "We can see that our **NN did not perform as well as the more classical ML approach with well known algorithms**"
   ]
  }
 ],
 "metadata": {
  "kernelspec": {
   "display_name": "Python 3",
   "language": "python",
   "name": "python3"
  },
  "language_info": {
   "codemirror_mode": {
    "name": "ipython",
    "version": 3
   },
   "file_extension": ".py",
   "mimetype": "text/x-python",
   "name": "python",
   "nbconvert_exporter": "python",
   "pygments_lexer": "ipython3",
   "version": "3.7.4"
  },
  "widgets": {
   "application/vnd.jupyter.widget-state+json": {
    "state": {},
    "version_major": 2,
    "version_minor": 0
   }
  }
 },
 "nbformat": 4,
 "nbformat_minor": 4
}
