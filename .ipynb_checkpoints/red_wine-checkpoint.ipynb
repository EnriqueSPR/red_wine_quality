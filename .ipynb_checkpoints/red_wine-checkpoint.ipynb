{
 "cells": [
  {
   "cell_type": "markdown",
   "metadata": {},
   "source": [
    "In this project we will tackle a multi-classification problem using supervised ML on a well known dataset about red wine quality. See [here](https://www.kaggle.com/sh6147782/winequalityred). This dataset contains quality parameters for 1596 red-wines, which we can use to build a model that predicts red wine quality."
   ]
  },
  {
   "cell_type": "markdown",
   "metadata": {},
   "source": [
    "We will folow the following steps:\n",
    "*Note that in this case the dataset is clean and ready to go to this is a simplified project since two of the major steps in a ML projec are not needed (Data collection and Data cleaning)*\n",
    "..\n",
    "   * 1) Visualize the data. In particular, see how the targets are distributed in our dataset.Analyze the attributes and perhaps perform some feature engineering\n",
    "   * 2) Split the data into a test and a training set. Consider **stratifying** the dataset depending on the distribution of the targets\n",
    "    \n",
    "   * 3) Preprocess the training data. If data is skewed and attributes differ in scale consider **normalization or standarization**\n",
    "   * 4) Evaluate different algos\n",
    "   * 5) Fine tune the most promising one\n",
    "   * 6) Test the model upon the testing data\n",
    "   * 7) If satisfactory, productionize the model"
   ]
  },
  {
   "cell_type": "code",
   "execution_count": 1026,
   "metadata": {},
   "outputs": [],
   "source": [
    "# libraries needed\n",
    "import pandas as pd\n",
    "import numpy as np\n",
    "import random\n",
    "\n",
    "import matplotlib.pyplot as plt\n",
    "from matplotlib import cm \n",
    "from pandas.plotting import scatter_matrix\n",
    "import seaborn as sns\n",
    "\n",
    "from sklearn.model_selection import StratifiedShuffleSplit\n",
    "from sklearn.model_selection import train_test_split\n",
    "\n",
    "from sklearn.preprocessing import StandardScaler\n",
    "\n",
    "from sklearn.linear_model import LogisticRegression\n",
    "from sklearn.tree import DecisionTreeClassifier\n",
    "from sklearn.neighbors import KNeighborsClassifier\n",
    "from sklearn.discriminant_analysis import LinearDiscriminantAnalysis\n",
    "from sklearn.naive_bayes import GaussianNB\n",
    "from sklearn.svm import SVC\n",
    "\n",
    "from sklearn.metrics import SCORERS\n",
    "\n",
    "\n",
    "from sklearn.model_selection import StratifiedKFold\n",
    "from sklearn.model_selection import cross_val_score\n",
    "from sklearn.model_selection import GridSearchCV\n",
    "\n",
    "from sklearn import metrics as m\n",
    "from sklearn.metrics import classification_report\n",
    "from sklearn.metrics import confusion_matrix\n",
    "from sklearn.metrics import accuracy_score\n",
    "\n",
    "import warnings\n",
    "warnings.filterwarnings(\"ignore\")"
   ]
  },
  {
   "cell_type": "code",
   "execution_count": 1027,
   "metadata": {},
   "outputs": [],
   "source": [
    "df = pd.read_csv(\"winequality-red.csv\")"
   ]
  },
  {
   "cell_type": "markdown",
   "metadata": {},
   "source": [
    "#### 1. Visualize and analyze the data"
   ]
  },
  {
   "cell_type": "code",
   "execution_count": 1028,
   "metadata": {},
   "outputs": [
    {
     "data": {
      "text/plain": [
       "fixed acidity           0\n",
       "volatile acidity        0\n",
       "citric acid             0\n",
       "residual sugar          0\n",
       "chlorides               0\n",
       "free sulfur dioxide     0\n",
       "total sulfur dioxide    0\n",
       "density                 0\n",
       "pH                      0\n",
       "sulphates               0\n",
       "alcohol                 0\n",
       "quality                 0\n",
       "dtype: int64"
      ]
     },
     "execution_count": 1028,
     "metadata": {},
     "output_type": "execute_result"
    }
   ],
   "source": [
    "df.isna().sum() # no nan values ✔"
   ]
  },
  {
   "cell_type": "code",
   "execution_count": 1029,
   "metadata": {},
   "outputs": [
    {
     "data": {
      "text/html": [
       "<div>\n",
       "<style scoped>\n",
       "    .dataframe tbody tr th:only-of-type {\n",
       "        vertical-align: middle;\n",
       "    }\n",
       "\n",
       "    .dataframe tbody tr th {\n",
       "        vertical-align: top;\n",
       "    }\n",
       "\n",
       "    .dataframe thead th {\n",
       "        text-align: right;\n",
       "    }\n",
       "</style>\n",
       "<table border=\"1\" class=\"dataframe\">\n",
       "  <thead>\n",
       "    <tr style=\"text-align: right;\">\n",
       "      <th></th>\n",
       "      <th>fixed acidity</th>\n",
       "      <th>volatile acidity</th>\n",
       "      <th>citric acid</th>\n",
       "      <th>residual sugar</th>\n",
       "      <th>chlorides</th>\n",
       "      <th>free sulfur dioxide</th>\n",
       "      <th>total sulfur dioxide</th>\n",
       "      <th>density</th>\n",
       "      <th>pH</th>\n",
       "      <th>sulphates</th>\n",
       "      <th>alcohol</th>\n",
       "      <th>quality</th>\n",
       "    </tr>\n",
       "  </thead>\n",
       "  <tbody>\n",
       "    <tr>\n",
       "      <th>count</th>\n",
       "      <td>1596.000000</td>\n",
       "      <td>1596.000000</td>\n",
       "      <td>1596.000000</td>\n",
       "      <td>1596.000000</td>\n",
       "      <td>1596.000000</td>\n",
       "      <td>1596.000000</td>\n",
       "      <td>1596.000000</td>\n",
       "      <td>1596.000000</td>\n",
       "      <td>1596.000000</td>\n",
       "      <td>1596.000000</td>\n",
       "      <td>1596.000000</td>\n",
       "      <td>1596.000000</td>\n",
       "    </tr>\n",
       "    <tr>\n",
       "      <th>mean</th>\n",
       "      <td>8.314160</td>\n",
       "      <td>0.527954</td>\n",
       "      <td>0.270276</td>\n",
       "      <td>2.535558</td>\n",
       "      <td>0.087120</td>\n",
       "      <td>15.858396</td>\n",
       "      <td>46.382206</td>\n",
       "      <td>0.996744</td>\n",
       "      <td>3.311917</td>\n",
       "      <td>0.656385</td>\n",
       "      <td>10.421147</td>\n",
       "      <td>5.637218</td>\n",
       "    </tr>\n",
       "    <tr>\n",
       "      <th>std</th>\n",
       "      <td>1.732203</td>\n",
       "      <td>0.179176</td>\n",
       "      <td>0.193894</td>\n",
       "      <td>1.405515</td>\n",
       "      <td>0.045251</td>\n",
       "      <td>10.460554</td>\n",
       "      <td>32.839138</td>\n",
       "      <td>0.001888</td>\n",
       "      <td>0.153346</td>\n",
       "      <td>0.163057</td>\n",
       "      <td>1.060371</td>\n",
       "      <td>0.807080</td>\n",
       "    </tr>\n",
       "    <tr>\n",
       "      <th>min</th>\n",
       "      <td>4.600000</td>\n",
       "      <td>0.120000</td>\n",
       "      <td>0.000000</td>\n",
       "      <td>0.900000</td>\n",
       "      <td>0.012000</td>\n",
       "      <td>1.000000</td>\n",
       "      <td>6.000000</td>\n",
       "      <td>0.990070</td>\n",
       "      <td>2.860000</td>\n",
       "      <td>0.330000</td>\n",
       "      <td>8.400000</td>\n",
       "      <td>3.000000</td>\n",
       "    </tr>\n",
       "    <tr>\n",
       "      <th>25%</th>\n",
       "      <td>7.100000</td>\n",
       "      <td>0.390000</td>\n",
       "      <td>0.090000</td>\n",
       "      <td>1.900000</td>\n",
       "      <td>0.070000</td>\n",
       "      <td>7.000000</td>\n",
       "      <td>22.000000</td>\n",
       "      <td>0.995600</td>\n",
       "      <td>3.210000</td>\n",
       "      <td>0.550000</td>\n",
       "      <td>9.500000</td>\n",
       "      <td>5.000000</td>\n",
       "    </tr>\n",
       "    <tr>\n",
       "      <th>50%</th>\n",
       "      <td>7.900000</td>\n",
       "      <td>0.520000</td>\n",
       "      <td>0.260000</td>\n",
       "      <td>2.200000</td>\n",
       "      <td>0.079000</td>\n",
       "      <td>14.000000</td>\n",
       "      <td>38.000000</td>\n",
       "      <td>0.996745</td>\n",
       "      <td>3.310000</td>\n",
       "      <td>0.620000</td>\n",
       "      <td>10.200000</td>\n",
       "      <td>6.000000</td>\n",
       "    </tr>\n",
       "    <tr>\n",
       "      <th>75%</th>\n",
       "      <td>9.200000</td>\n",
       "      <td>0.640000</td>\n",
       "      <td>0.420000</td>\n",
       "      <td>2.600000</td>\n",
       "      <td>0.090000</td>\n",
       "      <td>21.000000</td>\n",
       "      <td>62.000000</td>\n",
       "      <td>0.997832</td>\n",
       "      <td>3.400000</td>\n",
       "      <td>0.730000</td>\n",
       "      <td>11.100000</td>\n",
       "      <td>6.000000</td>\n",
       "    </tr>\n",
       "    <tr>\n",
       "      <th>max</th>\n",
       "      <td>15.600000</td>\n",
       "      <td>1.580000</td>\n",
       "      <td>0.790000</td>\n",
       "      <td>15.500000</td>\n",
       "      <td>0.611000</td>\n",
       "      <td>72.000000</td>\n",
       "      <td>289.000000</td>\n",
       "      <td>1.003690</td>\n",
       "      <td>4.010000</td>\n",
       "      <td>1.980000</td>\n",
       "      <td>14.000000</td>\n",
       "      <td>8.000000</td>\n",
       "    </tr>\n",
       "  </tbody>\n",
       "</table>\n",
       "</div>"
      ],
      "text/plain": [
       "       fixed acidity  volatile acidity  citric acid  residual sugar  \\\n",
       "count    1596.000000       1596.000000  1596.000000     1596.000000   \n",
       "mean        8.314160          0.527954     0.270276        2.535558   \n",
       "std         1.732203          0.179176     0.193894        1.405515   \n",
       "min         4.600000          0.120000     0.000000        0.900000   \n",
       "25%         7.100000          0.390000     0.090000        1.900000   \n",
       "50%         7.900000          0.520000     0.260000        2.200000   \n",
       "75%         9.200000          0.640000     0.420000        2.600000   \n",
       "max        15.600000          1.580000     0.790000       15.500000   \n",
       "\n",
       "         chlorides  free sulfur dioxide  total sulfur dioxide      density  \\\n",
       "count  1596.000000          1596.000000           1596.000000  1596.000000   \n",
       "mean      0.087120            15.858396             46.382206     0.996744   \n",
       "std       0.045251            10.460554             32.839138     0.001888   \n",
       "min       0.012000             1.000000              6.000000     0.990070   \n",
       "25%       0.070000             7.000000             22.000000     0.995600   \n",
       "50%       0.079000            14.000000             38.000000     0.996745   \n",
       "75%       0.090000            21.000000             62.000000     0.997832   \n",
       "max       0.611000            72.000000            289.000000     1.003690   \n",
       "\n",
       "                pH    sulphates      alcohol      quality  \n",
       "count  1596.000000  1596.000000  1596.000000  1596.000000  \n",
       "mean      3.311917     0.656385    10.421147     5.637218  \n",
       "std       0.153346     0.163057     1.060371     0.807080  \n",
       "min       2.860000     0.330000     8.400000     3.000000  \n",
       "25%       3.210000     0.550000     9.500000     5.000000  \n",
       "50%       3.310000     0.620000    10.200000     6.000000  \n",
       "75%       3.400000     0.730000    11.100000     6.000000  \n",
       "max       4.010000     1.980000    14.000000     8.000000  "
      ]
     },
     "execution_count": 1029,
     "metadata": {},
     "output_type": "execute_result"
    }
   ],
   "source": [
    "df.describe()"
   ]
  },
  {
   "cell_type": "code",
   "execution_count": 1030,
   "metadata": {},
   "outputs": [],
   "source": [
    "# a mapping dictionary that maps the quality values from 0 to 5\n",
    "quality_mapping = {\n",
    "3: 0, 4: 1, 5: 2, 6: 3, 7: 4, 8: 5}\n",
    "# you can use the map function of pandas with any dictionary \n",
    "# to convert the values in a given column to values in the dictionary\n",
    "\n",
    "df[\"quality\"] = df[\"quality\"].map(quality_mapping)"
   ]
  },
  {
   "cell_type": "markdown",
   "metadata": {},
   "source": [
    "##### Feature Engineering:\n",
    "Lets generate some extra-variables based on the available ones"
   ]
  },
  {
   "cell_type": "code",
   "execution_count": 1031,
   "metadata": {},
   "outputs": [],
   "source": [
    "# df[\"acidity_by_Ph\"] = df[\"fixed acidity\"]/df[\"pH\"]\n",
    "df[\"density_sugar\"] = df[\"density\"]*df[\"residual sugar\"]\n",
    "df[\"sulphate_by_chloride\"] = df[\"sulphates\"]/df[\"chlorides\"]"
   ]
  },
  {
   "cell_type": "code",
   "execution_count": 1032,
   "metadata": {},
   "outputs": [],
   "source": [
    "df.drop(\"sulphates\", axis=1, inplace=True) # we will incorporate sulphate_by_chloride which correlates better"
   ]
  },
  {
   "cell_type": "code",
   "execution_count": 1033,
   "metadata": {},
   "outputs": [
    {
     "data": {
      "image/png": "[encoded data removed]",
      "text/plain": [
       "<Figure size 1080x1080 with 2 Axes>"
      ]
     },
     "metadata": {
      "needs_background": "light"
     },
     "output_type": "display_data"
    }
   ],
   "source": [
    "plt.figure(figsize=(15,15))\n",
    "\n",
    "colormap=plt.cm.magma\n",
    "plt.title(\"Pearson corr\", y=1.05, size=15)\n",
    "sns.heatmap(df.corr(), linewidths=0.1, vmax=1.0, square=True, cmap=colormap, linecolor=\"white\", annot=True)\n",
    "# plt.savefig(\"corr.png\", dpi=400)\n",
    "plt.tight_layout()\n",
    "plt.show()"
   ]
  },
  {
   "cell_type": "code",
   "execution_count": 1034,
   "metadata": {},
   "outputs": [],
   "source": [
    "corr_matrix = df.corr()\n",
    "corr_vals = abs(corr_matrix[\"quality\"]).sort_values(ascending=False)\n",
    "top8_corr =  corr_vals[1:9]"
   ]
  },
  {
   "cell_type": "code",
   "execution_count": 1035,
   "metadata": {},
   "outputs": [
    {
     "data": {
      "text/plain": [
       "alcohol                 0.480738\n",
       "volatile acidity        0.391735\n",
       "sulphate_by_chloride    0.363317\n",
       "citric acid             0.233733\n",
       "total sulfur dioxide    0.185404\n",
       "density                 0.173251\n",
       "fixed acidity           0.127766\n",
       "chlorides               0.119770\n",
       "Name: quality, dtype: float64"
      ]
     },
     "execution_count": 1035,
     "metadata": {},
     "output_type": "execute_result"
    }
   ],
   "source": [
    "top8_corr # we will carry with these attributes for the modeling"
   ]
  },
  {
   "cell_type": "code",
   "execution_count": 1036,
   "metadata": {},
   "outputs": [],
   "source": [
    "top8_corr = pd.DataFrame(top8_corr)"
   ]
  },
  {
   "cell_type": "markdown",
   "metadata": {},
   "source": [
    "We observe that the atributes that correlate best with the wine quality are alcohol, volatile acicity, sulphates, citric acid, total sufur dioxide, density, fixed acidity and chlorides. We will be using these in the modeling"
   ]
  },
  {
   "cell_type": "code",
   "execution_count": 1037,
   "metadata": {},
   "outputs": [],
   "source": [
    "list_top8 = list(top8_corr.index)"
   ]
  },
  {
   "cell_type": "code",
   "execution_count": 1038,
   "metadata": {},
   "outputs": [],
   "source": [
    "list_top8.append(\"quality\")"
   ]
  },
  {
   "cell_type": "code",
   "execution_count": 1039,
   "metadata": {},
   "outputs": [],
   "source": [
    "df_model = df[list_top8]"
   ]
  },
  {
   "cell_type": "code",
   "execution_count": 1040,
   "metadata": {},
   "outputs": [],
   "source": [
    "gist_heat = cm.get_cmap('gist_heat', 200)"
   ]
  },
  {
   "cell_type": "code",
   "execution_count": 1041,
   "metadata": {},
   "outputs": [
    {
     "data": {
      "image/png": "[encoded data removed]",
      "text/plain": [
       "<Figure size 288x216 with 1 Axes>"
      ]
     },
     "metadata": {
      "needs_background": "light"
     },
     "output_type": "display_data"
    },
    {
     "data": {
      "image/png": "[encoded data removed]",
      "text/plain": [
       "<Figure size 288x216 with 1 Axes>"
      ]
     },
     "metadata": {
      "needs_background": "light"
     },
     "output_type": "display_data"
    },
    {
     "data": {
      "image/png": "[encoded data removed]",
      "text/plain": [
       "<Figure size 288x216 with 1 Axes>"
      ]
     },
     "metadata": {
      "needs_background": "light"
     },
     "output_type": "display_data"
    },
    {
     "data": {
      "image/png": "[encoded data removed]",
      "text/plain": [
       "<Figure size 288x216 with 1 Axes>"
      ]
     },
     "metadata": {
      "needs_background": "light"
     },
     "output_type": "display_data"
    },
    {
     "data": {
      "image/png": "[encoded data removed]",
      "text/plain": [
       "<Figure size 288x216 with 1 Axes>"
      ]
     },
     "metadata": {
      "needs_background": "light"
     },
     "output_type": "display_data"
    },
    {
     "data": {
      "image/png": "[encoded data removed]",
      "text/plain": [
       "<Figure size 288x216 with 1 Axes>"
      ]
     },
     "metadata": {
      "needs_background": "light"
     },
     "output_type": "display_data"
    },
    {
     "data": {
      "image/png": "[encoded data removed]",
      "text/plain": [
       "<Figure size 288x216 with 1 Axes>"
      ]
     },
     "metadata": {
      "needs_background": "light"
     },
     "output_type": "display_data"
    },
    {
     "data": {
      "image/png": "[encoded data removed]",
      "text/plain": [
       "<Figure size 288x216 with 1 Axes>"
      ]
     },
     "metadata": {
      "needs_background": "light"
     },
     "output_type": "display_data"
    }
   ],
   "source": [
    "for i in top8_corr.index:\n",
    "    df[i].plot(kind=\"hist\", \n",
    "               subplots=True,\n",
    "               figsize=(4,3), \n",
    "               title=str.capitalize(i),\n",
    "               color=gist_heat(random.uniform(0, 1)))\n",
    "    plt.show()"
   ]
  },
  {
   "cell_type": "markdown",
   "metadata": {},
   "source": [
    "We can see that most of the selected attributes shown an skewed distribution and possess different scales. We will therefore standarized the data before modeling. But first, lets split the data into the test and train sets."
   ]
  },
  {
   "cell_type": "markdown",
   "metadata": {},
   "source": [
    "#### 2. Splitting data: \n",
    "First we check the distribution of the target values to see if an stratified split is needed"
   ]
  },
  {
   "cell_type": "code",
   "execution_count": 1042,
   "metadata": {},
   "outputs": [
    {
     "data": {
      "image/png": "[encoded data removed]",
      "text/plain": [
       "<Figure size 432x288 with 1 Axes>"
      ]
     },
     "metadata": {
      "needs_background": "light"
     },
     "output_type": "display_data"
    }
   ],
   "source": [
    "ax = sns.countplot(x='quality', data=df)\n",
    "ax.set_title(\"Target values distribution\", fontsize=20)\n",
    "ax.set_xlabel(\"quality\", fontsize=16)\n",
    "ax.set_ylabel(\"count\", fontsize=16)\n",
    "plt.savefig(\"target_values_distribution.png\", dpi=400)\n"
   ]
  },
  {
   "cell_type": "markdown",
   "metadata": {},
   "source": [
    "We can see that we have a skewed dataset for classification \n",
    "so we may want to stratify the data before split. Furthermore, we will want to use **stratified k-fold cross-validation** (For classification problems).\n",
    "\n",
    "-> There are several choices for selecting the appropriate number of bins. If\n",
    "you have a lot of samples( > 10k, > 100k), then you don’t need to care about the\n",
    "number of bins. Just divide the data into 10 or 20 bins. If you do not have a lot of\n",
    "samples, you can use a simple rule like Sturge’s Rule to calculate the appropriate\n",
    "number of bins.\n",
    "\n",
    "\n",
    "Number of Bins = 1 + log2(N) Where N is the number of samples you have in your dataset. # 12 in our case"
   ]
  },
  {
   "cell_type": "markdown",
   "metadata": {},
   "source": [
    "For the stratification we will use the most correlated attribute (alchohol)"
   ]
  },
  {
   "cell_type": "code",
   "execution_count": 1043,
   "metadata": {},
   "outputs": [],
   "source": [
    "def strater (col_item):\n",
    "    if col_item <= 9.3:\n",
    "        return 1\n",
    "    elif col_item > 9.3 and col_item <= 10:\n",
    "        return 2\n",
    "    elif col_item > 10 and col_item <= 11:\n",
    "        return 3\n",
    "    elif col_item > 11 and col_item <= 12:\n",
    "        return 4\n",
    "    else:\n",
    "        return 5"
   ]
  },
  {
   "cell_type": "code",
   "execution_count": 1044,
   "metadata": {},
   "outputs": [],
   "source": [
    "df_model[\"strat\"] = df_model[\"alcohol\"].apply(strater)"
   ]
  },
  {
   "cell_type": "code",
   "execution_count": 1045,
   "metadata": {},
   "outputs": [
    {
     "data": {
      "text/plain": [
       "<matplotlib.axes._subplots.AxesSubplot at 0x15ce244a388>"
      ]
     },
     "execution_count": 1045,
     "metadata": {},
     "output_type": "execute_result"
    },
    {
     "data": {
      "image/png": "[encoded data removed]",
      "text/plain": [
       "<Figure size 432x288 with 1 Axes>"
      ]
     },
     "metadata": {
      "needs_background": "light"
     },
     "output_type": "display_data"
    }
   ],
   "source": [
    "df_model[\"strat\"].hist(color=gist_heat(random.uniform(0, 1)))"
   ]
  },
  {
   "cell_type": "code",
   "execution_count": 1046,
   "metadata": {},
   "outputs": [],
   "source": [
    "split = StratifiedShuffleSplit(n_splits = 1, test_size=0.2, random_state=10)"
   ]
  },
  {
   "cell_type": "code",
   "execution_count": 1047,
   "metadata": {},
   "outputs": [],
   "source": [
    "for train_index, test_index in split.split(df_model, df_model[\"strat\"]):\n",
    "    strat_train_set = df_model.loc[train_index]\n",
    "    strat_test_set = df_model.loc[test_index]"
   ]
  },
  {
   "cell_type": "code",
   "execution_count": 1048,
   "metadata": {},
   "outputs": [],
   "source": [
    "# we will also do a random split tocompare the results of the distribution\n",
    "X = df_model.drop(\"quality\", axis=1)\n",
    "y = df_model[\"quality\"].values\n",
    "X_train, X_test, y_train, y_test = train_test_split(X, y, test_size=0.2, random_state=10) # 0.2 means 80 % is in our train set and 20"
   ]
  },
  {
   "cell_type": "code",
   "execution_count": 1049,
   "metadata": {},
   "outputs": [],
   "source": [
    "def proportions(data):\n",
    "    return data[\"strat\"].value_counts()/len(data)"
   ]
  },
  {
   "cell_type": "code",
   "execution_count": 1050,
   "metadata": {},
   "outputs": [],
   "source": [
    "comparing = pd.DataFrame({\"Overall\": proportions(df_model),\n",
    "                         \"Stratified\": proportions(strat_test_set),\n",
    "                         \"Random\": proportions(X_test)}).sort_index()"
   ]
  },
  {
   "cell_type": "code",
   "execution_count": 1051,
   "metadata": {},
   "outputs": [],
   "source": [
    "comparing = comparing *100 "
   ]
  },
  {
   "cell_type": "code",
   "execution_count": 1052,
   "metadata": {},
   "outputs": [
    {
     "data": {
      "text/html": [
       "<div>\n",
       "<style scoped>\n",
       "    .dataframe tbody tr th:only-of-type {\n",
       "        vertical-align: middle;\n",
       "    }\n",
       "\n",
       "    .dataframe tbody tr th {\n",
       "        vertical-align: top;\n",
       "    }\n",
       "\n",
       "    .dataframe thead th {\n",
       "        text-align: right;\n",
       "    }\n",
       "</style>\n",
       "<table border=\"1\" class=\"dataframe\">\n",
       "  <thead>\n",
       "    <tr style=\"text-align: right;\">\n",
       "      <th></th>\n",
       "      <th>Overall</th>\n",
       "      <th>Stratified</th>\n",
       "      <th>Random</th>\n",
       "    </tr>\n",
       "  </thead>\n",
       "  <tbody>\n",
       "    <tr>\n",
       "      <th>1</th>\n",
       "      <td>12.155388</td>\n",
       "      <td>12.1875</td>\n",
       "      <td>11.8750</td>\n",
       "    </tr>\n",
       "    <tr>\n",
       "      <th>2</th>\n",
       "      <td>34.523810</td>\n",
       "      <td>34.3750</td>\n",
       "      <td>33.4375</td>\n",
       "    </tr>\n",
       "    <tr>\n",
       "      <th>3</th>\n",
       "      <td>27.819549</td>\n",
       "      <td>27.8125</td>\n",
       "      <td>27.1875</td>\n",
       "    </tr>\n",
       "    <tr>\n",
       "      <th>4</th>\n",
       "      <td>16.729323</td>\n",
       "      <td>16.8750</td>\n",
       "      <td>17.5000</td>\n",
       "    </tr>\n",
       "    <tr>\n",
       "      <th>5</th>\n",
       "      <td>8.771930</td>\n",
       "      <td>8.7500</td>\n",
       "      <td>10.0000</td>\n",
       "    </tr>\n",
       "  </tbody>\n",
       "</table>\n",
       "</div>"
      ],
      "text/plain": [
       "     Overall  Stratified   Random\n",
       "1  12.155388     12.1875  11.8750\n",
       "2  34.523810     34.3750  33.4375\n",
       "3  27.819549     27.8125  27.1875\n",
       "4  16.729323     16.8750  17.5000\n",
       "5   8.771930      8.7500  10.0000"
      ]
     },
     "execution_count": 1052,
     "metadata": {},
     "output_type": "execute_result"
    }
   ],
   "source": [
    "comparing \n",
    "# We can observe how the proportions in the stratified set are closer \n",
    "# to those in the whole set compared to the ramdomly generated set"
   ]
  },
  {
   "cell_type": "code",
   "execution_count": 1053,
   "metadata": {},
   "outputs": [],
   "source": [
    "df_model.drop(\"strat\", axis=1, inplace=True)"
   ]
  },
  {
   "cell_type": "code",
   "execution_count": 1054,
   "metadata": {},
   "outputs": [],
   "source": [
    "X = df_model.drop(\"quality\", axis=1)"
   ]
  },
  {
   "cell_type": "markdown",
   "metadata": {},
   "source": [
    "we go with stratified split then:"
   ]
  },
  {
   "cell_type": "code",
   "execution_count": 1055,
   "metadata": {},
   "outputs": [],
   "source": [
    "strat_train_set.drop(\"strat\", axis=1, inplace=True)\n",
    "strat_test_set.drop(\"strat\", axis=1, inplace=True)"
   ]
  },
  {
   "cell_type": "code",
   "execution_count": 1056,
   "metadata": {},
   "outputs": [],
   "source": [
    "X_train = strat_train_set.drop(\"quality\", axis=1)\n",
    "y_train = strat_train_set[\"quality\"].values"
   ]
  },
  {
   "cell_type": "code",
   "execution_count": 1057,
   "metadata": {},
   "outputs": [],
   "source": [
    "X_test = strat_test_set.drop(\"quality\", axis=1)\n",
    "y_test = strat_test_set[\"quality\"].values"
   ]
  },
  {
   "cell_type": "markdown",
   "metadata": {},
   "source": [
    "#### 3. Re-scale data"
   ]
  },
  {
   "cell_type": "code",
   "execution_count": 1058,
   "metadata": {},
   "outputs": [],
   "source": [
    "scaler = StandardScaler().fit(X_train)\n",
    "X_train_rescaled = scaler.transform(X_train)"
   ]
  },
  {
   "cell_type": "code",
   "execution_count": 1059,
   "metadata": {},
   "outputs": [
    {
     "data": {
      "text/plain": [
       "array([[-0.867092  , -0.99548762, -0.78710862, ...,  0.78249384,\n",
       "         0.94119169, -0.07832542],\n",
       "       [ 0.91822231,  0.05946165,  1.16544463, ..., -1.33889216,\n",
       "        -1.56396527, -0.89536553],\n",
       "       [ 0.54236667, -0.91220215,  0.16673587, ..., -0.06606056,\n",
       "        -0.57355438,  0.04182754],\n",
       "       ...,\n",
       "       [-1.80673111, -0.82891668, -1.51871251, ...,  1.28101955,\n",
       "         0.99945115,  1.98830547],\n",
       "       [-0.58520027,  0.44812717,  0.13991218, ...,  0.40064436,\n",
       "        -0.51529492, -0.29460074],\n",
       "       [-0.67916418, -0.21815658, -0.42392833, ..., -0.54337241,\n",
       "        -0.45703545, -0.24653956]])"
      ]
     },
     "execution_count": 1059,
     "metadata": {},
     "output_type": "execute_result"
    }
   ],
   "source": [
    "X_train_rescaled"
   ]
  },
  {
   "cell_type": "code",
   "execution_count": 1060,
   "metadata": {},
   "outputs": [],
   "source": [
    "df_rescaled = pd.DataFrame(X_train_rescaled, columns=df_model.columns[:-1])"
   ]
  },
  {
   "cell_type": "code",
   "execution_count": 1061,
   "metadata": {},
   "outputs": [
    {
     "data": {
      "text/html": [
       "<div>\n",
       "<style scoped>\n",
       "    .dataframe tbody tr th:only-of-type {\n",
       "        vertical-align: middle;\n",
       "    }\n",
       "\n",
       "    .dataframe tbody tr th {\n",
       "        vertical-align: top;\n",
       "    }\n",
       "\n",
       "    .dataframe thead th {\n",
       "        text-align: right;\n",
       "    }\n",
       "</style>\n",
       "<table border=\"1\" class=\"dataframe\">\n",
       "  <thead>\n",
       "    <tr style=\"text-align: right;\">\n",
       "      <th></th>\n",
       "      <th>alcohol</th>\n",
       "      <th>volatile acidity</th>\n",
       "      <th>sulphate_by_chloride</th>\n",
       "      <th>citric acid</th>\n",
       "      <th>total sulfur dioxide</th>\n",
       "      <th>density</th>\n",
       "      <th>fixed acidity</th>\n",
       "      <th>chlorides</th>\n",
       "    </tr>\n",
       "  </thead>\n",
       "  <tbody>\n",
       "    <tr>\n",
       "      <th>count</th>\n",
       "      <td>1.276000e+03</td>\n",
       "      <td>1.276000e+03</td>\n",
       "      <td>1.276000e+03</td>\n",
       "      <td>1.276000e+03</td>\n",
       "      <td>1.276000e+03</td>\n",
       "      <td>1.276000e+03</td>\n",
       "      <td>1.276000e+03</td>\n",
       "      <td>1.276000e+03</td>\n",
       "    </tr>\n",
       "    <tr>\n",
       "      <th>mean</th>\n",
       "      <td>-8.060428e-16</td>\n",
       "      <td>2.881707e-16</td>\n",
       "      <td>6.236739e-16</td>\n",
       "      <td>9.188053e-17</td>\n",
       "      <td>5.150878e-17</td>\n",
       "      <td>-8.716678e-14</td>\n",
       "      <td>-4.301679e-16</td>\n",
       "      <td>2.394462e-16</td>\n",
       "    </tr>\n",
       "    <tr>\n",
       "      <th>std</th>\n",
       "      <td>1.000392e+00</td>\n",
       "      <td>1.000392e+00</td>\n",
       "      <td>1.000392e+00</td>\n",
       "      <td>1.000392e+00</td>\n",
       "      <td>1.000392e+00</td>\n",
       "      <td>1.000392e+00</td>\n",
       "      <td>1.000392e+00</td>\n",
       "      <td>1.000392e+00</td>\n",
       "    </tr>\n",
       "    <tr>\n",
       "      <th>min</th>\n",
       "      <td>-1.900695e+00</td>\n",
       "      <td>-2.272531e+00</td>\n",
       "      <td>-2.229135e+00</td>\n",
       "      <td>-1.392466e+00</td>\n",
       "      <td>-1.239535e+00</td>\n",
       "      <td>-3.529223e+00</td>\n",
       "      <td>-2.146560e+00</td>\n",
       "      <td>-1.784497e+00</td>\n",
       "    </tr>\n",
       "    <tr>\n",
       "      <th>25%</th>\n",
       "      <td>-8.670920e-01</td>\n",
       "      <td>-7.733930e-01</td>\n",
       "      <td>-6.477787e-01</td>\n",
       "      <td>-9.244664e-01</td>\n",
       "      <td>-7.278409e-01</td>\n",
       "      <td>-5.964071e-01</td>\n",
       "      <td>-6.900733e-01</td>\n",
       "      <td>-3.907231e-01</td>\n",
       "    </tr>\n",
       "    <tr>\n",
       "      <th>50%</th>\n",
       "      <td>-2.093446e-01</td>\n",
       "      <td>-5.158564e-02</td>\n",
       "      <td>-1.844076e-01</td>\n",
       "      <td>-9.246701e-02</td>\n",
       "      <td>-2.763460e-01</td>\n",
       "      <td>-1.302591e-02</td>\n",
       "      <td>-2.239976e-01</td>\n",
       "      <td>-1.744478e-01</td>\n",
       "    </tr>\n",
       "    <tr>\n",
       "      <th>75%</th>\n",
       "      <td>6.363306e-01</td>\n",
       "      <td>6.146981e-01</td>\n",
       "      <td>4.373889e-01</td>\n",
       "      <td>7.915323e-01</td>\n",
       "      <td>4.836704e-01</td>\n",
       "      <td>5.743328e-01</td>\n",
       "      <td>4.751160e-01</td>\n",
       "      <td>8.988873e-02</td>\n",
       "    </tr>\n",
       "    <tr>\n",
       "      <th>max</th>\n",
       "      <td>3.361284e+00</td>\n",
       "      <td>5.833921e+00</td>\n",
       "      <td>8.106548e+00</td>\n",
       "      <td>2.715531e+00</td>\n",
       "      <td>7.278669e+00</td>\n",
       "      <td>3.694096e+00</td>\n",
       "      <td>4.261981e+00</td>\n",
       "      <td>9.149422e+00</td>\n",
       "    </tr>\n",
       "  </tbody>\n",
       "</table>\n",
       "</div>"
      ],
      "text/plain": [
       "            alcohol  volatile acidity  sulphate_by_chloride   citric acid  \\\n",
       "count  1.276000e+03      1.276000e+03          1.276000e+03  1.276000e+03   \n",
       "mean  -8.060428e-16      2.881707e-16          6.236739e-16  9.188053e-17   \n",
       "std    1.000392e+00      1.000392e+00          1.000392e+00  1.000392e+00   \n",
       "min   -1.900695e+00     -2.272531e+00         -2.229135e+00 -1.392466e+00   \n",
       "25%   -8.670920e-01     -7.733930e-01         -6.477787e-01 -9.244664e-01   \n",
       "50%   -2.093446e-01     -5.158564e-02         -1.844076e-01 -9.246701e-02   \n",
       "75%    6.363306e-01      6.146981e-01          4.373889e-01  7.915323e-01   \n",
       "max    3.361284e+00      5.833921e+00          8.106548e+00  2.715531e+00   \n",
       "\n",
       "       total sulfur dioxide       density  fixed acidity     chlorides  \n",
       "count          1.276000e+03  1.276000e+03   1.276000e+03  1.276000e+03  \n",
       "mean           5.150878e-17 -8.716678e-14  -4.301679e-16  2.394462e-16  \n",
       "std            1.000392e+00  1.000392e+00   1.000392e+00  1.000392e+00  \n",
       "min           -1.239535e+00 -3.529223e+00  -2.146560e+00 -1.784497e+00  \n",
       "25%           -7.278409e-01 -5.964071e-01  -6.900733e-01 -3.907231e-01  \n",
       "50%           -2.763460e-01 -1.302591e-02  -2.239976e-01 -1.744478e-01  \n",
       "75%            4.836704e-01  5.743328e-01   4.751160e-01  8.988873e-02  \n",
       "max            7.278669e+00  3.694096e+00   4.261981e+00  9.149422e+00  "
      ]
     },
     "execution_count": 1061,
     "metadata": {},
     "output_type": "execute_result"
    }
   ],
   "source": [
    "df_rescaled.describe()"
   ]
  },
  {
   "cell_type": "code",
   "execution_count": 1062,
   "metadata": {},
   "outputs": [
    {
     "data": {
      "text/plain": [
       "<Figure size 720x720 with 0 Axes>"
      ]
     },
     "metadata": {},
     "output_type": "display_data"
    },
    {
     "data": {
      "image/png": "[encoded data removed]",
      "text/plain": [
       "<Figure size 432x288 with 9 Axes>"
      ]
     },
     "metadata": {
      "needs_background": "light"
     },
     "output_type": "display_data"
    }
   ],
   "source": [
    "plt.figure(figsize=(10,10))\n",
    "\n",
    "df_rescaled.hist()\n",
    "plt.tight_layout()\n",
    "plt.show()"
   ]
  },
  {
   "cell_type": "markdown",
   "metadata": {},
   "source": [
    "#### 4. Exploring model performance"
   ]
  },
  {
   "cell_type": "markdown",
   "metadata": {},
   "source": [
    "**What performance metric should we use?**  It depends on the purpose of our model but for this case scenario we may want a balanced model with acceptable precision as well as recall. Hence, f1_score may be prefered. Furthermore, since the distribution of our targets is imbalanced, we may want to use micro-averages which aggregates the contributions of all classes to compute the average metric. Macro-average on the other side would treat all classes equally and would be preferred in a balanced class distribution scenario."
   ]
  },
  {
   "cell_type": "code",
   "execution_count": 1063,
   "metadata": {},
   "outputs": [
    {
     "data": {
      "text/plain": [
       "dict_keys(['explained_variance', 'r2', 'max_error', 'neg_median_absolute_error', 'neg_mean_absolute_error', 'neg_mean_squared_error', 'neg_mean_squared_log_error', 'neg_root_mean_squared_error', 'neg_mean_poisson_deviance', 'neg_mean_gamma_deviance', 'accuracy', 'roc_auc', 'roc_auc_ovr', 'roc_auc_ovo', 'roc_auc_ovr_weighted', 'roc_auc_ovo_weighted', 'balanced_accuracy', 'average_precision', 'neg_log_loss', 'neg_brier_score', 'adjusted_rand_score', 'homogeneity_score', 'completeness_score', 'v_measure_score', 'mutual_info_score', 'adjusted_mutual_info_score', 'normalized_mutual_info_score', 'fowlkes_mallows_score', 'precision', 'precision_macro', 'precision_micro', 'precision_samples', 'precision_weighted', 'recall', 'recall_macro', 'recall_micro', 'recall_samples', 'recall_weighted', 'f1', 'f1_macro', 'f1_micro', 'f1_samples', 'f1_weighted', 'jaccard', 'jaccard_macro', 'jaccard_micro', 'jaccard_samples', 'jaccard_weighted'])"
      ]
     },
     "execution_count": 1063,
     "metadata": {},
     "output_type": "execute_result"
    }
   ],
   "source": [
    "SCORERS.keys()"
   ]
  },
  {
   "cell_type": "code",
   "execution_count": 1064,
   "metadata": {},
   "outputs": [
    {
     "name": "stdout",
     "output_type": "stream",
     "text": [
      "LR: 0.592466 (0.044876)\n",
      "SGD: 0.487414 (0.072335)\n",
      "GNB: 0.542276 (0.037442)\n",
      "CART: 0.585427 (0.037824)\n",
      "KNC: 0.580725 (0.045412)\n",
      "SVC: 0.607366 (0.036009)\n"
     ]
    }
   ],
   "source": [
    "models = []\n",
    "models.append(('LR', LogisticRegression()))\n",
    "models.append(('SGD', SGDClassifier())) \n",
    "models.append(('GNB', GaussianNB()))\n",
    "models.append(('CART', DecisionTreeClassifier()))\n",
    "models.append(('KNC', KNeighborsClassifier()))\n",
    "models.append(('SVC', SVC()))\n",
    "\n",
    "results_model = []\n",
    "names_model = []\n",
    "for name, model in models:\n",
    "    SKF = StratifiedKFold(n_splits=12, random_state=10)\n",
    "    cv_results = cross_val_score(model, X_train_rescaled, y_train, cv=SKF, scoring='f1_micro')\n",
    "    results_model.append(cv_results)\n",
    "    names_model.append(name)\n",
    "    msg = \"%s: %f (%f)\" % (name, cv_results.mean(), cv_results.std())\n",
    "    print(msg)"
   ]
  },
  {
   "cell_type": "code",
   "execution_count": 1065,
   "metadata": {},
   "outputs": [
    {
     "data": {
      "image/png": "[encoded data removed]",
      "text/plain": [
       "<Figure size 432x288 with 1 Axes>"
      ]
     },
     "metadata": {
      "needs_background": "light"
     },
     "output_type": "display_data"
    },
    {
     "data": {
      "text/plain": [
       "<Figure size 432x288 with 0 Axes>"
      ]
     },
     "metadata": {},
     "output_type": "display_data"
    }
   ],
   "source": [
    "# Compare Algorithms\n",
    "fig = plt.figure()\n",
    "fig.suptitle('Algorithm Comparison')\n",
    "ax = fig.add_subplot(111)\n",
    "plt.boxplot(results_model)\n",
    "ax.set_xticklabels(names_model, rotation=30)\n",
    "plt.show()\n",
    "plt.savefig(\"algo_comparison.png\", dpi=400)\n"
   ]
  },
  {
   "cell_type": "markdown",
   "metadata": {},
   "source": [
    "#### 5. Fine tune SVC"
   ]
  },
  {
   "cell_type": "code",
   "execution_count": 1066,
   "metadata": {},
   "outputs": [
    {
     "name": "stdout",
     "output_type": "stream",
     "text": [
      "Best: 0.608138 using {'C': 1.5, 'kernel': 'rbf'}\n",
      "0.579858 (0.042108) with: {'C': 0.1, 'kernel': 'rbf'}\n",
      "0.597161 (0.029608) with: {'C': 0.5, 'kernel': 'rbf'}\n",
      "0.608138 (0.042067) with: {'C': 1.5, 'kernel': 'rbf'}\n",
      "0.603421 (0.045999) with: {'C': 2.5, 'kernel': 'rbf'}\n",
      "0.600298 (0.040984) with: {'C': 8.5, 'kernel': 'rbf'}\n"
     ]
    }
   ],
   "source": [
    "kernel = [\"rbf\"] # [\"linear\", \"poly\", \"rbf\", \"sigmoid\"] \n",
    "C = [0.1, 0.5, 1.5, 2.5, 8.5]\n",
    "\n",
    "param_grid = dict(kernel=kernel, C=C)\n",
    "\n",
    "\n",
    "model = SVC()\n",
    "SKF = StratifiedKFold(n_splits=12, random_state=10)\n",
    "grid = GridSearchCV(estimator=model, param_grid=param_grid, scoring=\"f1_micro\", cv=SKF)\n",
    "grid_result = grid.fit(X_train_rescaled, y_train)\n",
    "print(\"Best: %f using %s\" % (grid_result.best_score_, grid_result.best_params_))\n",
    "means = grid_result.cv_results_['mean_test_score']\n",
    "stds = grid_result.cv_results_['std_test_score']\n",
    "params = grid_result.cv_results_['params']\n",
    "for mean, stdev, param in zip(means, stds, params):\n",
    "    print(\"%f (%f) with: %r\" % (mean, stdev, param))\n",
    "    # Best 0.623832 (0.038673) using {'C': 1.5, 'kernel': 'rbf'}"
   ]
  },
  {
   "cell_type": "code",
   "execution_count": 1067,
   "metadata": {},
   "outputs": [
    {
     "data": {
      "text/plain": [
       "SVC(C=1.5, break_ties=False, cache_size=200, class_weight=None, coef0=0.0,\n",
       "    decision_function_shape='ovr', degree=3, gamma='scale', kernel='rbf',\n",
       "    max_iter=-1, probability=False, random_state=None, shrinking=True,\n",
       "    tol=0.001, verbose=False)"
      ]
     },
     "execution_count": 1067,
     "metadata": {},
     "output_type": "execute_result"
    }
   ],
   "source": [
    "SVC = SVC(kernel=\"rbf\", C=1.5)\n",
    "SVC.fit(X_train_rescaled, y_train)"
   ]
  },
  {
   "cell_type": "markdown",
   "metadata": {},
   "source": [
    "#### 6. Evaluating the model"
   ]
  },
  {
   "cell_type": "markdown",
   "metadata": {},
   "source": [
    "ROC Curve and AUC Scores¶\n",
    "[see](https://stackoverflow.com/questions/45332410/sklearn-roc-for-multiclass-classification)"
   ]
  },
  {
   "cell_type": "code",
   "execution_count": 1068,
   "metadata": {},
   "outputs": [],
   "source": [
    "scaler = StandardScaler().fit(X_test)\n",
    "X_test_rescaled = scaler.transform(X_test)"
   ]
  },
  {
   "cell_type": "code",
   "execution_count": 1069,
   "metadata": {},
   "outputs": [
    {
     "data": {
      "text/plain": [
       "0.6637931034482759"
      ]
     },
     "execution_count": 1069,
     "metadata": {},
     "output_type": "execute_result"
    }
   ],
   "source": [
    "SVC.score(X_train_rescaled,y_train)"
   ]
  },
  {
   "cell_type": "code",
   "execution_count": 1070,
   "metadata": {},
   "outputs": [
    {
     "data": {
      "text/plain": [
       "0.609375"
      ]
     },
     "execution_count": 1070,
     "metadata": {},
     "output_type": "execute_result"
    }
   ],
   "source": [
    "SVC.score(X_test_rescaled,y_test)"
   ]
  },
  {
   "cell_type": "code",
   "execution_count": 1071,
   "metadata": {},
   "outputs": [
    {
     "name": "stdout",
     "output_type": "stream",
     "text": [
      "=====================\n",
      "F1_score:\n",
      "\n",
      "0.609375\n",
      "=====================\n",
      "Confusion Matrix:\n",
      "\n",
      "[[  0   0   2   0   0   0]\n",
      " [  0   0   4   2   0   0]\n",
      " [  0   0 107  40   1   0]\n",
      " [  0   0  38  78   9   0]\n",
      " [  0   0   2  23  10   0]\n",
      " [  0   0   0   3   1   0]]\n",
      "\n",
      "=================\n",
      "Classification Report:\n",
      "\n",
      "              precision    recall  f1-score   support\n",
      "\n",
      "           0       0.00      0.00      0.00         2\n",
      "           1       0.00      0.00      0.00         6\n",
      "           2       0.70      0.72      0.71       148\n",
      "           3       0.53      0.62      0.58       125\n",
      "           4       0.48      0.29      0.36        35\n",
      "           5       0.00      0.00      0.00         4\n",
      "\n",
      "    accuracy                           0.61       320\n",
      "   macro avg       0.28      0.27      0.27       320\n",
      "weighted avg       0.58      0.61      0.59       320\n",
      "\n"
     ]
    }
   ],
   "source": [
    "predictions = SVC.predict(X_test_rescaled)\n",
    "print(\"=====================\\nF1_score:\\n\")\n",
    "print(m.f1_score(y_test, predictions, average='micro'))\n",
    "print(\"=====================\\nConfusion Matrix:\\n\")\n",
    "print(m.confusion_matrix(y_test, predictions))\n",
    "print(\"\\n=================\\nClassification Report:\\n\")\n",
    "print(m.classification_report(y_test, predictions))\n"
   ]
  },
  {
   "cell_type": "markdown",
   "metadata": {},
   "source": [
    "We see that we hit a 61% of predictions correcly, and as we can appreciate in the confusion matrix, most of errors fall by one point of quality(+-1), meaning that we can make good use of our model to estimate the quality of red wine.\n",
    "We also observe more false negatives (below the diagonal) than false positives (above the diagonal) meaning that our **precision** is better than our **recall**. Or in other words, our model is more **specific** than **sensitive**."
   ]
  },
  {
   "cell_type": "code",
   "execution_count": null,
   "metadata": {},
   "outputs": [],
   "source": [
    "pd.Series(y_test).value_counts()"
   ]
  }
 ],
 "metadata": {
  "kernelspec": {
   "display_name": "your_env_name",
   "language": "python",
   "name": "your_env_name"
  },
  "language_info": {
   "codemirror_mode": {
    "name": "ipython",
    "version": 3
   },
   "file_extension": ".py",
   "mimetype": "text/x-python",
   "name": "python",
   "nbconvert_exporter": "python",
   "pygments_lexer": "ipython3",
   "version": "3.7.4"
  }
 },
 "nbformat": 4,
 "nbformat_minor": 4
}
